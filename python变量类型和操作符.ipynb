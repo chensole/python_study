{
 "cells": [
  {
   "cell_type": "markdown",
   "metadata": {},
   "source": [
    "# 变量类型和操作符"
   ]
  },
  {
   "cell_type": "markdown",
   "metadata": {},
   "source": [
    "python中的变量通常是动态编码，运行时解释变量的类型，不需要提前定义变量类型"
   ]
  },
  {
   "cell_type": "markdown",
   "metadata": {},
   "source": [
    "## 变量赋值"
   ]
  },
  {
   "cell_type": "markdown",
   "metadata": {},
   "source": [
    "使用=号\n",
    "<variable name>= < expression >"
   ]
  },
  {
   "cell_type": "markdown",
   "metadata": {},
   "source": [
    "### 单变量赋值"
   ]
  },
  {
   "cell_type": "code",
   "execution_count": 1,
   "metadata": {},
   "outputs": [
    {
     "name": "stdout",
     "output_type": "stream",
     "text": [
      "london\n"
     ]
    }
   ],
   "source": [
    "city = 'london'\n",
    "print(city)"
   ]
  },
  {
   "cell_type": "markdown",
   "metadata": {},
   "source": [
    "### 多变量赋值"
   ]
  },
  {
   "cell_type": "code",
   "execution_count": 2,
   "metadata": {},
   "outputs": [
    {
     "name": "stdout",
     "output_type": "stream",
     "text": [
      "1 1 1\n"
     ]
    }
   ],
   "source": [
    "a = b = c = 1\n",
    "print(a,b,c)"
   ]
  },
  {
   "cell_type": "markdown",
   "metadata": {},
   "source": [
    "## python 中的数据类型"
   ]
  },
  {
   "cell_type": "markdown",
   "metadata": {},
   "source": [
    "python 中大体上有5中数据类型:\n",
    "\n",
    "1. 数值: 整型、浮点型、复数\n",
    "2. 字符串\n",
    "3. 元组\n",
    "4. 列表\n",
    "5. 字典"
   ]
  },
  {
   "cell_type": "markdown",
   "metadata": {},
   "source": [
    "### 数值"
   ]
  },
  {
   "cell_type": "code",
   "execution_count": 7,
   "metadata": {},
   "outputs": [
    {
     "name": "stdout",
     "output_type": "stream",
     "text": [
      "12 123333333333444000\n",
      "0.12334 6e-10\n",
      "(2+3j) (2+3j)\n"
     ]
    }
   ],
   "source": [
    "# 整型和长整型\n",
    "\n",
    "a = 12\n",
    "\n",
    "b = 123333333333444*1000 # L表示长整型\n",
    "\n",
    "print(a,b)\n",
    "\n",
    "# 浮点型\n",
    "c = 0.12334\n",
    "\n",
    "d = 6e-10\n",
    "\n",
    "print(c,d)\n",
    "\n",
    "# 复数\n",
    "e = complex(2,3)\n",
    "\n",
    "f = 2+3j\n",
    "\n",
    "print(e,f)"
   ]
  },
  {
   "cell_type": "markdown",
   "metadata": {},
   "source": [
    "## 布尔类型"
   ]
  },
  {
   "cell_type": "markdown",
   "metadata": {},
   "source": [
    "使用==操作符生成布尔类型(True/False)"
   ]
  },
  {
   "cell_type": "code",
   "execution_count": 8,
   "metadata": {},
   "outputs": [
    {
     "name": "stdout",
     "output_type": "stream",
     "text": [
      "False\n"
     ]
    }
   ],
   "source": [
    "x = 1\n",
    "y = 2\n",
    "print(x == y)"
   ]
  },
  {
   "cell_type": "markdown",
   "metadata": {},
   "source": [
    "## 字符类型"
   ]
  },
  {
   "cell_type": "markdown",
   "metadata": {},
   "source": [
    "python中可以使用单引号和双引号表示字符串，使用\"\"\"或者'''多行字符表示"
   ]
  },
  {
   "cell_type": "markdown",
   "metadata": {},
   "source": [
    "## 转换函数"
   ]
  },
  {
   "cell_type": "markdown",
   "metadata": {},
   "source": [
    "ord() 转换字符为ASCII码\n",
    "chr() 转换ASCII码为字符"
   ]
  },
  {
   "cell_type": "code",
   "execution_count": 9,
   "metadata": {},
   "outputs": [
    {
     "name": "stdout",
     "output_type": "stream",
     "text": [
      "65\n",
      "A\n"
     ]
    }
   ],
   "source": [
    "print(ord(\"A\"))\n",
    "\n",
    "print(chr(65))"
   ]
  },
  {
   "cell_type": "markdown",
   "metadata": {},
   "source": [
    "## 数学运算表达式"
   ]
  },
  {
   "cell_type": "markdown",
   "metadata": {},
   "source": [
    "指数运算具有最高的优先级，加法和减法有最低的优先级\n",
    "\n",
    "混合模式运算: 当进行数学运算时有整型和浮点型时，则整型将转换为浮点型，这种转换也被成为混合模式转换"
   ]
  },
  {
   "cell_type": "code",
   "execution_count": 12,
   "metadata": {},
   "outputs": [
    {
     "name": "stdout",
     "output_type": "stream",
     "text": [
      "8\n",
      "6\n",
      "0.6666666666666666\n",
      "1\n",
      "5\n",
      "-1\n",
      "<class 'float'>\n"
     ]
    }
   ],
   "source": [
    "# ** 指数运算\n",
    "print(2**3)\n",
    "\n",
    "# * 乘\n",
    "print(2*3)\n",
    "\n",
    "# /　除\n",
    "print(2/3)\n",
    "\n",
    "# % 取余数\n",
    "print(10%3)\n",
    "\n",
    "# +　加\n",
    "print(2+3)\n",
    "\n",
    "# - 减\n",
    "print(2-3)\n",
    "\n",
    "# 混合模式\n",
    "print(11/2.0)\n",
    "print(type(11/2.0))"
   ]
  },
  {
   "cell_type": "markdown",
   "metadata": {},
   "source": [
    "## 类型转换"
   ]
  },
  {
   "cell_type": "markdown",
   "metadata": {},
   "source": [
    "常见的类型转换函数有:\n",
    "\n",
    "int()  　 整型\n",
    "str()  　 字符型\n",
    "float()   浮点型"
   ]
  },
  {
   "cell_type": "code",
   "execution_count": 13,
   "metadata": {},
   "outputs": [
    {
     "name": "stdout",
     "output_type": "stream",
     "text": [
      "9\n",
      "1\n",
      "1.0\n"
     ]
    }
   ],
   "source": [
    "print(str(9))\n",
    "\n",
    "print(int(1.2))\n",
    "\n",
    "print(float(1))"
   ]
  },
  {
   "cell_type": "markdown",
   "metadata": {},
   "source": [
    "## 操作符 "
   ]
  },
  {
   "cell_type": "markdown",
   "metadata": {},
   "source": [
    "python中有以下几种类型的操作符:\n",
    "\n",
    "1. 运算操作符\n",
    "2. 比较操作符\n",
    "3. 赋值操作符\n",
    "4. 位运算符\n",
    "5. 逻辑操作符\n",
    "6. 关系操作符\n",
    "7. Identity operators"
   ]
  },
  {
   "cell_type": "markdown",
   "metadata": {},
   "source": [
    "### 比较操作符 "
   ]
  },
  {
   "cell_type": "code",
   "execution_count": null,
   "metadata": {},
   "outputs": [],
   "source": [
    "print(1 == 1)\n",
    "\n",
    "print(1 > 2)\n",
    "\n",
    "print(1 < 2)\n",
    "\n",
    "print(2 <= 3)\n",
    "\n",
    "print(3 >= 2)\n",
    "\n",
    "print(2 != 3)\n",
    "\n",
    "print(2 <> 3)"
   ]
  },
  {
   "cell_type": "markdown",
   "metadata": {},
   "source": [
    "### 赋值操作符 "
   ]
  },
  {
   "cell_type": "code",
   "execution_count": 17,
   "metadata": {},
   "outputs": [
    {
     "name": "stdout",
     "output_type": "stream",
     "text": [
      "2\n",
      "1\n",
      "12\n",
      "4.0\n",
      "16.0\n"
     ]
    }
   ],
   "source": [
    "a = 1\n",
    "\n",
    "a+=1\n",
    "print(a)\n",
    "\n",
    "a-=1\n",
    "print(a)\n",
    "\n",
    "a*=12\n",
    "print(a)\n",
    "\n",
    "a/=3\n",
    "print(a)\n",
    "\n",
    "a**=2\n",
    "print(a)"
   ]
  },
  {
   "cell_type": "markdown",
   "metadata": {},
   "source": [
    "### 位运算符"
   ]
  },
  {
   "cell_type": "code",
   "execution_count": 21,
   "metadata": {},
   "outputs": [
    {
     "name": "stdout",
     "output_type": "stream",
     "text": [
      "241\n",
      "0\n",
      "241\n",
      "960\n",
      "60\n",
      "-241\n"
     ]
    }
   ],
   "source": [
    "x = 240\n",
    "y = 1\n",
    "\n",
    "print(x|y)\n",
    "\n",
    "print(x&y)\n",
    "\n",
    "print(x^y)\n",
    "\n",
    "print(x<<2)\n",
    "\n",
    "print(x>>2)\n",
    "\n",
    "print(~x)"
   ]
  },
  {
   "cell_type": "markdown",
   "metadata": {},
   "source": [
    "### 逻辑操作符"
   ]
  },
  {
   "cell_type": "markdown",
   "metadata": {},
   "source": [
    "and\n",
    "or\n",
    "not"
   ]
  },
  {
   "cell_type": "code",
   "execution_count": 22,
   "metadata": {},
   "outputs": [
    {
     "name": "stdout",
     "output_type": "stream",
     "text": [
      "False\n",
      "True\n",
      "False\n"
     ]
    }
   ],
   "source": [
    "print(1>4 and 2>3)\n",
    "\n",
    "print(1>4 or 3>2)\n",
    "\n",
    "print(not(4>1))"
   ]
  },
  {
   "cell_type": "markdown",
   "metadata": {},
   "source": [
    "### 关系操作符"
   ]
  },
  {
   "cell_type": "markdown",
   "metadata": {},
   "source": [
    "python 提供两个关系操作符来对序列(字符串，列表，元组，其他)中的成员进行检查，返回布尔值\n",
    "\n",
    "in \n",
    "not in"
   ]
  },
  {
   "cell_type": "code",
   "execution_count": 24,
   "metadata": {},
   "outputs": [
    {
     "name": "stdout",
     "output_type": "stream",
     "text": [
      "True\n",
      "True\n"
     ]
    }
   ],
   "source": [
    "str1 = 'john'\n",
    "\n",
    "print('a' not in str1)\n",
    "\n",
    "li = [1,2,3]\n",
    "print(1 in li)"
   ]
  },
  {
   "cell_type": "markdown",
   "metadata": {},
   "source": [
    "### if/else三目运算"
   ]
  },
  {
   "cell_type": "markdown",
   "metadata": {},
   "source": [
    "在类C语言中都支持三目运算符b?x:y,然而python之禅中有这样一句话\n",
    "“There should be one-- and preferably only one --obvious way to do it. ”。\n",
    "\n",
    "能够用if/else清晰表达逻辑时，没必要额外新增一种方式来实现"
   ]
  },
  {
   "cell_type": "code",
   "execution_count": 7,
   "metadata": {},
   "outputs": [
    {
     "ename": "NameError",
     "evalue": "name 'gender' is not defined",
     "output_type": "error",
     "traceback": [
      "\u001b[0;31m---------------------------------------------------------------------------\u001b[0m",
      "\u001b[0;31mNameError\u001b[0m                                 Traceback (most recent call last)",
      "\u001b[0;32m<ipython-input-7-71181032d66b>\u001b[0m in \u001b[0;36m<module>\u001b[0;34m\u001b[0m\n\u001b[0;32m----> 1\u001b[0;31m \u001b[0;32mif\u001b[0m \u001b[0mgender\u001b[0m \u001b[0;34m==\u001b[0m \u001b[0;34m'male'\u001b[0m\u001b[0;34m:\u001b[0m\u001b[0;34m\u001b[0m\u001b[0;34m\u001b[0m\u001b[0m\n\u001b[0m\u001b[1;32m      2\u001b[0m     \u001b[0mtext\u001b[0m \u001b[0;34m=\u001b[0m \u001b[0;34m'男'\u001b[0m\u001b[0;34m\u001b[0m\u001b[0;34m\u001b[0m\u001b[0m\n\u001b[1;32m      3\u001b[0m \u001b[0;32melse\u001b[0m\u001b[0;34m:\u001b[0m\u001b[0;34m\u001b[0m\u001b[0;34m\u001b[0m\u001b[0m\n\u001b[1;32m      4\u001b[0m     \u001b[0mtext\u001b[0m \u001b[0;34m=\u001b[0m \u001b[0;34m'女'\u001b[0m\u001b[0;34m\u001b[0m\u001b[0;34m\u001b[0m\u001b[0m\n\u001b[1;32m      5\u001b[0m \u001b[0;34m\u001b[0m\u001b[0m\n",
      "\u001b[0;31mNameError\u001b[0m: name 'gender' is not defined"
     ]
    }
   ],
   "source": [
    "if gender == 'male':\n",
    "    text = '男'\n",
    "else:\n",
    "    text = '女'\n",
    "    \n",
    "# 上述代码可以进行简化\n",
    "text = '男' if gender == 'male' else '女'"
   ]
  },
  {
   "cell_type": "markdown",
   "metadata": {},
   "source": [
    "### Identity operators"
   ]
  },
  {
   "cell_type": "markdown",
   "metadata": {},
   "source": [
    "判断两个变量是否为同一个实体(内存地址)\n",
    "\n",
    "is\n",
    "\n",
    "is not\n",
    "\n",
    "在python中，同一个列表赋值给不同变量时，这两个变量内存地址不同，若是一个整型数字且小于256,则两个变量是同一个内存地址，否则内存地址不同"
   ]
  },
  {
   "cell_type": "code",
   "execution_count": 30,
   "metadata": {},
   "outputs": [
    {
     "name": "stdout",
     "output_type": "stream",
     "text": [
      "True\n",
      "140190225193168\n",
      "140190225192528\n",
      "False\n"
     ]
    }
   ],
   "source": [
    "# id() 返回内存地址\n",
    "x = 10\n",
    "y = 10\n",
    "print(x is y)\n",
    "\n",
    "x = 257\n",
    "y = 257\n",
    "print(id(x))\n",
    "print(id(y))\n",
    "print(x is y)"
   ]
  },
  {
   "cell_type": "markdown",
   "metadata": {},
   "source": [
    "## Strings"
   ]
  },
  {
   "cell_type": "markdown",
   "metadata": {},
   "source": [
    "在python中字符串是一个序列有零个或多个字符组成，字符串是不可改变的数据结构"
   ]
  },
  {
   "cell_type": "code",
   "execution_count": 6,
   "metadata": {},
   "outputs": [
    {
     "name": "stdout",
     "output_type": "stream",
     "text": [
      "140413999853040\n"
     ]
    }
   ],
   "source": [
    "str1 = \"hello world\"\n",
    "print(id(str1))\n"
   ]
  },
  {
   "cell_type": "code",
   "execution_count": 7,
   "metadata": {},
   "outputs": [
    {
     "name": "stdout",
     "output_type": "stream",
     "text": [
      "140413982704816\n",
      "hello world\n"
     ]
    }
   ],
   "source": [
    "str1 = \"chenzhi\"\n",
    "print(id(str1))\n",
    "\n",
    "import ctypes\n",
    "print(ctypes.cast(140413999853040,ctypes.py_object).value)\n",
    "\n",
    "# 虽然字符变量str1可以重新定义，但是之前的内存地址任然保留该字符串"
   ]
  },
  {
   "cell_type": "code",
   "execution_count": 8,
   "metadata": {},
   "outputs": [
    {
     "name": "stdout",
     "output_type": "stream",
     "text": [
      "4\n"
     ]
    }
   ],
   "source": [
    "# 字符串长度\n",
    "str2 = \"abcd\"\n",
    "print(len(str2))"
   ]
  },
  {
   "cell_type": "markdown",
   "metadata": {},
   "source": [
    "### 下标操作符 "
   ]
  },
  {
   "cell_type": "code",
   "execution_count": 10,
   "metadata": {},
   "outputs": [
    {
     "name": "stdout",
     "output_type": "stream",
     "text": [
      "c\n",
      "i\n"
     ]
    }
   ],
   "source": [
    "name = \"chenzhi\"\n",
    "print(name[0])\n",
    "\n",
    "print(name[-1])"
   ]
  },
  {
   "cell_type": "markdown",
   "metadata": {},
   "source": [
    "### 字符串切片"
   ]
  },
  {
   "cell_type": "markdown",
   "metadata": {},
   "source": []
  },
  {
   "cell_type": "code",
   "execution_count": 21,
   "metadata": {},
   "outputs": [
    {
     "name": "stdout",
     "output_type": "stream",
     "text": [
      "che\n",
      "zhi\n",
      "hi\n",
      "cezi\n",
      "ihznehc\n"
     ]
    }
   ],
   "source": [
    "print(name[0:3]) # 等价于0..2\n",
    "\n",
    "print(name[4:])  # 从索引４开始\n",
    "\n",
    "print(name[5:7]) # 等价于5..6\n",
    "\n",
    "print(name[::2]) # 每隔1个字符提取一个字符\n",
    "\n",
    "print(name[::-1]) # 字符串反转"
   ]
  },
  {
   "cell_type": "markdown",
   "metadata": {},
   "source": [
    "### string methods"
   ]
  },
  {
   "cell_type": "markdown",
   "metadata": {},
   "source": [
    "#### count()"
   ]
  },
  {
   "cell_type": "markdown",
   "metadata": {},
   "source": [
    "str1.count(substr [, start [, end]])\n",
    "\n",
    "计算某个字符或这子串在字符串中出现的次数,两个可选参数提取字符串切片"
   ]
  },
  {
   "cell_type": "code",
   "execution_count": 24,
   "metadata": {},
   "outputs": [
    {
     "name": "stdout",
     "output_type": "stream",
     "text": [
      "2\n",
      "2\n",
      "hello\n"
     ]
    }
   ],
   "source": [
    "str2 = \"hello world\"\n",
    "print(str2.count('o')) # 'o'出现的次数\n",
    "\n",
    "print(str2.count('l',0,5)) # 'hello'切片中计算l出现的次数"
   ]
  },
  {
   "cell_type": "markdown",
   "metadata": {},
   "source": [
    "#### find()"
   ]
  },
  {
   "cell_type": "markdown",
   "metadata": {},
   "source": [
    "查找子串在原字符串中的起始索引位置"
   ]
  },
  {
   "cell_type": "code",
   "execution_count": 25,
   "metadata": {},
   "outputs": [
    {
     "name": "stdout",
     "output_type": "stream",
     "text": [
      "6\n"
     ]
    }
   ],
   "source": [
    "print(str2.find('world')) # 'word'子串在str2的起始索引\n",
    "\n",
    "str1 = \"what we think, we become\"\n",
    "print(str1.find('we'))  # find只会获取首次出现子串的起始索引\n",
    "\n",
    "print(str1.rfind('we')) # find从左往右进行检索，然而rfind从右边开始检索"
   ]
  },
  {
   "cell_type": "markdown",
   "metadata": {},
   "source": [
    "#### sting case methods"
   ]
  },
  {
   "cell_type": "code",
   "execution_count": 30,
   "metadata": {},
   "outputs": [
    {
     "name": "stdout",
     "output_type": "stream",
     "text": [
      "chenzhi\n",
      "CHENZHI\n",
      "Chenzhi\n",
      "I Am Learning Python And I Also Love Perl\n"
     ]
    }
   ],
   "source": [
    "# lower\n",
    "name = 'CHENZHI'\n",
    "print(name.lower())\n",
    "\n",
    "# upper\n",
    "name = \"chenZhi\"\n",
    "print(name.upper())\n",
    "\n",
    "# capitalize 将字符串开头字母变成大写\n",
    "name = 'chenzhi'\n",
    "print(name.capitalize())\n",
    "\n",
    "# title 将字符串中的每个单词首字母变成大写\n",
    "str3 = 'i am learning python and i also love perl'\n",
    "print(str3.title())"
   ]
  },
  {
   "cell_type": "markdown",
   "metadata": {},
   "source": [
    "#### sting strip methods"
   ]
  },
  {
   "cell_type": "markdown",
   "metadata": {},
   "source": [
    "##### rstrip()"
   ]
  },
  {
   "cell_type": "markdown",
   "metadata": {},
   "source": [
    "str1.rstrip([chars]) \n",
    "默认去除字符串右边的空格，也可以去除右边的某个字符"
   ]
  },
  {
   "cell_type": "code",
   "execution_count": 37,
   "metadata": {},
   "outputs": [
    {
     "name": "stdout",
     "output_type": "stream",
     "text": [
      "hello world\n",
      "hell\n"
     ]
    }
   ],
   "source": [
    "str4 = \"hello world \"\n",
    "print(str4.rstrip())\n",
    "\n",
    "print(\"hello\".rstrip('o')) #去除末尾的'o'"
   ]
  },
  {
   "cell_type": "markdown",
   "metadata": {},
   "source": [
    "##### lstrip()"
   ]
  },
  {
   "cell_type": "code",
   "execution_count": 38,
   "metadata": {},
   "outputs": [
    {
     "name": "stdout",
     "output_type": "stream",
     "text": [
      "hello world \n",
      "ello\n"
     ]
    }
   ],
   "source": [
    "str4 = \" hello world \"\n",
    "print(str4.lstrip())\n",
    "\n",
    "print(\"hello\".lstrip('h')) #去除开头的'h'"
   ]
  },
  {
   "cell_type": "markdown",
   "metadata": {},
   "source": [
    "##### strip()"
   ]
  },
  {
   "cell_type": "code",
   "execution_count": null,
   "metadata": {},
   "outputs": [],
   "source": [
    "str4 = \" hello world \"\n",
    "print(str4.strip())　# 同时去除两边的空格"
   ]
  },
  {
   "cell_type": "markdown",
   "metadata": {},
   "source": [
    "#### String split methods"
   ]
  },
  {
   "cell_type": "markdown",
   "metadata": {},
   "source": [
    "Str1.split(“delimiter”, num)\n",
    "\n",
    "delimiter表示分隔符，如果不指定默认用空格进行分隔\n",
    "\n",
    "num是一个整型表示使用分隔符的数量，不定义num表示按照指定的所有分隔符进行split,返回一个list"
   ]
  },
  {
   "cell_type": "code",
   "execution_count": 42,
   "metadata": {},
   "outputs": [
    {
     "name": "stdout",
     "output_type": "stream",
     "text": [
      "['27', '12', '2016']\n",
      "['27', '12-2016']\n",
      "['27-12', '2016']\n",
      "['Mohit', 'raj']\n"
     ]
    }
   ],
   "source": [
    "str1 = \"27-12-2016\"\n",
    "print(str1.split(\"-\"))\n",
    "\n",
    "print(str1.split('-',1)) # 从左边开始使用第一个分隔符进行split\n",
    "\n",
    "print(str1.rsplit('-',1)) # rsplit表示从右边的第一个分隔符进行split\n",
    "\n",
    "name = \"Mohit raj\"\n",
    "print(name.split()) #按空格分隔"
   ]
  },
  {
   "cell_type": "markdown",
   "metadata": {},
   "source": [
    "#### String justify methods"
   ]
  },
  {
   "cell_type": "markdown",
   "metadata": {},
   "source": [
    "str1.ljust(width[, fillchar])\n",
    "\n",
    "width表示字符串显示的宽度,当显示的宽度大于字符本身的长度开启填充功能\n",
    "\n",
    "默认用空格进行填充，也可以指定某个字符进行填充\n",
    "\n",
    "str1.rjust(width[, fillchar])\n",
    "\n",
    "str1.center(width[, fillchar])\n",
    "\n",
    "str.zfill(width) \n",
    "可以很方便用0进行左边填充，你也可以使用rjust"
   ]
  },
  {
   "cell_type": "code",
   "execution_count": 46,
   "metadata": {},
   "outputs": [
    {
     "name": "stdout",
     "output_type": "stream",
     "text": [
      "Mohit Raj######\n",
      "######Mohit Raj\n",
      "###Mohit Raj###\n",
      "000000000012345\n",
      "000000000012345\n"
     ]
    }
   ],
   "source": [
    "str1= \"Mohit Raj\"\n",
    "print(str1.ljust(15, \"#\"))\n",
    "\n",
    "print(str1.rjust(15,\"#\"))\n",
    "\n",
    "print(str1.center(15,'#'))\n",
    "\n",
    "print(\"12345\".zfill(15))\n",
    "print(\"12345\".rjust(15,'0'))"
   ]
  },
  {
   "cell_type": "markdown",
   "metadata": {},
   "source": [
    "#### replace()"
   ]
  },
  {
   "cell_type": "markdown",
   "metadata": {},
   "source": [
    "str.replace(old, new, max)\n",
    "\n",
    "max整型表示定义替换的次数，如果不指定默认全局替换"
   ]
  },
  {
   "cell_type": "code",
   "execution_count": 48,
   "metadata": {},
   "outputs": [
    {
     "name": "stdout",
     "output_type": "stream",
     "text": [
      "time was great and time is money\n"
     ]
    }
   ],
   "source": [
    "str1 = \"time is great and time is money\"\n",
    "print(str1.replace('is','was',1)) #只替换一个'is'\n",
    "\n",
    "print(str1.replace('is','was')) #全局替换　"
   ]
  },
  {
   "cell_type": "markdown",
   "metadata": {},
   "source": [
    "#### translate()"
   ]
  },
  {
   "cell_type": "markdown",
   "metadata": {},
   "source": [
    "类似于perl中的tr\n",
    "\n",
    "一般 maketrans() 方法需要配合 translate() 方法一起使用"
   ]
  },
  {
   "cell_type": "markdown",
   "metadata": {},
   "source": [
    "##### maketrans()"
   ]
  },
  {
   "cell_type": "markdown",
   "metadata": {},
   "source": [
    "str.maketrans(intab,outtab[,delchars])\n",
    "\n",
    "intab – 需要转换的字符组成的字符串。\n",
    "outtab – 转换的目标字符组成的字符串。\n",
    "delchars 可选参数，表示要删除的字符组成的字符串。 返回一个字符映射转换表供 translate() 方法调用"
   ]
  },
  {
   "cell_type": "code",
   "execution_count": 4,
   "metadata": {},
   "outputs": [
    {
     "name": "stdout",
     "output_type": "stream",
     "text": [
      "TAGCTw\n"
     ]
    }
   ],
   "source": [
    "# 利用maketrans()构建字符映射转换表\n",
    "string = \"ATCGA\"\n",
    "\n",
    "trantab = str.maketrans('ATCG','TAGC')\n",
    "\n",
    "# 将映射转换表传入translate方法\n",
    "print(string.translate(trantab))"
   ]
  },
  {
   "cell_type": "markdown",
   "metadata": {},
   "source": [
    "#### join()"
   ]
  },
  {
   "cell_type": "markdown",
   "metadata": {},
   "source": [
    "str1.join(seq)\n",
    "\n",
    "join方法可以使用连接符str1,join列表内或元组内的字符串"
   ]
  },
  {
   "cell_type": "code",
   "execution_count": 51,
   "metadata": {},
   "outputs": [
    {
     "name": "stdout",
     "output_type": "stream",
     "text": [
      "Mohit raj\n",
      "Mohit-raj\n"
     ]
    }
   ],
   "source": [
    "name = [\"Mohit\",\"raj\"]\n",
    "print(\" \".join(name))\n",
    "\n",
    "print(\"-\".join(name))"
   ]
  },
  {
   "cell_type": "markdown",
   "metadata": {},
   "source": [
    "#### String Boolean methods"
   ]
  },
  {
   "cell_type": "markdown",
   "metadata": {},
   "source": [
    "有时候我们想基于某种条件返回True/False，这个条件可以是字符开头或结尾\n",
    "\n",
    "str1.endswith(sub-string, begin,end)\n",
    "检查字符串是否以某个子串结尾\n",
    "\n",
    "str1.startswith(sub-string, begin,end)\n",
    "检查字符串是否以某个子串开头\n",
    "\n",
    "Str1.isalpha()\n",
    "检查字符串是否只包含字母，是的话返回True\n",
    "\n",
    "Str1.isalnum()\n",
    "检查字符串中是否包含阿拉伯数字，是的话返回True\n",
    "\n",
    "Str1.isdigit()\n",
    "检查字符串是否仅包含阿拉伯数字，是的话返回True\n",
    "\n",
    "Str1.isspace()\n",
    "检查字符串是否仅包含空格，是的话返回True\n",
    "\n",
    "Str1.islower()\n",
    "检查字符串是否都是小写字母，是的话返回True\n",
    "\n",
    "Str1.isupper()\n",
    "检查字符串是否都是小写字母，是的话返回True"
   ]
  },
  {
   "cell_type": "code",
   "execution_count": 54,
   "metadata": {},
   "outputs": [
    {
     "name": "stdout",
     "output_type": "stream",
     "text": [
      "True\n",
      "True\n",
      "False\n"
     ]
    }
   ],
   "source": [
    "str1 = \"Life should be great rather than long\"\n",
    "print(str1.endswith(\"ng\"))\n",
    "\n",
    "print(str1.startswith('L'))\n",
    "\n",
    "alpha = \"abcd123\"\n",
    "print(alpha.isalpha())\n",
    "\n",
    "print(alpha.isalnum())\n",
    "\n",
    "str1 = \"12345\"\n",
    "print(str1.isdigit())\n",
    "\n",
    "str1 = \" \"\n",
    "print(str1.isspace())"
   ]
  },
  {
   "cell_type": "markdown",
   "metadata": {},
   "source": [
    "### String functions"
   ]
  },
  {
   "cell_type": "markdown",
   "metadata": {},
   "source": [
    "#### len()"
   ]
  },
  {
   "cell_type": "markdown",
   "metadata": {},
   "source": [
    "前面已经介绍"
   ]
  },
  {
   "cell_type": "markdown",
   "metadata": {},
   "source": [
    "#### min()"
   ]
  },
  {
   "cell_type": "markdown",
   "metadata": {},
   "source": [
    "min(str1)\n",
    "\n",
    "根据ASCII码值找出字符串中最小的"
   ]
  },
  {
   "cell_type": "code",
   "execution_count": null,
   "metadata": {},
   "outputs": [],
   "source": [
    "str1 = \"Life should be great rather than long\"\n",
    "print(min(str1))"
   ]
  },
  {
   "cell_type": "markdown",
   "metadata": {},
   "source": [
    "#### max()"
   ]
  },
  {
   "cell_type": "markdown",
   "metadata": {},
   "source": [
    "与min()相反"
   ]
  },
  {
   "cell_type": "markdown",
   "metadata": {},
   "source": [
    "#### str()"
   ]
  },
  {
   "cell_type": "markdown",
   "metadata": {},
   "source": [
    "有时候需要将整型或浮点型转换为字符型"
   ]
  },
  {
   "cell_type": "code",
   "execution_count": null,
   "metadata": {},
   "outputs": [],
   "source": [
    "a = 123\n",
    "print(type(a))\n",
    "\n",
    "b = str(a)\n",
    "print(type(b))"
   ]
  },
  {
   "cell_type": "markdown",
   "metadata": {},
   "source": [
    "#### in"
   ]
  },
  {
   "cell_type": "markdown",
   "metadata": {},
   "source": [
    "为了确定字符串中是否含有一个子串从而执行其他code,通常与if一起使用"
   ]
  },
  {
   "cell_type": "code",
   "execution_count": 55,
   "metadata": {},
   "outputs": [
    {
     "name": "stdout",
     "output_type": "stream",
     "text": [
      "there is a 'chen'\n"
     ]
    }
   ],
   "source": [
    "str1 = \"chenzhi\"\n",
    "\n",
    "if 'chen' in str1:\n",
    "    print(\"there is a 'chen'\")"
   ]
  },
  {
   "cell_type": "markdown",
   "metadata": {},
   "source": [
    "### 字符串格式化 "
   ]
  },
  {
   "cell_type": "markdown",
   "metadata": {},
   "source": [
    "在python3.6之前，有两个主要的方式在字符串中内嵌表达式:\n",
    "\n",
    "1. %-format\n",
    "2. str.format()"
   ]
  },
  {
   "cell_type": "markdown",
   "metadata": {},
   "source": [
    "#### %-formatting"
   ]
  },
  {
   "cell_type": "markdown",
   "metadata": {},
   "source": [
    "字符串对象有内置操作符%,使用这个操作符用来格式化字符串"
   ]
  },
  {
   "cell_type": "code",
   "execution_count": 14,
   "metadata": {},
   "outputs": [
    {
     "data": {
      "text/plain": [
       "'hello Eric,you are 14.'"
      ]
     },
     "execution_count": 14,
     "metadata": {},
     "output_type": "execute_result"
    }
   ],
   "source": [
    "# 插入一个变量\n",
    "name = 'Eric'\n",
    "\"hello,%s.\" % name\n",
    "\n",
    "# 插入多个变量，变量组成的元组\n",
    "age = 14\n",
    "\"hello %s,you are %s.\" % (name,age)"
   ]
  },
  {
   "cell_type": "markdown",
   "metadata": {},
   "source": [
    "一旦插入更多的变量，那么代码的可读性将会降低，而且这种方式不能很好的展示元组或字典,因此使用.format()会更好"
   ]
  },
  {
   "cell_type": "markdown",
   "metadata": {},
   "source": [
    "#### str.format()"
   ]
  },
  {
   "cell_type": "markdown",
   "metadata": {},
   "source": [
    "str.format()是%-formatting的增强版，被内插的部分用{}表示"
   ]
  },
  {
   "cell_type": "code",
   "execution_count": 18,
   "metadata": {},
   "outputs": [
    {
     "name": "stdout",
     "output_type": "stream",
     "text": [
      "hello,Eric.you are 14.\n",
      "hello,Eric,you are 14.\n",
      "hello,Eric.you are 74\n"
     ]
    }
   ],
   "source": [
    "print(\"hello,{}.you are {}.\".format(name,age))\n",
    "\n",
    "# 你也可以上使用元组中的索引引用变量\n",
    "print(\"hello,{1},you are {0}.\".format(age,name))\n",
    "\n",
    "# 内插字典\n",
    "person = {'name':'Eric','age':74}\n",
    "print(\"hello,{name}.you are {age}\".format(**person))"
   ]
  },
  {
   "cell_type": "markdown",
   "metadata": {},
   "source": [
    "虽然str.format()的可读性高于%-formatting,但是处理内插多个变量还是显得很繁琐\n",
    "\n",
    "如果你想传入的变量在字典中，那么你需要unpack(打包)字典，使用**dict"
   ]
  },
  {
   "cell_type": "markdown",
   "metadata": {},
   "source": [
    "#### f-Strings"
   ]
  },
  {
   "cell_type": "markdown",
   "metadata": {},
   "source": [
    "在python3.6引入了f-strings\n",
    "\n",
    "f-strings以f(或者F)开头，{}包含内插变量"
   ]
  },
  {
   "cell_type": "code",
   "execution_count": 20,
   "metadata": {},
   "outputs": [
    {
     "name": "stdout",
     "output_type": "stream",
     "text": [
      "hello,chenzhi.you are 24.\n",
      "hello,chenzhi.you are 24.\n"
     ]
    }
   ],
   "source": [
    "name = 'chenzhi'\n",
    "age = 24\n",
    "print(f\"hello,{name}.you are {age}.\")\n",
    "print(F\"hello,{name}.you are {age}.\")"
   ]
  },
  {
   "cell_type": "markdown",
   "metadata": {},
   "source": [
    "由于f-strings在程序运行时执行，你能在f-strings {} 中插入任何有意义的表达式:\n",
    "\n",
    "    数学表达式\n",
    "    函数调用\n",
    "    ...."
   ]
  },
  {
   "cell_type": "code",
   "execution_count": 22,
   "metadata": {},
   "outputs": [
    {
     "name": "stdout",
     "output_type": "stream",
     "text": [
      "74\n",
      "chenzhi is funny\n"
     ]
    }
   ],
   "source": [
    "# 数学表达式\n",
    "print(f\"{2*37}\")\n",
    "\n",
    "# ｛｝中也可调用函数\n",
    "def fun1(input):\n",
    "    return input.lower()\n",
    "\n",
    "name = 'CHENZHI'\n",
    "print(f\"{fun1(name)} is funny\")\n",
    "\n",
    "# 也可以使用已存在的方法\n",
    "string = \"datacamp is an educational company.\"\n",
    "print(f\"{string.title()}\")\n"
   ]
  },
  {
   "cell_type": "code",
   "execution_count": 28,
   "metadata": {},
   "outputs": [
    {
     "name": "stdout",
     "output_type": "stream",
     "text": [
      "Hi chenzhi.pyyou are 14you are in tl\n",
      "john\n",
      "hello john, you are 19\n"
     ]
    }
   ],
   "source": [
    "# f-strings也支持多行\n",
    "name = 'chenzhi.py'\n",
    "age = 14\n",
    "city = 'tl'\n",
    "\n",
    "message = (\n",
    "    f\"Hi {name}\"\n",
    "    f\"you are {age}\"\n",
    "    f\"you are in {city}\"\n",
    "\n",
    ")\n",
    "\n",
    "print(message)\n",
    "\n",
    "# f-string插入字典(需要注意key的引号与f-strings的引号要不同)\n",
    "person = {'name':'john','age':19}\n",
    "\n",
    "print(f\"hello {person['name']}, you are {person['age']}\")"
   ]
  },
  {
   "cell_type": "markdown",
   "metadata": {},
   "source": [
    "我们可以在f-string中使用引号，但是需要使用反斜线对其进行转义，需要注意的是在{}内不能使用反斜线，只能在{}外部使用反斜线"
   ]
  },
  {
   "cell_type": "code",
   "execution_count": 38,
   "metadata": {
    "scrolled": true
   },
   "outputs": [
    {
     "name": "stdout",
     "output_type": "stream",
     "text": [
      "hello 'chenzhi'\n",
      "hello \"chenzhi\"\n",
      "hello \"chenzhi\"\n",
      "hello {chenzhi}\n"
     ]
    }
   ],
   "source": [
    "name = \"chenzhi\"\n",
    "print(f\"hello \\'{name}\\'\")\n",
    "\n",
    "print(f\"hello \\\"{name}\\\"\")\n",
    "\n",
    "# f-strings可以使用单引号\n",
    "print(f'hello \"{name}\"')\n",
    "\n",
    "# 输出花括号\n",
    "print(f\"hello {{{name}}}\")"
   ]
  },
  {
   "cell_type": "code",
   "execution_count": 24,
   "metadata": {},
   "outputs": [
    {
     "name": "stdout",
     "output_type": "stream",
     "text": [
      "john is 19 years old.\n"
     ]
    },
    {
     "data": {
      "text/plain": [
       "'john is 19 years old.'"
      ]
     },
     "execution_count": 24,
     "metadata": {},
     "output_type": "execute_result"
    }
   ],
   "source": [
    "# 使用f-strings定义一个类,默认f-strings使用__str__()方法\n",
    "\n",
    "class sample:\n",
    "    \n",
    "    def __init__(self,name,age):\n",
    "        self.name = name\n",
    "        self.age = age\n",
    "        \n",
    "    # this methon will be called when we print the object\n",
    "    \n",
    "    def __str__(self):\n",
    "        return f'{self.name} is {self.age} years old.'\n",
    "\n",
    "john = sample(\"john\",19)\n",
    "\n",
    "# it'll wake up the __str__() method\n",
    "print(f'{john}')\n",
    "\n",
    "f'{john}'"
   ]
  },
  {
   "cell_type": "markdown",
   "metadata": {},
   "source": [
    "## Tuple"
   ]
  },
  {
   "cell_type": "markdown",
   "metadata": {},
   "source": [
    "在python中，Tuple(元组)是一个序列，它可以存储异质的数据类型，其中可以包含整型，浮点型，字符串，列表和字典，实际是一个大杂烩。\n",
    "\n",
    "如同字符串一样，Tuple也是不可更改的"
   ]
  },
  {
   "cell_type": "markdown",
   "metadata": {},
   "source": [
    "### 创建元组"
   ]
  },
  {
   "cell_type": "markdown",
   "metadata": {},
   "source": [
    "使用()创建元组,其实括号也可以省略"
   ]
  },
  {
   "cell_type": "code",
   "execution_count": 58,
   "metadata": {},
   "outputs": [
    {
     "name": "stdout",
     "output_type": "stream",
     "text": [
      "<class 'tuple'>\n",
      "(1, 2, 3, 'hello world', 'a')\n",
      "<class 'tuple'>\n"
     ]
    }
   ],
   "source": [
    "tup = ()\n",
    "print(type(tup))\n",
    "\n",
    "tup1 = (1,2,3,\"hello world\",\"a\")\n",
    "print(tup1)\n",
    "\n",
    "# 省略括号\n",
    "tup2 = 1,2,3,\"hello world\",\"a\"\n",
    "print(type(tup2))"
   ]
  },
  {
   "cell_type": "markdown",
   "metadata": {},
   "source": [
    "### 元组切片"
   ]
  },
  {
   "cell_type": "code",
   "execution_count": 59,
   "metadata": {},
   "outputs": [
    {
     "name": "stdout",
     "output_type": "stream",
     "text": [
      "(2, 3)\n"
     ]
    }
   ],
   "source": [
    "print(tup2[1:3])\n",
    "\n",
    "print(tup2[:3])"
   ]
  },
  {
   "cell_type": "markdown",
   "metadata": {},
   "source": [
    "###  Unpacking the items of tuples"
   ]
  },
  {
   "cell_type": "markdown",
   "metadata": {},
   "source": [
    "类似于perl中的列表变量赋值"
   ]
  },
  {
   "cell_type": "code",
   "execution_count": 63,
   "metadata": {},
   "outputs": [
    {
     "name": "stdout",
     "output_type": "stream",
     "text": [
      "1\n",
      "2\n",
      "3\n",
      "more than 3 values\n"
     ]
    }
   ],
   "source": [
    "tup = 1,2,3\n",
    "a,b,c = tup\n",
    "\n",
    "print(a,b,c,sep=\"\\n\")\n",
    "\n",
    "# 变量个数不能超过元组内元素的个数，否则会报错\n",
    "try:\n",
    "    a,b,c,d = tup\n",
    "except ValueError:\n",
    "    print(\"more than 3 values\")"
   ]
  },
  {
   "cell_type": "markdown",
   "metadata": {},
   "source": [
    "### Tuple functions"
   ]
  },
  {
   "cell_type": "markdown",
   "metadata": {},
   "source": [
    "#### len()"
   ]
  },
  {
   "cell_type": "markdown",
   "metadata": {},
   "source": [
    "获取元素内元素的个数"
   ]
  },
  {
   "cell_type": "code",
   "execution_count": null,
   "metadata": {},
   "outputs": [],
   "source": [
    "print(len(tup))"
   ]
  },
  {
   "cell_type": "markdown",
   "metadata": {},
   "source": [
    "#### max()"
   ]
  },
  {
   "cell_type": "code",
   "execution_count": 67,
   "metadata": {},
   "outputs": [
    {
     "name": "stdout",
     "output_type": "stream",
     "text": [
      "510\n"
     ]
    },
    {
     "ename": "TypeError",
     "evalue": "'>' not supported between instances of 'str' and 'int'",
     "output_type": "error",
     "traceback": [
      "\u001b[0;31m---------------------------------------------------------------------------\u001b[0m",
      "\u001b[0;31mTypeError\u001b[0m                                 Traceback (most recent call last)",
      "\u001b[0;32m<ipython-input-67-04f2cd7242c9>\u001b[0m in \u001b[0;36m<module>\u001b[0;34m\u001b[0m\n\u001b[1;32m      4\u001b[0m \u001b[0;31m# 如果整型和浮点型相同，则返回第一个出现的\u001b[0m\u001b[0;34m\u001b[0m\u001b[0;34m\u001b[0m\u001b[0;34m\u001b[0m\u001b[0m\n\u001b[1;32m      5\u001b[0m \u001b[0mt2\u001b[0m \u001b[0;34m=\u001b[0m \u001b[0;34m(\u001b[0m\u001b[0;36m1\u001b[0m\u001b[0;34m,\u001b[0m\u001b[0;36m2\u001b[0m\u001b[0;34m,\u001b[0m\u001b[0;36m3\u001b[0m\u001b[0;34m,\u001b[0m\u001b[0;36m4\u001b[0m\u001b[0;34m,\u001b[0m\u001b[0;36m510\u001b[0m\u001b[0;34m,\u001b[0m\u001b[0;34m\"510.0\"\u001b[0m\u001b[0;34m)\u001b[0m\u001b[0;34m\u001b[0m\u001b[0;34m\u001b[0m\u001b[0m\n\u001b[0;32m----> 6\u001b[0;31m \u001b[0mprint\u001b[0m\u001b[0;34m(\u001b[0m\u001b[0mmax\u001b[0m\u001b[0;34m(\u001b[0m\u001b[0mt2\u001b[0m\u001b[0;34m)\u001b[0m\u001b[0;34m)\u001b[0m\u001b[0;34m\u001b[0m\u001b[0;34m\u001b[0m\u001b[0m\n\u001b[0m\u001b[1;32m      7\u001b[0m \u001b[0;34m\u001b[0m\u001b[0m\n\u001b[1;32m      8\u001b[0m \u001b[0mt2\u001b[0m \u001b[0;34m=\u001b[0m \u001b[0;34m(\u001b[0m\u001b[0;36m1\u001b[0m\u001b[0;34m,\u001b[0m\u001b[0;36m2\u001b[0m\u001b[0;34m,\u001b[0m\u001b[0;36m3\u001b[0m\u001b[0;34m,\u001b[0m\u001b[0;36m4\u001b[0m\u001b[0;34m,\u001b[0m\u001b[0;36m510.0\u001b[0m\u001b[0;34m,\u001b[0m\u001b[0;36m510\u001b[0m\u001b[0;34m)\u001b[0m\u001b[0;34m\u001b[0m\u001b[0;34m\u001b[0m\u001b[0m\n",
      "\u001b[0;31mTypeError\u001b[0m: '>' not supported between instances of 'str' and 'int'"
     ]
    }
   ],
   "source": [
    "t2 = (1,2,3,4,510)\n",
    "print(max(t2))\n",
    "\n",
    "# 如果整型和浮点型相同，则返回第一个出现的\n",
    "t2 = (1,2,3,4,510,510.0)\n",
    "print(max(t2))\n",
    "\n",
    "t2 = (1,2,3,4,510.0,510)\n",
    "print(max(t2))\n",
    "\n",
    "tup1 = ('aa', 'z', \"az\")\n",
    "print(max(tup1))"
   ]
  },
  {
   "cell_type": "markdown",
   "metadata": {},
   "source": [
    "#### min()"
   ]
  },
  {
   "cell_type": "markdown",
   "metadata": {},
   "source": [
    "与max()相反"
   ]
  },
  {
   "cell_type": "markdown",
   "metadata": {},
   "source": [
    "#### tuple()"
   ]
  },
  {
   "cell_type": "markdown",
   "metadata": {},
   "source": [
    "tuple可以将字符串或者列表转换为tuple"
   ]
  },
  {
   "cell_type": "code",
   "execution_count": 68,
   "metadata": {},
   "outputs": [
    {
     "name": "stdout",
     "output_type": "stream",
     "text": [
      "('m', 'o', 'h', 'i', 't')\n"
     ]
    }
   ],
   "source": [
    "str1 = \"mohit\"\n",
    "print(tuple(str1))"
   ]
  },
  {
   "cell_type": "markdown",
   "metadata": {},
   "source": [
    "#### del keyword"
   ]
  },
  {
   "cell_type": "markdown",
   "metadata": {},
   "source": [
    "使用del关键字删除一个元组"
   ]
  },
  {
   "cell_type": "code",
   "execution_count": 70,
   "metadata": {},
   "outputs": [
    {
     "name": "stdout",
     "output_type": "stream",
     "text": [
      "tup1 doesn't exists\n"
     ]
    }
   ],
   "source": [
    "tup1 = (1,2,3)\n",
    "del tup1\n",
    "\n",
    "try:\n",
    "    tup1\n",
    "except NameError:\n",
    "    print(\"tup1 doesn't exists\")"
   ]
  },
  {
   "cell_type": "markdown",
   "metadata": {},
   "source": [
    "### Operations of tuples"
   ]
  },
  {
   "cell_type": "markdown",
   "metadata": {},
   "source": [
    "####  + 操作符"
   ]
  },
  {
   "cell_type": "markdown",
   "metadata": {},
   "source": [
    "'+' 操作符可以合并两个元组"
   ]
  },
  {
   "cell_type": "code",
   "execution_count": 71,
   "metadata": {},
   "outputs": [
    {
     "data": {
      "text/plain": [
       "(1, 2, 3, 4, 5, 6)"
      ]
     },
     "execution_count": 71,
     "metadata": {},
     "output_type": "execute_result"
    }
   ],
   "source": [
    "a = 1,2,3\n",
    "b = 4,5,6\n",
    "a+b"
   ]
  },
  {
   "cell_type": "markdown",
   "metadata": {},
   "source": [
    "#### * 操作符"
   ]
  },
  {
   "cell_type": "code",
   "execution_count": 72,
   "metadata": {},
   "outputs": [
    {
     "data": {
      "text/plain": [
       "('Python', 'html', 'Python', 'html')"
      ]
     },
     "execution_count": 72,
     "metadata": {},
     "output_type": "execute_result"
    }
   ],
   "source": [
    "language = (\"Python\",\"html\")\n",
    "language*2"
   ]
  },
  {
   "cell_type": "code",
   "execution_count": 73,
   "metadata": {},
   "outputs": [
    {
     "name": "stdout",
     "output_type": "stream",
     "text": [
      "www.thapar.edu/index/php/about-us/mission\n"
     ]
    }
   ],
   "source": [
    "tup = ('www', 'thapar', 'edu','index','php','about-us','mission')\n",
    "\n",
    "print(\".\".join(tup[:3])+\"/\"+\"/\".join(tup[3:]))"
   ]
  },
  {
   "cell_type": "markdown",
   "metadata": {},
   "source": [
    "### tuple遍历"
   ]
  },
  {
   "cell_type": "markdown",
   "metadata": {},
   "source": [
    "遍历元组时使用索引"
   ]
  },
  {
   "cell_type": "code",
   "execution_count": 1,
   "metadata": {},
   "outputs": [
    {
     "name": "stdout",
     "output_type": "stream",
     "text": [
      "0 ---> red\n",
      "1 ---> green\n",
      "2 ---> blue\n"
     ]
    }
   ],
   "source": [
    "colors = ('red','green','blue')\n",
    "\n",
    "for i in range(len(colors)):\n",
    "    print(i,'--->',colors[i])"
   ]
  },
  {
   "cell_type": "code",
   "execution_count": 2,
   "metadata": {},
   "outputs": [
    {
     "name": "stdout",
     "output_type": "stream",
     "text": [
      "0 ---> red\n",
      "1 ---> green\n",
      "2 ---> blue\n"
     ]
    }
   ],
   "source": [
    "# 使用 enumerate 可以是上述代码变得简洁\n",
    "\n",
    "for i,color in enumerate(colors):\n",
    "    print(i,'--->',color)"
   ]
  },
  {
   "cell_type": "markdown",
   "metadata": {},
   "source": [
    "## Lists"
   ]
  },
  {
   "cell_type": "markdown",
   "metadata": {},
   "source": [
    "list和元组一样可以包含异质的元素，不同的是list可以改变元素"
   ]
  },
  {
   "cell_type": "markdown",
   "metadata": {},
   "source": [
    "### 创建list"
   ]
  },
  {
   "cell_type": "markdown",
   "metadata": {},
   "source": [
    "使用[]创建list"
   ]
  },
  {
   "cell_type": "code",
   "execution_count": 1,
   "metadata": {},
   "outputs": [
    {
     "name": "stdout",
     "output_type": "stream",
     "text": [
      "[]\n",
      "[1, 2, 3, 4]\n"
     ]
    }
   ],
   "source": [
    "list1 = []\n",
    "print(list1)\n",
    "\n",
    "list2 = [1,2,3,4]\n",
    "print(list2)"
   ]
  },
  {
   "cell_type": "markdown",
   "metadata": {},
   "source": [
    "### Unpacking list values"
   ]
  },
  {
   "cell_type": "code",
   "execution_count": null,
   "metadata": {},
   "outputs": [],
   "source": [
    "a,b = [1,2]\n",
    "print(a,b)"
   ]
  },
  {
   "cell_type": "markdown",
   "metadata": {},
   "source": [
    "### list切片"
   ]
  },
  {
   "cell_type": "markdown",
   "metadata": {},
   "source": [
    "<list-name>[start : stop : step]\n",
    "默认step(步长)为1"
   ]
  },
  {
   "cell_type": "code",
   "execution_count": 5,
   "metadata": {},
   "outputs": [
    {
     "data": {
      "text/plain": [
       "[1, 3]"
      ]
     },
     "execution_count": 5,
     "metadata": {},
     "output_type": "execute_result"
    }
   ],
   "source": [
    "list2[0:3]\n",
    "\n",
    "list2[0:4:2]"
   ]
  },
  {
   "cell_type": "markdown",
   "metadata": {},
   "source": [
    "### Updating the list"
   ]
  },
  {
   "cell_type": "markdown",
   "metadata": {},
   "source": [
    "列表是可改变的，因此列表中的元素是可以更新的,使用下标可以进行列表元素的更新"
   ]
  },
  {
   "cell_type": "code",
   "execution_count": 6,
   "metadata": {},
   "outputs": [
    {
     "data": {
      "text/plain": [
       "['hulk', 'iron-man', 'Captain-America', 'Thor']"
      ]
     },
     "execution_count": 6,
     "metadata": {},
     "output_type": "execute_result"
    }
   ],
   "source": [
    "Avengers = ['hulk', 'iron-man', 'Captain', 'Thor']\n",
    "Avengers[2] = \"Captain-America\"\n",
    "\n",
    "Avengers"
   ]
  },
  {
   "cell_type": "markdown",
   "metadata": {},
   "source": [
    "### Deleting values from a list"
   ]
  },
  {
   "cell_type": "markdown",
   "metadata": {},
   "source": [
    "通过使用del关键字，可以从一个列表中删除一个或多个元素"
   ]
  },
  {
   "cell_type": "code",
   "execution_count": 7,
   "metadata": {},
   "outputs": [
    {
     "data": {
      "text/plain": [
       "[4]"
      ]
     },
     "execution_count": 7,
     "metadata": {},
     "output_type": "execute_result"
    }
   ],
   "source": [
    "a = [1,2,3,4]\n",
    "\n",
    "del a[0:3]\n",
    "\n",
    "a"
   ]
  },
  {
   "cell_type": "markdown",
   "metadata": {},
   "source": [
    "### Addition of Python lists"
   ]
  },
  {
   "cell_type": "markdown",
   "metadata": {},
   "source": [
    "使用+操作符将两个list元素合并"
   ]
  },
  {
   "cell_type": "code",
   "execution_count": 8,
   "metadata": {},
   "outputs": [
    {
     "data": {
      "text/plain": [
       "['a', 'b', 'c', 'd', 'e']"
      ]
     },
     "execution_count": 8,
     "metadata": {},
     "output_type": "execute_result"
    }
   ],
   "source": [
    "a = ['a','b','c']\n",
    "b = ['d','e']\n",
    "\n",
    "a+b"
   ]
  },
  {
   "cell_type": "markdown",
   "metadata": {},
   "source": [
    "### Multiplication of lists"
   ]
  },
  {
   "cell_type": "markdown",
   "metadata": {},
   "source": [
    "使用'*' 操作符实现list的乘法"
   ]
  },
  {
   "cell_type": "code",
   "execution_count": 9,
   "metadata": {},
   "outputs": [
    {
     "data": {
      "text/plain": [
       "['Vision', 'sam', 'Vision', 'sam']"
      ]
     },
     "execution_count": 9,
     "metadata": {},
     "output_type": "execute_result"
    }
   ],
   "source": [
    "Av = ['Vision', 'sam']\n",
    "new_Av = Av*2\n",
    "new_Av"
   ]
  },
  {
   "cell_type": "markdown",
   "metadata": {},
   "source": [
    "### in 操作符"
   ]
  },
  {
   "cell_type": "markdown",
   "metadata": {},
   "source": [
    "与元组中的作用一样，与if搭配"
   ]
  },
  {
   "cell_type": "code",
   "execution_count": 10,
   "metadata": {},
   "outputs": [
    {
     "name": "stdout",
     "output_type": "stream",
     "text": [
      "yes\n"
     ]
    }
   ],
   "source": [
    "a = [1,2,3]\n",
    "\n",
    "if 1 in a:\n",
    "    print('yes')"
   ]
  },
  {
   "cell_type": "markdown",
   "metadata": {},
   "source": [
    "### List functions"
   ]
  },
  {
   "cell_type": "markdown",
   "metadata": {},
   "source": [
    "#### len()"
   ]
  },
  {
   "cell_type": "markdown",
   "metadata": {},
   "source": [
    "#### max()"
   ]
  },
  {
   "cell_type": "markdown",
   "metadata": {},
   "source": [
    "#### min()"
   ]
  },
  {
   "cell_type": "markdown",
   "metadata": {},
   "source": [
    "#### list()"
   ]
  },
  {
   "cell_type": "markdown",
   "metadata": {},
   "source": [
    "使用list()函数你可以将一个元组转换为一个list"
   ]
  },
  {
   "cell_type": "code",
   "execution_count": 14,
   "metadata": {},
   "outputs": [
    {
     "name": "stdout",
     "output_type": "stream",
     "text": [
      "(1, 2, 3)\n"
     ]
    },
    {
     "data": {
      "text/plain": [
       "[1, 2, 3]"
      ]
     },
     "execution_count": 14,
     "metadata": {},
     "output_type": "execute_result"
    }
   ],
   "source": [
    "tup = (1,2,3)\n",
    "\n",
    "print(tup) \n",
    "\n",
    "list(tup)"
   ]
  },
  {
   "cell_type": "markdown",
   "metadata": {},
   "source": [
    "#### sorted()"
   ]
  },
  {
   "cell_type": "markdown",
   "metadata": {},
   "source": [
    "sorted (iterable, cmp, key, reverse)\n",
    "\n",
    "The sorted () function returns a new sorted list from the values in iterable\n",
    "\n",
    "sorted()总是返回一个list类型的数据"
   ]
  },
  {
   "cell_type": "code",
   "execution_count": 15,
   "metadata": {},
   "outputs": [
    {
     "name": "stdout",
     "output_type": "stream",
     "text": [
      "[0, 1, 1, 2, 3, 3, 4, 7]\n"
     ]
    }
   ],
   "source": [
    "list1 = [2, 3, 0, 3, 1, 4, 7, 1]\n",
    "\n",
    "print(sorted(list1))"
   ]
  },
  {
   "cell_type": "markdown",
   "metadata": {},
   "source": [
    "### List methods"
   ]
  },
  {
   "cell_type": "markdown",
   "metadata": {},
   "source": [
    "#### append()"
   ]
  },
  {
   "cell_type": "markdown",
   "metadata": {},
   "source": [
    "向list中增加一个元素或一个list"
   ]
  },
  {
   "cell_type": "code",
   "execution_count": 23,
   "metadata": {},
   "outputs": [
    {
     "data": {
      "text/plain": [
       "[1, 2, 3, 4, [4, 5]]"
      ]
     },
     "execution_count": 23,
     "metadata": {},
     "output_type": "execute_result"
    }
   ],
   "source": [
    "a = [1,2,3]\n",
    "a.append(4)\n",
    "b = [4,5]\n",
    "a.append(b)\n",
    "a"
   ]
  },
  {
   "cell_type": "markdown",
   "metadata": {},
   "source": [
    "#### extend()"
   ]
  },
  {
   "cell_type": "markdown",
   "metadata": {},
   "source": [
    "list1.extend (seq)\n",
    "\n",
    "向list中追加一个sequence,可以是list,元组，字符串.如果是字符串会自动使用tuple()函数处理字符串，如果不想这样，可以将字符串作为变量存储"
   ]
  },
  {
   "cell_type": "code",
   "execution_count": 22,
   "metadata": {},
   "outputs": [
    {
     "data": {
      "text/plain": [
       "[1,\n",
       " 2,\n",
       " 3,\n",
       " 4,\n",
       " 4,\n",
       " 5,\n",
       " 6,\n",
       " 4,\n",
       " 5,\n",
       " 6,\n",
       " 's',\n",
       " 't',\n",
       " 'r',\n",
       " 'i',\n",
       " 'n',\n",
       " 'g',\n",
       " 4,\n",
       " 5,\n",
       " 6,\n",
       " 4,\n",
       " 5,\n",
       " 6,\n",
       " 's',\n",
       " 't',\n",
       " 'r',\n",
       " 'i',\n",
       " 'n',\n",
       " 'g']"
      ]
     },
     "execution_count": 22,
     "metadata": {},
     "output_type": "execute_result"
    }
   ],
   "source": [
    "b = (4,5,6)\n",
    "a.extend(b)\n",
    "\n",
    "a.extend('string')\n",
    "a"
   ]
  },
  {
   "cell_type": "markdown",
   "metadata": {},
   "source": [
    "#### append()和extend()的不同"
   ]
  },
  {
   "cell_type": "markdown",
   "metadata": {},
   "source": [
    "append()不会将追加的list展开，而extend()会将list展开"
   ]
  },
  {
   "cell_type": "code",
   "execution_count": 38,
   "metadata": {},
   "outputs": [
    {
     "name": "stdout",
     "output_type": "stream",
     "text": [
      "['a', 'b', 'c', ['d', 'e']]\n",
      "['a', 'b', 'c', 'd', 'e']\n"
     ]
    }
   ],
   "source": [
    "linux = ['a','b','c']\n",
    "linux2 = ['d','e']\n",
    "\n",
    "linux.append(linux2)\n",
    "print(linux)\n",
    "\n",
    "linux3 = ['a','b','c']\n",
    "linux4 = ['d','e']\n",
    "linux3.extend(linux4)\n",
    "print(linux3)"
   ]
  },
  {
   "cell_type": "markdown",
   "metadata": {},
   "source": [
    "#### count()"
   ]
  },
  {
   "cell_type": "markdown",
   "metadata": {},
   "source": [
    "检查某一个元素在list中出现的次数"
   ]
  },
  {
   "cell_type": "code",
   "execution_count": 39,
   "metadata": {},
   "outputs": [
    {
     "name": "stdout",
     "output_type": "stream",
     "text": [
      "2\n"
     ]
    }
   ],
   "source": [
    "list1 = ['a','b','a','d']\n",
    "print(list1.count('a'))"
   ]
  },
  {
   "cell_type": "markdown",
   "metadata": {},
   "source": [
    "#### index()"
   ]
  },
  {
   "cell_type": "markdown",
   "metadata": {},
   "source": [
    "查找某个元素在list中的索引位置,如果存在两个相同的元素，则只会返回第一个的索引位置"
   ]
  },
  {
   "cell_type": "code",
   "execution_count": 40,
   "metadata": {},
   "outputs": [
    {
     "name": "stdout",
     "output_type": "stream",
     "text": [
      "2\n"
     ]
    }
   ],
   "source": [
    "OS = ['kali', 'Ubuntu', 'debian', 'debian', 'Centos']\n",
    "print(OS.index(\"debian\"))"
   ]
  },
  {
   "cell_type": "markdown",
   "metadata": {},
   "source": [
    "#### insert()"
   ]
  },
  {
   "cell_type": "markdown",
   "metadata": {},
   "source": [
    "list1.insert (index1, item)\n",
    "从指定的索引处插入一个元素"
   ]
  },
  {
   "cell_type": "code",
   "execution_count": 41,
   "metadata": {},
   "outputs": [
    {
     "data": {
      "text/plain": [
       "[1, 2, 3, 4]"
      ]
     },
     "execution_count": 41,
     "metadata": {},
     "output_type": "execute_result"
    }
   ],
   "source": [
    "a = [1,3,4]\n",
    "a.insert(1,2)\n",
    "a"
   ]
  },
  {
   "cell_type": "markdown",
   "metadata": {},
   "source": [
    "#### remove()"
   ]
  },
  {
   "cell_type": "markdown",
   "metadata": {},
   "source": [
    "list.remove(item)\n",
    "\n",
    "从list中去除一个元素,如果有多个相同的元素则只会去除第一个"
   ]
  },
  {
   "cell_type": "code",
   "execution_count": 42,
   "metadata": {},
   "outputs": [
    {
     "data": {
      "text/plain": [
       "[1, 2, 3]"
      ]
     },
     "execution_count": 42,
     "metadata": {},
     "output_type": "execute_result"
    }
   ],
   "source": [
    "a = [1,2,2,3]\n",
    "a.remove(2)\n",
    "a"
   ]
  },
  {
   "cell_type": "markdown",
   "metadata": {},
   "source": [
    "#### pop()"
   ]
  },
  {
   "cell_type": "markdown",
   "metadata": {},
   "source": [
    "list.pop()\n",
    "\n",
    "pop()去除最后一个元素,也可以将去除的元素赋值给一个变量\n",
    "\n",
    "pop()中也可以指定一个索引，去除该索引的元素"
   ]
  },
  {
   "cell_type": "code",
   "execution_count": 48,
   "metadata": {},
   "outputs": [
    {
     "name": "stdout",
     "output_type": "stream",
     "text": [
      "4\n",
      "[1, 2, 3]\n",
      "[1, 2]\n"
     ]
    }
   ],
   "source": [
    "a = [1,2,3,4]\n",
    "removed = a.pop()\n",
    "\n",
    "print(removed,a,sep=\"\\n\")\n",
    "\n",
    "a.pop(2)\n",
    "\n",
    "print(a)"
   ]
  },
  {
   "cell_type": "markdown",
   "metadata": {},
   "source": [
    "#### sort()"
   ]
  },
  {
   "cell_type": "markdown",
   "metadata": {},
   "source": [
    "list.sort(cmp=None, key=None, reverse=False)\n",
    "直接原位改变元素顺序\n",
    "\n",
    "key指定可迭代对象中的一个元素来进行排序"
   ]
  },
  {
   "cell_type": "code",
   "execution_count": 52,
   "metadata": {},
   "outputs": [
    {
     "name": "stdout",
     "output_type": "stream",
     "text": [
      "[0, 1, 2, 2, 4, 4, 5, 6, 7, 8]\n",
      "[8, 7, 6, 5, 4, 4, 2, 2, 1, 0]\n",
      "[('b', 1), ('f', 2), ('a', 4), ('v', 5)]\n"
     ]
    }
   ],
   "source": [
    "list1 = [5, 6, 7, 1, 4, 2, 0, 4, 2, 8]\n",
    "list1.sort() #默认是升序\n",
    "print(list1) \n",
    "\n",
    "list1.sort(reverse=True) #降序\n",
    "print(list1)\n",
    "\n",
    "# 按元组中第二个索引值对list内元素进行排序\n",
    "li = [(\"a\",4),(\"b\",1),(\"v\",5),(\"f\",2)]\n",
    "def fun1(x):\n",
    "    return x[1]\n",
    "\n",
    "li.sort(key=fun1)\n",
    "\n",
    "print(li)"
   ]
  },
  {
   "cell_type": "markdown",
   "metadata": {},
   "source": [
    "#### reverse()"
   ]
  },
  {
   "cell_type": "code",
   "execution_count": 53,
   "metadata": {},
   "outputs": [
    {
     "data": {
      "text/plain": [
       "['d', 'b', 'c', 'a']"
      ]
     },
     "execution_count": 53,
     "metadata": {},
     "output_type": "execute_result"
    }
   ],
   "source": [
    "a = ['a','c','b','d']\n",
    "a.reverse()\n",
    "a"
   ]
  },
  {
   "cell_type": "markdown",
   "metadata": {},
   "source": [
    "### list遍历"
   ]
  },
  {
   "cell_type": "markdown",
   "metadata": {},
   "source": [
    "如同tuple遍历一样"
   ]
  },
  {
   "cell_type": "code",
   "execution_count": 3,
   "metadata": {},
   "outputs": [
    {
     "name": "stdout",
     "output_type": "stream",
     "text": [
      "0 ---> a\n",
      "1 ---> b\n",
      "2 ---> c\n"
     ]
    }
   ],
   "source": [
    "a = ['a','b','c']\n",
    "\n",
    "for i,item in enumerate(a):\n",
    "    print(i,'--->',item)"
   ]
  },
  {
   "cell_type": "markdown",
   "metadata": {},
   "source": [
    "### List comprehensions"
   ]
  },
  {
   "cell_type": "markdown",
   "metadata": {},
   "source": [
    "一些关于list元素遍历的运用，与for搭配"
   ]
  },
  {
   "cell_type": "code",
   "execution_count": 58,
   "metadata": {},
   "outputs": [
    {
     "name": "stdout",
     "output_type": "stream",
     "text": [
      "[1, 4, 9, 16]\n"
     ]
    },
    {
     "data": {
      "text/plain": [
       "[1, 4, 9, 16]"
      ]
     },
     "execution_count": 58,
     "metadata": {},
     "output_type": "execute_result"
    }
   ],
   "source": [
    "# list中的元素加倍\n",
    "a = [1,2,3,4]\n",
    "\n",
    "b = []\n",
    "\n",
    "for item in a:\n",
    "    b.append(item*item)\n",
    "\n",
    "print(b)\n",
    "\n",
    "# 对于上面的代码可以进一步简化\n",
    "\n",
    "[item*item for item in a]"
   ]
  },
  {
   "cell_type": "code",
   "execution_count": 60,
   "metadata": {},
   "outputs": [
    {
     "name": "stdout",
     "output_type": "stream",
     "text": [
      "[2, 4, 6]\n"
     ]
    },
    {
     "data": {
      "text/plain": [
       "[2, 4, 6]"
      ]
     },
     "execution_count": 60,
     "metadata": {},
     "output_type": "execute_result"
    }
   ],
   "source": [
    "# 只获取某些特定的元素\n",
    "\n",
    "list = [1,2,3,4,5,6]\n",
    "\n",
    "list1 = []\n",
    "\n",
    "for item in list:\n",
    "    if item % 2 == 0:\n",
    "        list1.append(item)\n",
    "\n",
    "print(list1)\n",
    "\n",
    "# 同样可以简化\n",
    "\n",
    "[item for item in list1 if item % 2 == 0]"
   ]
  },
  {
   "cell_type": "code",
   "execution_count": 69,
   "metadata": {},
   "outputs": [
    {
     "data": {
      "text/plain": [
       "0"
      ]
     },
     "execution_count": 69,
     "metadata": {},
     "output_type": "execute_result"
    }
   ],
   "source": [
    "list1 = [\"abc\",[2,3,(\"mohit\",\"the avengers\")],1,2,3]\n",
    "\n",
    "list1[1][2][1][4:]\n",
    "\n",
    "li = [(1,5),(9,0),(12,3),(5,4),(13,6),(1,1)]\n",
    "\n",
    "def sum1(item):\n",
    "    return(sum(item))\n",
    "\n",
    "li.sort(key=sum1)\n",
    "\n",
    "li\n",
    "\n",
    "\n",
    "li1 = [1,2,4,5,1,1,4,1,56]\n",
    "ind = []\n",
    "\n",
    "for index in range(len(li1)):\n",
    "    if li1[index] == 1:\n",
    "        ind.append(index)\n",
    "        \n",
    "ind\n",
    "\n",
    "li1.index(1)"
   ]
  },
  {
   "cell_type": "markdown",
   "metadata": {},
   "source": [
    "## 字典"
   ]
  },
  {
   "cell_type": "markdown",
   "metadata": {},
   "source": [
    "Dictionary_name = {key: value}\n",
    "\n",
    "类似于perl中的哈希\n",
    "\n",
    "python中字典特点:\n",
    "\n",
    "   key不能改变，key唯一性\n",
    "   \n",
    "   字典是可以改变的，你可以删除或更新"
   ]
  },
  {
   "cell_type": "markdown",
   "metadata": {},
   "source": [
    "### 创建字典"
   ]
  },
  {
   "cell_type": "markdown",
   "metadata": {},
   "source": [
    "使用{}构建字典"
   ]
  },
  {
   "cell_type": "code",
   "execution_count": 2,
   "metadata": {},
   "outputs": [
    {
     "name": "stdout",
     "output_type": "stream",
     "text": [
      "{}\n",
      "{'name': 'chenzhi', 'age': 27}\n"
     ]
    }
   ],
   "source": [
    "empty_dict = {}\n",
    "print(empty_dict)\n",
    "\n",
    "dict1 = {'name':'chenzhi','age':27}\n",
    "print(dict1)"
   ]
  },
  {
   "cell_type": "markdown",
   "metadata": {},
   "source": [
    "### 字典的操作"
   ]
  },
  {
   "cell_type": "markdown",
   "metadata": {},
   "source": [
    "#### 获取value值"
   ]
  },
  {
   "cell_type": "markdown",
   "metadata": {},
   "source": [
    "[] 使用key可以获取value"
   ]
  },
  {
   "cell_type": "code",
   "execution_count": 10,
   "metadata": {},
   "outputs": [
    {
     "name": "stdout",
     "output_type": "stream",
     "text": [
      "chenzhi\n"
     ]
    }
   ],
   "source": [
    "print(dict1['name'])"
   ]
  },
  {
   "cell_type": "markdown",
   "metadata": {},
   "source": [
    "#### 删除字典中的元素"
   ]
  },
  {
   "cell_type": "markdown",
   "metadata": {},
   "source": [
    "使用del关键字\n",
    "\n",
    "del dict[key]\n",
    "\n",
    "如果想删除整个字典使用\n",
    "del dict"
   ]
  },
  {
   "cell_type": "code",
   "execution_count": 12,
   "metadata": {},
   "outputs": [
    {
     "ename": "KeyError",
     "evalue": "'name'",
     "output_type": "error",
     "traceback": [
      "\u001b[0;31m---------------------------------------------------------------------------\u001b[0m",
      "\u001b[0;31mKeyError\u001b[0m                                  Traceback (most recent call last)",
      "\u001b[0;32m<ipython-input-12-140b738bd1d0>\u001b[0m in \u001b[0;36m<module>\u001b[0;34m\u001b[0m\n\u001b[0;32m----> 1\u001b[0;31m \u001b[0;32mdel\u001b[0m \u001b[0mdict1\u001b[0m\u001b[0;34m[\u001b[0m\u001b[0;34m'name'\u001b[0m\u001b[0;34m]\u001b[0m\u001b[0;34m\u001b[0m\u001b[0;34m\u001b[0m\u001b[0m\n\u001b[0m\u001b[1;32m      2\u001b[0m \u001b[0;34m\u001b[0m\u001b[0m\n\u001b[1;32m      3\u001b[0m \u001b[0mprint\u001b[0m\u001b[0;34m(\u001b[0m\u001b[0mdict1\u001b[0m\u001b[0;34m)\u001b[0m\u001b[0;34m\u001b[0m\u001b[0;34m\u001b[0m\u001b[0m\n\u001b[1;32m      4\u001b[0m \u001b[0;34m\u001b[0m\u001b[0m\n\u001b[1;32m      5\u001b[0m \u001b[0;32mdel\u001b[0m \u001b[0mdict1\u001b[0m\u001b[0;34m\u001b[0m\u001b[0;34m\u001b[0m\u001b[0m\n",
      "\u001b[0;31mKeyError\u001b[0m: 'name'"
     ]
    }
   ],
   "source": [
    "del dict1['name']\n",
    "\n",
    "print(dict1)\n",
    "\n",
    "del dict1  # 删除整个字典"
   ]
  },
  {
   "cell_type": "markdown",
   "metadata": {},
   "source": [
    "#### 更新字典中的value"
   ]
  },
  {
   "cell_type": "markdown",
   "metadata": {},
   "source": [
    "dict[key] = new_value"
   ]
  },
  {
   "cell_type": "code",
   "execution_count": 14,
   "metadata": {},
   "outputs": [
    {
     "name": "stdout",
     "output_type": "stream",
     "text": [
      "14\n",
      "30\n"
     ]
    }
   ],
   "source": [
    "dict1 = {'a':14,'b':34}\n",
    "print(dict1['a'])\n",
    "\n",
    "dict1['a'] = 30\n",
    "print(dict1['a'])"
   ]
  },
  {
   "cell_type": "markdown",
   "metadata": {},
   "source": [
    "#### 增加新的元素"
   ]
  },
  {
   "cell_type": "markdown",
   "metadata": {},
   "source": [
    "dict[new_key] = value"
   ]
  },
  {
   "cell_type": "code",
   "execution_count": 15,
   "metadata": {},
   "outputs": [
    {
     "name": "stdout",
     "output_type": "stream",
     "text": [
      "{'a': 30, 'b': 34, 'c': 22}\n"
     ]
    }
   ],
   "source": [
    "dict1['c'] = 22\n",
    "\n",
    "print(dict1)"
   ]
  },
  {
   "cell_type": "markdown",
   "metadata": {},
   "source": [
    "### 字典函数 "
   ]
  },
  {
   "cell_type": "markdown",
   "metadata": {},
   "source": [
    "#### len()"
   ]
  },
  {
   "cell_type": "code",
   "execution_count": null,
   "metadata": {},
   "outputs": [],
   "source": [
    "print(len(dict1))"
   ]
  },
  {
   "cell_type": "markdown",
   "metadata": {},
   "source": [
    "#### str()"
   ]
  },
  {
   "cell_type": "markdown",
   "metadata": {},
   "source": [
    "转换字典为一个字符串"
   ]
  },
  {
   "cell_type": "code",
   "execution_count": null,
   "metadata": {},
   "outputs": [],
   "source": [
    "print(str(dict1))"
   ]
  },
  {
   "cell_type": "markdown",
   "metadata": {},
   "source": [
    "#### dict()"
   ]
  },
  {
   "cell_type": "markdown",
   "metadata": {},
   "source": [
    "将特殊的元组或列表(每个元素为一对值)转换为字典"
   ]
  },
  {
   "cell_type": "code",
   "execution_count": 39,
   "metadata": {},
   "outputs": [
    {
     "name": "stdout",
     "output_type": "stream",
     "text": [
      "{'one': 1, 'two': 2, 'three': 3}\n"
     ]
    }
   ],
   "source": [
    "port = [[80,\"http\"],[20,\"ftp\"],[23,\"telnet\"],[443,\"https\"],[53,\"DNS\"]]\n",
    "\n",
    "dict(port)\n",
    "\n",
    "a = dict([('one', 1), ('two', 2), ('three', 3)])\n",
    "print(a)"
   ]
  },
  {
   "cell_type": "markdown",
   "metadata": {},
   "source": [
    "#### in 操作符"
   ]
  },
  {
   "cell_type": "markdown",
   "metadata": {},
   "source": [
    "用来检查key是否存在"
   ]
  },
  {
   "cell_type": "code",
   "execution_count": 29,
   "metadata": {},
   "outputs": [
    {
     "name": "stdout",
     "output_type": "stream",
     "text": [
      "the key exists\n",
      "the key doesn't exists\n"
     ]
    }
   ],
   "source": [
    "if 'one' in a:\n",
    "    print(\"the key exists\")\n",
    "    \n",
    "# 同时还有not in\n",
    "if 'four' not in a:\n",
    "    print(\"the key doesn't exists\")"
   ]
  },
  {
   "cell_type": "markdown",
   "metadata": {},
   "source": [
    "### 字典的方法"
   ]
  },
  {
   "cell_type": "markdown",
   "metadata": {},
   "source": [
    "#### copy()"
   ]
  },
  {
   "cell_type": "markdown",
   "metadata": {},
   "source": [
    "dict.copy()\n",
    "\n",
    "拷贝一个字典"
   ]
  },
  {
   "cell_type": "code",
   "execution_count": 40,
   "metadata": {},
   "outputs": [
    {
     "name": "stdout",
     "output_type": "stream",
     "text": [
      "{'one': 1, 'two': 2, 'three': 3}\n"
     ]
    }
   ],
   "source": [
    "b = a.copy()\n",
    "\n",
    "print(b)"
   ]
  },
  {
   "cell_type": "markdown",
   "metadata": {},
   "source": [
    "你可能会混淆赋值操作符和copy()方法,不同的地方在于赋值操作符产生的字典会和原字典是相同的内存地址，改变其中一个则另一个则也会改变，然而copy()方法会产生不同内存地址的字典，两个不会相互影响"
   ]
  },
  {
   "cell_type": "code",
   "execution_count": 33,
   "metadata": {},
   "outputs": [
    {
     "name": "stdout",
     "output_type": "stream",
     "text": [
      "139685914872720\n",
      "139685914872720\n",
      "{'one': 2, 'two': 2, 'three': 3}\n"
     ]
    }
   ],
   "source": [
    "c = a\n",
    "\n",
    "c['one'] = 2\n",
    "\n",
    "# 相同的内存地址\n",
    "print(id(a))\n",
    "print(id(c))\n",
    "\n",
    "print(a)"
   ]
  },
  {
   "cell_type": "markdown",
   "metadata": {},
   "source": [
    "#### get()"
   ]
  },
  {
   "cell_type": "markdown",
   "metadata": {},
   "source": [
    "dict.get(key, default=None)\n",
    "\n",
    "get()方法被用来避免KeyError,返回从字典中获取key的信息，如果key不存在，则返回默认值或自定义的字符串"
   ]
  },
  {
   "cell_type": "code",
   "execution_count": 43,
   "metadata": {},
   "outputs": [
    {
     "name": "stdout",
     "output_type": "stream",
     "text": [
      "not found\n"
     ]
    },
    {
     "data": {
      "text/plain": [
       "'not found'"
      ]
     },
     "execution_count": 43,
     "metadata": {},
     "output_type": "execute_result"
    }
   ],
   "source": [
    "if 'five' in b:\n",
    "    print(b['five'])\n",
    "else:\n",
    "    print('not found')\n",
    "\n",
    "# 使用get会使得更加简洁\n",
    "b.get('five',\"not found\")"
   ]
  },
  {
   "cell_type": "markdown",
   "metadata": {},
   "source": [
    "#### setdefault()"
   ]
  },
  {
   "cell_type": "markdown",
   "metadata": {},
   "source": [
    "dict.setdefault(key1, default=None)\n",
    "\n",
    "如果key1没找到，然后会将其增加到字典中,并设置默认值，如果不设置则是None"
   ]
  },
  {
   "cell_type": "code",
   "execution_count": 36,
   "metadata": {},
   "outputs": [
    {
     "data": {
      "text/plain": [
       "{'one': 2, 'two': 2, 'three': 3, 'six': 'unknown'}"
      ]
     },
     "execution_count": 36,
     "metadata": {},
     "output_type": "execute_result"
    }
   ],
   "source": [
    "c.setdefault('six','unknown')\n",
    "\n",
    "c"
   ]
  },
  {
   "cell_type": "markdown",
   "metadata": {},
   "source": [
    "#### has_key()"
   ]
  },
  {
   "cell_type": "markdown",
   "metadata": {},
   "source": [
    "dict.has_key(key)\n",
    "\n",
    "用来检查key是否存在，返回True/False\n",
    "\n",
    "目前python3已将这个函数删除，官方文档推荐使用in操作符"
   ]
  },
  {
   "cell_type": "code",
   "execution_count": 37,
   "metadata": {},
   "outputs": [
    {
     "ename": "AttributeError",
     "evalue": "'dict' object has no attribute 'has_key'",
     "output_type": "error",
     "traceback": [
      "\u001b[0;31m---------------------------------------------------------------------------\u001b[0m",
      "\u001b[0;31mAttributeError\u001b[0m                            Traceback (most recent call last)",
      "\u001b[0;32m<ipython-input-37-2940e8070064>\u001b[0m in \u001b[0;36m<module>\u001b[0;34m\u001b[0m\n\u001b[0;32m----> 1\u001b[0;31m \u001b[0mc\u001b[0m\u001b[0;34m.\u001b[0m\u001b[0mhas_key\u001b[0m\u001b[0;34m(\u001b[0m\u001b[0;34m'one'\u001b[0m\u001b[0;34m)\u001b[0m\u001b[0;34m\u001b[0m\u001b[0;34m\u001b[0m\u001b[0m\n\u001b[0m",
      "\u001b[0;31mAttributeError\u001b[0m: 'dict' object has no attribute 'has_key'"
     ]
    }
   ],
   "source": [
    "c.has_key('one')"
   ]
  },
  {
   "cell_type": "markdown",
   "metadata": {},
   "source": [
    "#### keys()"
   ]
  },
  {
   "cell_type": "markdown",
   "metadata": {},
   "source": [
    "获取字典中所有的key,返回一个dict_keys对象，可以使用list()函数将其转换为普通的list"
   ]
  },
  {
   "cell_type": "code",
   "execution_count": 44,
   "metadata": {},
   "outputs": [
    {
     "name": "stdout",
     "output_type": "stream",
     "text": [
      "dict_keys(['one', 'two', 'three', 'six'])\n",
      "one\n"
     ]
    }
   ],
   "source": [
    "print(c.keys())\n",
    "\n",
    "li = c.keys()\n",
    "\n",
    "print(list(li)[0])"
   ]
  },
  {
   "cell_type": "markdown",
   "metadata": {},
   "source": [
    "#### values()"
   ]
  },
  {
   "cell_type": "code",
   "execution_count": 45,
   "metadata": {},
   "outputs": [
    {
     "name": "stdout",
     "output_type": "stream",
     "text": [
      "dict_values([2, 2, 3, 'unknown'])\n"
     ]
    }
   ],
   "source": [
    "print(c.values())"
   ]
  },
  {
   "cell_type": "markdown",
   "metadata": {},
   "source": [
    "#### update()"
   ]
  },
  {
   "cell_type": "markdown",
   "metadata": {},
   "source": [
    "dict.update(dict2)\n",
    "\n",
    "向一个字典中增加另一个字典,如果dict2和dict中有相同的key,那么dict中的key将被替换"
   ]
  },
  {
   "cell_type": "code",
   "execution_count": 4,
   "metadata": {},
   "outputs": [
    {
     "name": "stdout",
     "output_type": "stream",
     "text": [
      "{22: 'SSH', 23: 'telnet', 80: 'Http', 53: 'DNS', 443: 'https'}\n"
     ]
    }
   ],
   "source": [
    "port1 = {22: \"SSH\", 23: \"telnet\", 80: \"Http\"}\n",
    "port2 = {53 :\"DNS\", 443 : \"https\"}\n",
    "\n",
    "port1.update(port2)\n",
    "print(port1)"
   ]
  },
  {
   "cell_type": "markdown",
   "metadata": {},
   "source": [
    "#### items()"
   ]
  },
  {
   "cell_type": "markdown",
   "metadata": {},
   "source": [
    "dict.items()\n",
    "\n",
    "返回元组(key, value)组成的list，实际返回的是dict_items对象，等价于python2中的iteritems,python3已经将其合并为items"
   ]
  },
  {
   "cell_type": "code",
   "execution_count": 6,
   "metadata": {},
   "outputs": [
    {
     "name": "stdout",
     "output_type": "stream",
     "text": [
      "['__and__', '__class__', '__contains__', '__delattr__', '__dir__', '__doc__', '__eq__', '__format__', '__ge__', '__getattribute__', '__gt__', '__hash__', '__init__', '__init_subclass__', '__iter__', '__le__', '__len__', '__lt__', '__ne__', '__new__', '__or__', '__rand__', '__reduce__', '__reduce_ex__', '__repr__', '__ror__', '__rsub__', '__rxor__', '__setattr__', '__sizeof__', '__str__', '__sub__', '__subclasshook__', '__xor__', 'isdisjoint']\n"
     ]
    }
   ],
   "source": [
    "port1.items()\n",
    "\n",
    "print(dir(port1.items()))"
   ]
  },
  {
   "cell_type": "markdown",
   "metadata": {},
   "source": [
    "#### clear()"
   ]
  },
  {
   "cell_type": "markdown",
   "metadata": {},
   "source": [
    "清空字典中的所有元素"
   ]
  },
  {
   "cell_type": "code",
   "execution_count": 50,
   "metadata": {},
   "outputs": [
    {
     "data": {
      "text/plain": [
       "{}"
      ]
     },
     "execution_count": 50,
     "metadata": {},
     "output_type": "execute_result"
    }
   ],
   "source": [
    "port1.clear()\n",
    "\n",
    "port1"
   ]
  },
  {
   "cell_type": "markdown",
   "metadata": {},
   "source": [
    "### Python dictionary with for loop"
   ]
  },
  {
   "cell_type": "code",
   "execution_count": 52,
   "metadata": {},
   "outputs": [
    {
     "name": "stdout",
     "output_type": "stream",
     "text": [
      "53\n",
      "443\n",
      "53 : DNS\n",
      "443 : https\n"
     ]
    }
   ],
   "source": [
    "#循环打印key\n",
    "for key in port2:\n",
    "    print(key)\n",
    "    \n",
    "#同时打印key value\n",
    "for k,v in port2.items():\n",
    "    print(k,\":\",v)"
   ]
  },
  {
   "cell_type": "code",
   "execution_count": null,
   "metadata": {},
   "outputs": [],
   "source": [
    "# 使用items() 可以同时输出key和value\n",
    "# 但是会占用内存储存产生的list,使用iteritems()可以节省内存\n",
    "\n",
    "# 不过python3将这个函数废除"
   ]
  },
  {
   "cell_type": "markdown",
   "metadata": {},
   "source": [
    "### practical program"
   ]
  },
  {
   "cell_type": "code",
   "execution_count": 64,
   "metadata": {},
   "outputs": [
    {
     "name": "stdout",
     "output_type": "stream",
     "text": [
      "{1: 'a', 2: 'b', 3: 'c', 4: 'd', 5: 'e'}\n",
      "{1: 'a', 2: 'b', 3: 'c', 4: 'd', 5: 'e'}\n",
      "<class 'zip'>\n",
      "{1: 'a', 2: 'b', 3: 'c'}\n"
     ]
    }
   ],
   "source": [
    "# 通过两个list创建字典\n",
    "list1 = [1, 2, 3, 4, 5]\n",
    "list2 = [\"a\", \"b\", \"c\",\"d\", \"e\"]\n",
    "dict1 = {}\n",
    "for index1 in range(len(list1)):\n",
    "    dict1[list1[index1]] = list2[index1]\n",
    "print(dict1)\n",
    "\n",
    "\n",
    "list1 = [1,2,3,4,5]\n",
    "list2 = [\"a\", \"b\", \"c\",\"d\", \"e\"]\n",
    "dict1 = dict([k for k in zip(list1,list2)])\n",
    "print(dict1)\n",
    "\n",
    "# zip() 函数用于联合两个list,返回一个由元组组成的list,\n",
    "# 返回的是一个zip对象\n",
    "\n",
    "list1 = [1,2,3]\n",
    "list2 = ['a','b','c']\n",
    "print(type(zip(list1,list2)))\n",
    "\n",
    "print(list(zip(list1,list2)))\n",
    "\n",
    "print(dict(list(zip(list1,list2))))"
   ]
  },
  {
   "cell_type": "markdown",
   "metadata": {},
   "source": [
    "### 字典排序"
   ]
  },
  {
   "cell_type": "code",
   "execution_count": 5,
   "metadata": {},
   "outputs": [
    {
     "data": {
      "text/plain": [
       "{'c': 5, 'b': 22, 'a': 12}"
      ]
     },
     "execution_count": 5,
     "metadata": {},
     "output_type": "execute_result"
    }
   ],
   "source": [
    "# 按key排序\n",
    "dict1 = {'a':12,'b':22,'c':5}\n",
    "dict(sorted(dict1.items(),key=lambda k:k[0],reverse=True))"
   ]
  },
  {
   "cell_type": "code",
   "execution_count": 6,
   "metadata": {},
   "outputs": [
    {
     "data": {
      "text/plain": [
       "{'b': 22, 'a': 12, 'c': 5}"
      ]
     },
     "execution_count": 6,
     "metadata": {},
     "output_type": "execute_result"
    }
   ],
   "source": [
    "# 按value排序\n",
    "dict(sorted(dict1.items(),key=lambda k:k[1],reverse=True))"
   ]
  },
  {
   "cell_type": "markdown",
   "metadata": {},
   "source": [
    "### 求字典最大value或最小value对应的key"
   ]
  },
  {
   "cell_type": "code",
   "execution_count": 10,
   "metadata": {},
   "outputs": [
    {
     "data": {
      "text/plain": [
       "'c'"
      ]
     },
     "execution_count": 10,
     "metadata": {},
     "output_type": "execute_result"
    }
   ],
   "source": [
    "# max\n",
    "max(dict1,key=dict1.get)\n",
    "\n",
    "# min\n",
    "min(dict1,key=dict1.get)"
   ]
  },
  {
   "cell_type": "markdown",
   "metadata": {},
   "source": [
    "### 字典的嵌套结构"
   ]
  },
  {
   "cell_type": "markdown",
   "metadata": {},
   "source": [
    "对于一些复杂的数据结构，我们需要在字典中嵌套其他数据结构，实现类似于perl中的哈希的嵌套"
   ]
  },
  {
   "cell_type": "code",
   "execution_count": 2,
   "metadata": {},
   "outputs": [
    {
     "name": "stdout",
     "output_type": "stream",
     "text": [
      "{'p': [1, 2, 3], 'h': [1, 2, 3]}\n",
      "{'p': [1, 2, 3], 'h': [1, 2, 3]}\n",
      "defaultdict(<class 'list'>, {'p': [1, 2, 3], 'h': [1, 2, 3]})\n"
     ]
    }
   ],
   "source": [
    "#　创建值为列表的字典\n",
    "data = [(\"p\", 1), (\"p\", 2), (\"p\", 3),\n",
    "  (\"h\", 1), (\"h\", 2), (\"h\", 3)]\n",
    "\n",
    "# 方式一: 使用类似perl中的方法\n",
    "\n",
    "dic = {}\n",
    "\n",
    "for i in data:\n",
    "    if i[0] not in dic:\n",
    "        dic[i[0]] = [i[1]] #比perl更直观，perl需要使用数组的引用\n",
    "    else:\n",
    "        dic[i[0]].append(i[1])\n",
    "        \n",
    "print(dic)\n",
    "\n",
    "# 方式二: 使用 setdefault\n",
    "\n",
    "dic1 = {}\n",
    "\n",
    "for i in data:\n",
    "    dic1.setdefault(i[0],[]).append(i[1])\n",
    "\n",
    "print(dic1)\n",
    "\n",
    "# 方式三: 使用 collections中的defaultdict\n",
    "\n",
    "import collections\n",
    "\n",
    "dic2 = collections.defaultdict(list)\n",
    "\n",
    "for i in data:\n",
    "    dic2[i[0]].append(i[1])\n",
    "    \n",
    "print(dic2)"
   ]
  },
  {
   "cell_type": "code",
   "execution_count": null,
   "metadata": {},
   "outputs": [],
   "source": []
  }
 ],
 "metadata": {
  "kernelspec": {
   "display_name": "Python 3",
   "language": "python",
   "name": "python3"
  },
  "language_info": {
   "codemirror_mode": {
    "name": "ipython",
    "version": 3
   },
   "file_extension": ".py",
   "mimetype": "text/x-python",
   "name": "python",
   "nbconvert_exporter": "python",
   "pygments_lexer": "ipython3",
   "version": "3.7.5"
  },
  "toc": {
   "base_numbering": 1,
   "nav_menu": {},
   "number_sections": true,
   "sideBar": true,
   "skip_h1_title": false,
   "title_cell": "Table of Contents",
   "title_sidebar": "Contents",
   "toc_cell": false,
   "toc_position": {
    "height": "calc(100% - 180px)",
    "left": "10px",
    "top": "150px",
    "width": "261.188px"
   },
   "toc_section_display": true,
   "toc_window_display": false
  }
 },
 "nbformat": 4,
 "nbformat_minor": 4
}
