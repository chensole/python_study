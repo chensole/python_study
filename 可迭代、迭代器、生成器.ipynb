{
 "cells": [
  {
   "cell_type": "markdown",
   "metadata": {},
   "source": [
    "# 可迭代性、迭代器、生成器"
   ]
  },
  {
   "cell_type": "markdown",
   "metadata": {},
   "source": [
    "大多数基本对象可以使用for语句来循环遍历\n",
    "\n",
    "迭代器的使用遍及Python，风格统一。实现上，for语句调用了容器对象的iter()函数。这个函数返回定义了遍历容器元素的__next()\\__方法的迭代器对象。当没有剩余元素遍历时，\\__next()\\__方法抛出一个指示for循环终止的StopIteration异常。可以使用内建函数next()来调用__next()\\__方法"
   ]
  },
  {
   "cell_type": "markdown",
   "metadata": {},
   "source": [
    "## 迭代器协议"
   ]
  },
  {
   "cell_type": "markdown",
   "metadata": {},
   "source": [
    "迭代器协议（iterator protocol）是指要实现对象的 \\__iter()__ 和 next() 方法（注意：Python3 要实现 \\__next__() 方法），其中，\\__iter()__ 方法返回迭代器对象本身，next() 方法返回容器的下一个元素，在没有后续元素时抛出 StopIteration 异常\n",
    "\n",
    "有 \\__iter__ 方法但是没有 next 方法，不是迭代器"
   ]
  },
  {
   "cell_type": "markdown",
   "metadata": {},
   "source": [
    "## "
   ]
  },
  {
   "cell_type": "markdown",
   "metadata": {},
   "source": [
    "## 可迭代性"
   ]
  },
  {
   "cell_type": "markdown",
   "metadata": {},
   "source": [
    "python标准库中存在着一些可迭代对象，如list tuple dict set str等\n",
    "可以对这些迭代对象，进行for-in等迭代操作"
   ]
  },
  {
   "cell_type": "code",
   "execution_count": 1,
   "metadata": {},
   "outputs": [
    {
     "name": "stdout",
     "output_type": "stream",
     "text": [
      "h\n",
      "e\n",
      "l\n",
      "l\n",
      "o\n",
      " \n",
      "w\n",
      "o\n",
      "r\n",
      "l\n",
      "d\n"
     ]
    }
   ],
   "source": [
    "for items in 'hello world':\n",
    "    print(items)"
   ]
  },
  {
   "cell_type": "markdown",
   "metadata": {},
   "source": [
    "### containers"
   ]
  },
  {
   "cell_type": "markdown",
   "metadata": {},
   "source": [
    "**containers是一个存储多个元素的数据结构，python中常见的有:**\n",
    "\n",
    "list,deque,..\n",
    "set,frozenstes,...\n",
    "dict,defaultdict,OrderedDict,Counter,...\n",
    "tuple,namedtuple,..\n",
    "str\n",
    "\n",
    "这种数据结构类似于真实生活中的容器，容器中的元素可以逐个地迭代获取，可以用in, not in关键字判断元素是否包含在容器中\n",
    "\n",
    "技术上，当一个对象能够检测是否包含某个元素，那么这个对象就是一个容器。你能进行成员检测，如list,sets,tuple等"
   ]
  },
  {
   "cell_type": "code",
   "execution_count": 5,
   "metadata": {},
   "outputs": [
    {
     "ename": "AssertionError",
     "evalue": "",
     "output_type": "error",
     "traceback": [
      "\u001b[0;31m---------------------------------------------------------------------------\u001b[0m",
      "\u001b[0;31mAssertionError\u001b[0m                            Traceback (most recent call last)",
      "\u001b[0;32m<ipython-input-5-beb6a14a049e>\u001b[0m in \u001b[0;36m<module>\u001b[0;34m\u001b[0m\n\u001b[1;32m      2\u001b[0m \u001b[0;32massert\u001b[0m \u001b[0;36m1\u001b[0m \u001b[0;32min\u001b[0m \u001b[0;34m[\u001b[0m\u001b[0;36m1\u001b[0m\u001b[0;34m,\u001b[0m\u001b[0;36m2\u001b[0m\u001b[0;34m,\u001b[0m\u001b[0;36m3\u001b[0m\u001b[0;34m]\u001b[0m\u001b[0;34m\u001b[0m\u001b[0;34m\u001b[0m\u001b[0m\n\u001b[1;32m      3\u001b[0m \u001b[0;32massert\u001b[0m \u001b[0;36m4\u001b[0m \u001b[0;32mnot\u001b[0m \u001b[0;32min\u001b[0m \u001b[0;34m[\u001b[0m\u001b[0;36m1\u001b[0m\u001b[0;34m,\u001b[0m \u001b[0;36m2\u001b[0m\u001b[0;34m,\u001b[0m \u001b[0;36m3\u001b[0m\u001b[0;34m]\u001b[0m\u001b[0;34m\u001b[0m\u001b[0;34m\u001b[0m\u001b[0m\n\u001b[0;32m----> 4\u001b[0;31m \u001b[0;32massert\u001b[0m \u001b[0;36m4\u001b[0m \u001b[0;32min\u001b[0m \u001b[0;34m[\u001b[0m\u001b[0;36m1\u001b[0m\u001b[0;34m,\u001b[0m\u001b[0;36m2\u001b[0m\u001b[0;34m,\u001b[0m\u001b[0;36m3\u001b[0m\u001b[0;34m]\u001b[0m\u001b[0;34m\u001b[0m\u001b[0;34m\u001b[0m\u001b[0m\n\u001b[0m",
      "\u001b[0;31mAssertionError\u001b[0m: "
     ]
    }
   ],
   "source": [
    "#  assert（断言）用于判断一个表达式，在表达式条件为 false 的时候触发异常\n",
    "# 语法: assert expression\n",
    "\n",
    "assert 1 in [1,2,3]\n",
    "assert 4 not in [1, 2, 3]\n"
   ]
  },
  {
   "cell_type": "code",
   "execution_count": 7,
   "metadata": {},
   "outputs": [],
   "source": [
    "# 字典成员检查key\n",
    "d = {1:'foo',2:'bar',3:'qux'}\n",
    "\n",
    "\n",
    "assert 1 in d\n"
   ]
  },
  {
   "cell_type": "code",
   "execution_count": 8,
   "metadata": {},
   "outputs": [],
   "source": [
    "# 检查字符串是否包含子串\n",
    "s = \"foobar\"\n",
    "\n",
    "assert 'b' in s"
   ]
  },
  {
   "cell_type": "markdown",
   "metadata": {},
   "source": [
    "即使大多数containers提供一个方式获取它所包含的元素，但这并不是容器本身提供的能力，而是可迭代对象赋予了容器这种能力"
   ]
  },
  {
   "cell_type": "markdown",
   "metadata": {},
   "source": [
    "## 可迭代对象"
   ]
  },
  {
   "cell_type": "markdown",
   "metadata": {},
   "source": [
    "如上所述，大多数容器是可迭代的，但事实上许多东西都是可迭代的，例如打开的一个文件等等，其实容器通常代表着有限，一个可迭代代表着无限的数据源\n",
    "\n",
    "可迭代不是任何对象，也不仅仅是一个数据结构，而是它们能返回一个迭代器，听着有些困惑，但这是可迭代和迭代器最本质的区别\n",
    "\n",
    "list,tuple,dict,str 是有可迭代属性「惰性循环」, 但如果需要转化成可迭代对象，可以用 iter () 来转换"
   ]
  },
  {
   "cell_type": "markdown",
   "metadata": {},
   "source": [
    "含有 \\__iter__() 方法或 \\__getitem__() 方法的对象称之为可迭代对象"
   ]
  },
  {
   "cell_type": "markdown",
   "metadata": {},
   "source": [
    "我们可以使用 Python 内置的 hasattr() 函数来判断一个对象是不是可迭代的"
   ]
  },
  {
   "cell_type": "code",
   "execution_count": 2,
   "metadata": {},
   "outputs": [
    {
     "data": {
      "text/plain": [
       "True"
      ]
     },
     "execution_count": 2,
     "metadata": {},
     "output_type": "execute_result"
    }
   ],
   "source": [
    "hasattr(123, '__iter__')\n",
    "hasattr('abc', '__getitem__')"
   ]
  },
  {
   "cell_type": "code",
   "execution_count": 14,
   "metadata": {},
   "outputs": [
    {
     "name": "stdout",
     "output_type": "stream",
     "text": [
      "<list_iterator object at 0x7fbb2d5acb10>\n"
     ]
    },
    {
     "data": {
      "text/plain": [
       "3"
      ]
     },
     "execution_count": 14,
     "metadata": {},
     "output_type": "execute_result"
    }
   ],
   "source": [
    "# x是可迭代的，y是迭代器的实例，从可迭代的x中获得元素\n",
    "x = [1, 2, 3]\n",
    "\n",
    "# iter() 转换为可迭代对象\n",
    "y = iter(x)\n",
    "print(y)\n",
    "\n",
    "next(y)\n",
    "next(y)\n",
    "next(y)"
   ]
  },
  {
   "cell_type": "markdown",
   "metadata": {},
   "source": [
    "### 可迭代对象转换为迭代器"
   ]
  },
  {
   "cell_type": "markdown",
   "metadata": {},
   "source": [
    "\\__iter__()会将一个可迭代对象转换为迭代器，使其可以调用next()方法"
   ]
  },
  {
   "cell_type": "code",
   "execution_count": 10,
   "metadata": {},
   "outputs": [
    {
     "data": {
      "text/plain": [
       "'3'"
      ]
     },
     "execution_count": 10,
     "metadata": {},
     "output_type": "execute_result"
    }
   ],
   "source": [
    "# 判断字符串有无__next__()方法\n",
    "s = '123'\n",
    "if not hasattr(s,'__next__'):\n",
    "    s = iter(s)\n",
    "    \n",
    "next(s)\n",
    "next(s)\n",
    "next(s)"
   ]
  },
  {
   "cell_type": "markdown",
   "metadata": {},
   "source": [
    "## 迭代器"
   ]
  },
  {
   "cell_type": "markdown",
   "metadata": {},
   "source": [
    "任何对象有__next__()方法都是一个迭代器\n",
    "\n",
    "迭代器存储了计算规则，知道下一个数是什么，因此迭代器是一个\"数值工厂\"\n",
    "\n",
    "所有的itertools函数返回一个迭代器\n",
    "\n",
    "可迭代对象没有__next__()方法"
   ]
  },
  {
   "cell_type": "code",
   "execution_count": 20,
   "metadata": {},
   "outputs": [
    {
     "data": {
      "text/plain": [
       "13"
      ]
     },
     "execution_count": 20,
     "metadata": {},
     "output_type": "execute_result"
    }
   ],
   "source": [
    "# 产生无限序列\n",
    "from itertools import count\n",
    "\n",
    "counter = count(start=13)\n",
    "\n",
    "next(counter)"
   ]
  },
  {
   "cell_type": "code",
   "execution_count": 26,
   "metadata": {},
   "outputs": [
    {
     "data": {
      "text/plain": [
       "'red'"
      ]
     },
     "execution_count": 26,
     "metadata": {},
     "output_type": "execute_result"
    }
   ],
   "source": [
    "# 从有限序列中产生无限序列\n",
    "from itertools import cycle\n",
    "colors = cycle(['red','white','blue'])\n",
    "next(colors)"
   ]
  },
  {
   "cell_type": "code",
   "execution_count": 27,
   "metadata": {},
   "outputs": [
    {
     "name": "stdout",
     "output_type": "stream",
     "text": [
      "white\n",
      "blue\n",
      "red\n",
      "white\n"
     ]
    }
   ],
   "source": [
    "# 从无限序列中产生有限序列\n",
    "from itertools import islice\n",
    "limited = islice(colors,0,4)\n",
    "for x in limited:\n",
    "    print(x)"
   ]
  },
  {
   "cell_type": "code",
   "execution_count": 30,
   "metadata": {},
   "outputs": [
    {
     "data": {
      "text/plain": [
       "[1, 1, 2, 3, 5, 8, 13, 21, 34, 55]"
      ]
     },
     "execution_count": 30,
     "metadata": {},
     "output_type": "execute_result"
    }
   ],
   "source": [
    "# 定义一个迭代器\n",
    "\n",
    "class fib:\n",
    "    def __init__(self):\n",
    "        self.prev = 0\n",
    "        self.curr = 1\n",
    "        \n",
    "    def __iter__(self):\n",
    "        return self\n",
    "    \n",
    "    def __next__(self):\n",
    "        value = self.curr\n",
    "        self.curr += self.prev\n",
    "        self.prev = value\n",
    "        return value\n",
    "f = fib()\n",
    "\n",
    "list(islice(f,0,10))"
   ]
  },
  {
   "cell_type": "markdown",
   "metadata": {},
   "source": [
    "可以自定义可迭代的类,在类的实现中，我们定义了 __iter__ 方法，它返回对象本身，这个方法会在遍历时被 Python 内置的 iter() 函数调用，返回一个迭代器。类中的 next() 方法用于返回容器的下一个元素，当使用 for 循环进行遍历的时候，就会使用 Python 内置的 next() 函数调用对象的 next 方法（在 Python3 中是 __next__ 方法）对迭代器进行遍历"
   ]
  },
  {
   "cell_type": "code",
   "execution_count": 12,
   "metadata": {},
   "outputs": [
    {
     "name": "stdout",
     "output_type": "stream",
     "text": [
      "gnirts"
     ]
    }
   ],
   "source": [
    "# 自定义函数实现字符串翻转\n",
    "class string_reverse:\n",
    "    \n",
    "    def __init__(self,data):\n",
    "        self.data = data\n",
    "        self.index = len(data)\n",
    "    \n",
    "    # __iter__方法返回一个具有__next__方法的对象\n",
    "    def __iter__(self):\n",
    "        return self\n",
    "    \n",
    "    def __next__(self):\n",
    "        if self.index == 0:\n",
    "            raise StopIteration\n",
    "        self.index = self.index - 1\n",
    "        return self.data[self.index]\n",
    "\n",
    "a = string_reverse('string')\n",
    "for i in a:\n",
    "    print(i,end='')"
   ]
  },
  {
   "cell_type": "markdown",
   "metadata": {},
   "source": [
    "迭代器类似于惰性工厂"
   ]
  },
  {
   "cell_type": "markdown",
   "metadata": {},
   "source": [
    "## 生成器"
   ]
  },
  {
   "cell_type": "markdown",
   "metadata": {},
   "source": [
    "生成器是迭代器中的特例，生成器也能写出上面的fib()类，但是生成器的语法避免了使用__iter__()和__next__()方法，语法更加精简\n",
    "\n",
    "生成器也是一个迭代器\n",
    "生成器也是一个惰性的"
   ]
  },
  {
   "cell_type": "code",
   "execution_count": 38,
   "metadata": {},
   "outputs": [
    {
     "data": {
      "text/plain": [
       "2"
      ]
     },
     "execution_count": 38,
     "metadata": {},
     "output_type": "execute_result"
    }
   ],
   "source": [
    "def fib1():\n",
    "    prev,curr = 0,1\n",
    "    while True:\n",
    "        yield curr\n",
    "        prev,curr = curr,prev+curr\n",
    "        \n",
    "# 生成器初始化，这时候函数体内代码并未执行\n",
    "f = fib1() \n",
    "\n",
    "# 使用next()方法后，函数体代码开始运行,当执行到yield curr时返回curr值，退出程序\n",
    "next(f)\n",
    "\n",
    "# 再次代用next() 方法，恢复到之前的状态，即从prev,curr = curr,prev+curr继续执行，\n",
    "# 接着进入下一次循环至yield退出程序\n",
    "next(f)\n",
    "\n",
    "# 再一次调用next()\n",
    "next(f)\n",
    "\n",
    "# ...."
   ]
  },
  {
   "cell_type": "markdown",
   "metadata": {},
   "source": [
    "### 生成器类型"
   ]
  },
  {
   "cell_type": "markdown",
   "metadata": {},
   "source": [
    "python中有两种生成器:\n",
    "\n",
    "1. 生成器函数\n",
    "    任何函数中带有yield关键字都是生成器函数\n",
    "    \n",
    "2. 由生成器表达式构成的生成器\n",
    "    \n",
    "    生成器表达式，一种等价于列表解析(list comprehension)的表达式,实际上返回的不是生成器对象，对于大规模数据不适合，因此需要将其转为生成器\n",
    "    \n",
    "列表解析（list comprehension）提供了一种优雅的生成列表的方法，能用一行代码代替十几行代码，而且不损失任何可读性。而且，性能还快很多很多  "
   ]
  },
  {
   "cell_type": "markdown",
   "metadata": {},
   "source": [
    "语法: [expression for iter_val in iterable if cond_expr]\n",
    "\n",
    "语法中expression定义了返回值\n",
    "\n",
    "本质上就是基于一个可迭代对象生成另一个可迭代对象"
   ]
  },
  {
   "cell_type": "code",
   "execution_count": 49,
   "metadata": {},
   "outputs": [
    {
     "name": "stdout",
     "output_type": "stream",
     "text": [
      "<class 'list'>\n"
     ]
    }
   ],
   "source": [
    "# 列表生成器表达式\n",
    "numbers = [1, 2, 3, 4, 5, 6]\n",
    "num = [x*x for x in numbers]\n",
    "\n",
    "print(type(num))"
   ]
  },
  {
   "cell_type": "code",
   "execution_count": 40,
   "metadata": {},
   "outputs": [
    {
     "data": {
      "text/plain": [
       "{1: 1, 2: 4, 3: 9, 4: 16, 5: 25, 6: 36}"
      ]
     },
     "execution_count": 40,
     "metadata": {},
     "output_type": "execute_result"
    }
   ],
   "source": [
    "# 字典生成式表达式\n",
    "{x:x*x for x in numbers}"
   ]
  },
  {
   "cell_type": "code",
   "execution_count": 43,
   "metadata": {},
   "outputs": [
    {
     "name": "stdout",
     "output_type": "stream",
     "text": [
      "<class 'generator'>\n"
     ]
    },
    {
     "data": {
      "text/plain": [
       "4"
      ]
     },
     "execution_count": 43,
     "metadata": {},
     "output_type": "execute_result"
    }
   ],
   "source": [
    "# 可以使用()将生成器表达式转换为一个生成器然后使用,可以节省内存\n",
    "lazy = (x*x for x in numbers)\n",
    "\n",
    "print(type(lazy)) # 由列表\n",
    "\n",
    "next(lazy)\n",
    "next(lazy)"
   ]
  },
  {
   "cell_type": "code",
   "execution_count": 48,
   "metadata": {
    "collapsed": true
   },
   "outputs": [
    {
     "name": "stdout",
     "output_type": "stream",
     "text": [
      "<generator object iter1 at 0x7fbb2ccd6d50>\n",
      "Help on list object:\n",
      "\n",
      "class list(object)\n",
      " |  list(iterable=(), /)\n",
      " |  \n",
      " |  Built-in mutable sequence.\n",
      " |  \n",
      " |  If no argument is given, the constructor creates a new empty list.\n",
      " |  The argument must be an iterable if specified.\n",
      " |  \n",
      " |  Methods defined here:\n",
      " |  \n",
      " |  __add__(self, value, /)\n",
      " |      Return self+value.\n",
      " |  \n",
      " |  __contains__(self, key, /)\n",
      " |      Return key in self.\n",
      " |  \n",
      " |  __delitem__(self, key, /)\n",
      " |      Delete self[key].\n",
      " |  \n",
      " |  __eq__(self, value, /)\n",
      " |      Return self==value.\n",
      " |  \n",
      " |  __ge__(self, value, /)\n",
      " |      Return self>=value.\n",
      " |  \n",
      " |  __getattribute__(self, name, /)\n",
      " |      Return getattr(self, name).\n",
      " |  \n",
      " |  __getitem__(...)\n",
      " |      x.__getitem__(y) <==> x[y]\n",
      " |  \n",
      " |  __gt__(self, value, /)\n",
      " |      Return self>value.\n",
      " |  \n",
      " |  __iadd__(self, value, /)\n",
      " |      Implement self+=value.\n",
      " |  \n",
      " |  __imul__(self, value, /)\n",
      " |      Implement self*=value.\n",
      " |  \n",
      " |  __init__(self, /, *args, **kwargs)\n",
      " |      Initialize self.  See help(type(self)) for accurate signature.\n",
      " |  \n",
      " |  __iter__(self, /)\n",
      " |      Implement iter(self).\n",
      " |  \n",
      " |  __le__(self, value, /)\n",
      " |      Return self<=value.\n",
      " |  \n",
      " |  __len__(self, /)\n",
      " |      Return len(self).\n",
      " |  \n",
      " |  __lt__(self, value, /)\n",
      " |      Return self<value.\n",
      " |  \n",
      " |  __mul__(self, value, /)\n",
      " |      Return self*value.\n",
      " |  \n",
      " |  __ne__(self, value, /)\n",
      " |      Return self!=value.\n",
      " |  \n",
      " |  __repr__(self, /)\n",
      " |      Return repr(self).\n",
      " |  \n",
      " |  __reversed__(self, /)\n",
      " |      Return a reverse iterator over the list.\n",
      " |  \n",
      " |  __rmul__(self, value, /)\n",
      " |      Return value*self.\n",
      " |  \n",
      " |  __setitem__(self, key, value, /)\n",
      " |      Set self[key] to value.\n",
      " |  \n",
      " |  __sizeof__(self, /)\n",
      " |      Return the size of the list in memory, in bytes.\n",
      " |  \n",
      " |  append(self, object, /)\n",
      " |      Append object to the end of the list.\n",
      " |  \n",
      " |  clear(self, /)\n",
      " |      Remove all items from list.\n",
      " |  \n",
      " |  copy(self, /)\n",
      " |      Return a shallow copy of the list.\n",
      " |  \n",
      " |  count(self, value, /)\n",
      " |      Return number of occurrences of value.\n",
      " |  \n",
      " |  extend(self, iterable, /)\n",
      " |      Extend list by appending elements from the iterable.\n",
      " |  \n",
      " |  index(self, value, start=0, stop=9223372036854775807, /)\n",
      " |      Return first index of value.\n",
      " |      \n",
      " |      Raises ValueError if the value is not present.\n",
      " |  \n",
      " |  insert(self, index, object, /)\n",
      " |      Insert object before index.\n",
      " |  \n",
      " |  pop(self, index=-1, /)\n",
      " |      Remove and return item at index (default last).\n",
      " |      \n",
      " |      Raises IndexError if list is empty or index is out of range.\n",
      " |  \n",
      " |  remove(self, value, /)\n",
      " |      Remove first occurrence of value.\n",
      " |      \n",
      " |      Raises ValueError if the value is not present.\n",
      " |  \n",
      " |  reverse(self, /)\n",
      " |      Reverse *IN PLACE*.\n",
      " |  \n",
      " |  sort(self, /, *, key=None, reverse=False)\n",
      " |      Stable sort *IN PLACE*.\n",
      " |  \n",
      " |  ----------------------------------------------------------------------\n",
      " |  Static methods defined here:\n",
      " |  \n",
      " |  __new__(*args, **kwargs) from builtins.type\n",
      " |      Create and return a new object.  See help(type) for accurate signature.\n",
      " |  \n",
      " |  ----------------------------------------------------------------------\n",
      " |  Data and other attributes defined here:\n",
      " |  \n",
      " |  __hash__ = None\n",
      "\n",
      "None\n"
     ]
    }
   ],
   "source": [
    "def iter1(num):\n",
    "    for x in range(num):\n",
    "        yield x \n",
    "\n",
    "it = iter1(10)\n",
    "print(it)\n",
    "\n",
    "list(iter1(10))\n",
    "\n",
    "print(help(list()))"
   ]
  },
  {
   "cell_type": "code",
   "execution_count": null,
   "metadata": {},
   "outputs": [],
   "source": [
    "# 生成器读取大文件\n",
    "def readInChunks(fileObj, chunkSize=4096):\n",
    "    \"\"\"\n",
    "    Lazy function to read a file piece by piece.\n",
    "    Default chunk size: 4kB.\n",
    "    \"\"\"\n",
    "    while 1:\n",
    "        data = fileObj.read(chunkSize) # 每次读取4K内容\n",
    "        if not data:\n",
    "            break\n",
    "        yield data　# yield keyword\n",
    "\n",
    "f = open('bigFile')\n",
    "for chuck in readInChunks(f):\n",
    "    #do_something(chunk)\n",
    "f.close()"
   ]
  }
 ],
 "metadata": {
  "kernelspec": {
   "display_name": "Python 3",
   "language": "python",
   "name": "python3"
  },
  "language_info": {
   "codemirror_mode": {
    "name": "ipython",
    "version": 3
   },
   "file_extension": ".py",
   "mimetype": "text/x-python",
   "name": "python",
   "nbconvert_exporter": "python",
   "pygments_lexer": "ipython3",
   "version": "3.7.5"
  },
  "toc": {
   "base_numbering": 1,
   "nav_menu": {},
   "number_sections": true,
   "sideBar": true,
   "skip_h1_title": false,
   "title_cell": "Table of Contents",
   "title_sidebar": "Contents",
   "toc_cell": false,
   "toc_position": {},
   "toc_section_display": true,
   "toc_window_display": false
  }
 },
 "nbformat": 4,
 "nbformat_minor": 4
}
