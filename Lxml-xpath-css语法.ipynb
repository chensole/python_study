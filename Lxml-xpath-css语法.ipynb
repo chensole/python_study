{
 "cells": [
  {
   "cell_type": "markdown",
   "metadata": {},
   "source": [
    "# python lxml"
   ]
  },
  {
   "cell_type": "markdown",
   "metadata": {},
   "source": [
    "lxml库是一个含有丰富特性的、很容易解析XML/HTML文档的库\n",
    "\n",
    "etree._Element类代表树中的节点\n",
    "etree._ElementTree类代表树中的树"
   ]
  },
  {
   "cell_type": "markdown",
   "metadata": {},
   "source": [
    "## 创建HTML元素"
   ]
  },
  {
   "cell_type": "markdown",
   "metadata": {},
   "source": [
    "使用lxml库中的etree模块可以创建HTML元素，元素也被称为节点(Nodes)\n",
    "\n",
    "etree.Element() 返回一个lxml.etree._Element对象，本质是个list"
   ]
  },
  {
   "cell_type": "code",
   "execution_count": 2,
   "metadata": {},
   "outputs": [
    {
     "name": "stdout",
     "output_type": "stream",
     "text": [
      "<html>\n",
      "  <head/>\n",
      "  <title/>\n",
      "  <body/>\n",
      "</html>\n",
      "\n"
     ]
    }
   ],
   "source": [
    "from lxml import etree\n",
    "\n",
    "root_elem = etree.Element('html')\n",
    "etree.SubElement(root_elem,'head')\n",
    "etree.SubElement(root_elem,'title')\n",
    "etree.SubElement(root_elem,'body')\n",
    "\n",
    "print(etree.tostring(root_elem,pretty_print=True).decode('utf-8'))"
   ]
  },
  {
   "cell_type": "markdown",
   "metadata": {},
   "source": [
    "HTML元素本质上是有list组成，我们可以像操作list一样使用索引获取根节点内的子节点,返回'lxml.etree._Element'对象"
   ]
  },
  {
   "cell_type": "code",
   "execution_count": 12,
   "metadata": {},
   "outputs": [
    {
     "name": "stdout",
     "output_type": "stream",
     "text": [
      "<class 'lxml.etree._Element'>\n",
      "head\n",
      "head\n",
      "title\n",
      "body\n"
     ]
    }
   ],
   "source": [
    "# 获取根节点中的第一个子节点\n",
    "html = root_elem[0]\n",
    "print(type(html))\n",
    "\n",
    "# 使用tag属性获得标签\n",
    "print(html.tag) \n",
    "\n",
    "# 子节点遍历\n",
    "for item in root_elem:\n",
    "    print(item.tag)"
   ]
  },
  {
   "cell_type": "markdown",
   "metadata": {},
   "source": [
    "## 检验HTML元素有效性"
   ]
  },
  {
   "cell_type": "markdown",
   "metadata": {},
   "source": [
    "使用iselement()函数检验给定的元素是否有效,返回True/False"
   ]
  },
  {
   "cell_type": "code",
   "execution_count": 14,
   "metadata": {},
   "outputs": [
    {
     "name": "stdout",
     "output_type": "stream",
     "text": [
      "True\n"
     ]
    }
   ],
   "source": [
    "print(etree.iselement(root_elem))"
   ]
  },
  {
   "cell_type": "markdown",
   "metadata": {},
   "source": [
    "## 使用HTML元素的属性"
   ]
  },
  {
   "cell_type": "markdown",
   "metadata": {},
   "source": [
    "### 创建元素的属性"
   ]
  },
  {
   "cell_type": "markdown",
   "metadata": {},
   "source": [
    "XML Element的属性格式为Python的dict。可以通过get/set方法进行设置或获取操作"
   ]
  },
  {
   "cell_type": "markdown",
   "metadata": {},
   "source": [
    "#### 创建元素时定义属性"
   ]
  },
  {
   "cell_type": "code",
   "execution_count": 4,
   "metadata": {},
   "outputs": [
    {
     "name": "stdout",
     "output_type": "stream",
     "text": [
      "<html lang=\"en_GB\"/>\n"
     ]
    }
   ],
   "source": [
    "html_elem = etree.Element('html',lang='en_GB')\n",
    "\n",
    "print(etree.tostring(html_elem).decode('utf-8'))"
   ]
  },
  {
   "cell_type": "markdown",
   "metadata": {},
   "source": [
    "#### set方法追加属性"
   ]
  },
  {
   "cell_type": "code",
   "execution_count": 5,
   "metadata": {},
   "outputs": [
    {
     "name": "stdout",
     "output_type": "stream",
     "text": [
      "<html lang=\"en_GB\" age=\"24\"/>\n"
     ]
    }
   ],
   "source": [
    "html_elem.set('age','24')\n",
    "\n",
    "print(etree.tostring(html_elem).decode('utf-8'))"
   ]
  },
  {
   "cell_type": "markdown",
   "metadata": {},
   "source": [
    "### 获取元素属性"
   ]
  },
  {
   "cell_type": "markdown",
   "metadata": {},
   "source": [
    "使用get()方法获取属性,若属性不存在则返回None"
   ]
  },
  {
   "cell_type": "code",
   "execution_count": 21,
   "metadata": {},
   "outputs": [
    {
     "name": "stdout",
     "output_type": "stream",
     "text": [
      "en_GB\n",
      "24\n"
     ]
    }
   ],
   "source": [
    "print(html_elem.get('lang'))\n",
    "\n",
    "print(html_elem.get('age'))"
   ]
  },
  {
   "cell_type": "markdown",
   "metadata": {},
   "source": [
    "### 遍历全部属性"
   ]
  },
  {
   "cell_type": "code",
   "execution_count": 6,
   "metadata": {},
   "outputs": [
    {
     "name": "stdout",
     "output_type": "stream",
     "text": [
      "lang en_GB\n",
      "age 24\n"
     ]
    }
   ],
   "source": [
    "for attribute,value in html_elem.items():\n",
    "    print(attribute,value)"
   ]
  },
  {
   "cell_type": "markdown",
   "metadata": {},
   "source": [
    "## 创建子元素"
   ]
  },
  {
   "cell_type": "markdown",
   "metadata": {},
   "source": [
    "子元素即子节点，使用etree.SubElement()方法在根节点上创建，前提是先定义根节点\n",
    "\n",
    "SubElement(_parent,\n",
    "            _tag, \n",
    "            attrib=None, \n",
    "            nsmap=None, \n",
    "            **_extra)"
   ]
  },
  {
   "cell_type": "code",
   "execution_count": 28,
   "metadata": {},
   "outputs": [
    {
     "data": {
      "text/plain": [
       "<Element head at 0x7f79e3108c30>"
      ]
     },
     "execution_count": 28,
     "metadata": {},
     "output_type": "execute_result"
    }
   ],
   "source": [
    "# 创建根节点,标签名为html\n",
    "html = etree.Element('html')\n",
    "\n",
    "# 创建子节点\n",
    "etree.SubElement(html,'head')"
   ]
  },
  {
   "cell_type": "markdown",
   "metadata": {},
   "source": [
    "### 为子元素添加文本内容"
   ]
  },
  {
   "cell_type": "markdown",
   "metadata": {},
   "source": [
    "设置text属性定义文本内容"
   ]
  },
  {
   "cell_type": "code",
   "execution_count": 29,
   "metadata": {},
   "outputs": [
    {
     "name": "stdout",
     "output_type": "stream",
     "text": [
      "<html>\n",
      "  <head/>\n",
      "  <body>I love python and perl</body>\n",
      "</html>\n",
      "\n"
     ]
    }
   ],
   "source": [
    "etree.SubElement(html,\"body\").text='I love python and perl'\n",
    "\n",
    "print(etree.tostring(html,pretty_print=True).decode('utf-8'))\n"
   ]
  },
  {
   "cell_type": "markdown",
   "metadata": {},
   "source": [
    "### 获取子元素的文本内容"
   ]
  },
  {
   "cell_type": "markdown",
   "metadata": {},
   "source": [
    "获取text属性"
   ]
  },
  {
   "cell_type": "code",
   "execution_count": 32,
   "metadata": {},
   "outputs": [
    {
     "name": "stdout",
     "output_type": "stream",
     "text": [
      "I love python and perl\n"
     ]
    }
   ],
   "source": [
    "print(html[1].text)"
   ]
  },
  {
   "cell_type": "markdown",
   "metadata": {},
   "source": [
    "## XML字符解析"
   ]
  },
  {
   "cell_type": "markdown",
   "metadata": {},
   "source": [
    "使用etree.XML()函数，将一个原始XML字符串，转化为lxml.etree._Element对象"
   ]
  },
  {
   "cell_type": "code",
   "execution_count": 35,
   "metadata": {},
   "outputs": [
    {
     "name": "stdout",
     "output_type": "stream",
     "text": [
      "<class 'lxml.etree._Element'>\n",
      "<html>\n",
      "  <head>Head of HTML</head>\n",
      "  <title>I am the title!</title>\n",
      "  <body>Here is the body</body>\n",
      "</html>\n",
      "\n",
      "<?xml version='1.0' encoding='ASCII'?>\n",
      "<html>\n",
      "  <head>Head of HTML</head>\n",
      "  <title>I am the title!</title>\n",
      "  <body>Here is the body</body>\n",
      "</html>\n",
      "\n"
     ]
    }
   ],
   "source": [
    "html = etree.XML('<html><head>Head of HTML</head><title>I am the title!</title><body>Here is the body</body></html>')\n",
    "\n",
    "print(type(html))\n",
    "\n",
    "print(etree.tostring(html,\n",
    "                     pretty_print=True).decode('utf-8'))\n",
    "\n",
    "# 输出XML结构声明标签\n",
    "print(etree.tostring(html,\n",
    "                     pretty_print=True,\n",
    "                    xml_declaration=True).decode('utf-8'))\n",
    "\n"
   ]
  },
  {
   "cell_type": "markdown",
   "metadata": {},
   "source": [
    "## HTML字符解析"
   ]
  },
  {
   "cell_type": "markdown",
   "metadata": {},
   "source": [
    "使用etree.HTML()函数,返回lxml.etree._Element对象\n",
    "\n",
    "将字符串格式的HTML解析为DOM文档"
   ]
  },
  {
   "cell_type": "code",
   "execution_count": 35,
   "metadata": {},
   "outputs": [
    {
     "name": "stdout",
     "output_type": "stream",
     "text": [
      "<class 'lxml.etree._Element'>\n"
     ]
    }
   ],
   "source": [
    "root = etree.HTML(\"<p>data</p>\")\n",
    "print(type(root))"
   ]
  },
  {
   "cell_type": "markdown",
   "metadata": {},
   "source": [
    "## parse()"
   ]
  },
  {
   "cell_type": "markdown",
   "metadata": {},
   "source": [
    "实际应用过程中尽量避免使用前面两个字符解析函数，应为字符解析函数常用来解析XML/HTML片段，返回的是Element对象\n",
    "然而，parse()返回的是一个完整的DOM文档\n",
    "\n",
    "etree.parse()函数用来解析文件或类文件中的对象\n",
    "返回lxml.etree._ElementTree类\n",
    "\n",
    "parse()支持以下的文档来源:\n",
    "    1. 一个打开的文件(二进制模式)\n",
    "    2. 类文件\n",
    "    3. 文件名字符串(即文件路径)\n",
    "    4. HTTP/FTP url string\n",
    "注意: 导入的文档中只能是HTML/XML结构，若含有javascript则会失败"
   ]
  },
  {
   "cell_type": "code",
   "execution_count": 36,
   "metadata": {},
   "outputs": [
    {
     "name": "stdout",
     "output_type": "stream",
     "text": [
      "<class 'lxml.etree._ElementTree'>\n",
      "b'<title>Title Here</title>'\n"
     ]
    }
   ],
   "source": [
    "# 类文件\n",
    "from io import StringIO\n",
    "\n",
    "title = StringIO('<title>Title Here</title>')\n",
    "\n",
    "tree = etree.parse(title)\n",
    "\n",
    "print(type(tree))\n",
    "\n",
    "print(etree.tostring(tree))"
   ]
  },
  {
   "cell_type": "code",
   "execution_count": 45,
   "metadata": {
    "scrolled": true
   },
   "outputs": [
    {
     "name": "stdout",
     "output_type": "stream",
     "text": [
      "<lxml.etree._ElementTree object at 0x7f0a861c5500>\n"
     ]
    }
   ],
   "source": [
    "# 从文件获取，保证文件打开模式为二进制\n",
    "\n",
    "html = etree.parse(r'html.txt')\n",
    "print(html)"
   ]
  },
  {
   "cell_type": "markdown",
   "metadata": {},
   "source": [
    "## 直接解析字符串"
   ]
  },
  {
   "cell_type": "markdown",
   "metadata": {},
   "source": [
    "使用etree.fromstring()函数可以直接解析字符串,\n",
    "前面使用了etree.tostring()将Element转换为string"
   ]
  },
  {
   "cell_type": "code",
   "execution_count": 50,
   "metadata": {
    "scrolled": true
   },
   "outputs": [
    {
     "name": "stdout",
     "output_type": "stream",
     "text": [
      "<class 'lxml.etree._Element'>\n",
      "b'<html><head>Head of HTML</head><title>I am the title!</title><body>Here is the body</body></html>'\n"
     ]
    }
   ],
   "source": [
    "title = \"<html><head>Head of HTML</head><title>I am the title!</title><body>Here is the body</body></html>\"\n",
    "\n",
    "root = etree.fromstring(title)\n",
    "print(type(root))\n",
    "print(etree.tostring(root))"
   ]
  },
  {
   "cell_type": "markdown",
   "metadata": {},
   "source": [
    "# lxml.etree._Element属性"
   ]
  },
  {
   "cell_type": "markdown",
   "metadata": {},
   "source": [
    ".tag – element的名字\n",
    "\n",
    ".text – 元素的文本内容\n",
    "\n",
    ".tail – 元素后面的内容\n",
    "\n",
    ".attrib – 元素的属性,返回一个字典"
   ]
  },
  {
   "cell_type": "code",
   "execution_count": 13,
   "metadata": {},
   "outputs": [
    {
     "name": "stdout",
     "output_type": "stream",
     "text": [
      "{'lang': 'en', 'color': 'blue'}\n"
     ]
    }
   ],
   "source": [
    "html = etree.fromstring('<title lang=\"en\" color=\"blue\">Title Here</title>')\n",
    "\n",
    "print(html.attrib)"
   ]
  },
  {
   "cell_type": "markdown",
   "metadata": {},
   "source": [
    "XML的标签是成对出现的，但是对于HTML而言，可能存在\n",
    "这样的单一标签，可以通过tail来读取文本"
   ]
  },
  {
   "cell_type": "markdown",
   "metadata": {},
   "source": [
    "# xpath方式"
   ]
  },
  {
   "cell_type": "markdown",
   "metadata": {},
   "source": [
    "在使用xpath之前，先导入etree类，对原始的html页面进行处理获得一个Element对象\n",
    "\n",
    "我们可以通过Element对象来使用xpath\n",
    "\n",
    "from lxml import etree\n",
    "selector =etree.HTML(網頁原始碼）\n",
    "selector.xpath(xpath語法)\n",
    "\n",
    "xpath()返回结果是一个list"
   ]
  },
  {
   "cell_type": "code",
   "execution_count": 9,
   "metadata": {},
   "outputs": [
    {
     "name": "stdout",
     "output_type": "stream",
     "text": [
      "<html>\n",
      "  <body><div>\n",
      "    <ul>\n",
      "         <li class=\"item-0\"><a href=\"link1.html\">first item</a></li>\n",
      "         <li class=\"item-1\"><a href=\"link2.html\">second item</a></li>\n",
      "         <li class=\"item-inactive\"><a href=\"link3.html\">third item</a></li>\n",
      "         <li class=\"item-1\"><a href=\"link4.html\">fourth item</a></li>\n",
      "         <li class=\"item-0\"><a href=\"link5.html\">fifth item</a>\n",
      "     </li></ul>\n",
      " </div>\n",
      "</body>\n",
      "</html>\n",
      "\n",
      "[<Element html at 0x7ff7ff68a460>, <Element body at 0x7ff7ff48aaf0>, <Element div at 0x7ff7ff48ad70>, <Element ul at 0x7ff7ff48acd0>]\n",
      "first item\n",
      "second item\n",
      "third item\n",
      "fourth item\n",
      "fifth item\n"
     ]
    }
   ],
   "source": [
    "text = '''\n",
    "<div>\n",
    "    <ul>\n",
    "         <li class=\"item-0\"><a href=\"link1.html\">first item</a></li>\n",
    "         <li class=\"item-1\"><a href=\"link2.html\">second item</a></li>\n",
    "         <li class=\"item-inactive\"><a href=\"link3.html\">third item</a></li>\n",
    "         <li class=\"item-1\"><a href=\"link4.html\">fourth item</a></li>\n",
    "         <li class=\"item-0\"><a href=\"link5.html\">fifth item</a>\n",
    "     </ul>\n",
    " </div>\n",
    "'''\n",
    "\n",
    "html = etree.HTML(text)\n",
    "\n",
    "result = etree.tostring(html,pretty_print=True).decode('utf-8')\n",
    "\n",
    "print(result)\n",
    "\n",
    "print(html.xpath('//li[@class=\"item-0\"]/ancestor::*'))"
   ]
  },
  {
   "cell_type": "code",
   "execution_count": 32,
   "metadata": {},
   "outputs": [
    {
     "name": "stdout",
     "output_type": "stream",
     "text": [
      "item-0\n",
      "[<Element a at 0x7f0a8596cf00>]\n",
      "['link1.html']\n"
     ]
    }
   ],
   "source": [
    "# 获取所有的li\n",
    "\n",
    "li = html.xpath('//li[1]')\n",
    "\n",
    "print(li[0].get('class'))\n",
    "\n",
    "result = html.xpath('//li/a[@href=\"link1.html\"]')\n",
    "print(result)\n"
   ]
  },
  {
   "cell_type": "markdown",
   "metadata": {},
   "source": [
    "## xpath语法"
   ]
  },
  {
   "cell_type": "markdown",
   "metadata": {},
   "source": [
    "xpath,全称XML Path Language，它是一门在 XML 文档中查找信息的语言。最初是用来搜寻 XML 文档的，但同样适用于 HTML 文档的搜索。所以在做爬虫时完全可以使用 XPath 做相应的信息抽取\n",
    "\n",
    "xpath组成:有不同的step组成\n",
    "\n",
    "绝对路径: /step/step...\n",
    "相对路径: step/step/...\n",
    "\n",
    "每个step包括:轴(定义所选节点与当前节点的树关系),\n",
    "            节点测试(识别某个轴内部的节点)，\n",
    "            谓语(筛选)\n",
    "            \n",
    "            轴名称::节点测试[谓语]\n",
    "            \n",
    "xml文档的节点有多种类型，其中最常用的有以下几种:\n",
    "\n",
    "1. 根节点\n",
    "2. 元素节点\n",
    "3. 属性节点\n",
    "4. 文本节点"
   ]
  },
  {
   "cell_type": "markdown",
   "metadata": {},
   "source": [
    "\\* 　　　选择所有元素子节点\n",
    "\n",
    "text()　选择所有文本子节点\n",
    "\n",
    "@ATTR  选择名为ATTR的属性节点\n",
    "\n",
    "/ 根节点\n",
    "\n",
    ". 当前节点\n",
    "\n",
    ".. 当前节点的父节点"
   ]
  },
  {
   "cell_type": "markdown",
   "metadata": {},
   "source": [
    "### 属性值定位"
   ]
  },
  {
   "cell_type": "markdown",
   "metadata": {},
   "source": [
    "- '/'和'//'\n",
    "\n",
    "    - '/'表示绝对路径\n",
    "/tag[@attributr='value']\n",
    "\n",
    "    - '//'表示相对路径\n",
    "//tag[@attribute]\n",
    "//tag[@attribute='value']\n",
    "\n",
    "- 获取属性\n",
    "\n",
    "获取所有li节点下的直接a子节点的href属性\n",
    "//li/a/@href \n",
    "\n",
    "- 使用contains函数构建xpath\n",
    "//tag[contains(attribute,'value')]\n",
    "\n",
    "- 使用starts-with函数构建xpath\n",
    "//tag[starts-with(attribute,'value')]"
   ]
  },
  {
   "cell_type": "markdown",
   "metadata": {},
   "source": [
    "### 文本内容定位"
   ]
  },
  {
   "cell_type": "markdown",
   "metadata": {},
   "source": [
    "E/text():选中E的文本子节点\n",
    "\n",
    "- 使用text函数定位，text()用于提取标签的文本\n",
    "//tag[text()='value'] \n",
    "\n",
    "- 与属性值类似，文本内容也支持starts-with和contains模糊匹配\n",
    "//tag[contains(text(),'value')]\n",
    "\n",
    "//tag[starts-with(text(),'value')]"
   ]
  },
  {
   "cell_type": "markdown",
   "metadata": {},
   "source": [
    "### xpath中的通配符"
   ]
  },
  {
   "cell_type": "markdown",
   "metadata": {},
   "source": [
    "xpath通配符可用来选取未知的xml元素\n",
    "\n",
    "- \\*匹配任何元素的节点\n",
    "/li/* 选取元素的所有子元素\n",
    "\n",
    "- @* 匹配任何属性的节点\n",
    "//li[@\\*] 选取带有属性的li元素\n",
    "\n",
    "- node()匹配任何类型的节点"
   ]
  },
  {
   "cell_type": "markdown",
   "metadata": {},
   "source": [
    "### xpath中的轴定位"
   ]
  },
  {
   "cell_type": "markdown",
   "metadata": {},
   "source": [
    "一些时候，某个标签很难使用xpath进行定位，这是我们可以基于其他标签进行选择，这时候就需要寻找父节点和平级节点,可以使用'/'或'//'\n",
    "\n",
    "轴可表示相对与当前节点的节点集\n",
    "\n",
    "*语法*:\n",
    "    轴名称::节点名称\n",
    "\n",
    "- 特殊标记\n",
    "'.' 　表示当前节点的路径\n",
    "'..'　表示父节点的路径\n",
    "\n",
    "- 查找父节点\n",
    "xpath-to-some-element//parent::tag\n",
    "\n",
    "- 查找前面的平级节点\n",
    "xpath-to-some-element//preceding-sibling::tag\n",
    "\n",
    "- 查找后面的平级节点\n",
    "xpath-to-some-element//following-sibling::tag\n",
    "\n",
    "- 查找祖先节点包括父节点\n",
    "xpath-to-some-element//ancestor::tag\n",
    "\n",
    "- 查找元素节点前的所有节点\n",
    "xpath-to-some-element//prceding::tag\n",
    "\n",
    "- 查找元素节点后的所有节点\n",
    "xpath-to-some-element//following::tag"
   ]
  },
  {
   "cell_type": "markdown",
   "metadata": {},
   "source": [
    "## xpath谓词"
   ]
  },
  {
   "cell_type": "markdown",
   "metadata": {},
   "source": [
    "谓词是每一个定位路径的最后一部分，谓词是可选的,用'[]'包含谓词\n",
    "\n",
    "- 位置谓词\n",
    "xpath中索引从1开始\n",
    "\n",
    "选择div标签下的第一个p标签\n",
    "//body/div/div/p[1]\n",
    "\n",
    "- last()选择最后一个p标签\n",
    "//body/div/div/p[last()]\n",
    "\n",
    "- 位置范围\n",
    "有时候你需要一部分节点，那么可以结合position()和布尔表达式(and or = != < > <= >=)\n",
    "\n",
    "//body//div//li[position()>1 and position()<last()]\n",
    "\n",
    "- 多个谓词\n",
    "可以使用多个谓词进行筛选\n",
    "//div[@class=\"second\"][2]\n",
    "\n",
    "\n",
    "- string()函数 返回标签内的所有文本连接成一个字符串"
   ]
  },
  {
   "cell_type": "code",
   "execution_count": 3,
   "metadata": {},
   "outputs": [
    {
     "data": {
      "text/plain": [
       "'Click here to go to the Next Page'"
      ]
     },
     "execution_count": 3,
     "metadata": {},
     "output_type": "execute_result"
    }
   ],
   "source": [
    "from lxml import etree\n",
    "\n",
    "dom = etree.fromstring('<a href=\"#\">Click here to go to the <strong>Next Page</strong></a>')\n",
    "\n",
    "# 使用text将返回一个列表\n",
    "print(dom.xpath('//a/text()'))\n",
    "\n",
    "# 这种情况下可以直接使用string函数\n",
    "print(dom.xpath('string(//a)'))"
   ]
  },
  {
   "cell_type": "markdown",
   "metadata": {},
   "source": [
    "选择具有lang属性的所有title元素\n",
    "//title[@lang]\n",
    "\n",
    "选择lang属性值等于'eng'的所有title元素\n",
    "//title[@lang='eng']\n",
    "\n",
    "选择lang属性值包含'eng'的所有title元素\n",
    "//title[contains(@lang,'eng')]\n",
    "\n",
    "选择lang属性值以'eng'开头的所有title元素\n",
    "//title[starts-with(@lang,'eng')]"
   ]
  },
  {
   "cell_type": "markdown",
   "metadata": {},
   "source": [
    "### 分支结构"
   ]
  },
  {
   "cell_type": "markdown",
   "metadata": {},
   "source": [
    "通过在路径表达式中使用 '|'，构建分支结构\n",
    "\n",
    "//li/a|//li/b  选取li元素下的所有a和b元素\n",
    "\n",
    "//title|//price 选取文档中的title和price元素"
   ]
  },
  {
   "cell_type": "markdown",
   "metadata": {},
   "source": [
    "## lxml.cssselect"
   ]
  },
  {
   "cell_type": "markdown",
   "metadata": {},
   "source": [
    "lxml中也支持CSS选择器，引入lxml.cssselect模块"
   ]
  },
  {
   "cell_type": "markdown",
   "metadata": {},
   "source": [
    "### CSSSelector 类"
   ]
  },
  {
   "cell_type": "markdown",
   "metadata": {},
   "source": [
    "cssselect模块中最重要的是CSSSelector类\n",
    "\n",
    "返回CSSSelector类,CSSSelector实际上编译成 XPath"
   ]
  },
  {
   "cell_type": "code",
   "execution_count": 13,
   "metadata": {},
   "outputs": [
    {
     "name": "stdout",
     "output_type": "stream",
     "text": [
      "<class 'lxml.cssselect.CSSSelector'>\n"
     ]
    }
   ],
   "source": [
    "from lxml.cssselect import CSSSelector\n",
    "\n",
    "sel = CSSSelector('div.content')\n",
    "\n",
    "print(type(sel))"
   ]
  },
  {
   "cell_type": "markdown",
   "metadata": {},
   "source": [
    "### CSSSelector方法"
   ]
  },
  {
   "cell_type": "code",
   "execution_count": 16,
   "metadata": {},
   "outputs": [
    {
     "name": "stdout",
     "output_type": "stream",
     "text": [
      "div.content\n",
      "descendant-or-self::div[@class and contains(concat(' ', normalize-space(@class), ' '), ' content ')]\n"
     ]
    }
   ],
   "source": [
    "# .css 方法,返回CSS选择器内容\n",
    "\n",
    "print(sel.css)\n",
    "\n",
    "# .path查看对象\n",
    "print(sel.path)"
   ]
  },
  {
   "cell_type": "markdown",
   "metadata": {},
   "source": [
    "### CSS选择器语法"
   ]
  },
  {
   "cell_type": "markdown",
   "metadata": {},
   "source": [
    "CSS是层叠样式表 --> 给HTML添加样式的\n",
    "\n",
    "css选择器速度优于xpath"
   ]
  },
  {
   "cell_type": "markdown",
   "metadata": {},
   "source": [
    "#### 元素选择器"
   ]
  },
  {
   "cell_type": "markdown",
   "metadata": {},
   "source": [
    "##### \\* 通配符选择器"
   ]
  },
  {
   "cell_type": "markdown",
   "metadata": {},
   "source": [
    "选择所有的元素"
   ]
  },
  {
   "cell_type": "code",
   "execution_count": 5,
   "metadata": {},
   "outputs": [
    {
     "name": "stdout",
     "output_type": "stream",
     "text": [
      "[<Element html at 0x7f9526e31f00>, <Element body at 0x7f952690d730>, <Element div at 0x7f9526dfc6e0>, <Element ul at 0x7f952692c780>, <Element li at 0x7f9526971c30>, <Element a at 0x7f9526971230>, <Element li at 0x7f95269288c0>, <Element a at 0x7f95269280f0>, <Element li at 0x7f9526928b40>, <Element a at 0x7f9526928be0>, <Element li at 0x7f952691fe10>, <Element a at 0x7f952693eaa0>, <Element li at 0x7f9526ba3320>, <Element li at 0x7f9526ba3730>, <Element a at 0x7f9526ca9b40>, <Element a at 0x7f9526ca9a50>, <Element a at 0x7f9526ca93c0>, <Element a at 0x7f9526ca9f00>, <Element a at 0x7f9526b62b40>]\n"
     ]
    },
    {
     "ename": "ExpressionError",
     "evalue": "Pseudo-elements are not supported.",
     "output_type": "error",
     "traceback": [
      "\u001b[0;31m---------------------------------------------------------------------------\u001b[0m",
      "\u001b[0;31mExpressionError\u001b[0m                           Traceback (most recent call last)",
      "\u001b[0;32m<ipython-input-5-f095b431ba7f>\u001b[0m in \u001b[0;36m<module>\u001b[0;34m\u001b[0m\n\u001b[1;32m     19\u001b[0m \u001b[0mprint\u001b[0m\u001b[0;34m(\u001b[0m\u001b[0mhtml\u001b[0m\u001b[0;34m.\u001b[0m\u001b[0mcssselect\u001b[0m\u001b[0;34m(\u001b[0m\u001b[0;34m'*'\u001b[0m\u001b[0;34m)\u001b[0m\u001b[0;34m)\u001b[0m\u001b[0;34m\u001b[0m\u001b[0;34m\u001b[0m\u001b[0m\n\u001b[1;32m     20\u001b[0m \u001b[0;34m\u001b[0m\u001b[0m\n\u001b[0;32m---> 21\u001b[0;31m \u001b[0mprint\u001b[0m\u001b[0;34m(\u001b[0m\u001b[0mhtml\u001b[0m\u001b[0;34m.\u001b[0m\u001b[0mcssselect\u001b[0m\u001b[0;34m(\u001b[0m\u001b[0;34m'a::text'\u001b[0m\u001b[0;34m)\u001b[0m\u001b[0;34m)\u001b[0m\u001b[0;34m\u001b[0m\u001b[0;34m\u001b[0m\u001b[0m\n\u001b[0m",
      "\u001b[0;32msrc/lxml/etree.pyx\u001b[0m in \u001b[0;36mlxml.etree._Element.cssselect\u001b[0;34m()\u001b[0m\n",
      "\u001b[0;32m~/.local/lib/python3.7/site-packages/lxml/cssselect.py\u001b[0m in \u001b[0;36m__init__\u001b[0;34m(self, css, namespaces, translator)\u001b[0m\n\u001b[1;32m     92\u001b[0m         \u001b[0;32melif\u001b[0m \u001b[0mtranslator\u001b[0m \u001b[0;34m==\u001b[0m \u001b[0;34m'xhtml'\u001b[0m\u001b[0;34m:\u001b[0m\u001b[0;34m\u001b[0m\u001b[0;34m\u001b[0m\u001b[0m\n\u001b[1;32m     93\u001b[0m             \u001b[0mtranslator\u001b[0m \u001b[0;34m=\u001b[0m \u001b[0mLxmlHTMLTranslator\u001b[0m\u001b[0;34m(\u001b[0m\u001b[0mxhtml\u001b[0m\u001b[0;34m=\u001b[0m\u001b[0;32mTrue\u001b[0m\u001b[0;34m)\u001b[0m\u001b[0;34m\u001b[0m\u001b[0;34m\u001b[0m\u001b[0m\n\u001b[0;32m---> 94\u001b[0;31m         \u001b[0mpath\u001b[0m \u001b[0;34m=\u001b[0m \u001b[0mtranslator\u001b[0m\u001b[0;34m.\u001b[0m\u001b[0mcss_to_xpath\u001b[0m\u001b[0;34m(\u001b[0m\u001b[0mcss\u001b[0m\u001b[0;34m)\u001b[0m\u001b[0;34m\u001b[0m\u001b[0;34m\u001b[0m\u001b[0m\n\u001b[0m\u001b[1;32m     95\u001b[0m         \u001b[0metree\u001b[0m\u001b[0;34m.\u001b[0m\u001b[0mXPath\u001b[0m\u001b[0;34m.\u001b[0m\u001b[0m__init__\u001b[0m\u001b[0;34m(\u001b[0m\u001b[0mself\u001b[0m\u001b[0;34m,\u001b[0m \u001b[0mpath\u001b[0m\u001b[0;34m,\u001b[0m \u001b[0mnamespaces\u001b[0m\u001b[0;34m=\u001b[0m\u001b[0mnamespaces\u001b[0m\u001b[0;34m)\u001b[0m\u001b[0;34m\u001b[0m\u001b[0;34m\u001b[0m\u001b[0m\n\u001b[1;32m     96\u001b[0m         \u001b[0mself\u001b[0m\u001b[0;34m.\u001b[0m\u001b[0mcss\u001b[0m \u001b[0;34m=\u001b[0m \u001b[0mcss\u001b[0m\u001b[0;34m\u001b[0m\u001b[0;34m\u001b[0m\u001b[0m\n",
      "\u001b[0;32m~/.local/lib/python3.7/site-packages/cssselect/xpath.py\u001b[0m in \u001b[0;36mcss_to_xpath\u001b[0;34m(self, css, prefix)\u001b[0m\n\u001b[1;32m    190\u001b[0m         return ' | '.join(self.selector_to_xpath(selector, prefix,\n\u001b[1;32m    191\u001b[0m                                                  translate_pseudo_elements=True)\n\u001b[0;32m--> 192\u001b[0;31m                           for selector in parse(css))\n\u001b[0m\u001b[1;32m    193\u001b[0m \u001b[0;34m\u001b[0m\u001b[0m\n\u001b[1;32m    194\u001b[0m     def selector_to_xpath(self, selector, prefix='descendant-or-self::',\n",
      "\u001b[0;32m~/.local/lib/python3.7/site-packages/cssselect/xpath.py\u001b[0m in \u001b[0;36m<genexpr>\u001b[0;34m(.0)\u001b[0m\n\u001b[1;32m    190\u001b[0m         return ' | '.join(self.selector_to_xpath(selector, prefix,\n\u001b[1;32m    191\u001b[0m                                                  translate_pseudo_elements=True)\n\u001b[0;32m--> 192\u001b[0;31m                           for selector in parse(css))\n\u001b[0m\u001b[1;32m    193\u001b[0m \u001b[0;34m\u001b[0m\u001b[0m\n\u001b[1;32m    194\u001b[0m     def selector_to_xpath(self, selector, prefix='descendant-or-self::',\n",
      "\u001b[0;32m~/.local/lib/python3.7/site-packages/cssselect/xpath.py\u001b[0m in \u001b[0;36mselector_to_xpath\u001b[0;34m(self, selector, prefix, translate_pseudo_elements)\u001b[0m\n\u001b[1;32m    220\u001b[0m         \u001b[0;32massert\u001b[0m \u001b[0misinstance\u001b[0m\u001b[0;34m(\u001b[0m\u001b[0mxpath\u001b[0m\u001b[0;34m,\u001b[0m \u001b[0mself\u001b[0m\u001b[0;34m.\u001b[0m\u001b[0mxpathexpr_cls\u001b[0m\u001b[0;34m)\u001b[0m  \u001b[0;31m# help debug a missing 'return'\u001b[0m\u001b[0;34m\u001b[0m\u001b[0;34m\u001b[0m\u001b[0m\n\u001b[1;32m    221\u001b[0m         \u001b[0;32mif\u001b[0m \u001b[0mtranslate_pseudo_elements\u001b[0m \u001b[0;32mand\u001b[0m \u001b[0mselector\u001b[0m\u001b[0;34m.\u001b[0m\u001b[0mpseudo_element\u001b[0m\u001b[0;34m:\u001b[0m\u001b[0;34m\u001b[0m\u001b[0;34m\u001b[0m\u001b[0m\n\u001b[0;32m--> 222\u001b[0;31m             \u001b[0mxpath\u001b[0m \u001b[0;34m=\u001b[0m \u001b[0mself\u001b[0m\u001b[0;34m.\u001b[0m\u001b[0mxpath_pseudo_element\u001b[0m\u001b[0;34m(\u001b[0m\u001b[0mxpath\u001b[0m\u001b[0;34m,\u001b[0m \u001b[0mselector\u001b[0m\u001b[0;34m.\u001b[0m\u001b[0mpseudo_element\u001b[0m\u001b[0;34m)\u001b[0m\u001b[0;34m\u001b[0m\u001b[0;34m\u001b[0m\u001b[0m\n\u001b[0m\u001b[1;32m    223\u001b[0m         \u001b[0;32mreturn\u001b[0m \u001b[0;34m(\u001b[0m\u001b[0mprefix\u001b[0m \u001b[0;32mor\u001b[0m \u001b[0;34m''\u001b[0m\u001b[0;34m)\u001b[0m \u001b[0;34m+\u001b[0m \u001b[0m_unicode\u001b[0m\u001b[0;34m(\u001b[0m\u001b[0mxpath\u001b[0m\u001b[0;34m)\u001b[0m\u001b[0;34m\u001b[0m\u001b[0;34m\u001b[0m\u001b[0m\n\u001b[1;32m    224\u001b[0m \u001b[0;34m\u001b[0m\u001b[0m\n",
      "\u001b[0;32m~/.local/lib/python3.7/site-packages/cssselect/xpath.py\u001b[0m in \u001b[0;36mxpath_pseudo_element\u001b[0;34m(self, xpath, pseudo_element)\u001b[0m\n\u001b[1;32m    230\u001b[0m \u001b[0;34m\u001b[0m\u001b[0m\n\u001b[1;32m    231\u001b[0m         \"\"\"\n\u001b[0;32m--> 232\u001b[0;31m         \u001b[0;32mraise\u001b[0m \u001b[0mExpressionError\u001b[0m\u001b[0;34m(\u001b[0m\u001b[0;34m'Pseudo-elements are not supported.'\u001b[0m\u001b[0;34m)\u001b[0m\u001b[0;34m\u001b[0m\u001b[0;34m\u001b[0m\u001b[0m\n\u001b[0m\u001b[1;32m    233\u001b[0m \u001b[0;34m\u001b[0m\u001b[0m\n\u001b[1;32m    234\u001b[0m     \u001b[0;34m@\u001b[0m\u001b[0mstaticmethod\u001b[0m\u001b[0;34m\u001b[0m\u001b[0;34m\u001b[0m\u001b[0m\n",
      "\u001b[0;31mExpressionError\u001b[0m: Pseudo-elements are not supported."
     ]
    }
   ],
   "source": [
    "text = '''\n",
    "<div>\n",
    "    <ul>\n",
    "         <li class=\"item-0\"><a href=\"link1.html\">first item</a></li>\n",
    "         <li class=\"item-1\"><a href=\"link2.html\">second item</a></li>\n",
    "         <li class=\"item-inactive\"><a href=\"link3.html\">third item</a></li>\n",
    "         <li class=\"item-1\"><a href=\"link4.html\">fourth item</a></li>\n",
    "         <li id=\"item-0\"><li>text<a href=\"link5.html\">fifth item</a></li></li>\n",
    "         <a id=\"1\">http://www.baidu.com</a>\n",
    "         <a id=\"2\">http://www.yahoo.com</a>\n",
    "     </ul>\n",
    "     <a>http:</a>\n",
    "     <a>https:</a>\n",
    " </div>\n",
    "'''\n",
    "\n",
    "html = etree.HTML(text)\n",
    "\n",
    "print(html.cssselect('*'))\n",
    "\n",
    "print(html.cssselect('a::text'))"
   ]
  },
  {
   "cell_type": "markdown",
   "metadata": {},
   "source": [
    "##### E 元素选择器"
   ]
  },
  {
   "cell_type": "markdown",
   "metadata": {},
   "source": [
    "直接输入元素名字"
   ]
  },
  {
   "cell_type": "code",
   "execution_count": 18,
   "metadata": {},
   "outputs": [
    {
     "name": "stdout",
     "output_type": "stream",
     "text": [
      "[<Element li at 0x7ff7fefae2d0>, <Element li at 0x7ff7feca16e0>, <Element li at 0x7ff7feca1e10>, <Element li at 0x7ff7fecd77d0>, <Element li at 0x7ff7ff209c30>]\n"
     ]
    }
   ],
   "source": [
    "print(html.cssselect('li'))"
   ]
  },
  {
   "cell_type": "markdown",
   "metadata": {},
   "source": [
    "##### id选择器"
   ]
  },
  {
   "cell_type": "markdown",
   "metadata": {},
   "source": [
    "'#'表示ID属性\n",
    "\n",
    "#idName,选择id属性等于idName的元素"
   ]
  },
  {
   "cell_type": "code",
   "execution_count": 22,
   "metadata": {
    "scrolled": true
   },
   "outputs": [
    {
     "name": "stdout",
     "output_type": "stream",
     "text": [
      "[<Element li at 0x7ff7ff1ebb90>]\n"
     ]
    }
   ],
   "source": [
    "print(html.cssselect('#item-0'))"
   ]
  },
  {
   "cell_type": "markdown",
   "metadata": {},
   "source": [
    "##### class选择器"
   ]
  },
  {
   "cell_type": "markdown",
   "metadata": {},
   "source": [
    "'.' 表示class属性\n",
    "\n",
    ".className,选择class属性包含className的元素"
   ]
  },
  {
   "cell_type": "code",
   "execution_count": 19,
   "metadata": {
    "scrolled": true
   },
   "outputs": [
    {
     "name": "stdout",
     "output_type": "stream",
     "text": [
      "[<Element li at 0x7ff7ff1eac80>, <Element li at 0x7ff7ff642d20>]\n"
     ]
    }
   ],
   "source": [
    "print(html.cssselect('.item-0'))"
   ]
  },
  {
   "cell_type": "markdown",
   "metadata": {},
   "source": [
    "#### 关系选择器"
   ]
  },
  {
   "cell_type": "markdown",
   "metadata": {},
   "source": [
    "##### 包含选择器"
   ]
  },
  {
   "cell_type": "markdown",
   "metadata": {},
   "source": [
    "E F\n",
    "\n",
    "选择所有包含在E元素里面的F元素，可以选中所有符合条件的后代"
   ]
  },
  {
   "cell_type": "code",
   "execution_count": 25,
   "metadata": {},
   "outputs": [
    {
     "name": "stdout",
     "output_type": "stream",
     "text": [
      "[<Element li at 0x7ff7feca9910>, <Element li at 0x7ff7ff2562d0>, <Element li at 0x7ff7fec28370>, <Element li at 0x7ff7ff23e960>, <Element li at 0x7ff7ff6b2050>, <Element li at 0x7ff7ff116c80>]\n"
     ]
    }
   ],
   "source": [
    "print(html.cssselect('ul li'))"
   ]
  },
  {
   "cell_type": "markdown",
   "metadata": {},
   "source": [
    "##### 子选择器"
   ]
  },
  {
   "cell_type": "markdown",
   "metadata": {},
   "source": [
    "E>F\n",
    "\n",
    "选择所有作为E元素的子元素F,只能选中子元素，不能选中孙元素"
   ]
  },
  {
   "cell_type": "code",
   "execution_count": 26,
   "metadata": {},
   "outputs": [
    {
     "name": "stdout",
     "output_type": "stream",
     "text": [
      "[<Element li at 0x7ff7fed5a4b0>, <Element li at 0x7ff7ff242b90>, <Element li at 0x7ff7fed0bdc0>, <Element li at 0x7ff7ff2dc1e0>, <Element li at 0x7ff7ff2dc5a0>, <Element li at 0x7ff7ff2dceb0>]\n"
     ]
    }
   ],
   "source": [
    "print(html.cssselect('ul>li'))"
   ]
  },
  {
   "cell_type": "markdown",
   "metadata": {},
   "source": [
    "##### 相邻选择器"
   ]
  },
  {
   "cell_type": "markdown",
   "metadata": {},
   "source": [
    "E+F\n",
    "\n",
    "选择紧贴在E元素之后的第一个F元素,只会选中符合条件的相邻的兄弟元素"
   ]
  },
  {
   "cell_type": "code",
   "execution_count": 43,
   "metadata": {},
   "outputs": [
    {
     "name": "stdout",
     "output_type": "stream",
     "text": [
      "http:\n"
     ]
    }
   ],
   "source": [
    "print(html.cssselect('ul+a')[0].text)"
   ]
  },
  {
   "cell_type": "markdown",
   "metadata": {},
   "source": [
    "##### 兄弟选择器"
   ]
  },
  {
   "cell_type": "markdown",
   "metadata": {},
   "source": [
    "E~F\n",
    "\n",
    "选择E元素所有兄弟元素F，选中所有符合条件的兄弟元素，不强制是紧邻的元素"
   ]
  },
  {
   "cell_type": "code",
   "execution_count": 39,
   "metadata": {},
   "outputs": [
    {
     "name": "stdout",
     "output_type": "stream",
     "text": [
      "[<Element a at 0x7ff7fea6ff50>, <Element a at 0x7ff7fea75c30>]\n"
     ]
    }
   ],
   "source": [
    "print(html.cssselect('li~a'))"
   ]
  },
  {
   "cell_type": "markdown",
   "metadata": {},
   "source": [
    "##### 组合选择器"
   ]
  },
  {
   "cell_type": "markdown",
   "metadata": {},
   "source": [
    "使用','组合两个不同的CSS选择元素"
   ]
  },
  {
   "cell_type": "markdown",
   "metadata": {},
   "source": [
    "选择所有的E元素和F元素\n",
    "E,F"
   ]
  },
  {
   "cell_type": "code",
   "execution_count": 44,
   "metadata": {},
   "outputs": [
    {
     "name": "stdout",
     "output_type": "stream",
     "text": [
      "[<Element li at 0x7ff7fe9ef2d0>, <Element a at 0x7ff7fef8ce60>, <Element li at 0x7ff7feba35f0>, <Element a at 0x7ff7fe9f3640>, <Element li at 0x7ff7fe9e86e0>, <Element a at 0x7ff7fe9e85f0>, <Element li at 0x7ff7fe9e8370>, <Element a at 0x7ff7fe9e8910>, <Element li at 0x7ff7fe9e8640>, <Element li at 0x7ff7fe9e8690>, <Element a at 0x7ff7feb03cd0>, <Element a at 0x7ff7fea8a6e0>, <Element a at 0x7ff7fea8a5f0>, <Element a at 0x7ff7fea8a820>, <Element a at 0x7ff7fea2b640>]\n"
     ]
    }
   ],
   "source": [
    "print(html.cssselect('li,a'))"
   ]
  },
  {
   "cell_type": "markdown",
   "metadata": {},
   "source": [
    "##### 伪类选择器"
   ]
  },
  {
   "cell_type": "markdown",
   "metadata": {},
   "source": [
    "伪类选择器是一类选择特定状态元素的选择方式\n",
    "\n",
    "伪类选择器关键字以':'开头\n",
    "\n",
    ":pseudo-class-name"
   ]
  },
  {
   "cell_type": "markdown",
   "metadata": {},
   "source": [
    "###### tag:nth-child(n)"
   ]
  },
  {
   "cell_type": "markdown",
   "metadata": {},
   "source": [
    "提取第几个tag标签"
   ]
  },
  {
   "cell_type": "code",
   "execution_count": 52,
   "metadata": {},
   "outputs": [
    {
     "name": "stdout",
     "output_type": "stream",
     "text": [
      "second item\n",
      "[<Element a at 0x7ff7ff46c460>, <Element a at 0x7ff7ff091820>, <Element a at 0x7ff7fea7ff50>]\n"
     ]
    }
   ],
   "source": [
    "# 提取第二个li标签\n",
    "print(html.cssselect('li:nth-child(2)>a')[0].text)\n",
    "\n",
    "# 提取偶数索引的li标签\n",
    "print(html.cssselect('li:nth-child(2n)>a'))\n",
    "\n",
    "# 选择前6个元素\n",
    ":nth-child(-n+6)\n",
    "    \n",
    "#从第6个开始选择\n",
    ":nth-child(n+6)\n",
    "\n",
    "# 两者结合使用，可以限制选择某一个范围\n",
    ":nth-child(-n+9):nth-child(n+6) # 选择第6个到第9个"
   ]
  },
  {
   "cell_type": "markdown",
   "metadata": {},
   "source": [
    "###### tag:first-child"
   ]
  },
  {
   "cell_type": "markdown",
   "metadata": {},
   "source": [
    "提取第一个标签"
   ]
  },
  {
   "cell_type": "code",
   "execution_count": 53,
   "metadata": {},
   "outputs": [
    {
     "name": "stdout",
     "output_type": "stream",
     "text": [
      "[<Element li at 0x7ff7ff5bca00>]\n"
     ]
    }
   ],
   "source": [
    "print(html.cssselect('li:first-child'))"
   ]
  },
  {
   "cell_type": "markdown",
   "metadata": {},
   "source": [
    "###### tag:not(attr)"
   ]
  },
  {
   "cell_type": "markdown",
   "metadata": {},
   "source": [
    "提取所有属性非attr的tag"
   ]
  },
  {
   "cell_type": "code",
   "execution_count": 58,
   "metadata": {},
   "outputs": [
    {
     "name": "stdout",
     "output_type": "stream",
     "text": [
      "[<Element li at 0x7ff7febaa5a0>, <Element li at 0x7ff7febaa280>, <Element li at 0x7ff7febaa3c0>, <Element li at 0x7ff7febaae60>, <Element li at 0x7ff7febaaf00>]\n"
     ]
    }
   ],
   "source": [
    "print(html.cssselect('li:not(#item-0)'))"
   ]
  },
  {
   "cell_type": "markdown",
   "metadata": {},
   "source": [
    "##### 属性选择器"
   ]
  },
  {
   "cell_type": "markdown",
   "metadata": {},
   "source": [
    "- E[attr]\n",
    "    \n",
    "    选择具有attr属性的E元素\n",
    "\n",
    "- E[attr='val']\n",
    "\n",
    "    选择具有attr属性且属性值等于val的E元素\n",
    "\n",
    "- E[attr~='val']\n",
    "    \n",
    "    选择具有attr属性且属性值其中一个等于val的E元素\n",
    "\n",
    "- E[attr^='val']\n",
    "    \n",
    "    选择具有attr属性且属性值以val开头的E元素\n",
    "\n",
    "- E[attr$='val']\n",
    "    \n",
    "    选择具有attr属性且属性值以val结束的E元素\n",
    "\n",
    "- E[attr*='val']\n",
    "    \n",
    "    选择具有attr属性且属性值为包含val的E元素\n",
    "    \n",
    "- 当属性为class和id时可以简写\n",
    "\n",
    "E.'val'　选择class为'val'的E元素\n",
    "E#'val'　选择id为'val'的E元素"
   ]
  }
 ],
 "metadata": {
  "kernelspec": {
   "display_name": "Python 3",
   "language": "python",
   "name": "python3"
  },
  "language_info": {
   "codemirror_mode": {
    "name": "ipython",
    "version": 3
   },
   "file_extension": ".py",
   "mimetype": "text/x-python",
   "name": "python",
   "nbconvert_exporter": "python",
   "pygments_lexer": "ipython3",
   "version": "3.7.5"
  },
  "toc": {
   "base_numbering": 1,
   "nav_menu": {},
   "number_sections": true,
   "sideBar": true,
   "skip_h1_title": false,
   "title_cell": "Table of Contents",
   "title_sidebar": "Contents",
   "toc_cell": false,
   "toc_position": {},
   "toc_section_display": true,
   "toc_window_display": false
  }
 },
 "nbformat": 4,
 "nbformat_minor": 4
}
