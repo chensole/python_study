{
 "cells": [
  {
   "cell_type": "markdown",
   "metadata": {},
   "source": [
    "# 并行与并发 "
   ]
  },
  {
   "cell_type": "markdown",
   "metadata": {},
   "source": [
    "并行和并发实际上是异步的两种形式\n",
    "\n",
    "并行才是真正的异步\n",
    "并发是伪异步"
   ]
  },
  {
   "cell_type": "markdown",
   "metadata": {},
   "source": [
    "## 并行(parallelism)"
   ]
  },
  {
   "cell_type": "markdown",
   "metadata": {},
   "source": [
    "并行，就是同时执行的意思，所以单线程永远无法达到并行状态，利用多线程和多进程即可。但是python的多线程由于存在GIL,无法让两个线程真正\"同时运行\"，所以实际上无法达到并行状态，系统有一个以上CPU时,则线程的操作有可能非并发。当一个CPU执行一个线程时，另一个CPU可以执行另一个线程，两个线程互不抢占CPU资源，可以同时进行，这种方式我们称之为并行"
   ]
  },
  {
   "cell_type": "markdown",
   "metadata": {},
   "source": [
    "## 并发(concurrency)"
   ]
  },
  {
   "cell_type": "markdown",
   "metadata": {},
   "source": [
    "整体上来看多个任务同时执行，但是一个时间点只有一个任务在执行，如果系统只有一个CPU,则它根本不可能真正同时进行一个以上的线程，它只能把CPU运行时间划分成若干个时间段,再将时间 段分配给各个线程执行，在一个时间段的线程代码运行时，其它线程处于挂起状。\n",
    "\n",
    "并发是多个线程被（一个）cpu 轮流切换着执行"
   ]
  },
  {
   "cell_type": "markdown",
   "metadata": {},
   "source": [
    "## 区别"
   ]
  },
  {
   "cell_type": "markdown",
   "metadata": {},
   "source": [
    "并发的关键是你有处理多个任务的能力，不一定要同时\n",
    "\n",
    "并行的关键是你有同时处理多个任务的能力"
   ]
  },
  {
   "cell_type": "markdown",
   "metadata": {},
   "source": [
    "# 同步与异步"
   ]
  },
  {
   "cell_type": "markdown",
   "metadata": {},
   "source": [
    "## 同步"
   ]
  },
  {
   "cell_type": "markdown",
   "metadata": {},
   "source": [
    "同步就是发出一个功能调用时，在没有得到结果之前，该调用就不返回或继续执行后续操作"
   ]
  },
  {
   "cell_type": "markdown",
   "metadata": {},
   "source": [
    "## 异步"
   ]
  },
  {
   "cell_type": "markdown",
   "metadata": {},
   "source": [
    "当一个异步过程调用发出后，调用者在没有得到结果之前，就可以执行后续操作。A发起一个操作后（一般都是比较耗时的操作，如果不耗时的操作就没有必要异步了），可以继续自顾自的处理它自己的事儿，不用干等着这个耗时操作返回。\n",
    "\n",
    "当这个调用完成后，一般通过状态、通知和回调来通知调用者"
   ]
  },
  {
   "cell_type": "markdown",
   "metadata": {},
   "source": [
    "## 异步与多线程"
   ]
  },
  {
   "cell_type": "markdown",
   "metadata": {},
   "source": [
    "其实异步是目的，多线程是实现异步的方法"
   ]
  },
  {
   "cell_type": "markdown",
   "metadata": {},
   "source": [
    "# 阻塞与非阻塞"
   ]
  },
  {
   "cell_type": "markdown",
   "metadata": {},
   "source": [
    "阻塞和非阻塞这两个概念与程序(线程)等待消息通知时的状态有关\n",
    "\n",
    "阻塞调用是指调用结果返回之前，当前线程会被挂起。调用线程只有在得到结果之后才会返回\n",
    "\n",
    "非阻塞调用指在不能立刻得到结果之前，该调用不会阻塞当前线程"
   ]
  },
  {
   "cell_type": "markdown",
   "metadata": {},
   "source": [
    "# 阻塞非阻塞与同步异步的区别 "
   ]
  },
  {
   "cell_type": "markdown",
   "metadata": {},
   "source": [
    "同步/异步关注的是消息通知的机制\n",
    "\n",
    "阻塞/非阻塞关注的是程序（线程）等待消息通知时的状态\n",
    "\n",
    "同步阻塞：小明一直盯着下载进度条，到 100% 的时候就完成\n",
    "\n",
    "同步非阻塞：小明提交下载任务后就去干别的，每过一段时间就去瞄一眼进度条，看到 100% 就完成\n",
    "\n",
    "异步阻塞：小明换了个有下载完成通知功能的软件，下载完成就“叮”一声。不过小明仍然一直等待“叮”的声音\n",
    "\n",
    "异步非阻塞：仍然是那个会“叮”一声的下载软件，小明提交下载任务后就去干别的，听到“叮”的一声就知道完成了\n",
    "\n",
    "　　综上所述，同步和异步仅仅是关注的消息如何通知的机制，而阻塞与非阻塞关注的是等待消息通知时的状态。也就是说，同步的情况下，是由处理消息者自己去等待消息是否被触发，而异步的情况下是由触发机制来通知处理消息者，所以在异步机制中，处理消息者和触发机制之间就需要一个连接的桥梁\n",
    "  在小明的例子中，这个桥梁就是软件“叮”的声音"
   ]
  }
 ],
 "metadata": {
  "kernelspec": {
   "display_name": "Python 3",
   "language": "python",
   "name": "python3"
  },
  "language_info": {
   "codemirror_mode": {
    "name": "ipython",
    "version": 3
   },
   "file_extension": ".py",
   "mimetype": "text/x-python",
   "name": "python",
   "nbconvert_exporter": "python",
   "pygments_lexer": "ipython3",
   "version": "3.7.5"
  },
  "toc": {
   "base_numbering": 1,
   "nav_menu": {},
   "number_sections": true,
   "sideBar": true,
   "skip_h1_title": false,
   "title_cell": "Table of Contents",
   "title_sidebar": "Contents",
   "toc_cell": false,
   "toc_position": {},
   "toc_section_display": true,
   "toc_window_display": false
  }
 },
 "nbformat": 4,
 "nbformat_minor": 4
}
