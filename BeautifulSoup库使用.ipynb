{
 "cells": [
  {
   "cell_type": "markdown",
   "metadata": {},
   "source": [
    "# beautifulsoup "
   ]
  },
  {
   "cell_type": "markdown",
   "metadata": {},
   "source": [
    "beautifulsoup支持python标准库中的HTML解析器，还支持一些第三方的解析器，如果我们不安装它，则 Python 会使用 Python默认的解析器，lxml 解析器更加强大，速度更快，推荐安装"
   ]
  },
  {
   "cell_type": "markdown",
   "metadata": {},
   "source": [
    "## 基本使用 "
   ]
  },
  {
   "cell_type": "code",
   "execution_count": 15,
   "metadata": {},
   "outputs": [
    {
     "name": "stdout",
     "output_type": "stream",
     "text": [
      "<html lang=\"en\">\n",
      " <head>\n",
      "  <meta charset=\"utf-8\"/>\n",
      "  <meta content=\"IE=edge\" http-equiv=\"X-UA-Compatible\"/>\n",
      "  <meta content=\"width=device-width, initial-scale=1.0, maximum-scale=1.0, user-scalable=0\" name=\"viewport\"/>\n",
      "  <title>\n",
      "   客户中心 - Shadowsocks.com\n",
      "  </title>\n",
      " </head>\n",
      " <body>\n",
      "  <p class=\"title\" name=\"dromouse\">\n",
      "   <b>\n",
      "    chenzhi\n",
      "   </b>\n",
      "  </p>\n",
      "  <p class=\"title\" name=\"dromouse\">\n",
      "   <b>\n",
      "    cz\n",
      "   </b>\n",
      "  </p>\n",
      "  <p class=\"title\" name=\"dromouse\">\n",
      "   <b>\n",
      "    cz1\n",
      "   </b>\n",
      "  </p>\n",
      " </body>\n",
      "</html>\n",
      "客户中心 - Shadowsocks.com\n"
     ]
    }
   ],
   "source": [
    "html = \"\"\"\n",
    "    <html lang=\"en\" >\n",
    "    <head>\n",
    "        <meta charset=\"utf-8\" />\n",
    "        <meta http-equiv=\"X-UA-Compatible\" content=\"IE=edge\">\n",
    "        <meta name=\"viewport\" content=\"width=device-width, initial-scale=1.0, maximum-scale=1.0, user-scalable=0\">\n",
    "        <title>客户中心 - Shadowsocks.com</title>\n",
    "    </head>\n",
    "    <body>\n",
    "        <p class=\"title\" name=\"dromouse\"><b> chenzhi </b></p>\n",
    "        <p class=\"title\" name=\"dromouse\"><b> cz </b></p>\n",
    "        <p class=\"title\" name=\"dromouse\"><b> cz1 </b></p>\n",
    "    </body>\n",
    "\n",
    "\"\"\"\n",
    "\n",
    "from bs4 import BeautifulSoup\n",
    "\n",
    "soup = BeautifulSoup(html,'lxml')  # 声明对象\n",
    "\n",
    "print(soup.prettify())  # 格式化html,自动将代码补全\n",
    "\n",
    "print(soup.title.string) # 选择title标签"
   ]
  },
  {
   "cell_type": "markdown",
   "metadata": {},
   "source": [
    "## 标签选择器 "
   ]
  },
  {
   "cell_type": "markdown",
   "metadata": {},
   "source": [
    "我们通过使用soup.标签名,就可以获得这个标签的内容\n",
    "\n",
    "*通过这种方式获取标签，如果文档中有多个标签，返回的就是第一个标签的内容*"
   ]
  },
  {
   "cell_type": "markdown",
   "metadata": {},
   "source": [
    "### 选择元素"
   ]
  },
  {
   "cell_type": "code",
   "execution_count": 2,
   "metadata": {},
   "outputs": [
    {
     "name": "stdout",
     "output_type": "stream",
     "text": [
      "<title>客户中心 - Shadowsocks.com</title>\n",
      "<class 'bs4.element.Tag'>\n",
      "<head>\n",
      "<meta charset=\"utf-8\"/>\n",
      "<meta content=\"IE=edge\" http-equiv=\"X-UA-Compatible\"/>\n",
      "<meta content=\"width=device-width, initial-scale=1.0, maximum-scale=1.0, user-scalable=0\" name=\"viewport\"/>\n",
      "<title>客户中心 - Shadowsocks.com</title>\n",
      "</head>\n"
     ]
    }
   ],
   "source": [
    "print(soup.title)\n",
    "\n",
    "print(type(soup.title))\n",
    "\n",
    "print(soup.head)"
   ]
  },
  {
   "cell_type": "markdown",
   "metadata": {},
   "source": [
    "### 获取标签名称 "
   ]
  },
  {
   "cell_type": "markdown",
   "metadata": {},
   "source": [
    "使用name方法，soup.tag.name"
   ]
  },
  {
   "cell_type": "code",
   "execution_count": 4,
   "metadata": {},
   "outputs": [
    {
     "name": "stdout",
     "output_type": "stream",
     "text": [
      "title\n"
     ]
    }
   ],
   "source": [
    "print(soup.title.name)"
   ]
  },
  {
   "cell_type": "markdown",
   "metadata": {},
   "source": [
    "### 获取属性 "
   ]
  },
  {
   "cell_type": "markdown",
   "metadata": {},
   "source": [
    "soup.tag['attr'] 或者 soup.tag.attrs['attr']"
   ]
  },
  {
   "cell_type": "code",
   "execution_count": 6,
   "metadata": {},
   "outputs": [
    {
     "name": "stdout",
     "output_type": "stream",
     "text": [
      "dromouse\n",
      "dromouse\n"
     ]
    }
   ],
   "source": [
    "print(soup.p['name'])\n",
    "\n",
    "# 等价上面\n",
    "print(soup.p.attrs['name'])"
   ]
  },
  {
   "cell_type": "markdown",
   "metadata": {},
   "source": [
    "### 获取内容 "
   ]
  },
  {
   "cell_type": "markdown",
   "metadata": {},
   "source": [
    "soup.tag.string"
   ]
  },
  {
   "cell_type": "code",
   "execution_count": 7,
   "metadata": {},
   "outputs": [
    {
     "name": "stdout",
     "output_type": "stream",
     "text": [
      " chenzhi \n"
     ]
    }
   ],
   "source": [
    "print(soup.p.string)"
   ]
  },
  {
   "cell_type": "markdown",
   "metadata": {},
   "source": [
    "### 嵌套选择"
   ]
  },
  {
   "cell_type": "code",
   "execution_count": 8,
   "metadata": {},
   "outputs": [
    {
     "name": "stdout",
     "output_type": "stream",
     "text": [
      " chenzhi \n"
     ]
    }
   ],
   "source": [
    "print(soup.body.p.string) # 标签嵌套"
   ]
  },
  {
   "cell_type": "markdown",
   "metadata": {},
   "source": [
    "### 子节点和子孙节点 "
   ]
  },
  {
   "cell_type": "code",
   "execution_count": 9,
   "metadata": {},
   "outputs": [
    {
     "name": "stdout",
     "output_type": "stream",
     "text": [
      "['\\n', <p class=\"title\" name=\"dromouse\"><b> chenzhi </b></p>, '\\n']\n"
     ]
    }
   ],
   "source": [
    "# contents 返回所有子节点以列表形式返回\n",
    "print(soup.body.contents) "
   ]
  },
  {
   "cell_type": "code",
   "execution_count": 10,
   "metadata": {},
   "outputs": [
    {
     "name": "stdout",
     "output_type": "stream",
     "text": [
      "<list_iterator object at 0x7f3b90107990>\n",
      "0 <b> chenzhi </b>\n"
     ]
    }
   ],
   "source": [
    "# children 获取子节点，返回类型为迭代器,需要遍历输出\n",
    "\n",
    "print(soup.p.children)\n",
    "\n",
    "for i,item in enumerate(soup.p.children):\n",
    "    print(i,item)"
   ]
  },
  {
   "cell_type": "code",
   "execution_count": 11,
   "metadata": {},
   "outputs": [
    {
     "name": "stdout",
     "output_type": "stream",
     "text": [
      "<generator object Tag.descendants at 0x7f3b7eeaf250>\n",
      "0 <b> chenzhi </b>\n",
      "1  chenzhi \n"
     ]
    }
   ],
   "source": [
    "# descendants 获取所有子孙节点，返回类型为迭代器\n",
    "\n",
    "print(soup.p.descendants)\n",
    "\n",
    "for i,item in enumerate(soup.p.descendants):\n",
    "    print(i,item)"
   ]
  },
  {
   "cell_type": "markdown",
   "metadata": {},
   "source": [
    "### 父节点和祖先节点 "
   ]
  },
  {
   "cell_type": "code",
   "execution_count": 12,
   "metadata": {},
   "outputs": [
    {
     "name": "stdout",
     "output_type": "stream",
     "text": [
      "<body>\n",
      "<p class=\"title\" name=\"dromouse\"><b> chenzhi </b></p>\n",
      "</body>\n"
     ]
    }
   ],
   "source": [
    "# parent 获取父节点\n",
    "print(soup.p.parent)"
   ]
  },
  {
   "cell_type": "code",
   "execution_count": 14,
   "metadata": {},
   "outputs": [
    {
     "name": "stdout",
     "output_type": "stream",
     "text": [
      "<generator object PageElement.parents at 0x7f3b7ec5c3d0>\n",
      "[(0, <body>\n",
      "<p class=\"title\" name=\"dromouse\"><b> chenzhi </b></p>\n",
      "</body>), (1, <html lang=\"en\">\n",
      "<head>\n",
      "<meta charset=\"utf-8\"/>\n",
      "<meta content=\"IE=edge\" http-equiv=\"X-UA-Compatible\"/>\n",
      "<meta content=\"width=device-width, initial-scale=1.0, maximum-scale=1.0, user-scalable=0\" name=\"viewport\"/>\n",
      "<title>客户中心 - Shadowsocks.com</title>\n",
      "</head>\n",
      "<body>\n",
      "<p class=\"title\" name=\"dromouse\"><b> chenzhi </b></p>\n",
      "</body>\n",
      "</html>), (2, <html lang=\"en\">\n",
      "<head>\n",
      "<meta charset=\"utf-8\"/>\n",
      "<meta content=\"IE=edge\" http-equiv=\"X-UA-Compatible\"/>\n",
      "<meta content=\"width=device-width, initial-scale=1.0, maximum-scale=1.0, user-scalable=0\" name=\"viewport\"/>\n",
      "<title>客户中心 - Shadowsocks.com</title>\n",
      "</head>\n",
      "<body>\n",
      "<p class=\"title\" name=\"dromouse\"><b> chenzhi </b></p>\n",
      "</body>\n",
      "</html>)]\n"
     ]
    }
   ],
   "source": [
    "# parents 获取祖先节点，需要进行迭代\n",
    " \n",
    "print(soup.p.parents) \n",
    "\n",
    "print(list(enumerate(soup.p.parents)))"
   ]
  },
  {
   "cell_type": "markdown",
   "metadata": {},
   "source": [
    "### 兄弟节点 "
   ]
  },
  {
   "cell_type": "code",
   "execution_count": 16,
   "metadata": {},
   "outputs": [
    {
     "name": "stdout",
     "output_type": "stream",
     "text": [
      "[(0, '\\n'), (1, <p class=\"title\" name=\"dromouse\"><b> cz </b></p>), (2, '\\n'), (3, <p class=\"title\" name=\"dromouse\"><b> cz1 </b></p>), (4, '\\n')]\n",
      "[(0, '\\n')]\n"
     ]
    }
   ],
   "source": [
    "# next_siblings 获取后面的兄弟节点\n",
    "# previous_siblings 获取前面的兄弟节点\n",
    "\n",
    "print(list(enumerate(soup.p.next_siblings)))\n",
    "\n",
    "print(list(enumerate(soup.p.previous_siblings)))"
   ]
  },
  {
   "cell_type": "markdown",
   "metadata": {},
   "source": [
    "## 标准选择器 "
   ]
  },
  {
   "cell_type": "markdown",
   "metadata": {},
   "source": [
    "### find_all"
   ]
  },
  {
   "cell_type": "markdown",
   "metadata": {},
   "source": [
    "find_all 可根据标签名(name)、属性(attrs)、内容(text)查找文档"
   ]
  },
  {
   "cell_type": "markdown",
   "metadata": {},
   "source": [
    "#### name "
   ]
  },
  {
   "cell_type": "code",
   "execution_count": 19,
   "metadata": {
    "scrolled": true
   },
   "outputs": [
    {
     "name": "stdout",
     "output_type": "stream",
     "text": [
      "[<ul class=\"list\" id=\"list-1\">\n",
      "<li class=\"elements\">foo</li><li>\n",
      "</li><li class=\"elements\">foo1</li><li>\n",
      "</li><li class=\"elements\">foo2</li><li>\n",
      "</li></ul>, <ul class=\"list list-small\" id=\"list-2\">\n",
      "<li class=\"elements\">foo3</li><li>\n",
      "</li><li class=\"elements\">foo4</li><li>\n",
      "</li><li class=\"elements\">foo5</li><li>\n",
      "</li></ul>]\n",
      "\n",
      "<ul class=\"list\" id=\"list-1\">\n",
      "<li class=\"elements\">foo</li><li>\n",
      "</li><li class=\"elements\">foo1</li><li>\n",
      "</li><li class=\"elements\">foo2</li><li>\n",
      "</li></ul>\n"
     ]
    }
   ],
   "source": [
    "html = '''\n",
    "\n",
    "<div class = \"panel\">\n",
    "    <div class = \"panel-heading\">\n",
    "        <h4>hello</h4>\n",
    "    </div>\n",
    "    <div class = \"panel-body\">\n",
    "        <ul class = \"list\" id = \"list-1\">\n",
    "            <li class = \"elements\">foo<li>\n",
    "            <li class = \"elements\">foo1<li>\n",
    "            <li class = \"elements\">foo2<li>\n",
    "        </ul>\n",
    "        <ul class = \"list list-small\" id = \"list-2\">\n",
    "            <li class = \"elements\">foo3<li>\n",
    "            <li class = \"elements\">foo4<li>\n",
    "            <li class = \"elements\">foo5<li>\n",
    "        </ul>\n",
    "    </div>\n",
    "</div>\n",
    "'''\n",
    "soup = BeautifulSoup(html,'lxml')\n",
    "print(soup.find_all('ul'))\n",
    "print()\n",
    "print(soup.find_all('ul')[0])"
   ]
  },
  {
   "cell_type": "markdown",
   "metadata": {},
   "source": [
    "#### attrs "
   ]
  },
  {
   "cell_type": "markdown",
   "metadata": {},
   "source": [
    "attrs参数为字典类型"
   ]
  },
  {
   "cell_type": "code",
   "execution_count": 20,
   "metadata": {},
   "outputs": [
    {
     "name": "stdout",
     "output_type": "stream",
     "text": [
      "[<ul class=\"list\" id=\"list-1\">\n",
      "<li class=\"elements\">foo</li><li>\n",
      "</li><li class=\"elements\">foo1</li><li>\n",
      "</li><li class=\"elements\">foo2</li><li>\n",
      "</li></ul>]\n"
     ]
    }
   ],
   "source": [
    "print(soup.find_all(attrs={'id':'list-1'}))"
   ]
  },
  {
   "cell_type": "code",
   "execution_count": 22,
   "metadata": {},
   "outputs": [
    {
     "name": "stdout",
     "output_type": "stream",
     "text": [
      "[<ul class=\"list\" id=\"list-1\">\n",
      "<li class=\"elements\">foo</li><li>\n",
      "</li><li class=\"elements\">foo1</li><li>\n",
      "</li><li class=\"elements\">foo2</li><li>\n",
      "</li></ul>]\n",
      "[<li class=\"elements\">foo</li>, <li class=\"elements\">foo1</li>, <li class=\"elements\">foo2</li>, <li class=\"elements\">foo3</li>, <li class=\"elements\">foo4</li>, <li class=\"elements\">foo5</li>]\n"
     ]
    }
   ],
   "source": [
    "# 还有一些常见的属性不需要用字典形式指定\n",
    "\n",
    "print(soup.find_all(id=\"list-1\"))\n",
    "\n",
    "print(soup.find_all(class_=\"elements\"))"
   ]
  },
  {
   "cell_type": "markdown",
   "metadata": {},
   "source": [
    "#### text "
   ]
  },
  {
   "cell_type": "code",
   "execution_count": 23,
   "metadata": {},
   "outputs": [
    {
     "name": "stdout",
     "output_type": "stream",
     "text": [
      "['foo']\n"
     ]
    }
   ],
   "source": [
    "print(soup.find_all(text=\"foo\"))"
   ]
  },
  {
   "cell_type": "markdown",
   "metadata": {},
   "source": [
    "### find"
   ]
  },
  {
   "cell_type": "markdown",
   "metadata": {},
   "source": [
    "find返回单个元素，find_all返回所有元素"
   ]
  },
  {
   "cell_type": "code",
   "execution_count": 24,
   "metadata": {},
   "outputs": [
    {
     "name": "stdout",
     "output_type": "stream",
     "text": [
      "<ul class=\"list\" id=\"list-1\">\n",
      "<li class=\"elements\">foo</li><li>\n",
      "</li><li class=\"elements\">foo1</li><li>\n",
      "</li><li class=\"elements\">foo2</li><li>\n",
      "</li></ul>\n"
     ]
    }
   ],
   "source": [
    "print(soup.find('ul'))"
   ]
  },
  {
   "cell_type": "markdown",
   "metadata": {},
   "source": [
    "## CSS 选择器 "
   ]
  },
  {
   "cell_type": "markdown",
   "metadata": {},
   "source": [
    "通过select()直接传入CSS选择器即可完成选择\n",
    "\n",
    "select 选择方式\n",
    "\n",
    "1. 如果是选择class,那么class名前要加一个 . 号\n",
    "2. 直接选择标签\n",
    "3. 如果使用id进行选择，id名前要加一个 # 号"
   ]
  },
  {
   "cell_type": "code",
   "execution_count": 26,
   "metadata": {},
   "outputs": [
    {
     "name": "stdout",
     "output_type": "stream",
     "text": [
      "[<div class=\"panel-heading\">\n",
      "<h4>hello</h4>\n",
      "</div>]\n",
      "[<li class=\"elements\">foo</li>, <li>\n",
      "</li>, <li class=\"elements\">foo1</li>, <li>\n",
      "</li>, <li class=\"elements\">foo2</li>, <li>\n",
      "</li>, <li class=\"elements\">foo3</li>, <li>\n",
      "</li>, <li class=\"elements\">foo4</li>, <li>\n",
      "</li>, <li class=\"elements\">foo5</li>, <li>\n",
      "</li>]\n",
      "[<li class=\"elements\">foo3</li>, <li class=\"elements\">foo4</li>, <li class=\"elements\">foo5</li>]\n"
     ]
    }
   ],
   "source": [
    "print(soup.select('.panel .panel-heading')) # CSS 选择 class\n",
    "\n",
    "print(soup.select('ul li')) # CSS 选择标签\n",
    "\n",
    "print(soup.select('#list-2 .elements')) # CSS 选择 id"
   ]
  },
  {
   "cell_type": "markdown",
   "metadata": {},
   "source": [
    "### 获取属性 "
   ]
  },
  {
   "cell_type": "code",
   "execution_count": 27,
   "metadata": {},
   "outputs": [
    {
     "name": "stdout",
     "output_type": "stream",
     "text": [
      "list-1\n",
      "list-2\n"
     ]
    }
   ],
   "source": [
    "for ul in soup.select('ul'):\n",
    "    print(ul['id']) # 等价于 ul.attrs['id']"
   ]
  },
  {
   "cell_type": "markdown",
   "metadata": {},
   "source": [
    "### 获取内容 "
   ]
  },
  {
   "cell_type": "code",
   "execution_count": 28,
   "metadata": {
    "scrolled": true
   },
   "outputs": [
    {
     "ename": "NameError",
     "evalue": "name 'li' is not defined",
     "output_type": "error",
     "traceback": [
      "\u001b[0;31m---------------------------------------------------------------------------\u001b[0m",
      "\u001b[0;31mNameError\u001b[0m                                 Traceback (most recent call last)",
      "\u001b[0;32m<ipython-input-28-929d0f2ef701>\u001b[0m in \u001b[0;36m<module>\u001b[0;34m\u001b[0m\n\u001b[1;32m      1\u001b[0m \u001b[0;32mfor\u001b[0m \u001b[0mul\u001b[0m \u001b[0;32min\u001b[0m \u001b[0msoup\u001b[0m\u001b[0;34m.\u001b[0m\u001b[0mselect\u001b[0m\u001b[0;34m(\u001b[0m\u001b[0;34m'li'\u001b[0m\u001b[0;34m)\u001b[0m\u001b[0;34m:\u001b[0m\u001b[0;34m\u001b[0m\u001b[0;34m\u001b[0m\u001b[0m\n\u001b[0;32m----> 2\u001b[0;31m     \u001b[0mprint\u001b[0m\u001b[0;34m(\u001b[0m\u001b[0mli\u001b[0m\u001b[0;34m.\u001b[0m\u001b[0mget_text\u001b[0m\u001b[0;34m(\u001b[0m\u001b[0;34m)\u001b[0m\u001b[0;34m)\u001b[0m\u001b[0;34m\u001b[0m\u001b[0;34m\u001b[0m\u001b[0m\n\u001b[0m",
      "\u001b[0;31mNameError\u001b[0m: name 'li' is not defined"
     ]
    }
   ],
   "source": [
    "for li in soup.select('li'):\n",
    "    print(li.get_text())"
   ]
  },
  {
   "cell_type": "markdown",
   "metadata": {},
   "source": [
    "## 总结 "
   ]
  },
  {
   "cell_type": "markdown",
   "metadata": {},
   "source": [
    "推荐使用lxml解析库，必要时使用html.parse\n",
    "\n",
    "标签选择筛选功能弱但是速度快\n",
    "\n",
    "建议使用 find()、find_all() 查找匹配单个结果或多个结果\n",
    "\n",
    "如果对 CSS 选择器熟悉建议使用 select\n",
    "\n",
    "记住常用的获取属性和文本值的方法"
   ]
  }
 ],
 "metadata": {
  "kernelspec": {
   "display_name": "Python 3",
   "language": "python",
   "name": "python3"
  },
  "language_info": {
   "codemirror_mode": {
    "name": "ipython",
    "version": 3
   },
   "file_extension": ".py",
   "mimetype": "text/x-python",
   "name": "python",
   "nbconvert_exporter": "python",
   "pygments_lexer": "ipython3",
   "version": "3.7.5"
  },
  "toc": {
   "base_numbering": 1,
   "nav_menu": {},
   "number_sections": true,
   "sideBar": true,
   "skip_h1_title": false,
   "title_cell": "Table of Contents",
   "title_sidebar": "Contents",
   "toc_cell": false,
   "toc_position": {},
   "toc_section_display": true,
   "toc_window_display": false
  }
 },
 "nbformat": 4,
 "nbformat_minor": 4
}
