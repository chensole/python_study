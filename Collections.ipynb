{
 "cells": [
  {
   "cell_type": "markdown",
   "metadata": {},
   "source": [
    "# Collections"
   ]
  },
  {
   "cell_type": "markdown",
   "metadata": {},
   "source": [
    "在python中，每一个集合有一个特征，能被用来获取期望的结果\n",
    "\n",
    "这个模块实现了特定目标的容器，以提供Python标准内建容器 dict , list , set , 和 tuple 的替代选择"
   ]
  },
  {
   "cell_type": "markdown",
   "metadata": {},
   "source": [
    "## Counter()"
   ]
  },
  {
   "cell_type": "markdown",
   "metadata": {},
   "source": [
    "counter是一个容器，用来获取值的频数"
   ]
  },
  {
   "cell_type": "markdown",
   "metadata": {},
   "source": [
    "import collections\n",
    "collections.Counter()"
   ]
  },
  {
   "cell_type": "code",
   "execution_count": 3,
   "metadata": {},
   "outputs": [
    {
     "data": {
      "text/plain": [
       "Counter({'a': 2, 'b': 1, 'c': 1, 'd': 3})"
      ]
     },
     "execution_count": 3,
     "metadata": {},
     "output_type": "execute_result"
    }
   ],
   "source": [
    "import collections\n",
    "collections.Counter(['a','a','b','c','d','d','d'])"
   ]
  },
  {
   "cell_type": "code",
   "execution_count": 4,
   "metadata": {},
   "outputs": [
    {
     "data": {
      "text/plain": [
       "Counter({'s': 1,\n",
       "         't': 1,\n",
       "         'r': 1,\n",
       "         'i': 2,\n",
       "         'n': 2,\n",
       "         'g': 2,\n",
       "         ' ': 1,\n",
       "         'a': 2,\n",
       "         'm': 1,\n",
       "         'z': 1})"
      ]
     },
     "execution_count": 4,
     "metadata": {},
     "output_type": "execute_result"
    }
   ],
   "source": [
    "collections.Counter(\"string amazing\")"
   ]
  },
  {
   "cell_type": "markdown",
   "metadata": {},
   "source": [
    "## update()"
   ]
  },
  {
   "cell_type": "markdown",
   "metadata": {},
   "source": [
    "向已存在的counter中增加新的值"
   ]
  },
  {
   "cell_type": "code",
   "execution_count": 5,
   "metadata": {},
   "outputs": [
    {
     "data": {
      "text/plain": [
       "Counter({'a': 2, 'b': 2, 'c': 2})"
      ]
     },
     "execution_count": 5,
     "metadata": {},
     "output_type": "execute_result"
    }
   ],
   "source": [
    "co = collections.Counter(['a','b','c'])\n",
    "co.update(['a','b','c'])\n",
    "co"
   ]
  },
  {
   "cell_type": "code",
   "execution_count": 7,
   "metadata": {},
   "outputs": [
    {
     "name": "stdout",
     "output_type": "stream",
     "text": [
      "Counter({0: 7, 113: 3, 120: 2, 104: 2, 1: 2, 97: 2, 128: 1, 3: 1, 93: 1, 40: 1, 6: 1, 112: 1, 121: 1, 116: 1, 111: 1, 110: 1, 4: 1, 106: 1, 118: 1, 2: 1, 101: 1, 46: 1})\n"
     ]
    }
   ],
   "source": [
    "# 计算文本中所有字母的频数\n",
    "co = collections.Counter()\n",
    "with open(\"output.txt\",'rb') as f:\n",
    "    for line in f:\n",
    "        co.update(line.lower())\n",
    "\n",
    "print(co)\n",
    "\n",
    "f.close()"
   ]
  },
  {
   "cell_type": "markdown",
   "metadata": {},
   "source": [
    "## most_common()"
   ]
  },
  {
   "cell_type": "markdown",
   "metadata": {},
   "source": [
    "获取频数最高的前几个\n",
    "\n",
    "most_common(number)"
   ]
  },
  {
   "cell_type": "code",
   "execution_count": 8,
   "metadata": {},
   "outputs": [
    {
     "data": {
      "text/plain": [
       "[(0, 7), (113, 3), (120, 2), (104, 2), (1, 2)]"
      ]
     },
     "execution_count": 8,
     "metadata": {},
     "output_type": "execute_result"
    }
   ],
   "source": [
    "co.most_common(5)"
   ]
  },
  {
   "cell_type": "markdown",
   "metadata": {},
   "source": [
    "## 集合的操作"
   ]
  },
  {
   "cell_type": "markdown",
   "metadata": {},
   "source": [
    "在collection模块中，你可以应用一些集合操作"
   ]
  },
  {
   "cell_type": "code",
   "execution_count": 24,
   "metadata": {},
   "outputs": [
    {
     "name": "stdout",
     "output_type": "stream",
     "text": [
      "Counter({'A': 2, 'C': 1, 'L': 1, 'E': 1, 'O': 1, 'P': 1, 'T': 1, 'R': 1})\n",
      "Counter({'U': 2, 'S': 2, 'A': 2, 'J': 1, 'L': 1, 'I': 1, ' ': 1, 'C': 1, 'E': 1, 'R': 1})\n",
      "addition Counter({'A': 4, 'C': 2, 'L': 2, 'E': 2, 'R': 2, 'U': 2, 'S': 2, 'O': 1, 'P': 1, 'T': 1, 'J': 1, 'I': 1, ' ': 1})\n",
      "subtraction Counter({'O': 1, 'P': 1, 'T': 1})\n",
      "union Counter({'A': 2, 'U': 2, 'S': 2, 'C': 1, 'L': 1, 'E': 1, 'O': 1, 'P': 1, 'T': 1, 'R': 1, 'J': 1, 'I': 1, ' ': 1})\n",
      "intersection Counter({'A': 2, 'C': 1, 'L': 1, 'E': 1, 'R': 1})\n"
     ]
    }
   ],
   "source": [
    "co1 = collections.Counter(['C','L','E','O','P','A','T','R','A'])\n",
    "co2 = collections.Counter('JULIUS CAESAR')\n",
    "\n",
    "print(co1,co2,sep=\"\\n\")\n",
    "\n",
    "# 集合相加\n",
    "print('addition',co1+co2)\n",
    "\n",
    "# 集合相减\n",
    "print('subtraction',co1-co2)\n",
    "\n",
    "# 并集\n",
    "print('union',co1|co2)\n",
    "\n",
    "# 交集\n",
    "print('intersection',co1&co2)"
   ]
  },
  {
   "cell_type": "markdown",
   "metadata": {},
   "source": [
    "## Deque"
   ]
  },
  {
   "cell_type": "markdown",
   "metadata": {},
   "source": [
    "双向队列，类似于list,允许在两头添加和删除元素，速度很快\n",
    "\n",
    "list是一个查询效率高于更新操作的数据结构，比如删除一个元素和插入一个元素执行效率就非常低，因为还要对剩下的元素进行移动"
   ]
  },
  {
   "cell_type": "code",
   "execution_count": 26,
   "metadata": {},
   "outputs": [
    {
     "name": "stdout",
     "output_type": "stream",
     "text": [
      "deque(['I', 'n', 'd', 'i', 'a'])\n",
      "deque(['I', 'n', 'd', 'i'])\n"
     ]
    }
   ],
   "source": [
    "de = collections.deque('India')\n",
    "print(de)\n",
    "\n",
    "# 从右边移除\n",
    "de.remove('a')\n",
    "print(de)"
   ]
  },
  {
   "cell_type": "markdown",
   "metadata": {},
   "source": [
    "### 填充队列"
   ]
  },
  {
   "cell_type": "markdown",
   "metadata": {},
   "source": [
    "#### extend()"
   ]
  },
  {
   "cell_type": "markdown",
   "metadata": {},
   "source": [
    "右填充，会展开序列"
   ]
  },
  {
   "cell_type": "code",
   "execution_count": null,
   "metadata": {},
   "outputs": [],
   "source": [
    "d1 = collections.deque('hello')\n",
    "d1.extend('raj')\n",
    "print(d1)"
   ]
  },
  {
   "cell_type": "markdown",
   "metadata": {},
   "source": [
    "#### append()"
   ]
  },
  {
   "cell_type": "markdown",
   "metadata": {},
   "source": [
    "右填充，不会展开序列"
   ]
  },
  {
   "cell_type": "code",
   "execution_count": 28,
   "metadata": {},
   "outputs": [
    {
     "name": "stdout",
     "output_type": "stream",
     "text": [
      "deque(['h', 'e', 'l', 'l', 'o', 'r', 'a', 'j', 'raj'])\n"
     ]
    }
   ],
   "source": [
    "d1.append('raj')\n",
    "print(d1)"
   ]
  },
  {
   "cell_type": "markdown",
   "metadata": {},
   "source": [
    "#### extendleft()"
   ]
  },
  {
   "cell_type": "markdown",
   "metadata": {},
   "source": [
    "左填充,展开序列，不同的是插入顺序与原序列顺序相反"
   ]
  },
  {
   "cell_type": "code",
   "execution_count": 31,
   "metadata": {},
   "outputs": [
    {
     "name": "stdout",
     "output_type": "stream",
     "text": [
      "deque(['r', 'a', 'j', 'j', 'a', 'r', 'j', 'a', 'r', 'h', 'e', 'l', 'l', 'o', 'r', 'a', 'j', 'raj'])\n"
     ]
    }
   ],
   "source": [
    "d1.extendleft('raj')\n",
    "print(d1)"
   ]
  },
  {
   "cell_type": "markdown",
   "metadata": {},
   "source": [
    "#### appendleft()"
   ]
  },
  {
   "cell_type": "markdown",
   "metadata": {},
   "source": [
    "左填充，不展开序列"
   ]
  },
  {
   "cell_type": "code",
   "execution_count": 32,
   "metadata": {},
   "outputs": [
    {
     "name": "stdout",
     "output_type": "stream",
     "text": [
      "deque(['raj', 'r', 'a', 'j', 'j', 'a', 'r', 'j', 'a', 'r', 'h', 'e', 'l', 'l', 'o', 'r', 'a', 'j', 'raj'])\n"
     ]
    }
   ],
   "source": [
    "d1.appendleft('raj')\n",
    "print(d1)"
   ]
  },
  {
   "cell_type": "markdown",
   "metadata": {},
   "source": [
    "### 队列consumption"
   ]
  },
  {
   "cell_type": "markdown",
   "metadata": {},
   "source": [
    "从队列两端或一端去除元素"
   ]
  },
  {
   "cell_type": "markdown",
   "metadata": {},
   "source": [
    "#### pop()"
   ]
  },
  {
   "cell_type": "markdown",
   "metadata": {},
   "source": [
    "从队列右端弹出元素"
   ]
  },
  {
   "cell_type": "code",
   "execution_count": 35,
   "metadata": {},
   "outputs": [
    {
     "name": "stdout",
     "output_type": "stream",
     "text": [
      "deque([1, 2, 3, 4])\n",
      "deque([1, 2, 3])\n"
     ]
    }
   ],
   "source": [
    "d2 = collections.deque([1,2,3,4])\n",
    "print(d2)\n",
    "\n",
    "d2.pop()\n",
    "print(d2)"
   ]
  },
  {
   "cell_type": "markdown",
   "metadata": {},
   "source": [
    "#### popleft()"
   ]
  },
  {
   "cell_type": "markdown",
   "metadata": {},
   "source": [
    "从队列左端弹出元素"
   ]
  },
  {
   "cell_type": "code",
   "execution_count": 36,
   "metadata": {},
   "outputs": [
    {
     "name": "stdout",
     "output_type": "stream",
     "text": [
      "deque([2, 3])\n"
     ]
    }
   ],
   "source": [
    "d2.popleft()\n",
    "print(d2)"
   ]
  },
  {
   "cell_type": "markdown",
   "metadata": {},
   "source": [
    "### 队列旋转(deque rotation)"
   ]
  },
  {
   "cell_type": "markdown",
   "metadata": {},
   "source": [
    "rotate(num)\n",
    "\n",
    "左旋转元素，被移动到左边，num为正\n",
    "右旋转元素，被移动到右边，num为负\n",
    "\n",
    "num表示旋转的元素数量"
   ]
  },
  {
   "cell_type": "code",
   "execution_count": 38,
   "metadata": {},
   "outputs": [
    {
     "name": "stdout",
     "output_type": "stream",
     "text": [
      "deque([0, 1, 2, 3, 4, 5, 6, 7, 8, 9])\n",
      "deque([8, 9, 0, 1, 2, 3, 4, 5, 6, 7])\n",
      "deque([0, 1, 2, 3, 4, 5, 6, 7, 8, 9])\n"
     ]
    }
   ],
   "source": [
    "d3 = collections.deque(range(10))\n",
    "print(d3)\n",
    "\n",
    "d3.rotate(2)\n",
    "print(d3)\n",
    "\n",
    "d3.rotate(-2)\n",
    "print(d3)"
   ]
  },
  {
   "cell_type": "markdown",
   "metadata": {},
   "source": [
    "## 有序字典"
   ]
  },
  {
   "cell_type": "markdown",
   "metadata": {},
   "source": [
    "有序字典OrderdDict是字典的一个子类，它记得元素的添加顺序"
   ]
  },
  {
   "cell_type": "code",
   "execution_count": 45,
   "metadata": {},
   "outputs": [
    {
     "name": "stdout",
     "output_type": "stream",
     "text": [
      "OrderedDict()\n",
      "a:SAS\n",
      "b:PYTHON\n",
      "c:R\n",
      "a:SAS\n",
      "b:PYTHON\n",
      "c:R\n"
     ]
    }
   ],
   "source": [
    "d1 = collections.OrderedDict()\n",
    "print(d1)\n",
    "\n",
    "d1['a'] = 'SAS'\n",
    "d1['b'] = 'PYTHON'\n",
    "d1['c'] = 'R'\n",
    "\n",
    "for k,v in d1.items():\n",
    "    print(k+':'+v)"
   ]
  },
  {
   "cell_type": "markdown",
   "metadata": {},
   "source": [
    "### 基于key对字典排序"
   ]
  },
  {
   "cell_type": "markdown",
   "metadata": {},
   "source": [
    "使用sorted()函数\n",
    "\n",
    "dict = collections.OrderedDict(sorted(d1.items()))"
   ]
  },
  {
   "cell_type": "code",
   "execution_count": 46,
   "metadata": {},
   "outputs": [
    {
     "name": "stdout",
     "output_type": "stream",
     "text": [
      "a : SAS\n",
      "b : JULIA\n",
      "c : SPARK\n",
      "d : PYTHON\n",
      "f : R\n"
     ]
    }
   ],
   "source": [
    "d1 = collections.OrderedDict()\n",
    "d1['a']= 'SAS'\n",
    "d1['d']= 'PYTHON'\n",
    "d1['b']= 'JULIA'\n",
    "d1['f']= 'R'\n",
    "d1['c']= 'SPARK'\n",
    "\n",
    "dict1 = collections.OrderedDict(sorted(d1.items()))\n",
    "\n",
    "for k,v in dict1.items():\n",
    "    print(k,':',v)"
   ]
  },
  {
   "cell_type": "markdown",
   "metadata": {},
   "source": [
    "### 基于value对字典排序"
   ]
  },
  {
   "cell_type": "markdown",
   "metadata": {},
   "source": [
    "dict = collections.OrderedDict(sorted(d1.items(), key=lambda k: k[1]))"
   ]
  },
  {
   "cell_type": "code",
   "execution_count": 61,
   "metadata": {},
   "outputs": [
    {
     "name": "stdout",
     "output_type": "stream",
     "text": [
      "b : JULIA\n",
      "d : PYTHON\n",
      "f : R\n",
      "a : SAS\n",
      "c : SPARK\n"
     ]
    }
   ],
   "source": [
    "dict2 = collections.OrderedDict(sorted(d1.items(),key=lambda k: k[1]))\n",
    "\n",
    "for k,v in dict2.items():\n",
    "    print(k,':',v)"
   ]
  },
  {
   "cell_type": "markdown",
   "metadata": {},
   "source": [
    "## 默认字典"
   ]
  },
  {
   "cell_type": "markdown",
   "metadata": {},
   "source": [
    "至今我们已经学习了普通字典和有序字典，还有一类默认字典，默认字典为不存在的key赋予一个初始value"
   ]
  },
  {
   "cell_type": "code",
   "execution_count": 63,
   "metadata": {},
   "outputs": [
    {
     "name": "stdout",
     "output_type": "stream",
     "text": [
      "defaultdict(<function fun1 at 0x7f92693f1cb0>, {'a': 26, 'b': 27})\n",
      "26\n",
      "27\n",
      "default\n"
     ]
    }
   ],
   "source": [
    "def fun1():\n",
    "    return \"default\"\n",
    "\n",
    "ge = collections.defaultdict(fun1)\n",
    "\n",
    "ge['a'] = 26\n",
    "ge['b'] = 27\n",
    "\n",
    "print(ge)\n",
    "print(ge['a'])\n",
    "print(ge['b'])\n",
    "\n",
    "# 不存在key为'c'时，得到fun1的返回值\n",
    "print(ge['c'])"
   ]
  },
  {
   "cell_type": "code",
   "execution_count": 73,
   "metadata": {},
   "outputs": [
    {
     "name": "stdout",
     "output_type": "stream",
     "text": [
      "default\n",
      "0\n",
      "[]\n",
      "{}\n"
     ]
    }
   ],
   "source": [
    "# 使用lambda构造匿名函数更加方便\n",
    "ge1 = collections.defaultdict(lambda :'default')\n",
    "ge1['a'] = 26\n",
    "ge1['b'] = 27\n",
    "\n",
    "print(ge1['c'])\n",
    "\n",
    "# 使用 int作为函数，默认值为0\n",
    "ge2 = collections.defaultdict(int)\n",
    "print(ge2['a'])\n",
    "\n",
    "# 使用 list作为函数，创建值为list的字典\n",
    "gee = collections.defaultdict(list)\n",
    "print(gee['any-key'])\n",
    "\n",
    "# 使用 dict作为函数，创建值为字典的字典\n",
    "gee1 = collections.defaultdict(dict)\n",
    "print(gee1['any-key'])"
   ]
  },
  {
   "cell_type": "code",
   "execution_count": 69,
   "metadata": {},
   "outputs": [
    {
     "name": "stdout",
     "output_type": "stream",
     "text": [
      "defaultdict(<class 'int'>, {'a': 2, 'b': 1, 'c': 1, 'd': 1})\n"
     ]
    },
    {
     "data": {
      "text/plain": [
       "[('a', 2), ('b', 1)]"
      ]
     },
     "execution_count": 69,
     "metadata": {},
     "output_type": "execute_result"
    }
   ],
   "source": [
    "# 应用场景一: 计算list中元素的频率\n",
    "\n",
    "ge3 = collections.defaultdict(int)\n",
    "\n",
    "list1 = ['a','b','a','c','d']\n",
    "\n",
    "for item in list1:\n",
    "    ge3[item] = ge3[item]+1\n",
    "\n",
    "print(ge3)\n",
    "\n",
    "# 转为Counter类型同样可以\n",
    "co = collections.Counter(list1)\n"
   ]
  },
  {
   "cell_type": "code",
   "execution_count": 72,
   "metadata": {},
   "outputs": [
    {
     "name": "stdout",
     "output_type": "stream",
     "text": [
      "[]\n",
      "defaultdict(<class 'list'>, {'any_value': [], 'US': ['Visconsin'], 'Germany': ['Bavaria'], 'UK': ['Bradfordshire'], 'India': ['punjab'], 'China': ['Shandong', 'Chengdu'], 'Canada': ['Nova Scotia']})\n"
     ]
    }
   ],
   "source": [
    "# 应用场景二:构造复杂的字典结构\n",
    "\n",
    "# 值为list的字典\n",
    "game = collections.defaultdict(list)\n",
    "tuple_list_county = [('US', 'Visconsin'), ('Germany', 'Bavaria'), ('UK',\n",
    "'Bradfordshire'), ('India', 'punjab'), ('China', 'Shandong'), ('Canada',\n",
    "'Nova Scotia'),('China','Chengdu')]\n",
    "\n",
    "print(game[\"any_value\"])\n",
    "\n",
    "for k,v in tuple_list_county:\n",
    "    game[k].append(v)\n",
    "\n",
    "print(game)"
   ]
  },
  {
   "cell_type": "code",
   "execution_count": 89,
   "metadata": {},
   "outputs": [
    {
     "name": "stdout",
     "output_type": "stream",
     "text": [
      "defaultdict(<class 'dict'>, {'a': {'1': '24', '2': '22', '3': '21'}, 'b': {'1': '22', '2': '22', '3': '33'}})\n",
      "a\n",
      "1 : 24\n",
      "2 : 22\n",
      "3 : 21\n",
      "b\n",
      "1 : 22\n",
      "2 : 22\n",
      "3 : 33\n",
      "defaultdict(<class 'dict'>, {'a': OrderedDict([('1', '24'), ('2', '22'), ('3', '21')]), 'b': OrderedDict([('3', '33'), ('1', '22'), ('2', '22')])})\n",
      "a\n",
      "1 : 24\n",
      "b\n",
      "3 : 33\n"
     ]
    }
   ],
   "source": [
    "# 值为字典的字典\n",
    "game = collections.defaultdict(dict)\n",
    "\n",
    "with open('test.txt','r') as f:\n",
    "    for line in f:\n",
    "        li = line.rstrip('\\n').split(sep=\"\\t\")\n",
    "        game[li[0]][li[1]] = li[2]\n",
    "\n",
    "print(game)\n",
    "\n",
    "# 嵌套字典遍历\n",
    "for k,v in game.items():\n",
    "    print(k)\n",
    "    for k1,v1 in game[k].items():\n",
    "        print(k1,\":\",v1)\n",
    "        \n",
    "order = collections.defaultdict(dict)\n",
    "\n",
    "# 对嵌套字典重新排序\n",
    "for k,v in game.items():\n",
    "    order[k] = collections.OrderedDict(sorted(game[k].items(),key=lambda k:k[1],reverse=True))\n",
    "\n",
    "print(order)\n",
    "\n",
    "\n",
    "# 获取每个嵌套字典中的最大值\n",
    "\n",
    "for k,v in game.items():\n",
    "    print(k)\n",
    "    index = max(v,key=v.get)\n",
    "    print(index,':',v[index])\n"
   ]
  },
  {
   "cell_type": "markdown",
   "metadata": {},
   "source": [
    "## 具名元组"
   ]
  },
  {
   "cell_type": "markdown",
   "metadata": {},
   "source": [
    "python允许你创造自己的数据类型，具名元组一个重要的特点就是你可以自定义数据类型"
   ]
  },
  {
   "cell_type": "markdown",
   "metadata": {},
   "source": [
    "collections.namedtuple(\n",
    "    typename,\n",
    "    field_names,\n",
    "    *,\n",
    "    rename=False,\n",
    "    defaults=None,\n",
    "    module=None,\n",
    ")\n",
    "\n",
    "typename表示定义型的数据类型名称\n",
    "field_names为每一个元素定义的字段名\n",
    "如果rename=False,那么无用的字段名将会被索引替代"
   ]
  },
  {
   "cell_type": "code",
   "execution_count": 93,
   "metadata": {},
   "outputs": [
    {
     "name": "stdout",
     "output_type": "stream",
     "text": [
      "<class '__main__.emp'>\n",
      "emp(name='chenzhi', age=26, empid=1)\n",
      "<class '__main__.emp'>\n",
      "chenzhi\n"
     ]
    }
   ],
   "source": [
    "nt = collections.namedtuple('emp','name,age,empid')\n",
    "print(nt)\n",
    "\n",
    "record1 = nt('chenzhi',26,1)\n",
    "print(record1)\n",
    "print(type(record1))\n",
    "\n",
    "# 打印自定义的数据类型\n",
    "print(record1.name)"
   ]
  },
  {
   "cell_type": "markdown",
   "metadata": {},
   "source": [
    "### 具名元组添加list元素及创建字典"
   ]
  },
  {
   "cell_type": "markdown",
   "metadata": {},
   "source": [
    "使用_make(list)向具名元组中添加list"
   ]
  },
  {
   "cell_type": "code",
   "execution_count": 103,
   "metadata": {},
   "outputs": [
    {
     "name": "stdout",
     "output_type": "stream",
     "text": [
      "emp(name='BOB', age=21, empid=34567)\n",
      "[{'name': 'chenzhi', 'age': 22}, {'name': 'chenzhi', 'age': 22}, {'name': 'chenzhi', 'age': 22}]\n"
     ]
    }
   ],
   "source": [
    "# 增加list\n",
    "list1 = ['BOB', 21, 34567]\n",
    "record2 =nt._make(list1)\n",
    "print(record2)"
   ]
  },
  {
   "cell_type": "markdown",
   "metadata": {},
   "source": [
    "使用_asdict()将具名元组转换为字典"
   ]
  },
  {
   "cell_type": "code",
   "execution_count": 99,
   "metadata": {},
   "outputs": [
    {
     "name": "stdout",
     "output_type": "stream",
     "text": [
      "OrderedDict([('name', 'BOB'), ('age', 21), ('empid', 34567)])\n"
     ]
    }
   ],
   "source": [
    "print(record2._asdict())"
   ]
  },
  {
   "cell_type": "markdown",
   "metadata": {},
   "source": [
    "### 修改具名元组值"
   ]
  },
  {
   "cell_type": "markdown",
   "metadata": {},
   "source": [
    "类似于元组，具名元组也是不能改变的，但是你可以使用_replace()函数修改具名元组值,这个操作只是形式上修改了，实际并未修改"
   ]
  },
  {
   "cell_type": "code",
   "execution_count": 108,
   "metadata": {},
   "outputs": [
    {
     "name": "stdout",
     "output_type": "stream",
     "text": [
      "emp(name='BOB', age=33, empid=34567)\n",
      "emp(name='BOB', age=21, empid=34567)\n"
     ]
    }
   ],
   "source": [
    "print(record2._replace(age = 33))\n",
    "\n",
    "print(record2) #实际并未修改"
   ]
  }
 ],
 "metadata": {
  "kernelspec": {
   "display_name": "Python 3",
   "language": "python",
   "name": "python3"
  },
  "language_info": {
   "codemirror_mode": {
    "name": "ipython",
    "version": 3
   },
   "file_extension": ".py",
   "mimetype": "text/x-python",
   "name": "python",
   "nbconvert_exporter": "python",
   "pygments_lexer": "ipython3",
   "version": "3.7.5"
  },
  "toc": {
   "base_numbering": 1,
   "nav_menu": {},
   "number_sections": true,
   "sideBar": true,
   "skip_h1_title": false,
   "title_cell": "Table of Contents",
   "title_sidebar": "Contents",
   "toc_cell": false,
   "toc_position": {},
   "toc_section_display": true,
   "toc_window_display": false
  }
 },
 "nbformat": 4,
 "nbformat_minor": 4
}
