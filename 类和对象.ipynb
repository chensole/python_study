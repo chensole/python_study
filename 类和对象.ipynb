{
 "cells": [
  {
   "cell_type": "markdown",
   "metadata": {},
   "source": [
    "# 类和对象 "
   ]
  },
  {
   "cell_type": "markdown",
   "metadata": {},
   "source": [
    "具有相同共性的东西可以构成一个类，最基本的特征构成基类，在基类的基础上不断继承形成各种分支。类可以简化代码，将复杂的东西简单化"
   ]
  },
  {
   "cell_type": "markdown",
   "metadata": {},
   "source": [
    "## 创建一个类 "
   ]
  },
  {
   "cell_type": "code",
   "execution_count": 19,
   "metadata": {
    "scrolled": true
   },
   "outputs": [
    {
     "name": "stdout",
     "output_type": "stream",
     "text": [
      "<__main__.myclass object at 0x7f1f6d618610>\n"
     ]
    }
   ],
   "source": [
    "class myclass():\n",
    "    pass\n",
    "\n",
    "# 创建实例\n",
    "myobj = myclass()\n",
    "\n",
    "print(myobj)"
   ]
  },
  {
   "cell_type": "markdown",
   "metadata": {},
   "source": [
    "## 实例属性和类属性"
   ]
  },
  {
   "cell_type": "markdown",
   "metadata": {},
   "source": [
    "### 实例变量(属性)"
   ]
  },
  {
   "cell_type": "markdown",
   "metadata": {},
   "source": [
    "一个实例包含的数据成为实例变量(属性)\n",
    "\n",
    "可以自由地给一个实例变量绑定属性"
   ]
  },
  {
   "cell_type": "code",
   "execution_count": null,
   "metadata": {},
   "outputs": [],
   "source": [
    "## myobj实例变量name,及时类中未定义该属性\n",
    "myobj.name = \"chenzhi\"\n"
   ]
  },
  {
   "cell_type": "markdown",
   "metadata": {},
   "source": [
    "#### __init__方法"
   ]
  },
  {
   "cell_type": "markdown",
   "metadata": {},
   "source": [
    "__init__作为一个类的构造符，当用户实例化一个类后，将自动运行__init__\n",
    "\n",
    "由于类可以起到模板的作用，因此，可以在创建实例的时候，把一些我们认为必须绑定的属性强制填写进去。通过定义一个特殊的__init__方法，在构造实例对象时创建该属性"
   ]
  },
  {
   "cell_type": "code",
   "execution_count": 6,
   "metadata": {},
   "outputs": [
    {
     "name": "stdout",
     "output_type": "stream",
     "text": [
      "<__main__.Leapx_org object at 0x7f4244968250>\n",
      "chenzhi zhi\n"
     ]
    }
   ],
   "source": [
    "class Leapx_org():\n",
    "    def __init__(self,first,last,pay):\n",
    "        \n",
    "        # 声明4个实例变量(类似于perl中的属性)\n",
    "        self.f_name = first\n",
    "        self.l_name = last\n",
    "        self.pay_amt = pay\n",
    "        self.full_name = first+\" \"+last\n",
    "# __init__第一参数为类的实例名，通常在python中将其命名为self,类似于perl中的new构造符\n",
    "\n",
    "# first last pay的值自动传递给__init__方法，我们不需要传递self变量\n",
    "myobj1 = Leapx_org(first=\"chenzhi\",\n",
    "                  last=\"zhi\",\n",
    "                  pay=300)\n",
    "\n",
    "print(myobj1)\n",
    "\n",
    "print(myobj1.full_name)"
   ]
  },
  {
   "cell_type": "code",
   "execution_count": 35,
   "metadata": {},
   "outputs": [
    {
     "name": "stdout",
     "output_type": "stream",
     "text": [
      "chenzhi.zhi@xyz.com\n",
      "chenzhi.zhi@xyz.com\n"
     ]
    }
   ],
   "source": [
    "# 实例方法的第一个参数使用是实例本身,即self\n",
    "class Leapx_org1():\n",
    "    def __init__(self,first,last,pay):\n",
    "        self.f_name = first\n",
    "        self.l_name = last\n",
    "        self.pay_amt = pay\n",
    "        self.full_name = first+\" \"+last\n",
    "    \n",
    "    # 实例方法\n",
    "    def make_email(self):\n",
    "        return self.f_name+ \".\"+self.l_name+\"@xyz.com\"\n",
    "    \n",
    "myobj2 = Leapx_org1(first=\"chenzhi\",\n",
    "                  last=\"zhi\",\n",
    "                  pay=300)\n",
    "# 调用类内方法\n",
    "print(myobj2.make_email())\n",
    "\n",
    "# class.method(instance),和上面一样\n",
    "print(Leapx_org1.make_email(myobj2))"
   ]
  },
  {
   "cell_type": "markdown",
   "metadata": {},
   "source": [
    "### 类属性"
   ]
  },
  {
   "cell_type": "markdown",
   "metadata": {},
   "source": [
    "类变量是一个在类的所有实例中共有的变量，类变量在所有实例中必须是相同的"
   ]
  },
  {
   "cell_type": "code",
   "execution_count": 9,
   "metadata": {
    "scrolled": true
   },
   "outputs": [
    {
     "name": "stdout",
     "output_type": "stream",
     "text": [
      "1.2\n",
      "1.2\n"
     ]
    }
   ],
   "source": [
    "class Leapx_org2():\n",
    "    def __init__(self,first,last,pay):\n",
    "        self.f_name = first\n",
    "        self.l_name = last\n",
    "        self.pay_amt = pay\n",
    "        self.full_name = first+\" \"+last\n",
    "    def make_email(self):\n",
    "        return self.f_name+ \".\"+self.l_name+\"@xyz.com\"\n",
    "    def incrementpay(self):\n",
    "        self.pay_amt = int(self.pay_amt*1.20)\n",
    "        return self.pay_amt\n",
    "    \n",
    "# 我们可以将1.2作为一个类变量\n",
    "class Leapx_org3():\n",
    "    mul_num = 1.20　# 类属性\n",
    "    def __init__(self,first,last,pay):\n",
    "        self.f_name = first\n",
    "        self.l_name = last\n",
    "        self.pay_amt = pay\n",
    "        self.full_name = first+\" \"+last\n",
    "    def make_email(self):\n",
    "        return self.f_name+ \".\"+self.l_name+\"@xyz.com\"\n",
    "    def incrementpay(self):\n",
    "        self.pay_amt = int(self.pay_amt*self.mul_num)\n",
    "        return self.pay_amt\n",
    "\n",
    "L_obj2 = Leapx_org3('Ravender', 'Dahiya',70000)\n",
    "\n",
    "# 下面通过实例和类都可以获取类变量，那么为什么实例可以获得类变量\n",
    "# 因为，实例首先检查包含属性，如果实例不包含属性那么它将检查类或者父类是否包含某种属性\n",
    "print(L_obj2.mul_num)\n",
    "print(Leapx_org3.mul_num)\n",
    "\n",
    "# 类不能获得对象的属性\n",
    "# 对象可以获得类的属性，但不能修改类的属性，只有类才能修改"
   ]
  },
  {
   "cell_type": "markdown",
   "metadata": {},
   "source": [
    "#### 特殊的类属性"
   ]
  },
  {
   "cell_type": "markdown",
   "metadata": {},
   "source": [
    "对于所有类，都有一组特殊属性"
   ]
  },
  {
   "cell_type": "markdown",
   "metadata": {},
   "source": [
    "_ _ name_ _：类的名字（字符串）\n",
    "_ _ doc _ _ ：类的文档字符串\n",
    "_ _ bases _ _：类的所有父类组成的元组\n",
    "_ _ dict _ _：类的属性组成的字典\n",
    "_ _ module _ _：类所属的模块\n",
    "_ _ class _ _：类对象的类型"
   ]
  },
  {
   "cell_type": "code",
   "execution_count": 36,
   "metadata": {},
   "outputs": [
    {
     "name": "stdout",
     "output_type": "stream",
     "text": [
      "people\n",
      "\n",
      "        this is a people class\n",
      "    \n"
     ]
    }
   ],
   "source": [
    "class people:\n",
    "    '''\n",
    "        this is a people class\n",
    "    '''\n",
    "    def __init__(self,name,age,sex):\n",
    "        self.name = name\n",
    "        self.age = age\n",
    "        self.sex = sex\n",
    "    pass\n",
    "class stus(people):\n",
    "    def __init__(self,name,age,sex,score):\n",
    "        self.score = score\n",
    "        super().__init__(name,age,sex)\n",
    "    pass\n",
    "\n",
    "cl = stus(name='chenzhi',age=22,sex='boy',score=20)\n",
    "\n",
    "print(people.__name__)\n",
    "print(people.__doc__)"
   ]
  },
  {
   "cell_type": "markdown",
   "metadata": {},
   "source": [
    "__dict__可以获得实例或类的所有属性"
   ]
  },
  {
   "cell_type": "code",
   "execution_count": 14,
   "metadata": {},
   "outputs": [
    {
     "name": "stdout",
     "output_type": "stream",
     "text": [
      "{'f_name': 'Ravender', 'l_name': 'Dahiya', 'pay_amt': 70000, 'full_name': 'Ravender Dahiya'}\n",
      "{'__module__': '__main__', 'mul_num': 1.2, '__init__': <function Leapx_org3.__init__ at 0x7f4244a94950>, 'make_email': <function Leapx_org3.make_email at 0x7f4244a94c20>, 'incrementpay': <function Leapx_org3.incrementpay at 0x7f4244a94f80>, '__dict__': <attribute '__dict__' of 'Leapx_org3' objects>, '__weakref__': <attribute '__weakref__' of 'Leapx_org3' objects>, '__doc__': None}\n",
      "{'f_name': 'mohit', 'l_name': 'RAJ', 'pay_amt': 60000, 'full_name': 'mohit RAJ', 'mul_num2': 1.3}\n",
      "{'__module__': '__main__', 'mul_num': 1.2, '__init__': <function Leapx_org3.__init__ at 0x7f4244a94950>, 'make_email': <function Leapx_org3.make_email at 0x7f4244a94c20>, 'incrementpay': <function Leapx_org3.incrementpay at 0x7f4244a94f80>, '__dict__': <attribute '__dict__' of 'Leapx_org3' objects>, '__weakref__': <attribute '__weakref__' of 'Leapx_org3' objects>, '__doc__': None}\n"
     ]
    }
   ],
   "source": [
    "# 实例属性\n",
    "print(L_obj2.__dict__)\n",
    "\n",
    "# 类属性\n",
    "print(Leapx_org3.__dict__)\n",
    "\n",
    "# 也证实了上面'mul_num'是个类属性不是实例属性，我们可以向实例中增加类属性\n",
    "\n",
    "L_obj3 = Leapx_org3('mohit', 'RAJ', 60000)\n",
    "L_obj3.mul_num2 = 1.3 # 增加类属性到实例内，并重新赋值,相当于创建新属性\n",
    "\n",
    "# 打印实例属性，多了mul_num属性，值为1.3\n",
    "# 当实例属性和类属性重名时，实例属性优先级高，它将屏蔽掉对类属性的访问\n",
    "print(L_obj3.__dict__)\n",
    "\n",
    "# 打印类属性，mul_num仍为1.2\n",
    "print(Leapx_org3.__dict__)"
   ]
  },
  {
   "cell_type": "code",
   "execution_count": 26,
   "metadata": {},
   "outputs": [
    {
     "name": "stdout",
     "output_type": "stream",
     "text": [
      "2\n"
     ]
    }
   ],
   "source": [
    "# 统计属于类的对象个数\n",
    "class Leapx_org4():\n",
    "    mul_num = 1.20\n",
    "    count= 0 \n",
    "    def __init__(self,first,last,pay):\n",
    "        self.f_name = first\n",
    "        self.l_name = last\n",
    "        self.pay_amt = pay\n",
    "        self.full_name = first+\" \"+last\n",
    "        Leapx_org4.count = Leapx_org4.count+1 # 每创建一个实例加１\n",
    "    def make_email(self):\n",
    "        return self.f_name+ \".\"+self.l_name+\"@xyz.com\"\n",
    "    def incrementpay(self):\n",
    "        self.pay_amt = int(self.pay_amt*self.mul_num)\n",
    "        return self.pay_amt\n",
    "\n",
    "L_obj2 = Leapx_org4('mohit', 'RAJ', 60000)\n",
    "L_obj3 = Leapx_org4('mohit1', 'RAJ', 60000)\n",
    "print(Leapx_org4.count)"
   ]
  },
  {
   "cell_type": "markdown",
   "metadata": {},
   "source": [
    "## 类的继承"
   ]
  },
  {
   "cell_type": "markdown",
   "metadata": {},
   "source": [
    "继承允许我们继承父类的属性和方法，通过继承一个子类将得到父类的所有方法和属性"
   ]
  },
  {
   "cell_type": "markdown",
   "metadata": {},
   "source": [
    "Python有两个可以判断继承关系的内建函数：\n",
    "\n",
    "使用isinstance()检查实例的类型：isinstance(obj, int)，当且仅当obj.\\__class__是int或者派生与int的类时，返回True\n",
    "\n",
    "使用issubclass()检查类的继承关系：issubclass(bool, int)返回True，因为bool是int的子类。然而issubclass(float, int)返回False，因为float不是int的子类"
   ]
  },
  {
   "cell_type": "code",
   "execution_count": 37,
   "metadata": {},
   "outputs": [
    {
     "name": "stdout",
     "output_type": "stream",
     "text": [
      "s is instance of \"str\" class\n"
     ]
    }
   ],
   "source": [
    "s = 'string'\n",
    "if isinstance(s,str):\n",
    "    print('s is instance of \"str\" class')"
   ]
  },
  {
   "cell_type": "markdown",
   "metadata": {},
   "source": [
    "class DerivedClassName(BaseClassName):\n",
    "    <statement-1>\n",
    "    .\n",
    "    . .\n",
    "    <statement-N>"
   ]
  },
  {
   "cell_type": "code",
   "execution_count": 33,
   "metadata": {},
   "outputs": [
    {
     "name": "stdout",
     "output_type": "stream",
     "text": [
      "chenzhi\n",
      "Help on instructor in module __main__ object:\n",
      "\n",
      "class instructor(Leapx_org4)\n",
      " |  instructor(first, last, pay)\n",
      " |  \n",
      " |  Method resolution order:\n",
      " |      instructor\n",
      " |      Leapx_org4\n",
      " |      builtins.object\n",
      " |  \n",
      " |  Methods inherited from Leapx_org4:\n",
      " |  \n",
      " |  __init__(self, first, last, pay)\n",
      " |      Initialize self.  See help(type(self)) for accurate signature.\n",
      " |  \n",
      " |  incrementpay(self)\n",
      " |  \n",
      " |  make_email(self)\n",
      " |  \n",
      " |  ----------------------------------------------------------------------\n",
      " |  Data descriptors inherited from Leapx_org4:\n",
      " |  \n",
      " |  __dict__\n",
      " |      dictionary for instance variables (if defined)\n",
      " |  \n",
      " |  __weakref__\n",
      " |      list of weak references to the object (if defined)\n",
      " |  \n",
      " |  ----------------------------------------------------------------------\n",
      " |  Data and other attributes inherited from Leapx_org4:\n",
      " |  \n",
      " |  count = 9\n",
      " |  \n",
      " |  mul_num = 1.2\n",
      "\n",
      "None\n"
     ]
    }
   ],
   "source": [
    "# 基于Leapx_org4创建一个子类\n",
    "class instructor(Leapx_org4):\n",
    "    pass\n",
    "\n",
    "I_obj = instructor(\"chenzhi\",'china',5000)\n",
    "\n",
    "print(I_obj.f_name)\n",
    "\n",
    "# 使用help()函数查看继承关系\n",
    "print(help(I_obj))"
   ]
  },
  {
   "cell_type": "code",
   "execution_count": 38,
   "metadata": {},
   "outputs": [
    {
     "name": "stdout",
     "output_type": "stream",
     "text": [
      "{'f_name': 'mohit', 'l_name': 'RAJ', 'pay_amt': 60000, 'full_name': 'mohit RAJ', 'subject': 'Python'}\n"
     ]
    }
   ],
   "source": [
    "# 在子类中添加属性\n",
    "class instructor(Leapx_org4):\n",
    "    def __init__(self,first,last,pay, subject):\n",
    "        Leapx_org4.__init__(self,first,last,pay) # 在子类中调用父类的方法\n",
    "        self.subject = subject\n",
    "        \n",
    "I_obj1 = instructor('mohit', 'RAJ', 60000, \"Python\")\n",
    "\n",
    "print(I_obj1.subject)"
   ]
  },
  {
   "cell_type": "code",
   "execution_count": 40,
   "metadata": {},
   "outputs": [
    {
     "name": "stdout",
     "output_type": "stream",
     "text": [
      "Python\n",
      "{'f_name': 'mohit', 'l_name': 'RAJ', 'pay_amt': 60000, 'full_name': 'mohit RAJ', 'subject': 'Python'}\n"
     ]
    }
   ],
   "source": [
    "# 上例中，在子类中调用父类的方法实际上属于硬编码，推荐使用super()代替父类名\n",
    "class instructor1(Leapx_org4):\n",
    "    def __init__(self,first,last,pay, subject):\n",
    "        super().__init__(self,first,last,pay) # 在子类中调用父类的方法\n",
    "        self.subject = subject\n",
    "I_obj2 = instructor('mohit', 'RAJ', 60000, \"Python\")\n",
    "\n",
    "print(I_obj2.subject)\n",
    "print(I_obj2.__dict__)"
   ]
  },
  {
   "cell_type": "markdown",
   "metadata": {},
   "source": [
    "## 多重继承 "
   ]
  },
  {
   "cell_type": "markdown",
   "metadata": {},
   "source": [
    "一个类从多个父类中继承属性和方法成为多重继承"
   ]
  },
  {
   "cell_type": "code",
   "execution_count": 41,
   "metadata": {},
   "outputs": [
    {
     "name": "stdout",
     "output_type": "stream",
     "text": [
      "Sum is  16\n",
      "After substraction  40\n"
     ]
    }
   ],
   "source": [
    "class A():\n",
    "    def sum1(self,a,b):\n",
    "        c = a+b\n",
    "        return c\n",
    "class B():\n",
    "    def sub1(self,a,b):\n",
    "        c = a-b\n",
    "        return c\n",
    "class C(A,B):\n",
    "    pass\n",
    "\n",
    "c_obj = C()\n",
    "print(\"Sum is \", c_obj.sum1(12,4))\n",
    "print(\"After substraction \",c_obj.sub1(45,5))"
   ]
  },
  {
   "cell_type": "markdown",
   "metadata": {},
   "source": [
    "## super()调用父类的构造方法"
   ]
  },
  {
   "cell_type": "markdown",
   "metadata": {},
   "source": [
    "python中子类会继承父类所有的类属性和类方法。类的构造方法其实就是实例方法，因此父类的构造方法，子类同样会继承\n",
    "\n",
    "如果子类继承的多个父类中包含同名的类实例方法，则子类对象在调用该方法时，会优先选择排在最前面的父类中的实例方法。构造方法也是如此"
   ]
  },
  {
   "cell_type": "code",
   "execution_count": 17,
   "metadata": {
    "collapsed": true
   },
   "outputs": [
    {
     "name": "stdout",
     "output_type": "stream",
     "text": [
      "我是人，名字为： zhang\n"
     ]
    },
    {
     "ename": "AttributeError",
     "evalue": "'Person' object has no attribute 'food'",
     "output_type": "error",
     "traceback": [
      "\u001b[0;31m---------------------------------------------------------------------------\u001b[0m",
      "\u001b[0;31mAttributeError\u001b[0m                            Traceback (most recent call last)",
      "\u001b[0;32m<ipython-input-17-e20a3fe5939f>\u001b[0m in \u001b[0;36m<module>\u001b[0;34m\u001b[0m\n\u001b[1;32m     15\u001b[0m \u001b[0mper\u001b[0m \u001b[0;34m=\u001b[0m \u001b[0mPerson\u001b[0m\u001b[0;34m(\u001b[0m\u001b[0;34m\"zhang\"\u001b[0m\u001b[0;34m)\u001b[0m\u001b[0;34m\u001b[0m\u001b[0;34m\u001b[0m\u001b[0m\n\u001b[1;32m     16\u001b[0m \u001b[0mper\u001b[0m\u001b[0;34m.\u001b[0m\u001b[0msay\u001b[0m\u001b[0;34m(\u001b[0m\u001b[0;34m)\u001b[0m\u001b[0;34m\u001b[0m\u001b[0;34m\u001b[0m\u001b[0m\n\u001b[0;32m---> 17\u001b[0;31m \u001b[0mper\u001b[0m\u001b[0;34m.\u001b[0m\u001b[0mdisplay\u001b[0m\u001b[0;34m(\u001b[0m\u001b[0;34m)\u001b[0m\u001b[0;34m\u001b[0m\u001b[0;34m\u001b[0m\u001b[0m\n\u001b[0m",
      "\u001b[0;32m<ipython-input-17-e20a3fe5939f>\u001b[0m in \u001b[0;36mdisplay\u001b[0;34m(self)\u001b[0m\n\u001b[1;32m      8\u001b[0m         \u001b[0mself\u001b[0m\u001b[0;34m.\u001b[0m\u001b[0mfood\u001b[0m \u001b[0;34m=\u001b[0m \u001b[0mfood\u001b[0m\u001b[0;34m\u001b[0m\u001b[0;34m\u001b[0m\u001b[0m\n\u001b[1;32m      9\u001b[0m     \u001b[0;32mdef\u001b[0m \u001b[0mdisplay\u001b[0m\u001b[0;34m(\u001b[0m\u001b[0mself\u001b[0m\u001b[0;34m)\u001b[0m\u001b[0;34m:\u001b[0m\u001b[0;34m\u001b[0m\u001b[0;34m\u001b[0m\u001b[0m\n\u001b[0;32m---> 10\u001b[0;31m         \u001b[0mprint\u001b[0m\u001b[0;34m(\u001b[0m\u001b[0;34m\"我是动物,我吃\"\u001b[0m\u001b[0;34m,\u001b[0m\u001b[0mself\u001b[0m\u001b[0;34m.\u001b[0m\u001b[0mfood\u001b[0m\u001b[0;34m)\u001b[0m\u001b[0;34m\u001b[0m\u001b[0;34m\u001b[0m\u001b[0m\n\u001b[0m\u001b[1;32m     11\u001b[0m \u001b[0;34m\u001b[0m\u001b[0m\n\u001b[1;32m     12\u001b[0m \u001b[0;32mclass\u001b[0m \u001b[0mPerson\u001b[0m\u001b[0;34m(\u001b[0m\u001b[0mPeople\u001b[0m\u001b[0;34m,\u001b[0m\u001b[0mAnimal\u001b[0m\u001b[0;34m)\u001b[0m\u001b[0;34m:\u001b[0m\u001b[0;34m\u001b[0m\u001b[0;34m\u001b[0m\u001b[0m\n",
      "\u001b[0;31mAttributeError\u001b[0m: 'Person' object has no attribute 'food'"
     ]
    }
   ],
   "source": [
    "class People:\n",
    "    def __init__(self,name):\n",
    "        self.name = name\n",
    "    def say(self):\n",
    "        print(\"我是人，名字为：\",self.name)\n",
    "class Animal:\n",
    "    def __init__(self,food):\n",
    "        self.food = food\n",
    "    def display(self):\n",
    "        print(\"我是动物,我吃\",self.food)\n",
    "        \n",
    "class Person(People,Animal):\n",
    "    pass\n",
    "\n",
    "# Animal和People都含有构造函数，根据优先原则，per对象只会调用\n",
    "# People中的构造方法\n",
    "per = Person(\"zhang\")\n",
    "per.say()\n",
    "# per.display()　# 由于Animal中的构造方法未使用，因此实例方法不能使用"
   ]
  },
  {
   "cell_type": "markdown",
   "metadata": {},
   "source": [
    "针对这种情况，正确的方法是定义Person类自己的构造方法，即重载。但需要注意的是在子类中定义构造方法，则必须在该方法中调用父类的构造方法\n",
    "\n",
    "在子类中的构造方法中，调用父类构造方法的方式有 2 种，分别是：\n",
    "    1. 类可以看做一个独立空间，在类的外部调用其中的实例方法，可以向调用普通函数那样，只不过需要额外备注类名（此方式又称为未绑定方法）\n",
    "\n",
    "    2. 使用 super() 函数。但如果涉及多继承，该函数只能调用第一个直接父类的构造方法。"
   ]
  },
  {
   "cell_type": "markdown",
   "metadata": {},
   "source": [
    "也就是说，涉及到多继承时，在子类构造函数中，调用第一个父类构造方法的方式有以上 2 种，而调用其它父类构造方法的方式只能使用未绑定方法"
   ]
  },
  {
   "cell_type": "code",
   "execution_count": 18,
   "metadata": {},
   "outputs": [
    {
     "name": "stdout",
     "output_type": "stream",
     "text": [
      "我是人，名字为： zhangsan\n",
      "我是动物,我吃 熟食\n"
     ]
    }
   ],
   "source": [
    "class People:\n",
    "    def __init__(self,name):\n",
    "        self.name = name\n",
    "    def say(self):\n",
    "        print(\"我是人，名字为：\",self.name)\n",
    "class Animal:\n",
    "    def __init__(self,food):\n",
    "        self.food = food\n",
    "    def display(self):\n",
    "        print(\"我是动物,我吃\",self.food)\n",
    "class Person(People, Animal):\n",
    "    #自定义构造方法\n",
    "    def __init__(self,name,food):\n",
    "        #调用 People 类的构造方法\n",
    "        super().__init__(name)\n",
    "        #super(Person,self).__init__(name) #执行效果和上一行相同\n",
    "        #People.__init__(self,name)#使用未绑定方法调用 People 类构造方法\n",
    "        #调用其它父类的构造方法，需手动给 self 传值\n",
    "        Animal.__init__(self,food)\n",
    "        \n",
    "per = Person(\"zhangsan\",\"熟食\")\n",
    "per.say()\n",
    "per.display()"
   ]
  },
  {
   "cell_type": "markdown",
   "metadata": {},
   "source": [
    "## 多级继承 "
   ]
  },
  {
   "cell_type": "markdown",
   "metadata": {},
   "source": [
    "类似于食物链一样,一个类即作为子类，又作为父类"
   ]
  },
  {
   "cell_type": "code",
   "execution_count": 43,
   "metadata": {},
   "outputs": [
    {
     "name": "stdout",
     "output_type": "stream",
     "text": [
      "Sum is  16\n"
     ]
    }
   ],
   "source": [
    "# b继承于a,c继承于b\n",
    "class A():\n",
    "    def sum1(self,a,b):\n",
    "        c = a+b\n",
    "        return c\n",
    "class B(A):\n",
    "    pass\n",
    "class C(B):\n",
    "    pass\n",
    "\n",
    "#　根据继承链，c能调用a的方法\n",
    "c_obj = C()\n",
    "print(\"Sum is \", c_obj.sum1(12,4))"
   ]
  },
  {
   "cell_type": "markdown",
   "metadata": {},
   "source": [
    "## 方法重载 "
   ]
  },
  {
   "cell_type": "code",
   "execution_count": null,
   "metadata": {},
   "outputs": [],
   "source": [
    "允许重载父类中的方法"
   ]
  },
  {
   "cell_type": "code",
   "execution_count": 46,
   "metadata": {},
   "outputs": [
    {
     "name": "stdout",
     "output_type": "stream",
     "text": [
      "{'__module__': '__main__', 'sum1': <function B.sum1 at 0x7f42447eeb90>, '__doc__': None}\n",
      "In class B\n",
      "41\n"
     ]
    }
   ],
   "source": [
    "class A():\n",
    "    def sum1(self,a,b):\n",
    "        print(\"In class A\")\n",
    "        c = a+b\n",
    "        return c\n",
    "class B(A):\n",
    "    def sum1(self,a,b): # 方法重载\n",
    "        print(\"In class B\")\n",
    "        c= a*a+b*b\n",
    "        return c\n",
    "b_obj = B()\n",
    "print(B.__dict__)\n",
    "print(b_obj.sum1(4,5))"
   ]
  },
  {
   "cell_type": "markdown",
   "metadata": {},
   "source": [
    "## 操作符重载"
   ]
  },
  {
   "cell_type": "markdown",
   "metadata": {},
   "source": [
    "使用特殊方法进行操作符重载，特殊方法有双下划线组成，人们称之为dunder method\n",
    "\n",
    " __add__: 加运算 __sub__: 减运算 __mul__: 乘运算 __div__: 除运算 __mod__: 求余运算 __pow__: 幂运算\n",
    "\n",
    "这些都是算术运算方法，需要你自己为类设计具体运算代码。有些Python内置数据类型，比如int就带有这些方法。\n",
    "\n",
    "Python支持运算符的重载，也就是重写"
   ]
  },
  {
   "cell_type": "code",
   "execution_count": 48,
   "metadata": {},
   "outputs": [
    {
     "name": "stdout",
     "output_type": "stream",
     "text": [
      "MR\n",
      "10\n",
      "10\n",
      "MR\n"
     ]
    }
   ],
   "source": [
    "print('M'+'R')\n",
    "\n",
    "print(4+6)\n",
    "\n",
    "# 实际上+操作符就是方法的重载,本质上是\n",
    "\n",
    "print(int.__add__(4,6))\n",
    "\n",
    "print(str.__add__(\"M\",'R'))"
   ]
  },
  {
   "cell_type": "code",
   "execution_count": 50,
   "metadata": {},
   "outputs": [
    {
     "ename": "TypeError",
     "evalue": "unsupported operand type(s) for +: 'Leapx_org' and 'Leapx_org'",
     "output_type": "error",
     "traceback": [
      "\u001b[0;31m---------------------------------------------------------------------------\u001b[0m",
      "\u001b[0;31mTypeError\u001b[0m                                 Traceback (most recent call last)",
      "\u001b[0;32m<ipython-input-50-5c402feb8431>\u001b[0m in \u001b[0;36m<module>\u001b[0;34m\u001b[0m\n\u001b[1;32m      9\u001b[0m \u001b[0mL_obj1\u001b[0m \u001b[0;34m=\u001b[0m \u001b[0mLeapx_org\u001b[0m\u001b[0;34m(\u001b[0m\u001b[0;34m'mohit'\u001b[0m\u001b[0;34m,\u001b[0m \u001b[0;34m'RAJ'\u001b[0m\u001b[0;34m,\u001b[0m \u001b[0;36m60000\u001b[0m\u001b[0;34m)\u001b[0m\u001b[0;34m\u001b[0m\u001b[0;34m\u001b[0m\u001b[0m\n\u001b[1;32m     10\u001b[0m \u001b[0mL_obj2\u001b[0m \u001b[0;34m=\u001b[0m \u001b[0mLeapx_org\u001b[0m\u001b[0;34m(\u001b[0m\u001b[0;34m'Ravender'\u001b[0m\u001b[0;34m,\u001b[0m \u001b[0;34m'Dahiya'\u001b[0m\u001b[0;34m,\u001b[0m\u001b[0;36m70000\u001b[0m\u001b[0;34m)\u001b[0m\u001b[0;34m\u001b[0m\u001b[0;34m\u001b[0m\u001b[0m\n\u001b[0;32m---> 11\u001b[0;31m \u001b[0mprint\u001b[0m\u001b[0;34m(\u001b[0m\u001b[0mL_obj1\u001b[0m\u001b[0;34m+\u001b[0m\u001b[0mL_obj2\u001b[0m\u001b[0;34m)\u001b[0m\u001b[0;34m\u001b[0m\u001b[0;34m\u001b[0m\u001b[0m\n\u001b[0m",
      "\u001b[0;31mTypeError\u001b[0m: unsupported operand type(s) for +: 'Leapx_org' and 'Leapx_org'"
     ]
    }
   ],
   "source": [
    "class Leapx_org():\n",
    "    def __init__(self,first,last,pay):\n",
    "        self.f_name = first\n",
    "        self.l_name = last\n",
    "        self.pay_amt = pay\n",
    "        self.full_name = first+\" \"+last\n",
    "    def make_email(self):\n",
    "        return self.f_name+ \".\"+self.l_name+\"@xyz.com\"\n",
    "L_obj1 = Leapx_org('mohit', 'RAJ', 60000)\n",
    "L_obj2 = Leapx_org('Ravender', 'Dahiya',70000)\n",
    "print(L_obj1+L_obj2) # +操作符不支持Leapx_org类，因此需要操作符重载"
   ]
  },
  {
   "cell_type": "code",
   "execution_count": 51,
   "metadata": {},
   "outputs": [
    {
     "name": "stdout",
     "output_type": "stream",
     "text": [
      "130000\n"
     ]
    }
   ],
   "source": [
    "# 操作符重载\n",
    "class Leapx_org():\n",
    "    def __init__(self,first,last,pay):\n",
    "        self.f_name = first\n",
    "        self.l_name = last\n",
    "        self.pay_amt = pay\n",
    "        self.full_name = first+\" \"+last\n",
    "    def make_email(self):\n",
    "        return self.f_name+ \".\"+self.l_name+\"@xyz.com\"\n",
    "    # __add__方法重载\n",
    "    def __add__(self,other):\n",
    "        result = self.pay_amt + other.pay_amt\n",
    "        return result\n",
    "    \n",
    "L_obj1 = Leapx_org('mohit', 'RAJ', 60000)\n",
    "L_obj2 = Leapx_org('Ravender', 'Dahiya',70000)\n",
    "print(L_obj1+L_obj2) "
   ]
  },
  {
   "cell_type": "markdown",
   "metadata": {},
   "source": [
    "## 类的方法"
   ]
  },
  {
   "cell_type": "markdown",
   "metadata": {},
   "source": [
    "类的三种方法：\n",
    "    1. 实例方法，只能实例进行调用，实例方法的调用离不开实例\n",
    "    2. 静态方法，无默认参数，属于类，但是实例对象和类都可调用，建议用类取调用\n",
    "    3. 类方法，至少传入一个cls\n",
    "\n",
    "普通的类方法自动将实例作为第一个参数，习惯上我们用 self，即实例方法\n",
    "\n",
    "有时候我们想将类作为参数传递给方法，那么，我们需要在方法前加一个修饰符@classmethod\n",
    "\n",
    "假设对象a具有实例方法 foo(self, *args, **kwargs)，那么调用的时候可以用 a.foo(*args, **kwargs)，或者 A.foo(a, *args, **kwargs)，在解释器看来它们是完全一样的"
   ]
  },
  {
   "cell_type": "code",
   "execution_count": 55,
   "metadata": {},
   "outputs": [
    {
     "name": "stdout",
     "output_type": "stream",
     "text": [
      "1.2\n",
      "1.4\n"
     ]
    }
   ],
   "source": [
    "class Leapx_org():\n",
    "    mul_num = 1.20\n",
    "    def __init__(self,first,last,pay):\n",
    "        self.f_name = first\n",
    "        self.l_name = last\n",
    "        self.pay_amt = pay\n",
    "        self.full_name = first+\" \"+last\n",
    "    def make_email(self):\n",
    "        return self.f_name+ \".\"+self.l_name+\"@xyz.com\"\n",
    "    def incrementpay(self):\n",
    "        self.pay_amt = int(self.pay_amt*self.mul_num)\n",
    "        return self.pay_amt\n",
    "    @classmethod\n",
    "    def mul_num_set(cls, amt): # 习惯上使用cls代表类\n",
    "        cls.mul_num=amt\n",
    "\n",
    "L_obj1 = Leapx_org('mohit', 'RAJ', 60000)\n",
    "print(L_obj1.mul_num)\n",
    "\n",
    "# 类方法\n",
    "Leapx_org.mul_num_set(1.4)\n",
    "print(L_obj1.mul_num)"
   ]
  },
  {
   "cell_type": "code",
   "execution_count": 33,
   "metadata": {},
   "outputs": [
    {
     "name": "stdout",
     "output_type": "stream",
     "text": [
      "abc\n",
      "abc\n"
     ]
    }
   ],
   "source": [
    "test_string = \"ABC\"\n",
    "print(test_string.lower()) #实例方法\n",
    "print(str.lower(test_string)) #类方法"
   ]
  },
  {
   "cell_type": "markdown",
   "metadata": {},
   "source": [
    "Python中的类也是一个普通对象，如果需要直接使用这个类，例如将类作为参数传递到其他函数中，又希望在实例化这个类之前就能提供某些功能，那么最简单的办法就是使用classmethod和staticmethod\n",
    "\n",
    "有的时候再实例化之前，就需要先和类做一定的交互，这种交互可能会影响实际实例化的过程，所以必须放在调用构造函数之前,这种交互就是通过@classmethod和@staticmethod实现的"
   ]
  },
  {
   "cell_type": "code",
   "execution_count": null,
   "metadata": {},
   "outputs": [],
   "source": [
    "class cls(object):\n",
    "    def __init__(self,name):\n",
    "        self.name = name\n",
    "    @classmethod\n",
    "    def make(cls,info):\n",
    "        return cls(info)\n",
    "\n",
    "a = cls.make('chenzhi')\n",
    "print(a.__class__)\n",
    "a.name"
   ]
  },
  {
   "cell_type": "code",
   "execution_count": 14,
   "metadata": {},
   "outputs": [
    {
     "data": {
      "text/plain": [
       "['mozzarella', 'tomatoes']"
      ]
     },
     "execution_count": 14,
     "metadata": {},
     "output_type": "execute_result"
    }
   ],
   "source": [
    "class Pizza:\n",
    "    def __init__(self, ingredients):\n",
    "        self.ingredients = ingredients\n",
    "\n",
    "    def __repr__(self):\n",
    "        return f'Pizza({self.ingredients!r})'\n",
    "\n",
    "    @classmethod\n",
    "    def margherita(cls):\n",
    "        return cls(['mozzarella', 'tomatoes'])\n",
    "\n",
    "    @classmethod\n",
    "    def prosciutto(cls):\n",
    "        return cls(['mozzarella', 'tomatoes', 'ham'])\n",
    "    \n",
    "a = Pizza.margherita()\n",
    "a.ingredients\n",
    "\n",
    "#注意我们在margherita和prosciutto工厂方法中使用了cls参数，\n",
    "# 而没有直接调用Pizza构造函数"
   ]
  },
  {
   "cell_type": "code",
   "execution_count": 28,
   "metadata": {},
   "outputs": [
    {
     "name": "stdout",
     "output_type": "stream",
     "text": [
      "year :\n",
      "2016\n",
      "month :\n",
      "8\n",
      "day :\n",
      "1\n"
     ]
    }
   ],
   "source": [
    "# 经典案例\n",
    "\n",
    "class Data_test(object):\n",
    "    day=0\n",
    "    month=0\n",
    "    year=0\n",
    "    def __init__(self,year=0,month=0,day=0):\n",
    "        self.day=day\n",
    "        self.month=month\n",
    "        self.year=year\n",
    "\n",
    "    def out_date(self):\n",
    "        print(\"year :\")\n",
    "        print(self.year)\n",
    "        print(\"month :\")\n",
    "        print(self.month)\n",
    "        print(\"day :\")\n",
    "        print(self.day)\n",
    "        \n",
    "t = Data_test(2016,8,1)\n",
    "t.out_date()"
   ]
  },
  {
   "cell_type": "markdown",
   "metadata": {},
   "source": [
    "如果用户输入的是 \"2016-8-1\" 这样的字符格式，那么就需要调用Date_test 类前做一下处理"
   ]
  },
  {
   "cell_type": "code",
   "execution_count": 30,
   "metadata": {
    "scrolled": true
   },
   "outputs": [
    {
     "name": "stdout",
     "output_type": "stream",
     "text": [
      "year :\n",
      "2016\n",
      "month :\n",
      "8\n",
      "day :\n",
      "1\n"
     ]
    }
   ],
   "source": [
    "string_date='2016-8-1'\n",
    "year,month,day=map(int,string_date.split('-'))\n",
    "s=Data_test(year,month,day)\n",
    "s.out_date()"
   ]
  },
  {
   "cell_type": "markdown",
   "metadata": {},
   "source": [
    "那我可不可以把这个字符串处理的函数放到 Date_test 类当中呢？\n",
    "那么@classmethod 就开始出场了"
   ]
  },
  {
   "cell_type": "code",
   "execution_count": null,
   "metadata": {},
   "outputs": [],
   "source": [
    "class Data_test(object):\n",
    "    day=0\n",
    "    month=0\n",
    "    year=0\n",
    "    def __init__(self,year=0,month=0,day=0):\n",
    "        self.day=day\n",
    "        self.month=month\n",
    "        self.year=year\n",
    "\n",
    "    def out_date(self):\n",
    "        print(\"year :\")\n",
    "        print(self.year)\n",
    "        print(\"month :\")\n",
    "        print(self.month)\n",
    "        print(\"day :\")\n",
    "        print(self.day)\n",
    "        \n",
    "    @classmethod\n",
    "    def get_date(cls,string_date):\n",
    "        #这里第一个参数是cls， 表示调用当前的类名\n",
    "        year,month,day=map(int,string_date.split('-'))\n",
    "        date1=cls(year,month,day) # 调用构造函数\n",
    "        #返回的是一个初始化后的类\n",
    "        return date1\n",
    "    \n",
    "r=Data_test2.get_date(\"2016-8-6\")\n",
    "r.out_date()\n",
    "\n",
    "# 这样子等于先调用get_date（）对字符串进行处理，然后才使用Data_test的构造函数初始化"
   ]
  },
  {
   "cell_type": "markdown",
   "metadata": {},
   "source": [
    "这样的好处就是你以后重构类的时候不必要修改构造函数，只需要额外添加你要处理的函数，然后使用装饰符 @classmethod 就可以了"
   ]
  },
  {
   "cell_type": "markdown",
   "metadata": {},
   "source": [
    "## 静态方法"
   ]
  },
  {
   "cell_type": "markdown",
   "metadata": {},
   "source": [
    "静态方法不接受实例或类作为第一个参数，它仅仅是一个普通函数\n",
    "\n",
    "使用修饰符 @staticmethod在函数前面"
   ]
  },
  {
   "cell_type": "code",
   "execution_count": 2,
   "metadata": {},
   "outputs": [
    {
     "name": "stdout",
     "output_type": "stream",
     "text": [
      "52000\n",
      "84000\n"
     ]
    }
   ],
   "source": [
    "class Leapx_org():\n",
    "    mul_num = 1.20\n",
    "    mul_num2 = 1.30\n",
    "    def __init__(self,first,last,pay):\n",
    "        self.f_name = first\n",
    "        self.l_name = last\n",
    "        self.pay_amt = pay\n",
    "        self.full_name = first+\" \"+last\n",
    "    @staticmethod\n",
    "    def check_amt(amt):\n",
    "        if amt <50000:\n",
    "            return True\n",
    "        else :\n",
    "            return False\n",
    "    def incrementpay(self):\n",
    "        if self.check_amt(self.pay_amt):\n",
    "            self.pay_amt = int(self.pay_amt*self.mul_num2)\n",
    "        else :\n",
    "            self.pay_amt = int(self.pay_amt*self.mul_num)\n",
    "            return self.pay_amt\n",
    "\n",
    "\n",
    "L_obj1 = Leapx_org('mohit', 'RAJ', 40000)\n",
    "L_obj2 = Leapx_org('Ravender', 'Dahiya',70000)\n",
    "L_obj1.incrementpay()\n",
    "L_obj2.incrementpay()\n",
    "print(L_obj1.pay_amt)\n",
    "print(L_obj2.pay_amt)"
   ]
  },
  {
   "cell_type": "markdown",
   "metadata": {},
   "source": [
    "## 私有变量"
   ]
  },
  {
   "cell_type": "markdown",
   "metadata": {},
   "source": [
    "python中没有真正的私有方法，使用__构造变量和方法可以让变量和方法私有\n",
    "\n",
    "私有变量或方法的好处是防止有人随意更改\n",
    "\n",
    "在类外部你不能获得私有方法或私有变量，在类内部你能获得私有变量\n",
    "\n",
    "python提供一种语法让你可以在类外部访问私有变量或方法\n",
    "    _class-name__private-attribute"
   ]
  },
  {
   "cell_type": "code",
   "execution_count": 58,
   "metadata": {
    "collapsed": true
   },
   "outputs": [
    {
     "name": "stdout",
     "output_type": "stream",
     "text": [
      "Amount is  45\n"
     ]
    },
    {
     "ename": "AttributeError",
     "evalue": "'A' object has no attribute '__info'",
     "output_type": "error",
     "traceback": [
      "\u001b[0;31m---------------------------------------------------------------------------\u001b[0m",
      "\u001b[0;31mAttributeError\u001b[0m                            Traceback (most recent call last)",
      "\u001b[0;32m<ipython-input-58-d0575ccff269>\u001b[0m in \u001b[0;36m<module>\u001b[0;34m\u001b[0m\n\u001b[1;32m     11\u001b[0m \u001b[0ma\u001b[0m \u001b[0;34m=\u001b[0m \u001b[0mA\u001b[0m\u001b[0;34m(\u001b[0m\u001b[0;34m)\u001b[0m\u001b[0;34m\u001b[0m\u001b[0;34m\u001b[0m\u001b[0m\n\u001b[1;32m     12\u001b[0m \u001b[0ma\u001b[0m\u001b[0;34m.\u001b[0m\u001b[0mhello\u001b[0m\u001b[0;34m(\u001b[0m\u001b[0;34m)\u001b[0m\u001b[0;34m\u001b[0m\u001b[0;34m\u001b[0m\u001b[0m\n\u001b[0;32m---> 13\u001b[0;31m \u001b[0ma\u001b[0m\u001b[0;34m.\u001b[0m\u001b[0m__info\u001b[0m\u001b[0;34m(\u001b[0m\u001b[0;34m)\u001b[0m\u001b[0;34m\u001b[0m\u001b[0;34m\u001b[0m\u001b[0m\n\u001b[0m\u001b[1;32m     14\u001b[0m \u001b[0ma\u001b[0m\u001b[0;34m.\u001b[0m\u001b[0m__amount\u001b[0m\u001b[0;34m\u001b[0m\u001b[0;34m\u001b[0m\u001b[0m\n",
      "\u001b[0;31mAttributeError\u001b[0m: 'A' object has no attribute '__info'"
     ]
    }
   ],
   "source": [
    "class A:\n",
    "    # 创建私有变量\n",
    "    __amount = 45\n",
    "    \n",
    "    # 创建私有方法\n",
    "    def __info(self):\n",
    "        print(\"I am in Class A\")\n",
    "    def hello(self):\n",
    "        print(\"Amount is \",A.__amount)　# 类内部获得私有变量__amount\n",
    "\n",
    "a = A()\n",
    "a.hello()\n",
    "a.__info()\n",
    "a.__amount"
   ]
  },
  {
   "cell_type": "code",
   "execution_count": 70,
   "metadata": {},
   "outputs": [
    {
     "name": "stdout",
     "output_type": "stream",
     "text": [
      "I am in Class A\n",
      "None\n",
      "43\n",
      "{'__module__': '__main__', '_A__amount': 45, '_A__info': <function A.__info at 0x7f4244220ef0>, 'hello': <function A.hello at 0x7f4244220200>, '__dict__': <attribute '__dict__' of 'A' objects>, '__weakref__': <attribute '__weakref__' of 'A' objects>, '__doc__': None}\n"
     ]
    }
   ],
   "source": [
    "# 类外部获取私有变量\n",
    "print(a._A__info())\n",
    "print(a._A__amount)"
   ]
  },
  {
   "cell_type": "code",
   "execution_count": 8,
   "metadata": {},
   "outputs": [
    {
     "data": {
      "text/plain": [
       "6.283185307179586"
      ]
     },
     "execution_count": 8,
     "metadata": {},
     "output_type": "execute_result"
    }
   ],
   "source": [
    "import math\n",
    "class Pizza(object):\n",
    "  def __init__(self, radius, height):\n",
    "    self.radius = radius\n",
    "    self.height = height\n",
    "\n",
    "  @staticmethod\n",
    "  def compute_area(radius):\n",
    "     return math.pi * (radius ** 2)\n",
    "\n",
    "  @classmethod\n",
    "  def compute_volume(cls, height, radius):\n",
    "     return height * cls.compute_area(radius)\n",
    "\n",
    "  def get_volume(self):\n",
    "    return self.compute_volume(self.height, self.radius)\n",
    "\n",
    "a = Pizza(1,2)\n",
    "a.get_volume()\n"
   ]
  },
  {
   "cell_type": "markdown",
   "metadata": {},
   "source": [
    "# Iterators"
   ]
  },
  {
   "cell_type": "markdown",
   "metadata": {},
   "source": [
    "大多数基本对象可以使用for语句来循环遍历\n",
    "\n",
    "迭代器的使用遍及Python，风格统一。实现上，for语句调用了容器对象的iter()函数。这个函数返回定义了遍历容器元素的__next()\\__方法的迭代器对象。当没有剩余元素遍历时，\\__next()\\__方法抛出一个指示for循环终止的StopIteration异常。可以使用内建函数next()来调用__next()\\__方法"
   ]
  },
  {
   "cell_type": "markdown",
   "metadata": {},
   "source": [
    "可以自定义可迭代的类,在类的实现中，我们定义了 __iter__ 方法，它返回对象本身，这个方法会在遍历时被 Python 内置的 iter() 函数调用，返回一个迭代器。类中的 next() 方法用于返回容器的下一个元素，当使用 for 循环进行遍历的时候，就会使用 Python 内置的 next() 函数调用对象的 next 方法（在 Python3 中是 __next__ 方法）对迭代器进行遍历"
   ]
  },
  {
   "cell_type": "code",
   "execution_count": null,
   "metadata": {},
   "outputs": [],
   "source": [
    "def itera:\n",
    "    \n",
    "    def __init__(self,data):\n",
    "        self.data = data\n",
    "        self.index = len(data)\n",
    "    \n",
    "    # __iter__方法返回一个具有__next__方法的对象\n",
    "    def __iter__(self):\n",
    "        return self\n",
    "    \n",
    "    def __next__(self):\n",
    "        if self.index == 0:\n",
    "            raise StopIteration\n",
    "        self.index = self.index - 1\n",
    "        return self.data[self.index]\n"
   ]
  },
  {
   "cell_type": "markdown",
   "metadata": {},
   "source": [
    "# @property"
   ]
  },
  {
   "cell_type": "markdown",
   "metadata": {},
   "source": [
    "python有一个概念叫做property,它能让你在python的面向对象编程中轻松不少"
   ]
  },
  {
   "cell_type": "markdown",
   "metadata": {},
   "source": [
    "比如说你要创建一个温度的类Celsius，它能存储摄氏度，也能转换为华氏度。即："
   ]
  },
  {
   "cell_type": "code",
   "execution_count": 2,
   "metadata": {},
   "outputs": [],
   "source": [
    "class Celsius:\n",
    "    def __init__(self, temperature = 0):\n",
    "        self.temperature = temperature\n",
    "\n",
    "    def to_fahrenheit(self):\n",
    "        return (self.temperature * 1.8) + 32\n",
    "    \n",
    "man = Celsius()\n",
    "man.temperature = 37\n",
    "man.temperature\n",
    "\n",
    "man.to_fahrenheit()"
   ]
  },
  {
   "cell_type": "markdown",
   "metadata": {},
   "source": [
    "在 Python 里，当我们对一个对象的属性进行赋值或估值时（如上面的temperature），Python 实际上是在这个对象的 \\__dict__字典里搜索这个属性来操作\n",
    "\n",
    "因此，man.temperature实际上被转换成了man.\\__dict__['temperature']"
   ]
  },
  {
   "cell_type": "markdown",
   "metadata": {},
   "source": [
    "突然有一天，有个人跑过来说，温度不可能低于零下273度，这个类应该加上对温度的限制\n",
    "\n",
    "这个建议当然应该被采纳,你立刻想到应该使用 setter 和 getter 来限制温度"
   ]
  },
  {
   "cell_type": "code",
   "execution_count": 4,
   "metadata": {},
   "outputs": [],
   "source": [
    "class Celsius:\n",
    "    def __init__(self, temperature = 0):\n",
    "        self.set_temperature(temperature)\n",
    "\n",
    "    def to_fahrenheit(self):\n",
    "        return (self.get_temperature() * 1.8) + 32\n",
    "\n",
    "    # 更新部分\n",
    "    def get_temperature(self):\n",
    "        return self._temperature\n",
    "\n",
    "    def set_temperature(self, value):\n",
    "        if value < -273:\n",
    "            raise ValueError(\"Temperature below -273 is not possible\")\n",
    "        self._temperature = value"
   ]
  },
  {
   "cell_type": "code",
   "execution_count": 9,
   "metadata": {
    "collapsed": true
   },
   "outputs": [
    {
     "ename": "ValueError",
     "evalue": "Temperature below -273 is not possible",
     "output_type": "error",
     "traceback": [
      "\u001b[0;31m---------------------------------------------------------------------------\u001b[0m",
      "\u001b[0;31mValueError\u001b[0m                                Traceback (most recent call last)",
      "\u001b[0;32m<ipython-input-9-17582604020c>\u001b[0m in \u001b[0;36m<module>\u001b[0;34m\u001b[0m\n\u001b[0;32m----> 1\u001b[0;31m \u001b[0mobj\u001b[0m \u001b[0;34m=\u001b[0m \u001b[0mCelsius\u001b[0m\u001b[0;34m(\u001b[0m\u001b[0mtemperature\u001b[0m\u001b[0;34m=\u001b[0m\u001b[0;34m-\u001b[0m\u001b[0;36m288\u001b[0m\u001b[0;34m)\u001b[0m\u001b[0;34m\u001b[0m\u001b[0;34m\u001b[0m\u001b[0m\n\u001b[0m\u001b[1;32m      2\u001b[0m \u001b[0;31m#obj.set_temperature(29)\u001b[0m\u001b[0;34m\u001b[0m\u001b[0;34m\u001b[0m\u001b[0;34m\u001b[0m\u001b[0m\n\u001b[1;32m      3\u001b[0m \u001b[0mobj\u001b[0m\u001b[0;34m.\u001b[0m\u001b[0mget_temperature\u001b[0m\u001b[0;34m(\u001b[0m\u001b[0;34m)\u001b[0m\u001b[0;34m\u001b[0m\u001b[0;34m\u001b[0m\u001b[0m\n",
      "\u001b[0;32m<ipython-input-4-31acb0065819>\u001b[0m in \u001b[0;36m__init__\u001b[0;34m(self, temperature)\u001b[0m\n\u001b[1;32m      1\u001b[0m \u001b[0;32mclass\u001b[0m \u001b[0mCelsius\u001b[0m\u001b[0;34m:\u001b[0m\u001b[0;34m\u001b[0m\u001b[0;34m\u001b[0m\u001b[0m\n\u001b[1;32m      2\u001b[0m     \u001b[0;32mdef\u001b[0m \u001b[0m__init__\u001b[0m\u001b[0;34m(\u001b[0m\u001b[0mself\u001b[0m\u001b[0;34m,\u001b[0m \u001b[0mtemperature\u001b[0m \u001b[0;34m=\u001b[0m \u001b[0;36m0\u001b[0m\u001b[0;34m)\u001b[0m\u001b[0;34m:\u001b[0m\u001b[0;34m\u001b[0m\u001b[0;34m\u001b[0m\u001b[0m\n\u001b[0;32m----> 3\u001b[0;31m         \u001b[0mself\u001b[0m\u001b[0;34m.\u001b[0m\u001b[0mset_temperature\u001b[0m\u001b[0;34m(\u001b[0m\u001b[0mtemperature\u001b[0m\u001b[0;34m)\u001b[0m\u001b[0;34m\u001b[0m\u001b[0;34m\u001b[0m\u001b[0m\n\u001b[0m\u001b[1;32m      4\u001b[0m \u001b[0;34m\u001b[0m\u001b[0m\n\u001b[1;32m      5\u001b[0m     \u001b[0;32mdef\u001b[0m \u001b[0mto_fahrenheit\u001b[0m\u001b[0;34m(\u001b[0m\u001b[0mself\u001b[0m\u001b[0;34m)\u001b[0m\u001b[0;34m:\u001b[0m\u001b[0;34m\u001b[0m\u001b[0;34m\u001b[0m\u001b[0m\n",
      "\u001b[0;32m<ipython-input-4-31acb0065819>\u001b[0m in \u001b[0;36mset_temperature\u001b[0;34m(self, value)\u001b[0m\n\u001b[1;32m     12\u001b[0m     \u001b[0;32mdef\u001b[0m \u001b[0mset_temperature\u001b[0m\u001b[0;34m(\u001b[0m\u001b[0mself\u001b[0m\u001b[0;34m,\u001b[0m \u001b[0mvalue\u001b[0m\u001b[0;34m)\u001b[0m\u001b[0;34m:\u001b[0m\u001b[0;34m\u001b[0m\u001b[0;34m\u001b[0m\u001b[0m\n\u001b[1;32m     13\u001b[0m         \u001b[0;32mif\u001b[0m \u001b[0mvalue\u001b[0m \u001b[0;34m<\u001b[0m \u001b[0;34m-\u001b[0m\u001b[0;36m273\u001b[0m\u001b[0;34m:\u001b[0m\u001b[0;34m\u001b[0m\u001b[0;34m\u001b[0m\u001b[0m\n\u001b[0;32m---> 14\u001b[0;31m             \u001b[0;32mraise\u001b[0m \u001b[0mValueError\u001b[0m\u001b[0;34m(\u001b[0m\u001b[0;34m\"Temperature below -273 is not possible\"\u001b[0m\u001b[0;34m)\u001b[0m\u001b[0;34m\u001b[0m\u001b[0;34m\u001b[0m\u001b[0m\n\u001b[0m\u001b[1;32m     15\u001b[0m         \u001b[0mself\u001b[0m\u001b[0;34m.\u001b[0m\u001b[0m_temperature\u001b[0m \u001b[0;34m=\u001b[0m \u001b[0mvalue\u001b[0m\u001b[0;34m\u001b[0m\u001b[0;34m\u001b[0m\u001b[0m\n",
      "\u001b[0;31mValueError\u001b[0m: Temperature below -273 is not possible"
     ]
    }
   ],
   "source": [
    "obj = Celsius(temperature=-288)\n",
    "#obj.set_temperature(29)\n",
    "obj.get_temperature()"
   ]
  },
  {
   "cell_type": "markdown",
   "metadata": {},
   "source": [
    "但是你后续的代码将将需要大量修改，这种重构实在令人头疼\n",
    "\n",
    "所以，这种方法不是“向下兼容”的，我们要另辟蹊径"
   ]
  },
  {
   "cell_type": "markdown",
   "metadata": {},
   "source": [
    "## @property 的威力"
   ]
  },
  {
   "cell_type": "code",
   "execution_count": 11,
   "metadata": {},
   "outputs": [],
   "source": [
    "class Celsius:\n",
    "    def __init__(self, temperature = 0):\n",
    "        self.temperature = temperature\n",
    "\n",
    "    def to_fahrenheit(self):\n",
    "        return (self.temperature * 1.8) + 32\n",
    "\n",
    "    def get_temperature(self):\n",
    "        print(\"Getting value\")\n",
    "        return self._temperature\n",
    "\n",
    "    def set_temperature(self, value):\n",
    "        if value < -273:\n",
    "            raise ValueError(\"Temperature below -273 is not possible\")\n",
    "        print(\"Setting value\")\n",
    "        self._temperature = value\n",
    "\n",
    "    # 重点在这里\n",
    "    temperature = property(get_temperature,set_temperature)"
   ]
  },
  {
   "cell_type": "markdown",
   "metadata": {},
   "source": [
    "我们在class Celsius的最后一行使用了一个 Python 内置函数（类） property()。它接受两个函数作为参数，一个 getter，一个 setter，并且返回一个 property 对象（这里是temperature）\n",
    "\n",
    "这样以后，任何访问temperature的代码都会自动转而运行get_temperature()，任何对temperature赋值的代码都会自动转而运行set_temperature()"
   ]
  },
  {
   "cell_type": "code",
   "execution_count": 17,
   "metadata": {},
   "outputs": [
    {
     "name": "stdout",
     "output_type": "stream",
     "text": [
      "Getting value\n"
     ]
    },
    {
     "data": {
      "text/plain": [
       "-299"
      ]
     },
     "execution_count": 17,
     "metadata": {},
     "output_type": "execute_result"
    }
   ],
   "source": [
    "c = Celsius()  # 此时会运行 setter，因为 __init__ 里对 temperature 进行了赋值\n",
    "\n",
    "\n",
    "c.temperature  # 此时会运行 getter，因为对 temperature 进行了访问\n",
    "\n"
   ]
  },
  {
   "cell_type": "markdown",
   "metadata": {},
   "source": [
    "一个 property 对象有 getter()、setter()和deleter()三个方法用来指定相应绑定的函数\n",
    "\n",
    "temperature=property(get_temperature,set_temperature)\n",
    "\n",
    "下面和上面其实是等价的\n",
    "\n",
    "temperature = property()\n",
    "temperature = temperature.getter(get_temperature)\n",
    "temperature = temperature.setter(set_temperature)"
   ]
  },
  {
   "cell_type": "markdown",
   "metadata": {},
   "source": [
    "通过装饰器@property，我们可以不定义没有必要的 get_temperature()和set_temperature()，这样还避免了污染命名空间"
   ]
  },
  {
   "cell_type": "code",
   "execution_count": 13,
   "metadata": {},
   "outputs": [],
   "source": [
    "class Celsius:\n",
    "    def __init__(self, temperature = 0):\n",
    "        self._temperature = temperature\n",
    "\n",
    "    def to_fahrenheit(self):\n",
    "        return (self.temperature * 1.8) + 32\n",
    "\n",
    "    # Getter 装饰器\n",
    "    @property\n",
    "    def temperature(self):\n",
    "        print(\"Getting value\")\n",
    "        return self._temperature\n",
    "\n",
    "    # Setter 装饰器\n",
    "    @temperature.setter\n",
    "    def temperature(self, value):\n",
    "        if value < -273:\n",
    "            raise ValueError(\"Temperature below -273 is not possible\")\n",
    "        print(\"Setting value\")\n",
    "        self._temperature = value"
   ]
  },
  {
   "cell_type": "code",
   "execution_count": 16,
   "metadata": {
    "scrolled": true
   },
   "outputs": [
    {
     "ename": "ValueError",
     "evalue": "Temperature below -273 is not possible",
     "output_type": "error",
     "traceback": [
      "\u001b[0;31m---------------------------------------------------------------------------\u001b[0m",
      "\u001b[0;31mValueError\u001b[0m                                Traceback (most recent call last)",
      "\u001b[0;32m<ipython-input-16-280ec3bf9e68>\u001b[0m in \u001b[0;36m<module>\u001b[0;34m\u001b[0m\n\u001b[1;32m      1\u001b[0m \u001b[0mc\u001b[0m \u001b[0;34m=\u001b[0m \u001b[0mCelsius\u001b[0m\u001b[0;34m(\u001b[0m\u001b[0;34m-\u001b[0m\u001b[0;36m288\u001b[0m\u001b[0;34m)\u001b[0m\u001b[0;34m\u001b[0m\u001b[0;34m\u001b[0m\u001b[0m\n\u001b[0;32m----> 2\u001b[0;31m \u001b[0mc\u001b[0m\u001b[0;34m.\u001b[0m\u001b[0mtemperature\u001b[0m \u001b[0;34m=\u001b[0m \u001b[0;34m-\u001b[0m\u001b[0;36m288\u001b[0m\u001b[0;34m\u001b[0m\u001b[0;34m\u001b[0m\u001b[0m\n\u001b[0m",
      "\u001b[0;32m<ipython-input-13-4391059fb0ca>\u001b[0m in \u001b[0;36mtemperature\u001b[0;34m(self, value)\u001b[0m\n\u001b[1;32m     16\u001b[0m     \u001b[0;32mdef\u001b[0m \u001b[0mtemperature\u001b[0m\u001b[0;34m(\u001b[0m\u001b[0mself\u001b[0m\u001b[0;34m,\u001b[0m \u001b[0mvalue\u001b[0m\u001b[0;34m)\u001b[0m\u001b[0;34m:\u001b[0m\u001b[0;34m\u001b[0m\u001b[0;34m\u001b[0m\u001b[0m\n\u001b[1;32m     17\u001b[0m         \u001b[0;32mif\u001b[0m \u001b[0mvalue\u001b[0m \u001b[0;34m<\u001b[0m \u001b[0;34m-\u001b[0m\u001b[0;36m273\u001b[0m\u001b[0;34m:\u001b[0m\u001b[0;34m\u001b[0m\u001b[0;34m\u001b[0m\u001b[0m\n\u001b[0;32m---> 18\u001b[0;31m             \u001b[0;32mraise\u001b[0m \u001b[0mValueError\u001b[0m\u001b[0;34m(\u001b[0m\u001b[0;34m\"Temperature below -273 is not possible\"\u001b[0m\u001b[0;34m)\u001b[0m\u001b[0;34m\u001b[0m\u001b[0;34m\u001b[0m\u001b[0m\n\u001b[0m\u001b[1;32m     19\u001b[0m         \u001b[0mprint\u001b[0m\u001b[0;34m(\u001b[0m\u001b[0;34m\"Setting value\"\u001b[0m\u001b[0;34m)\u001b[0m\u001b[0;34m\u001b[0m\u001b[0;34m\u001b[0m\u001b[0m\n\u001b[1;32m     20\u001b[0m         \u001b[0mself\u001b[0m\u001b[0;34m.\u001b[0m\u001b[0m_temperature\u001b[0m \u001b[0;34m=\u001b[0m \u001b[0mvalue\u001b[0m\u001b[0;34m\u001b[0m\u001b[0;34m\u001b[0m\u001b[0m\n",
      "\u001b[0;31mValueError\u001b[0m: Temperature below -273 is not possible"
     ]
    }
   ],
   "source": [
    "c = Celsius(-288)"
   ]
  },
  {
   "cell_type": "code",
   "execution_count": 28,
   "metadata": {
    "scrolled": false
   },
   "outputs": [
    {
     "name": "stdout",
     "output_type": "stream",
     "text": [
      "input city:北京\n"
     ]
    }
   ],
   "source": [
    "from selenium import webdriver\n",
    "\n",
    "browser = webdriver.Chrome()\n",
    "\n",
    "browser.get('https://www.51job.com')\n",
    "\n",
    "browser.find_element_by_css_selector('.ipt input[maxlength]').send_keys('python')\n",
    "\n",
    "browser.find_element_by_xpath('//button[contains(text(),\"搜索\")]').click()\n",
    "\n",
    "#button = browser.find_element_by_css_selector('#jobarea')\n",
    "\n",
    "#browser.execute_script(\"arguments[0].value = '{}';\".format('020000,030200'), button)\n",
    "\n",
    "#input#kwdselectid\n",
    "\n",
    "browser.find_element_by_css_selector('input#work_position_input').click()\n",
    "\n",
    "\n",
    "citys = browser.find_elements_by_css_selector('.js_more em')\n",
    "needcity = input('input city:')\n",
    "for one in citys:\n",
    "    cityName = one.text\n",
    "    selected = one.get_attribute('class')\n",
    "    \n",
    "    if cityName == needcity:\n",
    "        if selected != 'on':\n",
    "            one.click()\n",
    "        else:\n",
    "            if selected == 'on':\n",
    "                one.click()\n",
    "                \n",
    "browser.find_element_by_id('work_position_click_bottom_save').click()"
   ]
  },
  {
   "cell_type": "code",
   "execution_count": null,
   "metadata": {},
   "outputs": [],
   "source": []
  }
 ],
 "metadata": {
  "kernelspec": {
   "display_name": "Python 3",
   "language": "python",
   "name": "python3"
  },
  "language_info": {
   "codemirror_mode": {
    "name": "ipython",
    "version": 3
   },
   "file_extension": ".py",
   "mimetype": "text/x-python",
   "name": "python",
   "nbconvert_exporter": "python",
   "pygments_lexer": "ipython3",
   "version": "3.7.5"
  },
  "toc": {
   "base_numbering": 1,
   "nav_menu": {},
   "number_sections": true,
   "sideBar": true,
   "skip_h1_title": false,
   "title_cell": "Table of Contents",
   "title_sidebar": "Contents",
   "toc_cell": false,
   "toc_position": {},
   "toc_section_display": true,
   "toc_window_display": false
  }
 },
 "nbformat": 4,
 "nbformat_minor": 4
}
