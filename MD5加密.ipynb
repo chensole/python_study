{
 "cells": [
  {
   "cell_type": "markdown",
   "metadata": {},
   "source": [
    "# MD5"
   ]
  },
  {
   "cell_type": "markdown",
   "metadata": {},
   "source": [
    "由于MD5模块在python3中被移除\n",
    "\n",
    "在python3中使用hashlib模块进行md5操作"
   ]
  },
  {
   "cell_type": "code",
   "execution_count": 10,
   "metadata": {},
   "outputs": [
    {
     "name": "stdout",
     "output_type": "stream",
     "text": [
      "6f36d3390a38774372a4199834a8c116\n"
     ]
    }
   ],
   "source": [
    "import hashlib\n",
    "\n",
    "# 待加密信息\n",
    "string = '123456X4qz'\n",
    "\n",
    "# 创建md5对象\n",
    "hl = hashlib.md5()\n",
    "\n",
    "#更新hash对象的值，如果不使用update方法也可以直接md5构造函数内填写\n",
    "#md5_obj=hashlib.md5(\"123456\".encode(\"utf-8\")) 效果一样\n",
    "\n",
    "hl.update(string.encode('utf-8'))\n",
    "\n",
    "# 获取加密后的字符串\n",
    "print(hl.hexdigest())"
   ]
  },
  {
   "cell_type": "markdown",
   "metadata": {},
   "source": [
    "## 双重加密"
   ]
  },
  {
   "cell_type": "code",
   "execution_count": 2,
   "metadata": {},
   "outputs": [
    {
     "name": "stdout",
     "output_type": "stream",
     "text": [
      "14e1b600b1fd579f47433b88e8d85291\n"
     ]
    }
   ],
   "source": [
    "md5_obj=hashlib.md5(\"123456\".encode(\"utf-8\"))\n",
    "str1=md5_obj.hexdigest() #加密1次\n",
    "obj2=hashlib.md5(str1.encode(\"utf-8\"))\n",
    "str2=obj2.hexdigest()#加密2次\n",
    "print(str2) #双重加密后，同样解密开"
   ]
  },
  {
   "cell_type": "markdown",
   "metadata": {},
   "source": [
    "## MD5加盐值(SALT)"
   ]
  },
  {
   "cell_type": "markdown",
   "metadata": {},
   "source": [
    "MD5不论是王小云的演讲已经破解，还是各大网站的暴力破解，都需要再一次提高MD5的安全性。所谓加盐就是加一些辅助的调料，这里称为Salt值\n",
    "\n",
    "数据库在存储的时候需要在表里面多加一个Salt字段，用来存储你加的调料是什么，等用户登录的时候，拿用户注册的密码+Salt字段，然后再进行MD5，然后再用加密后的内容和数据库存储的MD5密码进行匹配，成功的话则提示成功，匹配失败的话就登录失败"
   ]
  },
  {
   "cell_type": "code",
   "execution_count": 9,
   "metadata": {},
   "outputs": [
    {
     "name": "stdout",
     "output_type": "stream",
     "text": [
      "[pwd]\n",
      " 123456\n",
      "[salt]\n",
      " X4qz\n",
      "[md5]\n",
      " 6f36d3390a38774372a4199834a8c116\n"
     ]
    }
   ],
   "source": [
    "from random import Random  \n",
    "import hashlib\n",
    "  \n",
    "# 获取由4位随机大小写字母、数字组成的salt值  \n",
    "def create_salt(length = 4):  \n",
    "    salt = ''  \n",
    "    chars = 'AaBbCcDdEeFfGgHhIiJjKkLlMmNnOoPpQqRrSsTtUuVvWwXxYyZz0123456789'  \n",
    "    len_chars = len(chars) - 1  \n",
    "    random = Random()  \n",
    "    for i in range(length):  \n",
    "        # 每次从chars中随机取一位  \n",
    "        salt += chars[random.randint(0, len_chars)]  \n",
    "    return salt  \n",
    "  \n",
    "# 获取原始密码+salt的md5值  \n",
    "def create_md5(pwd,salt):  \n",
    "    md5_obj = hashlib.md5()  \n",
    "    md5_obj.update((pwd + salt).encode(\"utf-8\"))  \n",
    "    return md5_obj.hexdigest()  \n",
    "  \n",
    "# 原始密码  \n",
    "pwd = '123456'  \n",
    "# 随机生成4位salt  \n",
    "salt = create_salt()  \n",
    "# 加密后的密码  \n",
    "md5 = create_md5(pwd, salt)  \n",
    "  \n",
    "print('[pwd]\\n',pwd ) \n",
    "print('[salt]\\n', salt)  \n",
    "print('[md5]\\n', md5)"
   ]
  }
 ],
 "metadata": {
  "kernelspec": {
   "display_name": "Python 3",
   "language": "python",
   "name": "python3"
  },
  "language_info": {
   "codemirror_mode": {
    "name": "ipython",
    "version": 3
   },
   "file_extension": ".py",
   "mimetype": "text/x-python",
   "name": "python",
   "nbconvert_exporter": "python",
   "pygments_lexer": "ipython3",
   "version": "3.7.5"
  },
  "toc": {
   "base_numbering": 1,
   "nav_menu": {},
   "number_sections": true,
   "sideBar": true,
   "skip_h1_title": false,
   "title_cell": "Table of Contents",
   "title_sidebar": "Contents",
   "toc_cell": false,
   "toc_position": {},
   "toc_section_display": true,
   "toc_window_display": false
  }
 },
 "nbformat": 4,
 "nbformat_minor": 4
}
