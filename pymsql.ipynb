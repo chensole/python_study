{
 "cells": [
  {
   "cell_type": "markdown",
   "metadata": {},
   "source": [
    "# PyMySQL"
   ]
  },
  {
   "cell_type": "markdown",
   "metadata": {},
   "source": [
    "纯python实现的MySQL客户端操作数据库，支持事务、存储过程、批量执行等"
   ]
  },
  {
   "cell_type": "markdown",
   "metadata": {},
   "source": [
    "## 连接数据库"
   ]
  },
  {
   "cell_type": "markdown",
   "metadata": {},
   "source": [
    "pymysql.connect()\n",
    "返回connection对象"
   ]
  },
  {
   "cell_type": "code",
   "execution_count": 4,
   "metadata": {},
   "outputs": [],
   "source": [
    "import pymysql\n",
    "\n",
    "connection = pymysql.connect(host='localhost',\n",
    "               port=3306,\n",
    "               user='chenzhi',\n",
    "               password='cz020391',\n",
    "               db='myemployees',\n",
    "               charset='utf8')\n",
    "connection.close()"
   ]
  },
  {
   "cell_type": "markdown",
   "metadata": {},
   "source": [
    "### connection对象支持的方法"
   ]
  },
  {
   "cell_type": "markdown",
   "metadata": {},
   "source": [
    "cursor() 使用该连接创建并返回游标\n",
    "\n",
    "commit() 提交事务\n",
    "\n",
    "rollback() 回滚当前事务\n",
    "\n",
    "close() 关闭连接"
   ]
  },
  {
   "cell_type": "markdown",
   "metadata": {},
   "source": [
    "## 游标 cursor"
   ]
  },
  {
   "cell_type": "markdown",
   "metadata": {},
   "source": [
    "### 什么是游标"
   ]
  },
  {
   "cell_type": "markdown",
   "metadata": {},
   "source": [
    "有时候，我们执行一条查询语句的时候，往往会得到N条返回结果，执行sql语句取出这些返回结果的接口(起始点)，就是游标。沿着这个游标，我们可以一次取出一行记录\n",
    "\n",
    "当不使用游标功能，我们去执行 select * from student where age > 20; 这条语句的时候，如果有1000条返回结果，系统会一次性将1000条记录返回到界面 中，你没有选择，也不能做其他操作\n",
    "\n",
    "当我们开启了游标功能，再去执行这条语句的时候，系统会先帮你找到这些行， 先给你存放起来，然后提供了一个游标接口。当你需要数据的时候，就借助这个游标去一行行的取出数据，你每取出一条记录，游标指针就朝前移动一次，一直到取完最后一行数据后\n",
    "\n",
    "如果不使用游标功能，直接使用select查询，会一次性将结果集打印到屏幕上，你无法针对结果集做第二次编程\n",
    "\n",
    "使用游标功能后，我们可以将得到的结果先保存起来，然后可以随意进行自己的编程，得到我们最终想要的结果集"
   ]
  },
  {
   "cell_type": "markdown",
   "metadata": {},
   "source": [
    "### python中的游标"
   ]
  },
  {
   "cell_type": "markdown",
   "metadata": {},
   "source": [
    "在pymysql中操作数据库，就是使用游标这种方式来获取表中的数据\n",
    "\n",
    "\n",
    "**使用游标的操作步骤:**\n",
    "\n",
    "- 首先，使用pymysql连接上mysql数据库，得到一个数据库对象。然后，我们必须要开启数据库中的游标功能，得到一个游标对象。\n",
    "\n",
    "- 接着，使用游标对象中的execute()方法，去执行某个SQL语句，系统会根据你的SQL语句，找到这些匹配行，给你存储起来，而不是一次性的打印到屏幕上。什么时候需要这个结果中的数据的时候，你就去获取它。\n",
    "\n",
    "- 最后，就是获取结果集中的数据了，这里有两种方法获取结果集中的数据。一个是fetchone()，该方法一次获取一条记录，每一条记录是一个元组形式的数据，每获取一条记录游标会往前移动一格，等待获取下一条记录；一个是fetchall()方法，能够一次性的获取所有的数据，该方法返回的是一个元组列表。\n",
    "\n",
    "- 当完成所有操作后，记得断开数据库的连接，释放资源"
   ]
  },
  {
   "cell_type": "markdown",
   "metadata": {},
   "source": [
    "### 创建游标"
   ]
  },
  {
   "cell_type": "markdown",
   "metadata": {},
   "source": [
    "返回一个游标Cursor对象"
   ]
  },
  {
   "cell_type": "code",
   "execution_count": 2,
   "metadata": {},
   "outputs": [
    {
     "name": "stdout",
     "output_type": "stream",
     "text": [
      "<pymysql.cursors.Cursor object at 0x7f13d4c8c490>\n"
     ]
    }
   ],
   "source": [
    "import pymysql\n",
    "connection = pymysql.connect(host='localhost',\n",
    "               port=3306,\n",
    "               user='chenzhi',\n",
    "               password='cz020391',\n",
    "               db='python')\n",
    "\n",
    "cursor = connection.cursor()\n",
    "\n",
    "print(cursor)\n",
    "\n",
    "connection.close()"
   ]
  },
  {
   "cell_type": "markdown",
   "metadata": {},
   "source": [
    "#### 游标对象支持的方法"
   ]
  },
  {
   "cell_type": "markdown",
   "metadata": {},
   "source": [
    "execute() 执行一个数据库查询和命令\n",
    "\n",
    "fetchone() 取得结果集的下一行\n",
    "\n",
    "fetchmany(size) 获取结果集的下几行\n",
    "\n",
    "fetchall() 返回所有结果集\n",
    "\n",
    "rowcount 最后一次execute返回数据的行数或影响的行数\n",
    "\n",
    "close() 关闭游标对象"
   ]
  },
  {
   "cell_type": "code",
   "execution_count": 8,
   "metadata": {},
   "outputs": [
    {
     "name": "stdout",
     "output_type": "stream",
     "text": [
      "(('departments',), ('employees',), ('jobs',), ('locations',))\n",
      "(('8.0.19-0ubuntu0.19.10.3',),)\n"
     ]
    }
   ],
   "source": [
    "connection = pymysql.connect(host='localhost',\n",
    "               port=3306,\n",
    "               user='chenzhi',\n",
    "               password='cz020391',\n",
    "               db='myemployees',\n",
    "               charset='utf8')\n",
    "\n",
    "cursor = connection.cursor()\n",
    "\n",
    "# 查看数据库中的表\n",
    "cursor.execute('show tables')\n",
    "print(cursor.fetchall())\n",
    "\n",
    "cursor.execute('select version()')\n",
    "print(cursor.fetchall())\n",
    "\n",
    "cursor.close()\n",
    "\n",
    "connection.close()"
   ]
  },
  {
   "cell_type": "markdown",
   "metadata": {},
   "source": [
    "#### 字典游标"
   ]
  },
  {
   "cell_type": "markdown",
   "metadata": {},
   "source": [
    "默认游标返回的数据结构是嵌套的元组，然而pymysql提供字典游标，这样我们可以通过列名获取数据\n",
    "\n",
    "设置方法:\n",
    "\n",
    "pymysql.connect()中设置cursorclass参数为pymysql.cursors.DictCursor)"
   ]
  },
  {
   "cell_type": "code",
   "execution_count": 16,
   "metadata": {
    "collapsed": true
   },
   "outputs": [
    {
     "name": "stdout",
     "output_type": "stream",
     "text": [
      "[{'employee_id': 100, 'first_name': 'Steven', 'last_name': 'K_ing', 'email': 'SKING', 'phone_number': '515.123.4567', 'job_id': 'AD_PRES', 'salary': 24000.0, 'commission_pct': None, 'manager_id': None, 'department_id': 90, 'hiredate': datetime.datetime(1992, 4, 3, 0, 0)}, {'employee_id': 101, 'first_name': 'Neena', 'last_name': 'Kochhar', 'email': 'NKOCHHAR', 'phone_number': '515.123.4568', 'job_id': 'AD_VP', 'salary': 17000.0, 'commission_pct': None, 'manager_id': 100, 'department_id': 90, 'hiredate': datetime.datetime(1992, 4, 3, 0, 0)}, {'employee_id': 102, 'first_name': 'Lex', 'last_name': 'De Haan', 'email': 'LDEHAAN', 'phone_number': '515.123.4569', 'job_id': 'AD_VP', 'salary': 17000.0, 'commission_pct': None, 'manager_id': 100, 'department_id': 90, 'hiredate': datetime.datetime(1992, 4, 3, 0, 0)}, {'employee_id': 108, 'first_name': 'Nancy', 'last_name': 'Greenberg', 'email': 'NGREENBE', 'phone_number': '515.124.4569', 'job_id': 'FI_MGR', 'salary': 12000.0, 'commission_pct': None, 'manager_id': 101, 'department_id': 100, 'hiredate': datetime.datetime(1998, 3, 3, 0, 0)}, {'employee_id': 114, 'first_name': 'Den', 'last_name': 'Raphaely', 'email': 'DRAPHEAL', 'phone_number': '515.127.4561', 'job_id': 'PU_MAN', 'salary': 11000.0, 'commission_pct': None, 'manager_id': 100, 'department_id': 30, 'hiredate': datetime.datetime(2000, 9, 9, 0, 0)}, {'employee_id': 145, 'first_name': 'John', 'last_name': 'Russell', 'email': 'JRUSSEL', 'phone_number': '011.44.1344.429268', 'job_id': 'SA_MAN', 'salary': 14000.0, 'commission_pct': 0.4, 'manager_id': 100, 'department_id': 80, 'hiredate': datetime.datetime(2002, 12, 23, 0, 0)}, {'employee_id': 146, 'first_name': 'Karen', 'last_name': 'Partners', 'email': 'KPARTNER', 'phone_number': '011.44.1344.467268', 'job_id': 'SA_MAN', 'salary': 13500.0, 'commission_pct': 0.3, 'manager_id': 100, 'department_id': 80, 'hiredate': datetime.datetime(2002, 12, 23, 0, 0)}, {'employee_id': 147, 'first_name': 'Alberto', 'last_name': 'Errazuriz', 'email': 'AERRAZUR', 'phone_number': '011.44.1344.429278', 'job_id': 'SA_MAN', 'salary': 12000.0, 'commission_pct': 0.3, 'manager_id': 100, 'department_id': 80, 'hiredate': datetime.datetime(2002, 12, 23, 0, 0)}, {'employee_id': 148, 'first_name': 'Gerald', 'last_name': 'Cambrault', 'email': 'GCAMBRAU', 'phone_number': '011.44.1344.619268', 'job_id': 'SA_MAN', 'salary': 11000.0, 'commission_pct': 0.3, 'manager_id': 100, 'department_id': 80, 'hiredate': datetime.datetime(2002, 12, 23, 0, 0)}, {'employee_id': 149, 'first_name': 'Eleni', 'last_name': 'Zlotkey', 'email': 'EZLOTKEY', 'phone_number': '011.44.1344.429018', 'job_id': 'SA_MAN', 'salary': 10500.0, 'commission_pct': 0.2, 'manager_id': 100, 'department_id': 80, 'hiredate': datetime.datetime(2002, 12, 23, 0, 0)}, {'employee_id': 162, 'first_name': 'Clara', 'last_name': 'Vishney', 'email': 'CVISHNEY', 'phone_number': '011.44.1346.129268', 'job_id': 'SA_REP', 'salary': 10500.0, 'commission_pct': 0.25, 'manager_id': 147, 'department_id': 80, 'hiredate': datetime.datetime(2014, 3, 5, 0, 0)}, {'employee_id': 168, 'first_name': 'Lisa', 'last_name': 'Ozer', 'email': 'LOZER', 'phone_number': '011.44.1343.929268', 'job_id': 'SA_REP', 'salary': 11500.0, 'commission_pct': 0.25, 'manager_id': 148, 'department_id': 80, 'hiredate': datetime.datetime(2014, 3, 5, 0, 0)}, {'employee_id': 174, 'first_name': 'Ellen', 'last_name': 'Abel', 'email': 'EABEL', 'phone_number': '011.44.1644.429267', 'job_id': 'SA_REP', 'salary': 11000.0, 'commission_pct': 0.3, 'manager_id': 149, 'department_id': 80, 'hiredate': datetime.datetime(2014, 3, 5, 0, 0)}, {'employee_id': 201, 'first_name': 'Michael', 'last_name': 'Hartstein', 'email': 'MHARTSTE', 'phone_number': '515.123.5555', 'job_id': 'MK_MAN', 'salary': 13000.0, 'commission_pct': None, 'manager_id': 100, 'department_id': 20, 'hiredate': datetime.datetime(2016, 3, 3, 0, 0)}, {'employee_id': 205, 'first_name': 'Shelley', 'last_name': 'Higgins', 'email': 'SHIGGINS', 'phone_number': '515.123.8080', 'job_id': 'AC_MGR', 'salary': 12000.0, 'commission_pct': None, 'manager_id': 101, 'department_id': 110, 'hiredate': datetime.datetime(2016, 3, 3, 0, 0)}]\n"
     ]
    }
   ],
   "source": [
    "connection = pymysql.connect(host='localhost',\n",
    "               port=3306,\n",
    "               user='chenzhi',\n",
    "               password='cz020391',\n",
    "               db='myemployees',\n",
    "               charset='utf8',\n",
    "                cursorclass=pymysql.cursors.DictCursor)\n",
    "\n",
    "cursor = connection.cursor()\n",
    "\n",
    "sql = \"select * from employees where salary > 10000\"\n",
    "\n",
    "cursor.execute(sql)\n",
    "\n",
    "print(cursor.fetchall())\n",
    "\n",
    "cursor.close()\n",
    "connection.close()"
   ]
  },
  {
   "cell_type": "markdown",
   "metadata": {},
   "source": [
    "## python操作mysql"
   ]
  },
  {
   "cell_type": "markdown",
   "metadata": {},
   "source": [
    "### 建表"
   ]
  },
  {
   "cell_type": "code",
   "execution_count": 11,
   "metadata": {
    "scrolled": true
   },
   "outputs": [
    {
     "name": "stdout",
     "output_type": "stream",
     "text": [
      "(('departments',), ('employees',), ('jobs',), ('locations',), ('python',))\n"
     ]
    }
   ],
   "source": [
    "connection = pymysql.connect(host='localhost',\n",
    "               port=3306,\n",
    "               user='chenzhi',\n",
    "               password='cz020391',\n",
    "               db='myemployees',\n",
    "               charset='utf8')\n",
    "\n",
    "cursor = connection.cursor()\n",
    "\n",
    "sql = '''\n",
    "    \n",
    "    create table python(\n",
    "        id int auto_increment primary key,\n",
    "        name char(20) not null,\n",
    "        sex char(8) not null,\n",
    "        score int\n",
    "    )\n",
    "\n",
    "'''\n",
    "\n",
    "cursor.execute(sql)\n",
    "\n",
    "cursor.execute('show tables')\n",
    "print(cursor.fetchall())\n",
    "\n",
    "cursor.close()\n",
    "\n",
    "connection.close()"
   ]
  },
  {
   "cell_type": "markdown",
   "metadata": {},
   "source": [
    "### 增"
   ]
  },
  {
   "cell_type": "code",
   "execution_count": 20,
   "metadata": {},
   "outputs": [
    {
     "name": "stdout",
     "output_type": "stream",
     "text": [
      "((2, 'sunwei', 'girl', 88), (3, 'sunwei', 'girl', 88), (4, 'sunwei', 'girl', 88), (5, 'sunwei', 'girl', 88))\n"
     ]
    }
   ],
   "source": [
    "\n",
    "connection = pymysql.connect(host='localhost',\n",
    "               port=3306,\n",
    "               user='chenzhi',\n",
    "               password='cz020391',\n",
    "               db='myemployees',\n",
    "               charset='utf8')\n",
    "\n",
    "cursor = connection.cursor()\n",
    "\n",
    "sql = '''\n",
    "    insert into python(\n",
    "    id,name,sex,score\n",
    "    )\n",
    "    values(\n",
    "    null,'sunwei','girl','88'\n",
    "    )\n",
    "\n",
    "'''\n",
    "\n",
    "try:\n",
    "    cursor.execute(sql)\n",
    "    \n",
    "    # 默认情况下，连接不是自动提交\n",
    "    connection.commit()\n",
    "    \n",
    "except:\n",
    "    connection.rollback()\n",
    "    \n",
    "cursor.execute('select * from python')\n",
    "print(cursor.fetchall())\n",
    "\n",
    "cursor.close()\n",
    "\n",
    "connection.close()"
   ]
  },
  {
   "cell_type": "markdown",
   "metadata": {},
   "source": [
    "#### 多行插入"
   ]
  },
  {
   "cell_type": "markdown",
   "metadata": {},
   "source": [
    "使用executemany可以进行多行插入\n",
    "\n",
    "不管什么类型搭配%s占位符都可以"
   ]
  },
  {
   "cell_type": "code",
   "execution_count": 35,
   "metadata": {},
   "outputs": [
    {
     "ename": "InterfaceError",
     "evalue": "(0, '')",
     "output_type": "error",
     "traceback": [
      "\u001b[0;31m---------------------------------------------------------------------------\u001b[0m",
      "\u001b[0;31mProgrammingError\u001b[0m                          Traceback (most recent call last)",
      "\u001b[0;32m<ipython-input-35-8f4128f6b046>\u001b[0m in \u001b[0;36m<module>\u001b[0;34m\u001b[0m\n\u001b[1;32m     14\u001b[0m \u001b[0;32mtry\u001b[0m\u001b[0;34m:\u001b[0m\u001b[0;34m\u001b[0m\u001b[0;34m\u001b[0m\u001b[0m\n\u001b[0;32m---> 15\u001b[0;31m     \u001b[0mcursor\u001b[0m\u001b[0;34m.\u001b[0m\u001b[0mexecutemany\u001b[0m\u001b[0;34m(\u001b[0m\u001b[0msql\u001b[0m\u001b[0;34m,\u001b[0m\u001b[0mdata\u001b[0m\u001b[0;34m)\u001b[0m\u001b[0;34m\u001b[0m\u001b[0;34m\u001b[0m\u001b[0m\n\u001b[0m\u001b[1;32m     16\u001b[0m \u001b[0;34m\u001b[0m\u001b[0m\n",
      "\u001b[0;32m~/.local/lib/python3.7/site-packages/pymysql/cursors.py\u001b[0m in \u001b[0;36mexecutemany\u001b[0;34m(self, query, args)\u001b[0m\n\u001b[1;32m    196\u001b[0m                                          \u001b[0mself\u001b[0m\u001b[0;34m.\u001b[0m\u001b[0mmax_stmt_length\u001b[0m\u001b[0;34m,\u001b[0m\u001b[0;34m\u001b[0m\u001b[0;34m\u001b[0m\u001b[0m\n\u001b[0;32m--> 197\u001b[0;31m                                          self._get_db().encoding)\n\u001b[0m\u001b[1;32m    198\u001b[0m \u001b[0;34m\u001b[0m\u001b[0m\n",
      "\u001b[0;32m~/.local/lib/python3.7/site-packages/pymysql/cursors.py\u001b[0m in \u001b[0;36m_get_db\u001b[0;34m(self)\u001b[0m\n\u001b[1;32m     72\u001b[0m         \u001b[0;32mif\u001b[0m \u001b[0;32mnot\u001b[0m \u001b[0mself\u001b[0m\u001b[0;34m.\u001b[0m\u001b[0mconnection\u001b[0m\u001b[0;34m:\u001b[0m\u001b[0;34m\u001b[0m\u001b[0;34m\u001b[0m\u001b[0m\n\u001b[0;32m---> 73\u001b[0;31m             \u001b[0;32mraise\u001b[0m \u001b[0merr\u001b[0m\u001b[0;34m.\u001b[0m\u001b[0mProgrammingError\u001b[0m\u001b[0;34m(\u001b[0m\u001b[0;34m\"Cursor closed\"\u001b[0m\u001b[0;34m)\u001b[0m\u001b[0;34m\u001b[0m\u001b[0;34m\u001b[0m\u001b[0m\n\u001b[0m\u001b[1;32m     74\u001b[0m         \u001b[0;32mreturn\u001b[0m \u001b[0mself\u001b[0m\u001b[0;34m.\u001b[0m\u001b[0mconnection\u001b[0m\u001b[0;34m\u001b[0m\u001b[0;34m\u001b[0m\u001b[0m\n",
      "\u001b[0;31mProgrammingError\u001b[0m: Cursor closed",
      "\nDuring handling of the above exception, another exception occurred:\n",
      "\u001b[0;31mInterfaceError\u001b[0m                            Traceback (most recent call last)",
      "\u001b[0;32m<ipython-input-35-8f4128f6b046>\u001b[0m in \u001b[0;36m<module>\u001b[0;34m\u001b[0m\n\u001b[1;32m     19\u001b[0m \u001b[0;34m\u001b[0m\u001b[0m\n\u001b[1;32m     20\u001b[0m \u001b[0;32mexcept\u001b[0m\u001b[0;34m:\u001b[0m\u001b[0;34m\u001b[0m\u001b[0;34m\u001b[0m\u001b[0m\n\u001b[0;32m---> 21\u001b[0;31m     \u001b[0mconnection\u001b[0m\u001b[0;34m.\u001b[0m\u001b[0mrollback\u001b[0m\u001b[0;34m(\u001b[0m\u001b[0;34m)\u001b[0m\u001b[0;34m\u001b[0m\u001b[0;34m\u001b[0m\u001b[0m\n\u001b[0m\u001b[1;32m     22\u001b[0m \u001b[0;34m\u001b[0m\u001b[0m\n\u001b[1;32m     23\u001b[0m \u001b[0mcursor\u001b[0m\u001b[0;34m.\u001b[0m\u001b[0mexecute\u001b[0m\u001b[0;34m(\u001b[0m\u001b[0;34m'select * from python'\u001b[0m\u001b[0;34m)\u001b[0m\u001b[0;34m\u001b[0m\u001b[0;34m\u001b[0m\u001b[0m\n",
      "\u001b[0;32m~/.local/lib/python3.7/site-packages/pymysql/connections.py\u001b[0m in \u001b[0;36mrollback\u001b[0;34m(self)\u001b[0m\n\u001b[1;32m    427\u001b[0m         \u001b[0;32min\u001b[0m \u001b[0mthe\u001b[0m \u001b[0mspecification\u001b[0m\u001b[0;34m.\u001b[0m\u001b[0;34m\u001b[0m\u001b[0;34m\u001b[0m\u001b[0m\n\u001b[1;32m    428\u001b[0m         \"\"\"\n\u001b[0;32m--> 429\u001b[0;31m         \u001b[0mself\u001b[0m\u001b[0;34m.\u001b[0m\u001b[0m_execute_command\u001b[0m\u001b[0;34m(\u001b[0m\u001b[0mCOMMAND\u001b[0m\u001b[0;34m.\u001b[0m\u001b[0mCOM_QUERY\u001b[0m\u001b[0;34m,\u001b[0m \u001b[0;34m\"ROLLBACK\"\u001b[0m\u001b[0;34m)\u001b[0m\u001b[0;34m\u001b[0m\u001b[0;34m\u001b[0m\u001b[0m\n\u001b[0m\u001b[1;32m    430\u001b[0m         \u001b[0mself\u001b[0m\u001b[0;34m.\u001b[0m\u001b[0m_read_ok_packet\u001b[0m\u001b[0;34m(\u001b[0m\u001b[0;34m)\u001b[0m\u001b[0;34m\u001b[0m\u001b[0;34m\u001b[0m\u001b[0m\n\u001b[1;32m    431\u001b[0m \u001b[0;34m\u001b[0m\u001b[0m\n",
      "\u001b[0;32m~/.local/lib/python3.7/site-packages/pymysql/connections.py\u001b[0m in \u001b[0;36m_execute_command\u001b[0;34m(self, command, sql)\u001b[0m\n\u001b[1;32m    748\u001b[0m         \"\"\"\n\u001b[1;32m    749\u001b[0m         \u001b[0;32mif\u001b[0m \u001b[0;32mnot\u001b[0m \u001b[0mself\u001b[0m\u001b[0;34m.\u001b[0m\u001b[0m_sock\u001b[0m\u001b[0;34m:\u001b[0m\u001b[0;34m\u001b[0m\u001b[0;34m\u001b[0m\u001b[0m\n\u001b[0;32m--> 750\u001b[0;31m             \u001b[0;32mraise\u001b[0m \u001b[0merr\u001b[0m\u001b[0;34m.\u001b[0m\u001b[0mInterfaceError\u001b[0m\u001b[0;34m(\u001b[0m\u001b[0;34m\"(0, '')\"\u001b[0m\u001b[0;34m)\u001b[0m\u001b[0;34m\u001b[0m\u001b[0;34m\u001b[0m\u001b[0m\n\u001b[0m\u001b[1;32m    751\u001b[0m \u001b[0;34m\u001b[0m\u001b[0m\n\u001b[1;32m    752\u001b[0m         \u001b[0;31m# If the last query was unbuffered, make sure it finishes before\u001b[0m\u001b[0;34m\u001b[0m\u001b[0;34m\u001b[0m\u001b[0;34m\u001b[0m\u001b[0m\n",
      "\u001b[0;31mInterfaceError\u001b[0m: (0, '')"
     ]
    }
   ],
   "source": [
    "sql = '''\n",
    "    insert into python(\n",
    "    id,name,sex,score\n",
    "    )\n",
    "    values(\n",
    "    %s,%s,%s,%s  \n",
    "    )\n",
    "\n",
    "'''\n",
    "\n",
    "data = (('null','ss','boy',77),\n",
    "       ('null','xx','boy',66))\n",
    "\n",
    "try:\n",
    "    cursor.executemany(sql,data)\n",
    "    \n",
    "    # 默认情况下，连接不是自动提交\n",
    "    connection.commit()\n",
    "    \n",
    "except:\n",
    "    connection.rollback()\n",
    "    \n",
    "cursor.execute('select * from python')\n",
    "print(cursor.fetchall())\n",
    "\n",
    "cursor.close()\n",
    "\n",
    "connection.close()"
   ]
  },
  {
   "cell_type": "markdown",
   "metadata": {},
   "source": [
    "### 查询"
   ]
  },
  {
   "cell_type": "code",
   "execution_count": 28,
   "metadata": {},
   "outputs": [
    {
     "name": "stdout",
     "output_type": "stream",
     "text": [
      "15\n"
     ]
    }
   ],
   "source": [
    "connection = pymysql.connect(host='localhost',\n",
    "               port=3306,\n",
    "               user='chenzhi',\n",
    "               password='cz020391',\n",
    "               db='myemployees',\n",
    "               charset='utf8')\n",
    "\n",
    "cursor = connection.cursor()\n",
    "\n",
    "sql = \"select * from employees where salary > 10000\"\n",
    "\n",
    "cursor.execute(sql)\n",
    "\n",
    "print(cursor.rowcount)\n",
    "\n",
    "cursor.close()\n",
    "connection.close()"
   ]
  },
  {
   "cell_type": "markdown",
   "metadata": {},
   "source": [
    "### 删除"
   ]
  },
  {
   "cell_type": "code",
   "execution_count": 31,
   "metadata": {},
   "outputs": [
    {
     "name": "stdout",
     "output_type": "stream",
     "text": [
      "4\n",
      "1\n"
     ]
    }
   ],
   "source": [
    "connection = pymysql.connect(host='localhost',\n",
    "               port=3306,\n",
    "               user='chenzhi',\n",
    "               password='cz020391',\n",
    "               db='myemployees',\n",
    "               charset='utf8')\n",
    "\n",
    "cursor = connection.cursor()\n",
    "\n",
    "\n",
    "id1 = input()\n",
    "\n",
    "# %s作为占位符保证了SQL的安全性\n",
    "sql = \"delete from python where id=%s\"\n",
    "\n",
    "cursor.execute(sql,id1)\n",
    "\n",
    "connection.commit()\n",
    "\n",
    "print(cursor.rowcount)\n",
    "\n",
    "cursor.close()\n",
    "connection.close()"
   ]
  },
  {
   "cell_type": "markdown",
   "metadata": {},
   "source": [
    "### 改"
   ]
  },
  {
   "cell_type": "code",
   "execution_count": 32,
   "metadata": {},
   "outputs": [
    {
     "name": "stdout",
     "output_type": "stream",
     "text": [
      "5\n",
      "1\n"
     ]
    }
   ],
   "source": [
    "connection = pymysql.connect(host='localhost',\n",
    "               port=3306,\n",
    "               user='chenzhi',\n",
    "               password='cz020391',\n",
    "               db='myemployees',\n",
    "               charset='utf8')\n",
    "\n",
    "cursor = connection.cursor()\n",
    "\n",
    "\n",
    "id1 = input()\n",
    "\n",
    "# %s作为占位符保证了SQL的安全性\n",
    "sql = \"update python set sex='boy' where id=%s\"\n",
    "\n",
    "cursor.execute(sql,id1)\n",
    "\n",
    "connection.commit()\n",
    "\n",
    "print(cursor.rowcount)\n",
    "\n",
    "cursor.close()\n",
    "connection.close()"
   ]
  }
 ],
 "metadata": {
  "kernelspec": {
   "display_name": "Python 3",
   "language": "python",
   "name": "python3"
  },
  "language_info": {
   "codemirror_mode": {
    "name": "ipython",
    "version": 3
   },
   "file_extension": ".py",
   "mimetype": "text/x-python",
   "name": "python",
   "nbconvert_exporter": "python",
   "pygments_lexer": "ipython3",
   "version": "3.7.5"
  },
  "toc": {
   "base_numbering": 1,
   "nav_menu": {},
   "number_sections": true,
   "sideBar": true,
   "skip_h1_title": false,
   "title_cell": "Table of Contents",
   "title_sidebar": "Contents",
   "toc_cell": false,
   "toc_position": {},
   "toc_section_display": true,
   "toc_window_display": false
  }
 },
 "nbformat": 4,
 "nbformat_minor": 4
}
