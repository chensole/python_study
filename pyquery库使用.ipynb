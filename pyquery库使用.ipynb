{
 "cells": [
  {
   "cell_type": "markdown",
   "metadata": {},
   "source": [
    "# pyquery"
   ]
  },
  {
   "cell_type": "markdown",
   "metadata": {},
   "source": [
    "## 初始化 "
   ]
  },
  {
   "cell_type": "markdown",
   "metadata": {},
   "source": [
    "### 字符串初始化"
   ]
  },
  {
   "cell_type": "code",
   "execution_count": 7,
   "metadata": {},
   "outputs": [
    {
     "name": "stdout",
     "output_type": "stream",
     "text": [
      "<li class=\"elements\">foo</li><li>\n",
      "            </li><li class=\"elements\">foo1</li><li>\n",
      "            </li><li class=\"elements\">foo2</li><li>\n",
      "        </li><li class=\"elements\">foo3</li><li>\n",
      "            </li><li class=\"elements\">foo4</li><li>\n",
      "            </li><li class=\"elements\">foo5</li><li>\n",
      "        </li>\n"
     ]
    }
   ],
   "source": [
    "html = '''\n",
    "\n",
    "<div class = \"panel\">\n",
    "    <div class = \"panel-heading\">\n",
    "        <h4>hello</h4>\n",
    "    </div>\n",
    "    <div class = \"panel-body\">\n",
    "        <ul class = \"list\" id = \"list-1\">\n",
    "            <li class = \"elements\">foo<li>\n",
    "            <li class = \"elements\">foo1<li>\n",
    "            <li class = \"elements\">foo2<li>\n",
    "        </ul>\n",
    "        <ul class = \"list list-small\" id = \"list-2\">\n",
    "            <li class = \"elements\">foo3<li>\n",
    "            <li class = \"elements\">foo4<li>\n",
    "            <li class = \"elements\">foo5<li>\n",
    "        </ul>\n",
    "    </div>\n",
    "</div>\n",
    "'''\n",
    "\n",
    "from pyquery import PyQuery as pq\n",
    "doc = pq(html)\n",
    "print(doc('li'))"
   ]
  },
  {
   "cell_type": "markdown",
   "metadata": {},
   "source": [
    "### URL 初始化"
   ]
  },
  {
   "cell_type": "code",
   "execution_count": 4,
   "metadata": {},
   "outputs": [
    {
     "name": "stdout",
     "output_type": "stream",
     "text": [
      "<head><meta http-equiv=\"content-type\" content=\"text/html;charset=utf-8\"/><meta http-equiv=\"X-UA-Compatible\" content=\"IE=Edge\"/><meta content=\"always\" name=\"referrer\"/><link rel=\"stylesheet\" type=\"text/css\" href=\"http://s1.bdstatic.com/r/www/cache/bdorz/baidu.min.css\"/><title>ç¾åº¦ä¸ä¸ï¼ä½ å°±ç¥é</title></head> \n"
     ]
    }
   ],
   "source": [
    "doc = pq(url = \"http://www.baidu.com\")\n",
    "\n",
    "print(doc('head'))"
   ]
  },
  {
   "cell_type": "markdown",
   "metadata": {},
   "source": [
    "### 文件初始化"
   ]
  },
  {
   "cell_type": "code",
   "execution_count": null,
   "metadata": {},
   "outputs": [],
   "source": [
    "doc = pq(filename='demo.html')\n",
    "print(doc('li'))"
   ]
  },
  {
   "cell_type": "markdown",
   "metadata": {},
   "source": [
    "## 基本CSS选择器"
   ]
  },
  {
   "cell_type": "code",
   "execution_count": 9,
   "metadata": {},
   "outputs": [
    {
     "name": "stdout",
     "output_type": "stream",
     "text": [
      "<ul class=\"list\" id=\"list-1\">\n",
      "            <li class=\"elements\">foo</li><li>\n",
      "            </li><li class=\"elements\">foo1</li><li>\n",
      "            </li><li class=\"elements\">foo2</li><li>\n",
      "        </li></ul>\n",
      "        \n"
     ]
    }
   ],
   "source": [
    "doc = pq(html)\n",
    "print(doc('.panel .panel-body #list-1'))"
   ]
  },
  {
   "cell_type": "markdown",
   "metadata": {},
   "source": [
    "## 查找元素 "
   ]
  },
  {
   "cell_type": "markdown",
   "metadata": {},
   "source": [
    "### 子元素"
   ]
  },
  {
   "cell_type": "code",
   "execution_count": 11,
   "metadata": {},
   "outputs": [
    {
     "name": "stdout",
     "output_type": "stream",
     "text": [
      "<class 'pyquery.pyquery.PyQuery'>\n",
      "<class 'pyquery.pyquery.PyQuery'>\n",
      "<h4>hello</h4>\n",
      "    \n"
     ]
    }
   ],
   "source": [
    "items = doc('.panel-heading')\n",
    "print(type(items))\n",
    "h4 = items.find('h4')  # find 查找元素\n",
    "print(type(h4))\n",
    "print(h4)"
   ]
  },
  {
   "cell_type": "markdown",
   "metadata": {},
   "source": [
    "### 父元素"
   ]
  },
  {
   "cell_type": "code",
   "execution_count": 12,
   "metadata": {},
   "outputs": [
    {
     "name": "stdout",
     "output_type": "stream",
     "text": [
      "<class 'pyquery.pyquery.PyQuery'>\n",
      "<div class=\"panel\">\n",
      "    <div class=\"panel-heading\">\n",
      "        <h4>hello</h4>\n",
      "    </div>\n",
      "    <div class=\"panel-body\">\n",
      "        <ul class=\"list\" id=\"list-1\">\n",
      "            <li class=\"elements\">foo</li><li>\n",
      "            </li><li class=\"elements\">foo1</li><li>\n",
      "            </li><li class=\"elements\">foo2</li><li>\n",
      "        </li></ul>\n",
      "        <ul class=\"list list-small\" id=\"list-2\">\n",
      "            <li class=\"elements\">foo3</li><li>\n",
      "            </li><li class=\"elements\">foo4</li><li>\n",
      "            </li><li class=\"elements\">foo5</li><li>\n",
      "        </li></ul>\n",
      "    </div>\n",
      "</div>\n",
      "\n"
     ]
    }
   ],
   "source": [
    "container = items.parent()\n",
    "print(type(container))\n",
    "print(container)"
   ]
  },
  {
   "cell_type": "code",
   "execution_count": 13,
   "metadata": {},
   "outputs": [
    {
     "name": "stdout",
     "output_type": "stream",
     "text": [
      "<class 'pyquery.pyquery.PyQuery'>\n",
      "<html><body><div class=\"panel\">\n",
      "    <div class=\"panel-heading\">\n",
      "        <h4>hello</h4>\n",
      "    </div>\n",
      "    <div class=\"panel-body\">\n",
      "        <ul class=\"list\" id=\"list-1\">\n",
      "            <li class=\"elements\">foo</li><li>\n",
      "            </li><li class=\"elements\">foo1</li><li>\n",
      "            </li><li class=\"elements\">foo2</li><li>\n",
      "        </li></ul>\n",
      "        <ul class=\"list list-small\" id=\"list-2\">\n",
      "            <li class=\"elements\">foo3</li><li>\n",
      "            </li><li class=\"elements\">foo4</li><li>\n",
      "            </li><li class=\"elements\">foo5</li><li>\n",
      "        </li></ul>\n",
      "    </div>\n",
      "</div>\n",
      "</body></html><body><div class=\"panel\">\n",
      "    <div class=\"panel-heading\">\n",
      "        <h4>hello</h4>\n",
      "    </div>\n",
      "    <div class=\"panel-body\">\n",
      "        <ul class=\"list\" id=\"list-1\">\n",
      "            <li class=\"elements\">foo</li><li>\n",
      "            </li><li class=\"elements\">foo1</li><li>\n",
      "            </li><li class=\"elements\">foo2</li><li>\n",
      "        </li></ul>\n",
      "        <ul class=\"list list-small\" id=\"list-2\">\n",
      "            <li class=\"elements\">foo3</li><li>\n",
      "            </li><li class=\"elements\">foo4</li><li>\n",
      "            </li><li class=\"elements\">foo5</li><li>\n",
      "        </li></ul>\n",
      "    </div>\n",
      "</div>\n",
      "</body><div class=\"panel\">\n",
      "    <div class=\"panel-heading\">\n",
      "        <h4>hello</h4>\n",
      "    </div>\n",
      "    <div class=\"panel-body\">\n",
      "        <ul class=\"list\" id=\"list-1\">\n",
      "            <li class=\"elements\">foo</li><li>\n",
      "            </li><li class=\"elements\">foo1</li><li>\n",
      "            </li><li class=\"elements\">foo2</li><li>\n",
      "        </li></ul>\n",
      "        <ul class=\"list list-small\" id=\"list-2\">\n",
      "            <li class=\"elements\">foo3</li><li>\n",
      "            </li><li class=\"elements\">foo4</li><li>\n",
      "            </li><li class=\"elements\">foo5</li><li>\n",
      "        </li></ul>\n",
      "    </div>\n",
      "</div>\n",
      "\n"
     ]
    }
   ],
   "source": [
    "# 查找所有祖先节点\n",
    "parents = items.parents()\n",
    "print(type(parents))\n",
    "print(parents)"
   ]
  },
  {
   "cell_type": "markdown",
   "metadata": {},
   "source": [
    "### 兄弟元素"
   ]
  },
  {
   "cell_type": "code",
   "execution_count": 17,
   "metadata": {},
   "outputs": [
    {
     "name": "stdout",
     "output_type": "stream",
     "text": [
      "<ul class=\"list list-small\" id=\"list-2\">\n",
      "            <li class=\"elements\">foo3</li><li>\n",
      "            </li><li class=\"elements\">foo4</li><li>\n",
      "            </li><li class=\"elements\">foo5</li><li>\n",
      "        </li></ul>\n",
      "    \n",
      "<ul class=\"list\" id=\"list-1\">\n",
      "            <li class=\"elements\">foo</li><li>\n",
      "            </li><li class=\"elements\">foo1</li><li>\n",
      "            </li><li class=\"elements\">foo2</li><li>\n",
      "        </li></ul>\n",
      "        \n"
     ]
    }
   ],
   "source": [
    "ul = doc('.list.list-small')\n",
    "print(ul)\n",
    "print(ul.siblings('.list'))"
   ]
  },
  {
   "cell_type": "markdown",
   "metadata": {},
   "source": [
    "## 遍历"
   ]
  },
  {
   "cell_type": "code",
   "execution_count": 19,
   "metadata": {},
   "outputs": [
    {
     "name": "stdout",
     "output_type": "stream",
     "text": [
      "<class 'generator'>\n",
      "<li class=\"elements\">foo</li>\n",
      "<li>\n",
      "            </li>\n",
      "<li class=\"elements\">foo1</li>\n",
      "<li>\n",
      "            </li>\n",
      "<li class=\"elements\">foo2</li>\n",
      "<li>\n",
      "        </li>\n",
      "<li class=\"elements\">foo3</li>\n",
      "<li>\n",
      "            </li>\n",
      "<li class=\"elements\">foo4</li>\n",
      "<li>\n",
      "            </li>\n",
      "<li class=\"elements\">foo5</li>\n",
      "<li>\n",
      "        </li>\n"
     ]
    }
   ],
   "source": [
    "lis = doc('li').items()\n",
    "print(type(lis))\n",
    "\n",
    "for li in lis:\n",
    "    print(li)"
   ]
  },
  {
   "cell_type": "markdown",
   "metadata": {},
   "source": [
    "## 获取信息"
   ]
  },
  {
   "cell_type": "markdown",
   "metadata": {},
   "source": [
    "### 获取属性"
   ]
  },
  {
   "cell_type": "code",
   "execution_count": 23,
   "metadata": {},
   "outputs": [
    {
     "name": "stdout",
     "output_type": "stream",
     "text": [
      "<ul class=\"list list-small\" id=\"list-2\">\n",
      "            <li class=\"elements\">foo3</li><li>\n",
      "            </li><li class=\"elements\">foo4</li><li>\n",
      "            </li><li class=\"elements\">foo5</li><li>\n",
      "        </li></ul>\n",
      "    \n",
      "list-2\n",
      "list-2\n"
     ]
    }
   ],
   "source": [
    "li = doc('.list.list-small')\n",
    "\n",
    "print(li)\n",
    "print(li.attr('id'))\n",
    "print(li.attr.id) # 等价"
   ]
  },
  {
   "cell_type": "markdown",
   "metadata": {},
   "source": [
    "### 获取文本"
   ]
  },
  {
   "cell_type": "code",
   "execution_count": 24,
   "metadata": {},
   "outputs": [
    {
     "name": "stdout",
     "output_type": "stream",
     "text": [
      "foo3\n",
      "foo4\n",
      "foo5\n"
     ]
    }
   ],
   "source": [
    "print(li.text())"
   ]
  },
  {
   "cell_type": "markdown",
   "metadata": {},
   "source": [
    "### 获取html"
   ]
  },
  {
   "cell_type": "code",
   "execution_count": 26,
   "metadata": {},
   "outputs": [
    {
     "name": "stdout",
     "output_type": "stream",
     "text": [
      "\n",
      "            <li class=\"elements\">foo3</li><li>\n",
      "            </li><li class=\"elements\">foo4</li><li>\n",
      "            </li><li class=\"elements\">foo5</li><li>\n",
      "            <a href=\"link2.html\">link</a>\n",
      "        </li>\n"
     ]
    }
   ],
   "source": [
    "html = '''\n",
    "\n",
    "<div class = \"panel\">\n",
    "    <div class = \"panel-heading\">\n",
    "        <h4>hello</h4>\n",
    "    </div>\n",
    "    <div class = \"panel-body\">\n",
    "        <ul class = \"list\" id = \"list-1\">\n",
    "            <li class = \"elements\">foo<li>\n",
    "            <li class = \"elements\">foo1<li>\n",
    "            <li class = \"elements\">foo2<li>\n",
    "        </ul>\n",
    "        <ul class = \"list list-small\" id = \"list-2\">\n",
    "            <li class = \"elements\">foo3<li>\n",
    "            <li class = \"elements\">foo4<li>\n",
    "            <li class = \"elements\">foo5<li>\n",
    "            <a href=\"link2.html\">link</a>\n",
    "        </ul>\n",
    "    </div>\n",
    "</div>\n",
    "'''\n",
    "doc = pq(html)\n",
    "\n",
    "print(doc('.list.list-small').html())"
   ]
  },
  {
   "cell_type": "markdown",
   "metadata": {},
   "source": [
    "## DOM 操作"
   ]
  },
  {
   "cell_type": "markdown",
   "metadata": {},
   "source": [
    "### addClass、removeClass"
   ]
  },
  {
   "cell_type": "code",
   "execution_count": 27,
   "metadata": {},
   "outputs": [
    {
     "name": "stdout",
     "output_type": "stream",
     "text": [
      "<ul class=\"list list-small\" id=\"list-2\">\n",
      "            <li class=\"elements\">foo3</li><li>\n",
      "            </li><li class=\"elements\">foo4</li><li>\n",
      "            </li><li class=\"elements\">foo5</li><li>\n",
      "            <a href=\"link2.html\">link</a>\n",
      "        </li></ul>\n",
      "    \n",
      "<ul class=\"list\" id=\"list-2\">\n",
      "            <li class=\"elements\">foo3</li><li>\n",
      "            </li><li class=\"elements\">foo4</li><li>\n",
      "            </li><li class=\"elements\">foo5</li><li>\n",
      "            <a href=\"link2.html\">link</a>\n",
      "        </li></ul>\n",
      "    \n",
      "<ul class=\"list list-small\" id=\"list-2\">\n",
      "            <li class=\"elements\">foo3</li><li>\n",
      "            </li><li class=\"elements\">foo4</li><li>\n",
      "            </li><li class=\"elements\">foo5</li><li>\n",
      "            <a href=\"link2.html\">link</a>\n",
      "        </li></ul>\n",
      "    \n"
     ]
    }
   ],
   "source": [
    "li = doc('.list.list-small')\n",
    "print(li)\n",
    "\n",
    "li.removeClass('list-small')\n",
    "print(li)\n",
    "\n",
    "li.addClass('list-small')\n",
    "print(li)"
   ]
  },
  {
   "cell_type": "markdown",
   "metadata": {},
   "source": [
    "### attr、css"
   ]
  },
  {
   "cell_type": "code",
   "execution_count": 29,
   "metadata": {},
   "outputs": [
    {
     "name": "stdout",
     "output_type": "stream",
     "text": [
      "<ul class=\"list list-small\" id=\"list-2\" name=\"link\">\n",
      "            <li class=\"elements\">foo3</li><li>\n",
      "            </li><li class=\"elements\">foo4</li><li>\n",
      "            </li><li class=\"elements\">foo5</li><li>\n",
      "            <a href=\"link2.html\">link</a>\n",
      "        </li></ul>\n",
      "    \n",
      "<ul class=\"list list-small\" id=\"list-2\" name=\"link\" style=\"font-size: 14px\">\n",
      "            <li class=\"elements\">foo3</li><li>\n",
      "            </li><li class=\"elements\">foo4</li><li>\n",
      "            </li><li class=\"elements\">foo5</li><li>\n",
      "            <a href=\"link2.html\">link</a>\n",
      "        </li></ul>\n",
      "    \n"
     ]
    }
   ],
   "source": [
    "li.attr('name','link') # 增加属性\n",
    "print(li)\n",
    "\n",
    "li.css('font-size','14px') # 增加css\n",
    "print(li)"
   ]
  },
  {
   "cell_type": "markdown",
   "metadata": {},
   "source": [
    "### remove"
   ]
  },
  {
   "cell_type": "code",
   "execution_count": 30,
   "metadata": {},
   "outputs": [
    {
     "name": "stdout",
     "output_type": "stream",
     "text": [
      "hello world\n",
      "this is a paragraph.\n",
      "hello world\n"
     ]
    }
   ],
   "source": [
    "html = '''\n",
    "<div class='wrap'>\n",
    "    hello world\n",
    "    <p>this is a paragraph.</p>\n",
    "</div>\n",
    "'''\n",
    "\n",
    "doc = pq(html)\n",
    "wrap = doc('.wrap')\n",
    "print(wrap.text())\n",
    "wrap.find('p').remove()  # 删除p标签 \n",
    "print(wrap.text())"
   ]
  },
  {
   "cell_type": "markdown",
   "metadata": {},
   "source": [
    "## 伪类选择器"
   ]
  },
  {
   "cell_type": "code",
   "execution_count": 37,
   "metadata": {},
   "outputs": [
    {
     "name": "stdout",
     "output_type": "stream",
     "text": [
      "<li class=\"elements1\">foo</li>\n",
      "<li>\n",
      "        </li>\n",
      "<li>\n",
      "            </li>\n",
      "<li>\n",
      "            </li><li class=\"elements\">foo2</li><li>\n",
      "        </li>\n",
      "<li>\n",
      "            </li><li>\n",
      "            </li><li>\n",
      "        </li>\n",
      "<li class=\"elements\">foo3</li>\n"
     ]
    }
   ],
   "source": [
    "html = '''\n",
    "\n",
    "<div class = \"panel\">\n",
    "    <div class = \"panel-heading\">\n",
    "        <h4>hello</h4>\n",
    "    </div>\n",
    "    <div class = \"panel-body\">\n",
    "        <ul class = \"list\" id = \"list-1\">\n",
    "            <li class = \"elements1\">foo<li>\n",
    "            <li class = \"elements\">foo1<li>\n",
    "            <li class = \"elements\">foo2<li>\n",
    "        </ul>\n",
    "        <ul class = \"list2 list-small\" id = \"list-2\">\n",
    "            <li class = \"elements\">foo3<li>\n",
    "            <li class = \"elements\">foo4<li>\n",
    "            <li class = \"elements\">foo5<li>\n",
    "            <a href=\"link2.html\">link</a>\n",
    "        </ul>\n",
    "    </div>\n",
    "</div>\n",
    "'''\n",
    "\n",
    "doc = pq(html)\n",
    "\n",
    "li = doc('.list li:first-child')\n",
    "print(li)\n",
    "\n",
    "li = doc('.list li:last-child')\n",
    "print(li)\n",
    "\n",
    "li = doc('.list li:nth-child(2)')\n",
    "print(li)\n",
    "\n",
    "li = doc('.list li:gt(2)') # 获取序号大于2的所有元素\n",
    "print(li)\n",
    "\n",
    "li = doc('.list li:nth-child(2n)')  # 获取序号为偶数的元素\n",
    "print(li)\n",
    "\n",
    "li = doc('li:contains(foo3)') # 获取文本含有 foo3 的元素\n",
    "print(li)"
   ]
  }
 ],
 "metadata": {
  "kernelspec": {
   "display_name": "Python 3",
   "language": "python",
   "name": "python3"
  },
  "language_info": {
   "codemirror_mode": {
    "name": "ipython",
    "version": 3
   },
   "file_extension": ".py",
   "mimetype": "text/x-python",
   "name": "python",
   "nbconvert_exporter": "python",
   "pygments_lexer": "ipython3",
   "version": "3.7.5"
  },
  "toc": {
   "base_numbering": 1,
   "nav_menu": {},
   "number_sections": true,
   "sideBar": true,
   "skip_h1_title": false,
   "title_cell": "Table of Contents",
   "title_sidebar": "Contents",
   "toc_cell": false,
   "toc_position": {},
   "toc_section_display": true,
   "toc_window_display": false
  }
 },
 "nbformat": 4,
 "nbformat_minor": 4
}
