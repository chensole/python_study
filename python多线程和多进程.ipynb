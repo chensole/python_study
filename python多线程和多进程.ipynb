{
 "cells": [
  {
   "cell_type": "markdown",
   "metadata": {},
   "source": [
    "#  parallel processing"
   ]
  },
  {
   "cell_type": "markdown",
   "metadata": {},
   "source": [
    "并行处理:一种运行模式，一台电脑上多个处理器同时执行任务\n",
    "    \n",
    "然而对于小任务而言，并行处理实际上增加运行时间，因此处理器间的通信"
   ]
  },
  {
   "cell_type": "markdown",
   "metadata": {},
   "source": [
    "## 线程与进程 "
   ]
  },
  {
   "cell_type": "markdown",
   "metadata": {},
   "source": [
    "对于操作系统来说，一个任务就是一个进程(process),使用top查看进程,进程是电脑应用程序执行的实例\n",
    "\n",
    "有些进程还不止同时干一件事，比如word，可以同时打字、拼写检查等。在一个进程内部，要同时干多件事，就需要同时运行多个'子任务',我们把进程内的这些'子任务'称为线程(thread)\n",
    "\n",
    "由于每个线程至少要干一件事，所以一个进程至少有一个线程，进程内的多个线程共享内存空间　\n",
    "\n",
    "当然，真正地同时执行多线程需要多核CPU才可能实现\n",
    "\n",
    "技术细节:\n",
    "\n",
    "    1. 进程内的所有线程共享相同的内存空间，然而进程有自己独立的内存空间\n",
    "    \n",
    "    2. 线程是轻量级的，有更低的开销相比于进程,生成进程的比生成线程慢一点\n",
    "    \n",
    "    3. 线程间共享对象很方便，因为它们共享内存空间，然而进程间需要一些IPC(进程间通信)模型，通常有操作系统提供\n",
    "\n",
    "\n",
    "并行计算的陷进:\n",
    "\n",
    "    1. 稀缺环境:\n",
    "    \n",
    "        在上面我们谈到不同线程间共享着内存空间，然而当多个线程尝试同时改变一个变量这个稀缺环境就产生了。这时候，线程调度器将随意地在不同线程间进行切换，因此我们无法知道线程改变数据的顺序。为了防止这个现象产生，在修改变量的代码块中放置一个互斥锁，保证在某个时刻只能有一个线程可以修改变量\n",
    "\n",
    "    2. 饥饿:\n",
    "    \n",
    "        一个或者多个线程因为种种原因无法获得所需要的资源，导致一直无法执行的状态，这将导致程序的整体速度下降，这个通常发生在线程调度算法设计欠佳所带来的影响\n",
    "\n",
    "\n",
    "    3. 死锁:\n",
    "        \n",
    "        过度使用互斥锁(mutex lock)有一个缺点，它可能在程序中引入死锁。死锁是一种状态: 如果线程A锁住了记录1并等待记录2，而线程B锁住了记录2并等待记录1，这样两个线程就发生了死锁现象，死锁被认为是饥饿的极端，为了避免这个我们不能引入太多的互斥锁\n",
    "        \n",
    "    4. 活锁\n",
    "        当线程一直在一个循环中运行，然而没有任何进展。这种状态也是由于设计欠佳或者不正确的使用互斥锁导致\n",
    "        \n",
    "  \n",
    "　　活锁指的是任务或者执行者没有被阻塞，由于某些条件没有满足，导致一直重复尝试，失败，尝试，失败。 活锁和死锁的区别在于，处于活锁的实体是在不断的改变状态，所谓的“活”， 而处于死锁的实体表现为等待；活锁有可能自行解开，死锁则不能"
   ]
  },
  {
   "cell_type": "markdown",
   "metadata": {},
   "source": [
    "### python中的并行计算"
   ]
  },
  {
   "cell_type": "markdown",
   "metadata": {},
   "source": [
    "我们编写的python程序都是执行单任务的进程，也就是只有一个线程\n",
    "\n",
    "那么我们怎么同时执行多个任务:\n",
    "\n",
    "1. 启动多个进程，每个进程虽然只有一个线程，但多个进程可以一块执行多个任务\n",
    "\n",
    "2. 启动一个进程，在一个进程内启动多个线程，这样多个线程也可以执行多个任务\n",
    "\n",
    "3. 第三种就是，启动多个进程，每个进程再启动多个线程，这样同时执行的任务就更多了\n",
    "\n",
    "总结一下，多任务实现的3中方式:\n",
    "\n",
    "1. 多进程模式\n",
    "2. 多线程模式\n",
    "3. 多进程+多线程\n",
    "\n",
    "线程是最小的执行单元，而进程由至少一个线程组成。如何调度进程和线程，完全由操作系统决定，程序自己不能决定什么时候执行，执行多长时间。\n",
    "\n",
    "多进程和多线程的程序涉及到同步、数据共享的问题，编写起来更复杂。"
   ]
  },
  {
   "cell_type": "markdown",
   "metadata": {},
   "source": [
    "### python全局解释锁(GIL,Global Interpreter Lock)"
   ]
  },
  {
   "cell_type": "markdown",
   "metadata": {},
   "source": [
    "当涉及到python时，有一些特别的地方需要记住:\n",
    "\n",
    "    我们知道线程共享内存空间，因此必须执行特殊的预防措施以使两个线程不同写入同一个内存位置。\n",
    "    CPython解释器使用GIL机制解决了这个问题\n",
    "    \n",
    "GIL:\n",
    "\n",
    "    CPython中，GIL是一个互斥锁，防止多个线程同时执行Python字节流，这个锁是必须的，由于CPython的内存管理不是线程安全的\n",
    "    \n",
    "    GIL虽然保护了线程安全，但是一定程度上付出了一些代价。GIL有效的在编译水平串行化了指令。工作机制是: 任何线程上的任何函数，特必须获得一个GIL，一次只能有一个线程获得全局锁。解释器最终按顺序运行指令。这个设计让内存管理线程安全，但是这种机制它不能利用多个CPU核\n",
    "    GIL在单核CPU中不存在太多问题，然而在多核CPU中全局锁将会是一个瓶颈\n",
    "    \n",
    "    如果你的程序在其他地方存在更严重的瓶颈，那么GIL导致的瓶颈将变得无关紧要，例如网络、IO、用户交互等。在一些情况下，线程是完全有效的并行化方法。但是受CPU约束的程序，线程化最终让程序变慢"
   ]
  },
  {
   "cell_type": "markdown",
   "metadata": {},
   "source": [
    "### 多线程使用案例"
   ]
  },
  {
   "cell_type": "markdown",
   "metadata": {},
   "source": [
    "GUI程序使用线程化让程序响应。如文本编辑器中，一个线程关心用户输入，一个线程负责展示文本，还有一个线程负责拼写检查等，在这里等待用户交互是最大的瓶颈。因此使用多进程不会让程序更快\n",
    "\n",
    "另一个使用案例是程序受到IO或网络约束。如网页爬取，多个线程同时爬取多个网页,爬取网页时网络是最大的瓶颈\n",
    "\n",
    "还有一个案例是Tensorflow，使用一个线程池并行转换数据"
   ]
  },
  {
   "cell_type": "markdown",
   "metadata": {},
   "source": [
    "### 多进程使用案例"
   ]
  },
  {
   "cell_type": "markdown",
   "metadata": {},
   "source": [
    "当程序占用大量CPU以及不需要任何IO或者用户交互时，使用多进程优于多线程。例如任何仅处理数字的程序多进程明显提高速度"
   ]
  },
  {
   "cell_type": "markdown",
   "metadata": {},
   "source": [
    "## Threading"
   ]
  },
  {
   "cell_type": "code",
   "execution_count": 2,
   "metadata": {},
   "outputs": [],
   "source": [
    "import threading\n",
    "import random\n",
    "from functools import reduce\n",
    "\n",
    "def func(number):\n",
    "    random_list = random.sample(range(1000000), number)\n",
    "    return reduce(lambda x, y: x*y, random_list)\n",
    "\n",
    "number = 50000\n",
    "thread1 = threading.Thread(target=func, args=(number,))\n",
    "thread2 = threading.Thread(target=func, args=(number,))\n",
    "\n",
    "# start() 异步地开启线程\n",
    "thread1.start()\n",
    "thread2.start()\n",
    "\n",
    "# join() 等待线程终止然后执行主线程\n",
    "thread1.join()\n",
    "thread2.join()\n"
   ]
  },
  {
   "cell_type": "markdown",
   "metadata": {},
   "source": [
    "## Multiprocessing"
   ]
  },
  {
   "cell_type": "code",
   "execution_count": 3,
   "metadata": {},
   "outputs": [],
   "source": [
    "import multiprocessing\n",
    "import random\n",
    "from functools import reduce\n",
    "\n",
    "\n",
    "def func(number):\n",
    "    random_list = random.sample(range(1000000), number)\n",
    "    return reduce(lambda x, y: x*y, random_list)\n",
    "\n",
    "    \n",
    "number = 50000\n",
    "process1 = multiprocessing.Process(target=func, args=(number,))\n",
    "process2 = multiprocessing.Process(target=func, args=(number,))\n",
    "\n",
    "process1.start()\n",
    "process2.start()\n",
    "\n",
    "process1.join()\n",
    "process2.join()\n"
   ]
  },
  {
   "cell_type": "markdown",
   "metadata": {},
   "source": [
    "## 总结"
   ]
  },
  {
   "cell_type": "markdown",
   "metadata": {},
   "source": [
    "对于CPU-bound,computation-intensive programs,多进程优于多线程\n",
    "\n",
    "对于IO-bound,user interaction，多线程优于多进程\n",
    "\n",
    "进程调度由操作系统处理，然而线程调度由python解释器处理\n",
    "\n",
    "子进程是可以中断和杀死的，然而子线程不能，你必须等待线程结束或者join"
   ]
  },
  {
   "cell_type": "markdown",
   "metadata": {},
   "source": [
    "## Threading module"
   ]
  },
  {
   "cell_type": "markdown",
   "metadata": {},
   "source": [
    "### 线程启动"
   ]
  },
  {
   "cell_type": "markdown",
   "metadata": {},
   "source": [
    "threading.Thread(\n",
    "    group=None,\n",
    "    target=None,\n",
    "    name=None,\n",
    "    args=(),\n",
    "    kwargs=None,\n",
    "    *,\n",
    "    daemon=None,\n",
    ")\n",
    "\n",
    "target 线程调用的对象，就是目标函数\n",
    "name　为线程起个名字\n",
    "args 　为目标函数传递实参，元组\n",
    "kwargs 为目标函数关键字传参，字典"
   ]
  },
  {
   "cell_type": "code",
   "execution_count": 4,
   "metadata": {},
   "outputs": [
    {
     "name": "stdout",
     "output_type": "stream",
     "text": [
      "i am working\n",
      "finished\n"
     ]
    }
   ],
   "source": [
    "import threading\n",
    "\n",
    "# 线程程序\n",
    "def jobs():\n",
    "    print('i am working')\n",
    "    print('finished')\n",
    "    \n",
    "# 定义线程对象\n",
    "\n",
    "t = threading.Thread(target=jobs,name=\"worker\")\n",
    "\n",
    "# 启动\n",
    "t.start()"
   ]
  },
  {
   "cell_type": "code",
   "execution_count": 5,
   "metadata": {},
   "outputs": [
    {
     "name": "stdout",
     "output_type": "stream",
     "text": [
      "Help on Thread in module threading object:\n",
      "\n",
      "class Thread(builtins.object)\n",
      " |  Thread(group=None, target=None, name=None, args=(), kwargs=None, *, daemon=None)\n",
      " |  \n",
      " |  A class that represents a thread of control.\n",
      " |  \n",
      " |  This class can be safely subclassed in a limited fashion. There are two ways\n",
      " |  to specify the activity: by passing a callable object to the constructor, or\n",
      " |  by overriding the run() method in a subclass.\n",
      " |  \n",
      " |  Methods defined here:\n",
      " |  \n",
      " |  __init__(self, group=None, target=None, name=None, args=(), kwargs=None, *, daemon=None)\n",
      " |      This constructor should always be called with keyword arguments. Arguments are:\n",
      " |      \n",
      " |      *group* should be None; reserved for future extension when a ThreadGroup\n",
      " |      class is implemented.\n",
      " |      \n",
      " |      *target* is the callable object to be invoked by the run()\n",
      " |      method. Defaults to None, meaning nothing is called.\n",
      " |      \n",
      " |      *name* is the thread name. By default, a unique name is constructed of\n",
      " |      the form \"Thread-N\" where N is a small decimal number.\n",
      " |      \n",
      " |      *args* is the argument tuple for the target invocation. Defaults to ().\n",
      " |      \n",
      " |      *kwargs* is a dictionary of keyword arguments for the target\n",
      " |      invocation. Defaults to {}.\n",
      " |      \n",
      " |      If a subclass overrides the constructor, it must make sure to invoke\n",
      " |      the base class constructor (Thread.__init__()) before doing anything\n",
      " |      else to the thread.\n",
      " |  \n",
      " |  __repr__(self)\n",
      " |      Return repr(self).\n",
      " |  \n",
      " |  getName(self)\n",
      " |  \n",
      " |  isAlive(self)\n",
      " |      Return whether the thread is alive.\n",
      " |      \n",
      " |      This method is deprecated, use is_alive() instead.\n",
      " |  \n",
      " |  isDaemon(self)\n",
      " |  \n",
      " |  is_alive(self)\n",
      " |      Return whether the thread is alive.\n",
      " |      \n",
      " |      This method returns True just before the run() method starts until just\n",
      " |      after the run() method terminates. The module function enumerate()\n",
      " |      returns a list of all alive threads.\n",
      " |  \n",
      " |  join(self, timeout=None)\n",
      " |      Wait until the thread terminates.\n",
      " |      \n",
      " |      This blocks the calling thread until the thread whose join() method is\n",
      " |      called terminates -- either normally or through an unhandled exception\n",
      " |      or until the optional timeout occurs.\n",
      " |      \n",
      " |      When the timeout argument is present and not None, it should be a\n",
      " |      floating point number specifying a timeout for the operation in seconds\n",
      " |      (or fractions thereof). As join() always returns None, you must call\n",
      " |      is_alive() after join() to decide whether a timeout happened -- if the\n",
      " |      thread is still alive, the join() call timed out.\n",
      " |      \n",
      " |      When the timeout argument is not present or None, the operation will\n",
      " |      block until the thread terminates.\n",
      " |      \n",
      " |      A thread can be join()ed many times.\n",
      " |      \n",
      " |      join() raises a RuntimeError if an attempt is made to join the current\n",
      " |      thread as that would cause a deadlock. It is also an error to join() a\n",
      " |      thread before it has been started and attempts to do so raises the same\n",
      " |      exception.\n",
      " |  \n",
      " |  run(self)\n",
      " |      Method representing the thread's activity.\n",
      " |      \n",
      " |      You may override this method in a subclass. The standard run() method\n",
      " |      invokes the callable object passed to the object's constructor as the\n",
      " |      target argument, if any, with sequential and keyword arguments taken\n",
      " |      from the args and kwargs arguments, respectively.\n",
      " |  \n",
      " |  setDaemon(self, daemonic)\n",
      " |  \n",
      " |  setName(self, name)\n",
      " |  \n",
      " |  start(self)\n",
      " |      Start the thread's activity.\n",
      " |      \n",
      " |      It must be called at most once per thread object. It arranges for the\n",
      " |      object's run() method to be invoked in a separate thread of control.\n",
      " |      \n",
      " |      This method will raise a RuntimeError if called more than once on the\n",
      " |      same thread object.\n",
      " |  \n",
      " |  ----------------------------------------------------------------------\n",
      " |  Data descriptors defined here:\n",
      " |  \n",
      " |  __dict__\n",
      " |      dictionary for instance variables (if defined)\n",
      " |  \n",
      " |  __weakref__\n",
      " |      list of weak references to the object (if defined)\n",
      " |  \n",
      " |  daemon\n",
      " |      A boolean value indicating whether this thread is a daemon thread.\n",
      " |      \n",
      " |      This must be set before start() is called, otherwise RuntimeError is\n",
      " |      raised. Its initial value is inherited from the creating thread; the\n",
      " |      main thread is not a daemon thread and therefore all threads created in\n",
      " |      the main thread default to daemon = False.\n",
      " |      \n",
      " |      The entire Python program exits when only daemon threads are left.\n",
      " |  \n",
      " |  ident\n",
      " |      Thread identifier of this thread or None if it has not been started.\n",
      " |      \n",
      " |      This is a nonzero integer. See the get_ident() function. Thread\n",
      " |      identifiers may be recycled when a thread exits and another thread is\n",
      " |      created. The identifier is available even after the thread has exited.\n",
      " |  \n",
      " |  name\n",
      " |      A string used for identification purposes only.\n",
      " |      \n",
      " |      It has no semantics. Multiple threads may be given the same name. The\n",
      " |      initial name is set by the constructor.\n",
      "\n",
      "None\n"
     ]
    }
   ],
   "source": [
    "print(help(threading.Thread()))"
   ]
  },
  {
   "cell_type": "markdown",
   "metadata": {},
   "source": [
    "### 线程的退出"
   ]
  },
  {
   "cell_type": "markdown",
   "metadata": {},
   "source": [
    "python没有提供线程退出的方法，线程在下面情况时退出:\n",
    "\n",
    "1. 线程函数内语句执行完毕\n",
    "2. 线程函数中抛出异常"
   ]
  },
  {
   "cell_type": "code",
   "execution_count": 6,
   "metadata": {},
   "outputs": [
    {
     "name": "stdout",
     "output_type": "stream",
     "text": [
      "==end==\n"
     ]
    }
   ],
   "source": [
    "import threading\n",
    "from time import sleep\n",
    "def worker():\n",
    "    i = 0\n",
    "    while i < 5:\n",
    "        sleep(2)\n",
    "        print('i am a thread')\n",
    "        i += 1\n",
    "t = threading.Thread(target=worker,name=\"thread\")\n",
    "\n",
    "t.start()\n",
    "\n",
    "print('==end==')"
   ]
  },
  {
   "cell_type": "markdown",
   "metadata": {},
   "source": [
    "### 线程的传参"
   ]
  },
  {
   "cell_type": "markdown",
   "metadata": {},
   "source": [
    "线程传参本质上就是函数传参"
   ]
  },
  {
   "cell_type": "code",
   "execution_count": 7,
   "metadata": {},
   "outputs": [
    {
     "name": "stdout",
     "output_type": "stream",
     "text": [
      "cgatcgat\n",
      "<Thread(chenzhi, started 140353684367104)>\n",
      "<_MainThread(MainThread, started 140354176636736)>\n"
     ]
    }
   ],
   "source": [
    "def re_seq(seq):\n",
    "    \n",
    "    if isinstance(seq,str):\n",
    "        print(seq[::-1].translate(str.maketrans('ATCGatcg','TAGCtagc')))\n",
    "        print(threading.current_thread())\n",
    "    else:\n",
    "        exit()\n",
    "        \n",
    "t = threading.Thread(target=re_seq,args=('atcgatcg',),name=\"chenzhi\")\n",
    "\n",
    "t.start()\n",
    "print(threading.current_thread())"
   ]
  },
  {
   "cell_type": "markdown",
   "metadata": {},
   "source": [
    "### threading的属性和方法"
   ]
  },
  {
   "cell_type": "markdown",
   "metadata": {},
   "source": [
    "#### active_count()"
   ]
  },
  {
   "cell_type": "markdown",
   "metadata": {},
   "source": [
    "返回目前活跃的线程数量"
   ]
  },
  {
   "cell_type": "code",
   "execution_count": 8,
   "metadata": {},
   "outputs": [
    {
     "name": "stdout",
     "output_type": "stream",
     "text": [
      "6\n"
     ]
    }
   ],
   "source": [
    "print(threading.active_count())"
   ]
  },
  {
   "cell_type": "markdown",
   "metadata": {},
   "source": [
    "#### current_thread()"
   ]
  },
  {
   "cell_type": "markdown",
   "metadata": {},
   "source": [
    "返回目前线程对象"
   ]
  },
  {
   "cell_type": "code",
   "execution_count": 9,
   "metadata": {},
   "outputs": [
    {
     "name": "stdout",
     "output_type": "stream",
     "text": [
      "<_MainThread(MainThread, started 140354176636736)>\n"
     ]
    }
   ],
   "source": [
    "print(threading.current_thread())"
   ]
  },
  {
   "cell_type": "markdown",
   "metadata": {},
   "source": [
    "#### get_ident()"
   ]
  },
  {
   "cell_type": "markdown",
   "metadata": {},
   "source": [
    "返回目前线程的标识ID"
   ]
  },
  {
   "cell_type": "code",
   "execution_count": 10,
   "metadata": {},
   "outputs": [
    {
     "name": "stdout",
     "output_type": "stream",
     "text": [
      "140354176636736\n"
     ]
    }
   ],
   "source": [
    "print(threading.get_ident())"
   ]
  },
  {
   "cell_type": "markdown",
   "metadata": {},
   "source": [
    "#### enumerate()"
   ]
  },
  {
   "cell_type": "markdown",
   "metadata": {},
   "source": [
    "返回一个list,包含所有活跃的线程"
   ]
  },
  {
   "cell_type": "code",
   "execution_count": 11,
   "metadata": {},
   "outputs": [
    {
     "name": "stdout",
     "output_type": "stream",
     "text": [
      "<_MainThread(MainThread, started 140354176636736)>\n",
      "<Thread(Thread-2, started daemon 140354081605376)>\n",
      "<Heartbeat(Thread-3, started daemon 140354073212672)>\n",
      "<HistorySavingThread(IPythonHistorySavingThread, started 140354048034560)>\n",
      "<ParentPollerUnix(Thread-1, started daemon 140354038331136)>\n",
      "<Thread(thread, started 140353692759808)>\n"
     ]
    }
   ],
   "source": [
    "for thread in threading.enumerate():\n",
    "    print(thread)"
   ]
  },
  {
   "cell_type": "markdown",
   "metadata": {},
   "source": [
    "#### main_thread()"
   ]
  },
  {
   "cell_type": "markdown",
   "metadata": {},
   "source": [
    "返回主线程对象，正常情况下，主线程是python解释器启动所在的线程"
   ]
  },
  {
   "cell_type": "code",
   "execution_count": 12,
   "metadata": {},
   "outputs": [
    {
     "name": "stdout",
     "output_type": "stream",
     "text": [
      "<_MainThread(MainThread, started 140354176636736)>\n"
     ]
    }
   ],
   "source": [
    "print(threading.main_thread())"
   ]
  },
  {
   "cell_type": "markdown",
   "metadata": {},
   "source": [
    "### 线程对象的方法"
   ]
  },
  {
   "cell_type": "markdown",
   "metadata": {},
   "source": [
    "一旦线程对象被创建，start()启动线程,is_alive()检查线程是否存活\n",
    "join()使得主线程等待子线程结束后才继续执行"
   ]
  },
  {
   "cell_type": "markdown",
   "metadata": {},
   "source": [
    "### 锁"
   ]
  },
  {
   "cell_type": "markdown",
   "metadata": {},
   "source": [
    "锁是控制多个线程对共享资源进行访问的工具。通常，锁提供了对共享资源的独占访问，每次只能有一个线程对 Lock 对象加锁，线程在开始访问共享资源之前应先请求获得 Lock 对象。当对共享资源访问完成后，程序释放对 Lock 对象的锁定。\n",
    "\n"
   ]
  },
  {
   "cell_type": "code",
   "execution_count": 13,
   "metadata": {},
   "outputs": [
    {
     "name": "stdout",
     "output_type": "stream",
     "text": [
      "add1 2\n",
      "add1 3\n",
      "add1 4\n",
      "add1 5\n",
      "add1 6\n",
      "add1 7\n",
      "add1 8\n",
      "add1 9\n",
      "add1 10\n",
      "add1 11\n",
      "add2 21\n",
      "add2 31\n",
      "add2 41\n",
      "add2 51\n",
      "add2 61\n",
      "add2 71\n",
      "add2 81\n",
      "add2 91\n",
      "add2 101\n",
      "add2 111\n"
     ]
    }
   ],
   "source": [
    "num = 1\n",
    "lock = threading.Lock()\n",
    "def add1():\n",
    "    global num,lock\n",
    "    lock.acquire()\n",
    "    for i in range(10):\n",
    "        num += 1\n",
    "        print('add1',num)\n",
    "    lock.release()\n",
    "    \n",
    "def add2():\n",
    "    global num, lock\n",
    "    lock.acquire()\n",
    "    for i in range(10):\n",
    "        num += 10\n",
    "        print('add2', num)\n",
    "    lock.release()\n",
    "    \n",
    "t1 = threading.Thread(target=add1)\n",
    "t2 = threading.Thread(target=add2)\n",
    "\n",
    "t1.start()\n",
    "t2.start()\n",
    "\n",
    "t1.join()\n",
    "t2.join()"
   ]
  },
  {
   "cell_type": "code",
   "execution_count": 14,
   "metadata": {},
   "outputs": [
    {
     "name": "stdout",
     "output_type": "stream",
     "text": [
      "Thread-9取钱成功！吐出钞票:100\n",
      "\t余额为: 100\n",
      "Thread-10取钱失败！余额不足！\n"
     ]
    }
   ],
   "source": [
    "import threading\n",
    "import time\n",
    "class Account:\n",
    "    # 定义构造器\n",
    "    def __init__(self, account_no, balance):\n",
    "        # 封装账户编号、账户余额的两个成员变量\n",
    "        self.account_no = account_no\n",
    "        self._balance = balance\n",
    "        self.lock = threading.RLock()\n",
    "    # 因为账户余额不允许随便修改，所以只为self._balance提供getter方法\n",
    "    def getBalance(self):\n",
    "        return self._balance\n",
    "    \n",
    "    # 提供一个线程安全的draw()方法来完成取钱操作\n",
    "    def draw(self, draw_amount):\n",
    "        # 加锁\n",
    "        self.lock.acquire()\n",
    "        try:\n",
    "            # 账户余额大于取钱数目\n",
    "            if self._balance >= draw_amount:\n",
    "                # 吐出钞票\n",
    "                print(threading.current_thread().name\\\n",
    "                    + \"取钱成功！吐出钞票:\" + str(draw_amount))\n",
    "                time.sleep(0.001)\n",
    "                # 修改余额\n",
    "                self._balance -= draw_amount\n",
    "                print(\"\\t余额为: \" + str(self._balance))\n",
    "            else:\n",
    "                print(threading.current_thread().name\\\n",
    "                    + \"取钱失败！余额不足！\")\n",
    "        finally:\n",
    "            # 修改完成，释放锁\n",
    "            self.lock.release()\n",
    "\n",
    "count = Account(1,200)\n",
    "t1 = threading.Thread(target=count.draw,args=(100,))\n",
    "t2 = threading.Thread(target=count.draw,args=(200,))\n",
    "\n",
    "t1.start()\n",
    "t2.start()\n",
    "\n",
    "t1.join()\n",
    "t2.join()"
   ]
  },
  {
   "cell_type": "markdown",
   "metadata": {},
   "source": [
    "### daemon属性"
   ]
  },
  {
   "cell_type": "markdown",
   "metadata": {},
   "source": [
    "daemon设置是否为后台线程(又称为守护线程)，它的任务是为其他线程提供服务。后台线程有一个特征，如果所有的前台线程都死亡了，那么后台线程会自动死亡。\n",
    "\n",
    "python中，在构造对象时，可以设置dameon属性，这个设置必须在start方法前设置好\n",
    "\n",
    "daemon属性可以不设置，默认是None,主线程默认是False,主线程是程序启动的第一个线程，主线程可以再启动n个子线程\n",
    "\n",
    "每个进程至少要有一个线程，病作为程序的入口，这个就是主线程\n",
    "\n",
    "父线程: 如果线程A启动了一个线程B,A就是B的父线程\n",
    "子线程: B就是A的子线程"
   ]
  },
  {
   "cell_type": "markdown",
   "metadata": {},
   "source": [
    "#### daemon=False"
   ]
  },
  {
   "cell_type": "markdown",
   "metadata": {},
   "source": [
    "当daemon为False,父线程在运行完毕后，会等待所有子线程退出才结束程序(非后台线程)"
   ]
  },
  {
   "cell_type": "code",
   "execution_count": 15,
   "metadata": {},
   "outputs": [
    {
     "name": "stdout",
     "output_type": "stream",
     "text": [
      "i=0,foo thread daemon is FalseMain thread daemon is False\n",
      "\n",
      "Main thread Exit\n"
     ]
    }
   ],
   "source": [
    "import time\n",
    "\n",
    "def foo():\n",
    "\n",
    "    for i in range(3):\n",
    "        print(f\"i={i},foo thread daemon is {threading.current_thread().isDaemon()}\")\n",
    "        time.sleep(1)\n",
    "\n",
    "t = threading.Thread(target=foo,daemon=False)\n",
    "t.start()\n",
    "\n",
    "print(f\"Main thread daemon is {threading.current_thread().isDaemon()}\")\n",
    "print(\"Main thread Exit\")\n",
    "\n",
    "# sleep(1)模拟IO,CPU发现子线程阻塞了，就立即切换到主线程\n",
    "# 主线程执行到结尾，因为子线程设置了daemon属性为False,这时右切换到子线程\n",
    "# 子线程执行完毕后，主线程看到子线程退出后也立即退出，整个程序结束"
   ]
  },
  {
   "cell_type": "markdown",
   "metadata": {},
   "source": [
    "#### daemon=True"
   ]
  },
  {
   "cell_type": "markdown",
   "metadata": {},
   "source": [
    "当daemon为True时，父线程在运行完毕后，子线程无论是否正在运行，都会伴随主线程一起退出"
   ]
  },
  {
   "cell_type": "code",
   "execution_count": 5,
   "metadata": {},
   "outputs": [
    {
     "name": "stdout",
     "output_type": "stream",
     "text": [
      "i=0,foo1 thread daemon is True\n",
      "Main thread daemon is False\n",
      "Main thread Exit\n",
      "i=1,foo1 thread daemon is True\n",
      "i=2,foo1 thread daemon is True\n"
     ]
    }
   ],
   "source": [
    "import threading,time\n",
    "def foo1():\n",
    "    for i in range(3):\n",
    "        print(f\"i={i},foo1 thread daemon is {threading.current_thread().isDaemon()}\")\n",
    "        time.sleep(1)\n",
    "        \n",
    "t = threading.Thread(target=foo1,daemon=True)\n",
    "t.start()\n",
    "\n",
    "print(f\"Main thread daemon is {threading.current_thread().isDaemon()}\")\n",
    "print(\"Main thread Exit\")"
   ]
  },
  {
   "cell_type": "markdown",
   "metadata": {},
   "source": [
    "#### daemon=None"
   ]
  },
  {
   "cell_type": "markdown",
   "metadata": {},
   "source": [
    "daemon属性可以不设置，默认值是None,该目标线程的值就取父线程的daemon值作为自己的daemon的值"
   ]
  },
  {
   "cell_type": "code",
   "execution_count": 6,
   "metadata": {},
   "outputs": [
    {
     "name": "stdout",
     "output_type": "stream",
     "text": [
      "i=0,【foo】 thread daemon is True\n",
      "【bar】 daemon is Truei=1,【foo】 thread daemon is True\n",
      "【bar】 daemon is TrueMain thread daemon is False\n",
      "\n",
      "\n",
      "i=2,【foo】 thread daemon is True\n",
      "【bar】 daemon is True\n",
      "【bar】 daemon is True\n",
      "【bar】 daemon is True【bar】 daemon is True\n",
      "\n",
      "Main Thread Exit.\n",
      "【bar】 daemon is True\n",
      "【bar】 daemon is True【bar】 daemon is True\n",
      "\n",
      "【bar】 daemon is True\n",
      "【bar】 daemon is True\n",
      "【bar】 daemon is True\n",
      "【bar】 daemon is True【bar】 daemon is True\n",
      "\n",
      "【bar】 daemon is True\n",
      "【bar】 daemon is True【bar】 daemon is True\n",
      "\n",
      "【bar】 daemon is True\n",
      "【bar】 daemon is True【bar】 daemon is True\n",
      "\n",
      "【bar】 daemon is True\n",
      "【bar】 daemon is True【bar】 daemon is True\n",
      "\n",
      "【bar】 daemon is True\n",
      "【bar】 daemon is True【bar】 daemon is True\n",
      "\n",
      "【bar】 daemon is True\n",
      "【bar】 daemon is True\n",
      "【bar】 daemon is True\n",
      "【bar】 daemon is True\n",
      "【bar】 daemon is True\n",
      "【bar】 daemon is True【bar】 daemon is True\n",
      "\n",
      "【bar】 daemon is True\n",
      "【bar】 daemon is True\n",
      "【bar】 daemon is True\n",
      "【bar】 daemon is True【bar】 daemon is True\n",
      "\n",
      "【bar】 daemon is True\n",
      "【bar】 daemon is True【bar】 daemon is True\n",
      "\n",
      "【bar】 daemon is True\n"
     ]
    }
   ],
   "source": [
    "import threading\n",
    "import time\n",
    " \n",
    " \n",
    "def bar():\n",
    "    while True: # 无限循环的子子线程\n",
    "        print('【bar】 daemon is {}'.format(threading.current_thread().isDaemon()))\n",
    "        time.sleep(1)\n",
    " \n",
    "def foo():\n",
    "    for i in range(3): #启动3个子线程\n",
    "        print('i={},【foo】 thread daemon is {}'.format(i,threading.current_thread().isDaemon()))\n",
    "        t1 = threading.Thread(target=bar,daemon=None) \n",
    "        t1.start()\n",
    " \n",
    "t = threading.Thread(target=foo,daemon=True)\n",
    "t.start()\n",
    " \n",
    "print(\"Main thread daemon is {}\".format(threading.current_thread().isDaemon()))\n",
    "time.sleep(2)\n",
    "print(\"Main Thread Exit.\")"
   ]
  },
  {
   "cell_type": "markdown",
   "metadata": {},
   "source": [
    "### join()方法"
   ]
  },
  {
   "cell_type": "markdown",
   "metadata": {},
   "source": [
    "使用了join()方法后，daemon线程执行完了，主线程才退出来\n",
    "\n",
    "一个线程中调用另一个线程的join方法，调用者被阻塞，直至被调用进程终止。\n",
    "\n",
    "调用谁的join方法，就要等谁"
   ]
  },
  {
   "cell_type": "code",
   "execution_count": 4,
   "metadata": {},
   "outputs": [
    {
     "name": "stdout",
     "output_type": "stream",
     "text": [
      "hello world\n",
      "==end==\n",
      "hello world\n",
      "hello world\n",
      "hello world\n",
      "hello world\n",
      "hello world\n",
      "hello world\n",
      "hello world\n",
      "hello world\n",
      "hello world\n"
     ]
    }
   ],
   "source": [
    "import threading,time\n",
    "def job():\n",
    "    for i in range(10):\n",
    "        print(\"hello world\")\n",
    "        time.sleep(1)\n",
    "        \n",
    "t = threading.Thread(target=job)\n",
    "t.start()\n",
    "t.join()\n",
    "\n",
    "print(\"==end==\")"
   ]
  },
  {
   "cell_type": "markdown",
   "metadata": {},
   "source": [
    "### threading.local"
   ]
  },
  {
   "cell_type": "markdown",
   "metadata": {},
   "source": [
    "我们知道多线程情况下，每一个线程均可以使用所属进程的全局变量。如果一个线程对全局变量进行了修改，将会影响其他所有的线程。为了避免多个线程同时对变量进行修改，引入线程同步机制，通过互斥锁来控制对全局变量的访问\n",
    "\n",
    "很多时候线程还需要拥有自己的私有数据，这些数据对其他线程也是不可见的\n",
    "\n",
    "有时候使用局部变量不太方便，因此python提供了ThreadLocal变量，它本身是一个全局变量，但是每个线程可以用它来保存自己的私有数据"
   ]
  },
  {
   "cell_type": "code",
   "execution_count": 12,
   "metadata": {},
   "outputs": [
    {
     "name": "stdout",
     "output_type": "stream",
     "text": [
      "10001\n"
     ]
    }
   ],
   "source": [
    "num = 1\n",
    "l = threading.Lock()\n",
    "def cal():\n",
    "    global num,l\n",
    "    l.acquire()\n",
    "    for i in range(1000):\n",
    "        num += 1 \n",
    "    l.release()\n",
    "    \n",
    "threads = []\n",
    "\n",
    "for i in range(10):\n",
    "    threads.append(threading.Thread(target=cal))\n",
    "    threads[i].start()\n",
    "for i in range(10):\n",
    "    threads[i].join()\n",
    "    \n",
    "print(num)"
   ]
  },
  {
   "cell_type": "code",
   "execution_count": null,
   "metadata": {},
   "outputs": [],
   "source": [
    "def show(num):\n",
    "    print threading.current_thread().getName(), num\n",
    "def thread_cal():\n",
    "    local_num = 0\n",
    "    for _ in xrange(1000):\n",
    "        local_num += 1\n",
    "    show(local_num)\n",
    "threads = []\n",
    "for i in range(10):\n",
    "    threads.append(threading.Thread(target=thread_cal))\n",
    "    threads[i].start()\n",
    "for i in range(10):\n",
    "    threads[i].join()\n",
    "    \n",
    "print(num)\n",
    "\n",
    "# 每个线程将自己的局部变量传递给show()函数，但在实际生产环境中，\n",
    "# 我们可能会调用很多函数，每个函数都需要很多局部变量，这时候传递\n",
    "# 参数的方式会很不友好"
   ]
  },
  {
   "cell_type": "markdown",
   "metadata": {},
   "source": [
    "为了更好的解决这个问题，python线程库实现了ThreadLocal变量，真正做到了线程之间的数据隔离"
   ]
  },
  {
   "cell_type": "code",
   "execution_count": null,
   "metadata": {},
   "outputs": [],
   "source": [
    "data = threading.local()\n",
    "def show(num):\n",
    "    print threading.current_thread().getName(), num\n",
    "def thread_cal():\n",
    "    data.num = 0\n",
    "    for _ in xrange(1000):\n",
    "        data.num += 1\n",
    "    show(data.num)\n",
    "    \n",
    "threads = []\n",
    "for i in range(10):\n",
    "    threads.append(threading.Thread(target=thread_cal))\n",
    "    threads[i].start()\n",
    "for i in range(10):\n",
    "    threads[i].join()"
   ]
  },
  {
   "cell_type": "markdown",
   "metadata": {},
   "source": [
    "## Multiprocessing"
   ]
  },
  {
   "cell_type": "markdown",
   "metadata": {},
   "source": [
    "Queue \\ Pipe 只是实现进程间数据的传递\n",
    "\n",
    "Manager 实现了进程间数据的共享，即多个进程可以修改同一份数据\n",
    "\n",
    "Lock 进程锁，主要用在输出到屏幕的时候独占屏幕，即多份数据不会出现打印一半就去打印别的"
   ]
  },
  {
   "cell_type": "code",
   "execution_count": 13,
   "metadata": {},
   "outputs": [
    {
     "name": "stdout",
     "output_type": "stream",
     "text": [
      "[1, 4, 9]\n"
     ]
    }
   ],
   "source": [
    "from multiprocessing import Pool\n",
    "\n",
    "def f(x):\n",
    "    return x*x\n",
    "\n",
    "with Pool(5) as p:\n",
    "    print(p.map(f,[1,2,3]))"
   ]
  },
  {
   "cell_type": "code",
   "execution_count": 14,
   "metadata": {
    "scrolled": true
   },
   "outputs": [
    {
     "data": {
      "text/plain": [
       "4"
      ]
     },
     "execution_count": 14,
     "metadata": {},
     "output_type": "execute_result"
    }
   ],
   "source": [
    "#查看机器CPU数量\n",
    "import multiprocessing\n",
    "multiprocessing.cpu_count()"
   ]
  },
  {
   "cell_type": "markdown",
   "metadata": {},
   "source": [
    "### Process"
   ]
  },
  {
   "cell_type": "markdown",
   "metadata": {},
   "source": [
    "创建进程，参数形式与multithreading.Thread()一样"
   ]
  },
  {
   "cell_type": "markdown",
   "metadata": {},
   "source": [
    "#### 方法"
   ]
  },
  {
   "cell_type": "markdown",
   "metadata": {},
   "source": [
    "##### is_alive()"
   ]
  },
  {
   "cell_type": "code",
   "execution_count": 54,
   "metadata": {},
   "outputs": [
    {
     "name": "stdout",
     "output_type": "stream",
     "text": [
      "hello, i am a child process\n",
      "True\n",
      "False\n"
     ]
    }
   ],
   "source": [
    "def fun2():\n",
    "    print('hello, i am a child process')\n",
    "    print(multiprocessing.current_process().is_alive())\n",
    "    \n",
    "p = multiprocessing.Process(target=fun2)\n",
    "\n",
    "p.start()\n",
    "\n",
    "p.join()\n",
    "print(p.is_alive())"
   ]
  },
  {
   "cell_type": "code",
   "execution_count": 5,
   "metadata": {},
   "outputs": [
    {
     "name": "stdout",
     "output_type": "stream",
     "text": [
      "父进程id: 3677\n",
      "父进程id: 3677\n",
      "当前子进程id: 4515\n",
      "-----------------\n",
      "父进程id: 3677\n",
      "当前子进程id: 4514\n",
      "当前子进程id: 4518\n",
      "-----------------\n",
      "-----------------\n",
      "父进程id: 3677\n",
      "当前子进程id: 4523\n",
      "-----------------\n"
     ]
    }
   ],
   "source": [
    "import os \n",
    "import multiprocessing\n",
    "\n",
    "def foo():\n",
    "    print(f\"父进程id: {os.getppid()}\")\n",
    "    print(f\"当前子进程id: {os.getpid()}\")\n",
    "    print('-----------------')\n",
    "    \n",
    "for _ in range(4):\n",
    "    p = multiprocessing.Process(target=foo)\n",
    "    p.start()"
   ]
  },
  {
   "cell_type": "markdown",
   "metadata": {},
   "source": [
    "#### 属性"
   ]
  },
  {
   "cell_type": "markdown",
   "metadata": {},
   "source": [
    "authkey,name,pid,daemon"
   ]
  },
  {
   "cell_type": "code",
   "execution_count": null,
   "metadata": {},
   "outputs": [],
   "source": [
    "def fun2():\n",
    "    print('hello, i am a child process')\n",
    "    print(multiprocessing.current_process().is_alive())\n",
    "    print(multiprocessing.current_process().name)\n",
    "p = multiprocessing.Process(target=fun2)\n",
    "\n",
    "p.start()\n",
    "\n",
    "p.join()"
   ]
  },
  {
   "cell_type": "markdown",
   "metadata": {},
   "source": [
    "#### 进程定义为类"
   ]
  },
  {
   "cell_type": "code",
   "execution_count": 58,
   "metadata": {},
   "outputs": [
    {
     "name": "stdout",
     "output_type": "stream",
     "text": [
      "the time is Fri Jan 31 20:09:54 2020\n",
      "the time is Fri Jan 31 20:09:57 2020\n",
      "the time is Fri Jan 31 20:10:00 2020\n",
      "the time is Fri Jan 31 20:10:03 2020\n",
      "the time is Fri Jan 31 20:10:06 2020\n"
     ]
    }
   ],
   "source": [
    "import multiprocessing\n",
    "import time\n",
    "\n",
    "class ClockProcess(multiprocessing.Process):\n",
    "    def __init__(self, interval):\n",
    "        multiprocessing.Process.__init__(self)\n",
    "        self.interval = interval\n",
    "    # start()方法自动调用run()\n",
    "    def run(self):\n",
    "        n = 5\n",
    "        while n > 0:\n",
    "            print(\"the time is {0}\".format(time.ctime()))\n",
    "            time.sleep(self.interval)\n",
    "            n -= 1\n",
    "\n",
    "\n",
    "p = ClockProcess(3)\n",
    "p.start() # 调用run()\n",
    "\n"
   ]
  },
  {
   "cell_type": "code",
   "execution_count": 16,
   "metadata": {},
   "outputs": [
    {
     "name": "stdout",
     "output_type": "stream",
     "text": [
      "the number squares to 49\n",
      "the number cubes to 125\n",
      "works\n",
      "we are done\n"
     ]
    }
   ],
   "source": [
    "def testing():\n",
    "    print('works')\n",
    "    \n",
    "def square(n):\n",
    "    print('the number squares to',n**2)\n",
    "    \n",
    "def cube(n):\n",
    "    print(f\"the number cubes to {n**3}\")\n",
    "    \n",
    "p1 = multiprocessing.Process(target=square,args=(7,))\n",
    "p2 = multiprocessing.Process(target=cube,args=(5,))\n",
    "p3 = multiprocessing.Process(target=testing)\n",
    "\n",
    "p1.start()\n",
    "p2.start()\n",
    "p3.start()\n",
    "\n",
    "p1.join()\n",
    "p2.join()\n",
    "p3.join()\n",
    "\n",
    "print('we are done')"
   ]
  },
  {
   "cell_type": "code",
   "execution_count": 18,
   "metadata": {},
   "outputs": [
    {
     "name": "stdout",
     "output_type": "stream",
     "text": [
      "the name of continent is: asia\n",
      "the name of continent is: africa\n",
      "the name of continent is: latein\n"
     ]
    }
   ],
   "source": [
    "def prin(string = \"asia\"):\n",
    "    print(f\"the name of continent is: {string}\")\n",
    "    \n",
    "pro = []\n",
    "name = ['africa','latein']\n",
    "\n",
    "pro2 = multiprocessing.Process(target=prin)\n",
    "pro2.start()\n",
    "pro.append(pro2)\n",
    "for ne in name:\n",
    "    pro1 = multiprocessing.Process(target=prin,args=(ne,))\n",
    "    pro.append(pro1)\n",
    "    pro1.start()\n",
    "    \n",
    "for p in pro:\n",
    "    p.join()"
   ]
  },
  {
   "cell_type": "markdown",
   "metadata": {},
   "source": [
    "### 进程间交互对象"
   ]
  },
  {
   "cell_type": "markdown",
   "metadata": {},
   "source": [
    "multiprocessing提供两个类型的进程间的交流通道｀"
   ]
  },
  {
   "cell_type": "markdown",
   "metadata": {},
   "source": [
    "#### Queues"
   ]
  },
  {
   "cell_type": "code",
   "execution_count": null,
   "metadata": {},
   "outputs": [],
   "source": [
    "from multiprocessing import Process,Queue\n",
    "\n",
    "def f(q):\n",
    "    q.put([42,None,\"hello\"])\n",
    "    \n",
    "q = Queue()\n",
    "p = Process(target=f,args=(q,))\n",
    "p.start()\n",
    "print(q.get())\n",
    "p.join()"
   ]
  },
  {
   "cell_type": "markdown",
   "metadata": {},
   "source": [
    "#### Pipes"
   ]
  },
  {
   "cell_type": "markdown",
   "metadata": {},
   "source": [
    "Pipe()函数返回通过pipe进程间的连接对象\n",
    "\n",
    "类似于电话连线，pipe两端相当于两个进程，一端send()发送数据，另一端recv()接收数据"
   ]
  },
  {
   "cell_type": "code",
   "execution_count": 16,
   "metadata": {},
   "outputs": [
    {
     "name": "stdout",
     "output_type": "stream",
     "text": [
      "[24, 'hello']\n",
      "hello\n"
     ]
    }
   ],
   "source": [
    "from multiprocessing import Process,Pipe\n",
    "\n",
    "def f(conn):\n",
    "    conn.send([24,\"hello\"])\n",
    "    conn.close()\n",
    "\n",
    "\n",
    "parent_conn,child_conn = Pipe()\n",
    "p = Process(target=f,args=(child_conn,))\n",
    "p.start()\n",
    "print(parent_conn.recv())\n",
    "p.join()\n",
    "print('hello')"
   ]
  },
  {
   "cell_type": "markdown",
   "metadata": {},
   "source": [
    "### 进程间同步"
   ]
  },
  {
   "cell_type": "markdown",
   "metadata": {},
   "source": [
    "使用锁,使得多线程同步编程，一次只能一个进行运行"
   ]
  },
  {
   "cell_type": "code",
   "execution_count": 27,
   "metadata": {},
   "outputs": [
    {
     "name": "stdout",
     "output_type": "stream",
     "text": [
      "hello 0\n",
      "hello 1\n",
      "hello 2\n",
      "hello 3\n",
      "hello 4\n",
      "hello 5\n",
      "hello 6\n",
      "hello 7\n",
      "hello 9\n",
      "hello 8\n"
     ]
    }
   ],
   "source": [
    "from multiprocessing import Process,Lock\n",
    "\n",
    "def f(l,i):\n",
    "    l.acquire()\n",
    "    try:\n",
    "        print(\"hello\",i)\n",
    "    finally:\n",
    "        l.release()\n",
    "        \n",
    "lock = Lock()\n",
    "\n",
    "for num in range(10):\n",
    "    Process(target=f,args=(lock,num)).start()"
   ]
  },
  {
   "cell_type": "code",
   "execution_count": 23,
   "metadata": {},
   "outputs": [
    {
     "name": "stdout",
     "output_type": "stream",
     "text": [
      "hello 0\n",
      "hello 1\n",
      "hello 2\n",
      "hello 3\n"
     ]
    }
   ],
   "source": [
    "def f(i):\n",
    "    print('hello',i)\n",
    "    \n",
    "for num in range(4):\n",
    "    Process(target=f,args=(num,)).start()"
   ]
  },
  {
   "cell_type": "markdown",
   "metadata": {},
   "source": [
    "### 进程间共享变量"
   ]
  },
  {
   "cell_type": "markdown",
   "metadata": {},
   "source": [
    "在同步编程时，避免使用共享变量，然而在多进程异步编程时可以使用\n",
    "\n",
    "在python中可以使用使用共享内存和进程服务\n",
    "\n",
    "Server process managers are more flexible than using shared memory objects because they can be made to support arbitrary object types. \n",
    "\n",
    "Also, a single manager can be shared by processes on different computers over a network. They are, however, slower than using shared memory"
   ]
  },
  {
   "cell_type": "markdown",
   "metadata": {},
   "source": [
    "#### 共享内存"
   ]
  },
  {
   "cell_type": "markdown",
   "metadata": {},
   "source": [
    "数据保存在共享内存使用Value或Array"
   ]
  },
  {
   "cell_type": "code",
   "execution_count": 29,
   "metadata": {},
   "outputs": [
    {
     "name": "stdout",
     "output_type": "stream",
     "text": [
      "0.0\n",
      "3.14\n",
      "[0, -1, -2, -3, -4, -5, -6, -7, -8, -9]\n"
     ]
    }
   ],
   "source": [
    "from multiprocessing import Process,Value,Array\n",
    "\n",
    "def f(n,a):\n",
    "    n.value = 3.14\n",
    "    for i in range(len(a)):\n",
    "        a[i] = -a[i]\n",
    "        \n",
    "num = Value('d',0.0)\n",
    "print(num.value)\n",
    "arr = Array('i',range(10))\n",
    "\n",
    "p = Process(target=f, args=(num, arr))\n",
    "p.start()\n",
    "p.join()\n",
    "\n",
    "print(num.value)\n",
    "print(arr[:])\n"
   ]
  },
  {
   "cell_type": "markdown",
   "metadata": {},
   "source": [
    "#### 进程服务"
   ]
  },
  {
   "cell_type": "markdown",
   "metadata": {},
   "source": [
    "通过Manager实现数据共享,Manager会创建一个服务进程，其他的进程都统一来访问这个进程，从而达到多进程之间的数据通信"
   ]
  },
  {
   "cell_type": "code",
   "execution_count": 11,
   "metadata": {},
   "outputs": [
    {
     "name": "stdout",
     "output_type": "stream",
     "text": [
      "['a', 'b', 'c']\n",
      "139949987455856\n",
      "['a', 'b']\n",
      "139949987455856\n"
     ]
    }
   ],
   "source": [
    "# 普通list进程间数据不共享\n",
    "from multiprocessing import Manager,Process\n",
    "\n",
    "def ap(list):\n",
    "    list.append(\"c\")\n",
    "    print(list)\n",
    "    print(id(list))\n",
    "li = [\"a\",\"b\"]\n",
    "\n",
    "p = multiprocessing.Process(target=ap,args=(li,))\n",
    "\n",
    "p.start()\n",
    "\n",
    "p.join()\n",
    "\n",
    "print(li)\n",
    "print(id(li))"
   ]
  },
  {
   "cell_type": "code",
   "execution_count": 12,
   "metadata": {},
   "outputs": [
    {
     "name": "stdout",
     "output_type": "stream",
     "text": [
      "['a', 'b', 'c']\n",
      "139949981820496\n",
      "['a', 'b', 'c']\n"
     ]
    }
   ],
   "source": [
    "# 使用Manager实现进程间数据共享\n",
    "m = Manager()\n",
    "my_list = m.list([\"a\",\"b\"])\n",
    "\n",
    "p = multiprocessing.Process(target=ap,args=(my_list,))\n",
    "\n",
    "p.start()\n",
    "\n",
    "p.join()\n",
    "\n",
    "print(my_list)"
   ]
  },
  {
   "cell_type": "markdown",
   "metadata": {},
   "source": [
    "### Pools"
   ]
  },
  {
   "cell_type": "markdown",
   "metadata": {},
   "source": [
    "在之前的例子中，我们已经学会如何开启单个进程，但是当涉及到长时间运行的程序时，最好的方式是创建一个进程池(Pool),这样就可以避免每一次有个新任务执行的时候，创建和和销毁一个进程。\n",
    "\n",
    "使用Pool，会使得程序表现更佳,同时Pool有返回值，而Process没有返回值\n",
    "\n",
    "在利用Python进行系统管理的时候，特别是同时操作多个文件目录，或者远程控制多台主机，并行操作可以节约大量的时间。当被操作对象数目不大时，可以直接利用multiprocessing中的Process动态成生多个进程，十几个还好，但如果是上百个，上千个目标，手动的去限制进程数量却又太过繁琐，此时可以发挥进程池的功效。\n",
    "Pool可以提供指定数量的进程，供用户调用，当有新的请求提交到pool中时，如果池还没有满，那么就会创建一个新的进程用来执行该请求；但如果池中的进程数已经达到规定最大值，那么该请求就会等待，直到池中有进程结束，才会创建新的进程来它"
   ]
  },
  {
   "cell_type": "markdown",
   "metadata": {},
   "source": [
    "#### 常用方法"
   ]
  },
  {
   "cell_type": "markdown",
   "metadata": {},
   "source": [
    "                  | Multi-args   Concurrence    Blocking     Ordered-results\n",
    "---------------------------------------------------------------------\n",
    "Pool.map          | no           yes            yes          yes\n",
    "Pool.map_async    | no           yes            no           yes\n",
    "Pool.apply        | yes          no             yes          no\n",
    "Pool.apply_async  | yes          yes            no           no\n",
    "Pool.starmap      | yes          yes            no           yes\n",
    "Pool.stamap_async | yes          yes            no           no"
   ]
  },
  {
   "cell_type": "markdown",
   "metadata": {},
   "source": [
    "##### 非阻塞Async"
   ]
  },
  {
   "cell_type": "markdown",
   "metadata": {},
   "source": [
    "multiprocessing中有两类非阻塞进程池方法，apply_async()/map_async(),两者都存在回调\n",
    "\n",
    "Async methods submit all the processes at once and retrieve the results once they are finished. \n",
    "\n",
    "Use get method to obtain the results"
   ]
  },
  {
   "cell_type": "markdown",
   "metadata": {},
   "source": [
    "###### apply_async()"
   ]
  },
  {
   "cell_type": "markdown",
   "metadata": {},
   "source": [
    "apply_async(func[,args[,kwds[,callback = None]]])\n",
    "\n",
    "非阻塞且支持结果返回进行回调，返回结果为AsyncResult对象，你需要使用get()方法获取结果，get()方法阻塞直到进程结束\n",
    "\n",
    "你也可以在进程结束后将结果赋给回调函数，可以代替get()方法\n",
    "\n",
    "结果发现主进程直接执行完毕,没有等待子进程,async是真异步.如果要改变成通常状态,需要在所有的任务提交完毕之后,先用pool.close()让进程池不再接受新的任务.此后再用pool.join()来感知进程池中的任务执行结束(进程池中的进程一直存在,但是任务会结束\n",
    "\n",
    "对于多个子任务，要分别多次调用apply_async()一一添加，不过这可以通过列表解析实现，以让多个进程的结果返回保存在一个列表中"
   ]
  },
  {
   "cell_type": "code",
   "execution_count": 42,
   "metadata": {},
   "outputs": [
    {
     "name": "stdout",
     "output_type": "stream",
     "text": [
      "This is fun1 running\n",
      "This is fun2 running\n",
      "This is fun3 running\n",
      "This is fun5 running\n",
      "This is fun0 running\n",
      "This is fun7 running\n",
      "This is fun8 running\n",
      "This is fun6 running\n",
      "My id is 30309\n",
      "My id is 30313\n",
      "My id is 30306\n",
      "My id is 30308\n",
      "This is fun4 running\n",
      "My id is 30307\n",
      "My id is 30314\n",
      "My id is 30312\n",
      "My id is 30310\n",
      "My id is 30311\n",
      "This is fun3 ending\n",
      "This is fun2 ending\n",
      "This is fun0 ending\n",
      "This is fun7 ending\n",
      "This is fun9 running\n",
      "This is fun1 ending\n",
      "This is fun4 ending\n",
      "This is fun6 ending\n",
      "This is fun8 ending\n",
      "My id is 30308\n",
      "This is fun5 ending\n",
      "This is fun9 ending\n"
     ]
    }
   ],
   "source": [
    "import time\n",
    "from multiprocessing import Pool\n",
    "import os\n",
    "\n",
    "\n",
    "def test(n):\n",
    "    print('This is fun{} running'.format(n))\n",
    "    print('My id is', os.getpid())\n",
    "    time.sleep(1)\n",
    "    print('This is fun{} ending'.format(n))\n",
    "\n",
    "\n",
    "if __name__ == '__main__':\n",
    "    pool = Pool(9)\n",
    "    for i in range(10):\n",
    "        pool.apply_async(test, args=(i,))\n",
    "    pool.close()\n",
    "    pool.join()"
   ]
  },
  {
   "cell_type": "code",
   "execution_count": 69,
   "metadata": {
    "scrolled": true
   },
   "outputs": [
    {
     "name": "stdout",
     "output_type": "stream",
     "text": [
      "[0, 1, 4, 25, 16, 9]\n"
     ]
    }
   ],
   "source": [
    "# 使用回调，避免使用get()\n",
    "from multiprocessing import Pool\n",
    "\n",
    "def fun(x):\n",
    "    return x*x\n",
    "li = []\n",
    "def callback(x):\n",
    "    li.append(x)\n",
    "\n",
    "p = Pool(4)\n",
    "\n",
    "[p.apply_async(func=fun,\n",
    "              args=(i,),\n",
    "               callback = callback) for i in range(6)]\n",
    "\n",
    "p.close()\n",
    "p.join()\n",
    "print(li)"
   ]
  },
  {
   "cell_type": "markdown",
   "metadata": {},
   "source": [
    "从输出结果也可以看出，apply_async()输出结果的顺序与参数的顺序不一致，然而map()、map_async()传入结果与参数顺序一致"
   ]
  },
  {
   "cell_type": "markdown",
   "metadata": {},
   "source": [
    "###### map_async()"
   ]
  },
  {
   "cell_type": "markdown",
   "metadata": {},
   "source": [
    "map_async(\n",
    "    func,\n",
    "    iterable,\n",
    "    chunksize=None,\n",
    "    callback=None,\n",
    "    error_callback=None,\n",
    ")\n",
    "\n",
    "如果多个子任务通过同一函数执行，只是参数不同，那么可以把拆分后的参数以列表形式通过iterable传入\n",
    "\n",
    "非阻塞且支持结果返回进行回调，返回结果为MapResult对象，你需要使用get()方法获取结果，get()方法阻塞直到进程结束"
   ]
  },
  {
   "cell_type": "code",
   "execution_count": 84,
   "metadata": {},
   "outputs": [
    {
     "name": "stdout",
     "output_type": "stream",
     "text": [
      "<multiprocessing.pool.MapResult object at 0x7f48a4731e50>\n",
      "[9, 16, 25, 1]\n"
     ]
    }
   ],
   "source": [
    "\n",
    "p = Pool(4)\n",
    "\n",
    "def fun(x):\n",
    "    return x*x\n",
    "res = p.map_async(fun,[3,4,5,1])\n",
    "\n",
    "p.close()\n",
    "p.join()\n",
    "print(res)\n",
    "print(res.get())"
   ]
  },
  {
   "cell_type": "code",
   "execution_count": 85,
   "metadata": {},
   "outputs": [
    {
     "name": "stdout",
     "output_type": "stream",
     "text": [
      "[[9, 16, 25, 1]]\n"
     ]
    }
   ],
   "source": [
    "# 使用回调，避免使用get()\n",
    "from multiprocessing import Pool\n",
    "\n",
    "def fun(x):\n",
    "    return x*x\n",
    "li = []\n",
    "def callback(x):\n",
    "    li.append(x)\n",
    "\n",
    "p = Pool(4)\n",
    "\n",
    "p.map_async(func = fun,iterable=[3,4,5,1],\n",
    "               callback = callback)\n",
    "\n",
    "p.close()\n",
    "p.join()\n",
    "print(li)"
   ]
  },
  {
   "cell_type": "markdown",
   "metadata": {},
   "source": [
    "###### map_async() vs apply_async()"
   ]
  },
  {
   "cell_type": "markdown",
   "metadata": {},
   "source": [
    "若是通过apply_async()方法，由于是手动指定进程并添加任务，这样每个进程的执行结果之间是独立的，会分别保存，这样的好处在于，尽管可能其中某几个进程出现了错误，抛出异常，但是并不会导致其他的进程也失败，其他的进程并不会受影响，而且当获取这个抛出异常的进程的结果时，还会返回异常信息；但是如果是map_async()方法，其子参数任务并不是独立的，如果其中的某个子参数任务抛出异常，同时也会导致其他的子参数任务停止，也就是说，并不是通过独立线程来执行不同的子参数任务的\n",
    "\n",
    "两者都可以回调"
   ]
  },
  {
   "cell_type": "markdown",
   "metadata": {},
   "source": [
    "###### 回调函数"
   ]
  },
  {
   "cell_type": "markdown",
   "metadata": {},
   "source": [
    "编程分为两类: 系统编程和应用编程\n",
    "\n",
    "系统编程: 简单来说就是编写库\n",
    "\n",
    "应用编程: 利用写好的各种库来编写某种功能的程序，即应用\n",
    "\n",
    "系统程序员会给自己写的库留下一些接口，即API，以供应用程序员使用\n",
    "\n",
    "当程序跑起来，一般情况下，应用程序会通过API调用库里所预先备好的函数。但是有些库函数却要求应用先传给它一个函数，好在适合时调用。这个被传入、后又被调用的函数就成为回调函数(callback function)\n",
    "\n",
    "回调函数通常和应用处于同一抽象层，而回调就成了一个高层调用底层，底层再回头调用高层的过程"
   ]
  },
  {
   "cell_type": "markdown",
   "metadata": {},
   "source": [
    "  需要回调函数的场景：进程池中任何一个任务一旦处理完了，就立即告知主进程：我好了额，你可以处理我的结果了。主进程则调用一个函数去处理该结果，该函数即回调函数\n",
    "  \n",
    "  回调函数是在主进程里执行"
   ]
  },
  {
   "cell_type": "markdown",
   "metadata": {},
   "source": [
    "apply_async 和 map_async 可选参数 callback，将在主进程中调用它来处理返回结果。注意若 callback 耗时太长会阻塞主进程"
   ]
  },
  {
   "cell_type": "code",
   "execution_count": 40,
   "metadata": {},
   "outputs": [
    {
     "ename": "TypeError",
     "evalue": "apply() got an unexpected keyword argument 'callback'",
     "output_type": "error",
     "traceback": [
      "\u001b[0;31m---------------------------------------------------------------------------\u001b[0m",
      "\u001b[0;31mTypeError\u001b[0m                                 Traceback (most recent call last)",
      "\u001b[0;32m<ipython-input-40-9fc78756a825>\u001b[0m in \u001b[0;36m<module>\u001b[0;34m\u001b[0m\n\u001b[1;32m     16\u001b[0m     \u001b[0;32mfor\u001b[0m \u001b[0mi\u001b[0m \u001b[0;32min\u001b[0m \u001b[0mrange\u001b[0m\u001b[0;34m(\u001b[0m\u001b[0;36m10\u001b[0m\u001b[0;34m)\u001b[0m\u001b[0;34m:\u001b[0m\u001b[0;34m\u001b[0m\u001b[0;34m\u001b[0m\u001b[0m\n\u001b[1;32m     17\u001b[0m     \u001b[0;31m# 这里表示，当b函数执行完成之后就会调用a函数，并且把b函数的返回值传给a函数。\u001b[0m\u001b[0;34m\u001b[0m\u001b[0;34m\u001b[0m\u001b[0;34m\u001b[0m\u001b[0m\n\u001b[0;32m---> 18\u001b[0;31m         \u001b[0mp\u001b[0m\u001b[0;34m.\u001b[0m\u001b[0mapply\u001b[0m\u001b[0;34m(\u001b[0m\u001b[0mb\u001b[0m\u001b[0;34m,\u001b[0m \u001b[0margs\u001b[0m\u001b[0;34m=\u001b[0m\u001b[0;34m(\u001b[0m\u001b[0mi\u001b[0m\u001b[0;34m,\u001b[0m\u001b[0;34m)\u001b[0m\u001b[0;34m,\u001b[0m \u001b[0mcallback\u001b[0m\u001b[0;34m=\u001b[0m\u001b[0ma\u001b[0m\u001b[0;34m)\u001b[0m\u001b[0;34m\u001b[0m\u001b[0;34m\u001b[0m\u001b[0m\n\u001b[0m\u001b[1;32m     19\u001b[0m     \u001b[0mp\u001b[0m\u001b[0;34m.\u001b[0m\u001b[0mclose\u001b[0m\u001b[0;34m(\u001b[0m\u001b[0;34m)\u001b[0m\u001b[0;34m\u001b[0m\u001b[0;34m\u001b[0m\u001b[0m\n\u001b[1;32m     20\u001b[0m     \u001b[0mp\u001b[0m\u001b[0;34m.\u001b[0m\u001b[0mjoin\u001b[0m\u001b[0;34m(\u001b[0m\u001b[0;34m)\u001b[0m\u001b[0;34m\u001b[0m\u001b[0;34m\u001b[0m\u001b[0m\n",
      "\u001b[0;31mTypeError\u001b[0m: apply() got an unexpected keyword argument 'callback'"
     ]
    }
   ],
   "source": [
    "from multiprocessing import Process,Pool\n",
    "\n",
    "\n",
    "def a(x):\n",
    "    print(\"this is a start\")\n",
    "    print(x)\n",
    "    print(\"this is a stop\")\n",
    "\n",
    "\n",
    "def b(num):\n",
    "    return(num)\n",
    "\n",
    "\n",
    "if __name__ == '__main__':\n",
    "    p = Pool(5)\n",
    "    for i in range(10):\n",
    "    # 这里表示，当b函数执行完成之后就会调用a函数，并且把b函数的返回值传给a函数。\n",
    "        p.apply_async(b, args=(i,), callback=a)\n",
    "    p.close()\n",
    "    p.join()"
   ]
  },
  {
   "cell_type": "markdown",
   "metadata": {},
   "source": [
    "##### 阻塞"
   ]
  },
  {
   "cell_type": "markdown",
   "metadata": {},
   "source": [
    "pool.apply(f, args): f is only executed in ONE of the workers of the pool. So ONE of the processes in the pool will run f(args)\n",
    "\n",
    "pool.map(f, iterable): This method chops the iterable into a number of chunks which it submits to the process pool as separate tasks. So you take advantage of all the processes in the pool\n",
    "\n",
    "Pool.map(or Pool.apply)methods are very much similar to Python built-in map(or apply). They block the main process until all the processes complete and return the result"
   ]
  },
  {
   "cell_type": "markdown",
   "metadata": {},
   "source": [
    "###### apply()"
   ]
  },
  {
   "cell_type": "markdown",
   "metadata": {},
   "source": [
    "使用阻塞方式调用指定方法，上一个进程退出后，下一个进程才运行"
   ]
  },
  {
   "cell_type": "code",
   "execution_count": 32,
   "metadata": {},
   "outputs": [
    {
     "name": "stdout",
     "output_type": "stream",
     "text": [
      "running,pid=25154,parent=3677\n",
      "running,pid=25153,parent=3677\n",
      "running,pid=25155,parent=3677\n",
      "running,pid=25156,parent=3677\n",
      "--start1--\n",
      "time is 0.8222508430480957\n",
      "running,pid=25153,parent=3677\n",
      "time is 0.42098402976989746\n",
      "running,pid=25153,parent=3677\n",
      "time is 1.5531089305877686\n",
      "running,pid=25156,parent=3677\n",
      "time is 1.6559772491455078\n",
      "time is 0.5978152751922607\n",
      "time is 2.621100902557373\n",
      "time is 2.427583932876587\n",
      "--end1--\n",
      "running,pid=25188,parent=3677\n",
      "time is 2.5747923851013184\n",
      "running,pid=25189,parent=3677\n",
      "time is 1.2197203636169434\n",
      "running,pid=25190,parent=3677\n",
      "time is 0.5291950702667236\n",
      "running,pid=25191,parent=3677\n",
      "time is 2.189556121826172\n",
      "running,pid=25188,parent=3677\n",
      "time is 0.8408067226409912\n",
      "running,pid=25189,parent=3677\n",
      "time is 0.4978172779083252\n",
      "running,pid=25190,parent=3677\n",
      "time is 2.132107973098755\n",
      "--start2--\n",
      "--end2--\n"
     ]
    }
   ],
   "source": [
    "from multiprocessing import Pool\n",
    "import time\n",
    "import os\n",
    "import random\n",
    "\n",
    "def fun(name):\n",
    "    print(f\"running,pid={os.getpid()},parent={os.getppid()}\")\n",
    "    t_start = time.time()\n",
    "    time.sleep(random.random()*3)\n",
    "    t_end = time.time()\n",
    "    print(f\"time is {t_end - t_start}\")\n",
    "    \n",
    "pool=Pool(4)#设置线程池中最大线程数量为5\n",
    "for _ in range(0,7):\n",
    "    #非阻塞运行\n",
    "    pool.apply_async(fun,(\"mark\"+str(id),))\n",
    "print(\"--start1--\")\n",
    "pool.close()#关闭线程池，关闭后不再接受进的请求\n",
    "pool.join()#等待进程池所有进程都执行完毕后，开始执行下面语句\n",
    "print(\"--end1--\")\n",
    "\n",
    "pool=Pool(4)#设置线程池中最大线程数量为5\n",
    "for _ in range(0,7):\n",
    "    #阻塞运行\n",
    "    pool.apply(fun,(\"mark\"+str(id),))\n",
    "print(\"--start2--\")\n",
    "pool.close()#关闭线程池，关闭后不再接受进的请求\n",
    "pool.join()#等待进程池所有进程都执行完毕后，开始执行下面语句\n",
    "print(\"--end2--\")"
   ]
  },
  {
   "cell_type": "code",
   "execution_count": 54,
   "metadata": {},
   "outputs": [
    {
     "name": "stdout",
     "output_type": "stream",
     "text": [
      "[9, 9, 9, 9, 9, 9]\n"
     ]
    }
   ],
   "source": [
    "from multiprocessing import Pool\n",
    "\n",
    "def job(n):\n",
    "    return n-1\n",
    "\n",
    "pool = Pool(4)\n",
    "n = 10\n",
    "l = []\n",
    "for i in range(6):\n",
    "    res = pool.apply_async(func=job,args=(n,)) # 得到线程池中的运算结果\n",
    "    l.append(res)\n",
    "\n",
    "print([x.get() for x in l])"
   ]
  },
  {
   "cell_type": "markdown",
   "metadata": {},
   "source": [
    "#### map()"
   ]
  },
  {
   "cell_type": "markdown",
   "metadata": {},
   "source": [
    "map()放入迭代参数，返回多个结果\n",
    "\n",
    "用map方法执行的时候,默认异步调用,然后自带.close()和.join()方法"
   ]
  },
  {
   "cell_type": "code",
   "execution_count": 5,
   "metadata": {},
   "outputs": [
    {
     "name": "stdout",
     "output_type": "stream",
     "text": [
      "[1, 1, 4, 27, 256, 3125, 46656, 823543, 16777216, 387420489]\n"
     ]
    }
   ],
   "source": [
    "import multiprocessing as mp\n",
    "\n",
    "def func(x):\n",
    "    return x**x\n",
    "\n",
    "pool = mp.Pool(2)\n",
    "result = pool.map(func,range(10))\n",
    "print(result)"
   ]
  },
  {
   "cell_type": "code",
   "execution_count": 45,
   "metadata": {
    "collapsed": true
   },
   "outputs": [
    {
     "name": "stdout",
     "output_type": "stream",
     "text": [
      "<ForkProcess(ForkPoolWorker-26, started daemon)>\n",
      "<ForkProcess(ForkPoolWorker-25, started daemon)>\n",
      "<ForkProcess(ForkPoolWorker-24, started daemon)>\n",
      "<ForkProcess(ForkPoolWorker-24, started daemon)>\n",
      "<ForkProcess(ForkPoolWorker-24, started daemon)>\n",
      "<ForkProcess(ForkPoolWorker-26, started daemon)>\n",
      "<ForkProcess(ForkPoolWorker-24, started daemon)>\n",
      "<ForkProcess(ForkPoolWorker-25, started daemon)>\n",
      "<ForkProcess(ForkPoolWorker-24, started daemon)>\n",
      "<ForkProcess(ForkPoolWorker-25, started daemon)>\n",
      "<ForkProcess(ForkPoolWorker-26, started daemon)>\n",
      "<ForkProcess(ForkPoolWorker-25, started daemon)>\n",
      "<ForkProcess(ForkPoolWorker-24, started daemon)>\n",
      "<ForkProcess(ForkPoolWorker-26, started daemon)>\n",
      "<ForkProcess(ForkPoolWorker-24, started daemon)>\n",
      "<ForkProcess(ForkPoolWorker-26, started daemon)>\n",
      "<ForkProcess(ForkPoolWorker-24, started daemon)>\n",
      "[256, 4, 27, 3125, 27, 4, 1, 4]\n",
      "[256, 46656, 3125, 256, 46656, 27, 20880467999847912034355032910567, 256, 46656]\n"
     ]
    },
    {
     "name": "stderr",
     "output_type": "stream",
     "text": [
      "Process ForkPoolWorker-24:\n",
      "Process ForkPoolWorker-26:\n",
      "Process ForkPoolWorker-25:\n",
      "Traceback (most recent call last):\n",
      "Traceback (most recent call last):\n",
      "Traceback (most recent call last):\n",
      "  File \"/usr/lib/python3.7/multiprocessing/process.py\", line 297, in _bootstrap\n",
      "    self.run()\n",
      "  File \"/usr/lib/python3.7/multiprocessing/process.py\", line 297, in _bootstrap\n",
      "    self.run()\n",
      "  File \"/usr/lib/python3.7/multiprocessing/process.py\", line 297, in _bootstrap\n",
      "    self.run()\n",
      "  File \"/usr/lib/python3.7/multiprocessing/process.py\", line 99, in run\n",
      "    self._target(*self._args, **self._kwargs)\n",
      "  File \"/usr/lib/python3.7/multiprocessing/process.py\", line 99, in run\n",
      "    self._target(*self._args, **self._kwargs)\n",
      "  File \"/usr/lib/python3.7/multiprocessing/pool.py\", line 110, in worker\n",
      "    task = get()\n",
      "  File \"/usr/lib/python3.7/multiprocessing/process.py\", line 99, in run\n",
      "    self._target(*self._args, **self._kwargs)\n",
      "  File \"/usr/lib/python3.7/multiprocessing/pool.py\", line 110, in worker\n",
      "    task = get()\n",
      "  File \"/usr/lib/python3.7/multiprocessing/queues.py\", line 351, in get\n",
      "    with self._rlock:\n",
      "  File \"/usr/lib/python3.7/multiprocessing/queues.py\", line 352, in get\n",
      "    res = self._reader.recv_bytes()\n",
      "  File \"/usr/lib/python3.7/multiprocessing/pool.py\", line 110, in worker\n",
      "    task = get()\n",
      "  File \"/usr/lib/python3.7/multiprocessing/connection.py\", line 216, in recv_bytes\n",
      "    buf = self._recv_bytes(maxlength)\n",
      "  File \"/usr/lib/python3.7/multiprocessing/synchronize.py\", line 95, in __enter__\n",
      "    return self._semlock.__enter__()\n",
      "KeyboardInterrupt\n",
      "  File \"/usr/lib/python3.7/multiprocessing/connection.py\", line 407, in _recv_bytes\n",
      "    buf = self._recv(4)\n",
      "  File \"/usr/lib/python3.7/multiprocessing/queues.py\", line 351, in get\n",
      "    with self._rlock:\n",
      "  File \"/usr/lib/python3.7/multiprocessing/connection.py\", line 379, in _recv\n",
      "    chunk = read(handle, remaining)\n",
      "  File \"/usr/lib/python3.7/multiprocessing/synchronize.py\", line 95, in __enter__\n",
      "    return self._semlock.__enter__()\n",
      "KeyboardInterrupt\n",
      "KeyboardInterrupt\n"
     ]
    }
   ],
   "source": [
    "def my_func(x):\n",
    "  print(mp.current_process())\n",
    "  return x**x\n",
    "\n",
    "\n",
    "pool = mp.Pool(3)\n",
    "\n",
    "# map()将第二个参数(可迭代)依次传递给函数\n",
    "result = pool.map(my_func, [4,2,3,5,3,2,1,2])\n",
    "result_set_2 = pool.map(my_func, [4,6,5,4,6,3,23,4,6])\n",
    "\n",
    "print(result)\n",
    "print(result_set_2)\n"
   ]
  },
  {
   "cell_type": "code",
   "execution_count": null,
   "metadata": {},
   "outputs": [],
   "source": [
    "pool = mp.Pool(2)\n",
    "pool.c"
   ]
  },
  {
   "cell_type": "markdown",
   "metadata": {},
   "source": [
    "### Queue进程间传递数据"
   ]
  },
  {
   "cell_type": "markdown",
   "metadata": {},
   "source": [
    "python multiprocessing模块提供Queue类，这是一个先进先出的数据结构，在不同进程间共享数据"
   ]
  },
  {
   "cell_type": "code",
   "execution_count": 50,
   "metadata": {},
   "outputs": [
    {
     "name": "stdout",
     "output_type": "stream",
     "text": [
      "[0.7663637549273589, 0.10272604880025493, 0.15532028967453892, 0.9202729571339653]\n"
     ]
    }
   ],
   "source": [
    "from multiprocessing import Queue,Process\n",
    "import random\n",
    "def rand_num(queue):\n",
    "    num = random.random()\n",
    "    queue.put(num)\n",
    "\n",
    "queue = Queue()\n",
    "\n",
    "processes = [Process(target=rand_num, args=(queue,)) for x in range(4)]\n",
    "\n",
    "for p in processes:\n",
    "    p.start()\n",
    "\n",
    "for p in processes:\n",
    "    p.join()\n",
    "\n",
    "results = [queue.get() for p in processes]\n",
    "\n",
    "print(results)"
   ]
  },
  {
   "cell_type": "code",
   "execution_count": 60,
   "metadata": {},
   "outputs": [
    {
     "name": "stdout",
     "output_type": "stream",
     "text": [
      "249833583000\n",
      "249833583000\n",
      "499667166000\n"
     ]
    }
   ],
   "source": [
    "import multiprocessing as mp\n",
    "\n",
    "def job(q):\n",
    "    res = 0\n",
    "    for i in range(1000):\n",
    "        res += i+i**2+i**3\n",
    "    q.put(res) # queue\n",
    "\n",
    "\n",
    "q = mp.Queue()\n",
    "p1 = mp.Process(target=job, args=(q,))\n",
    "p2 = mp.Process(target=job, args=(q,))\n",
    "p1.start()\n",
    "p2.start()\n",
    "p1.join()\n",
    "p2.join()\n",
    "res1 = q.get()\n",
    "res2 = q.get()\n",
    "print(res1+res2)"
   ]
  },
  {
   "cell_type": "code",
   "execution_count": 63,
   "metadata": {},
   "outputs": [
    {
     "name": "stdout",
     "output_type": "stream",
     "text": [
      "normal: 499999666667166666000000\n",
      "normal time: 3.4349758625030518\n",
      "multithread: 499999666667166666000000\n",
      "multithread time: 4.513598442077637\n",
      "multicore: 499999666667166666000000\n",
      "multicore time: 1.7812421321868896\n"
     ]
    }
   ],
   "source": [
    "import multiprocessing as mp\n",
    "import threading as td\n",
    "import time\n",
    "\n",
    "def job(q):\n",
    "    res = 0\n",
    "    for i in range(1000000):\n",
    "        res += i+i**2+i**3\n",
    "    q.put(res) # queue\n",
    "\n",
    "def multicore():\n",
    "    q = mp.Queue()\n",
    "    p1 = mp.Process(target=job, args=(q,))\n",
    "    p2 = mp.Process(target=job, args=(q,))\n",
    "    p1.start()\n",
    "    p2.start()\n",
    "    p1.join()\n",
    "    p2.join()\n",
    "    res1 = q.get()\n",
    "    res2 = q.get()\n",
    "    print('multicore:' , res1+res2)\n",
    "\n",
    "def normal():\n",
    "    res = 0\n",
    "    for _ in range(2):\n",
    "        for i in range(1000000):\n",
    "            res += i+i**2+i**3\n",
    "    print('normal:', res)\n",
    "\n",
    "def multithread():\n",
    "    q = mp.Queue()\n",
    "    t1 = td.Thread(target=job, args=(q,))\n",
    "    t2 = td.Thread(target=job, args=(q,))\n",
    "    t1.start()\n",
    "    t2.start()\n",
    "    t1.join()\n",
    "    t2.join()\n",
    "    res1 = q.get()\n",
    "    res2 = q.get()\n",
    "    print('multithread:', res1+res2)\n",
    "\n",
    "\n",
    "st = time.time()\n",
    "normal()\n",
    "st1= time.time()\n",
    "print('normal time:', st1 - st)\n",
    "multithread()\n",
    "st2 = time.time()\n",
    "print('multithread time:', st2 - st1)\n",
    "multicore()\n",
    "print('multicore time:', time.time()-st2)"
   ]
  },
  {
   "cell_type": "code",
   "execution_count": 19,
   "metadata": {},
   "outputs": [
    {
     "name": "stdout",
     "output_type": "stream",
     "text": [
      "pushing items to queue:\n",
      "item no: 1 red\n",
      "item no: 2 blue\n",
      "item no: 3 green\n",
      "\n",
      "popping items from queue:\n",
      "item no:  0   red\n",
      "item no:  1   blue\n",
      "item no:  2   green\n"
     ]
    }
   ],
   "source": [
    "col = ['red','blue','green']\n",
    "cnt = 1\n",
    "queue = multiprocessing.Queue()\n",
    "print('pushing items to queue:')\n",
    "\n",
    "for cl in col:\n",
    "    print(f\"item no: {cnt} {cl}\")\n",
    "    queue.put(cl)\n",
    "    cnt += 1\n",
    "    \n",
    "print('\\npopping items from queue:')\n",
    "cnt = 0\n",
    "while not queue.empty():\n",
    "    print('item no: ', cnt, ' ', queue.get())\n",
    "    cnt += 1"
   ]
  },
  {
   "cell_type": "code",
   "execution_count": 64,
   "metadata": {},
   "outputs": [
    {
     "name": "stdout",
     "output_type": "stream",
     "text": [
      "[0, 1, 4, 9, 16, 25, 36, 49, 64, 81]\n",
      "4\n",
      "[0, 1, 4, 9, 16, 25, 36, 49, 64, 81]\n"
     ]
    }
   ],
   "source": [
    "import multiprocessing as mp\n",
    "\n",
    "def job(x):\n",
    "    return x*x\n",
    "\n",
    "def multicore():\n",
    "    pool = mp.Pool(processes=2)\n",
    "    res = pool.map(job, range(10))\n",
    "    print(res)\n",
    "    res = pool.apply_async(job, (2,))\n",
    "    print(res.get())\n",
    "    multi_res =[pool.apply_async(job, (i,)) for i in range(10)]\n",
    "    print([res.get() for res in multi_res])\n",
    "\n",
    "\n",
    "multicore()"
   ]
  },
  {
   "cell_type": "markdown",
   "metadata": {},
   "source": [
    "#### queue模块"
   ]
  },
  {
   "cell_type": "markdown",
   "metadata": {},
   "source": [
    "queue模块定义了四种不同类型的队列，它们之间的区别在于数据入队列之后出队列的顺序不同"
   ]
  },
  {
   "cell_type": "markdown",
   "metadata": {},
   "source": [
    "##### Queue"
   ]
  },
  {
   "cell_type": "markdown",
   "metadata": {},
   "source": [
    "先进先出(First In First Out: FIFO)队列，最早进入队列的数据拥有出队列的优先权\n",
    "\n",
    "queue.Queue([maxsize])\n",
    "\n",
    "入参 maxsize 是一个整数，用于设置队列的最大长度。一旦队列达到上限，插入数据将会被阻塞，直到有数据出队列之后才可以继续插入。如果 maxsize 设置为小于或等于零，则队列的长度没有限制"
   ]
  },
  {
   "cell_type": "code",
   "execution_count": 26,
   "metadata": {},
   "outputs": [
    {
     "name": "stdout",
     "output_type": "stream",
     "text": [
      "{'name': 'chenzhi', 'age': 14}\n",
      "['a', 'b', 'c']\n"
     ]
    }
   ],
   "source": [
    "import queue\n",
    "\n",
    "# 构造队列，可以定义容量，也可以不指定，表示无限多\n",
    "q = queue.Queue(10)\n",
    "\n",
    "q.put({'name':'chenzhi','age':14})\n",
    "q.put(['a','b','c'])\n",
    "\n",
    "print(q.get())\n",
    "print(q.get())"
   ]
  },
  {
   "cell_type": "markdown",
   "metadata": {},
   "source": [
    "##### LifoQueue"
   ]
  },
  {
   "cell_type": "markdown",
   "metadata": {},
   "source": [
    "后进先出(Last In First Out: LIFO)队列，最后进入队列的数据拥有出队列的优先权，就像栈一样"
   ]
  },
  {
   "cell_type": "code",
   "execution_count": 28,
   "metadata": {},
   "outputs": [
    {
     "name": "stdout",
     "output_type": "stream",
     "text": [
      "2\n",
      "1\n",
      "0\n"
     ]
    }
   ],
   "source": [
    "q1 = queue.LifoQueue()\n",
    "\n",
    "for i in range(3):\n",
    "    q1.put(i)\n",
    "    \n",
    "for i in range(3):\n",
    "    print(q1.get())"
   ]
  },
  {
   "cell_type": "markdown",
   "metadata": {},
   "source": [
    "##### PriorityQueue"
   ]
  },
  {
   "cell_type": "markdown",
   "metadata": {},
   "source": [
    "优先级队列，比较队列中每个数据的大小，值最小的数据拥有出队列的优先权。数据一般以元组的形式插入，典型形式为(priority_number, data)。"
   ]
  },
  {
   "cell_type": "code",
   "execution_count": 29,
   "metadata": {},
   "outputs": [
    {
     "name": "stdout",
     "output_type": "stream",
     "text": [
      "(1, 'python')\n",
      "(2, '-')\n",
      "(3, '100')\n"
     ]
    }
   ],
   "source": [
    "q2 = queue.PriorityQueue()  # 创建 PriorityQueue 队列\n",
    "data1 = (1, 'python')\n",
    "data2 = (2, '-')\n",
    "data3 = (3, '100')\n",
    "style = (data2, data3, data1)\n",
    "for i in style:\n",
    "    q2.put(i)  # 在队列中依次插入元素 data2、data3、data1\n",
    "for i in range(3):\n",
    "    print(q2.get())"
   ]
  },
  {
   "cell_type": "markdown",
   "metadata": {},
   "source": [
    "##### SimpleQueue"
   ]
  },
  {
   "cell_type": "markdown",
   "metadata": {},
   "source": [
    "先进先出类型的简单队列，没有大小限制。由于它是简单队列，相比于 Queue 队列会缺少一些高级功能"
   ]
  },
  {
   "cell_type": "code",
   "execution_count": 30,
   "metadata": {},
   "outputs": [
    {
     "name": "stdout",
     "output_type": "stream",
     "text": [
      "0\n",
      "1\n",
      "2\n"
     ]
    }
   ],
   "source": [
    "import queue\n",
    "q3 = queue.SimpleQueue()  # 创建 SimpleQueue 队列\n",
    "for i in range(3):\n",
    "    q3.put(i)  # 在队列中依次插入0、1、2元素\n",
    "for i in range(3):\n",
    "    print(q3.get())"
   ]
  },
  {
   "cell_type": "markdown",
   "metadata": {},
   "source": [
    "##### 异常"
   ]
  },
  {
   "cell_type": "markdown",
   "metadata": {},
   "source": [
    "###### queue.Empty"
   ]
  },
  {
   "cell_type": "markdown",
   "metadata": {},
   "source": [
    "当队列中没有数据元素时，取出队列中的数据会引发 queue.Empty 异常，主要是不正当使用 get() 和 get_nowait() 引起的"
   ]
  },
  {
   "cell_type": "code",
   "execution_count": 31,
   "metadata": {},
   "outputs": [
    {
     "name": "stdout",
     "output_type": "stream",
     "text": [
      "python\n",
      "-\n",
      "100\n",
      "queue.Empty\n"
     ]
    }
   ],
   "source": [
    "import queue\n",
    "try:\n",
    "    q = queue.Queue(3)  # 设置队列上限为3\n",
    "    q.put('python')  # 在队列中插入字符串 'python'\n",
    "    q.put('-') # 在队列中插入字符串 '-'\n",
    "    q.put('100') # 在队列中插入字符串 '100'\n",
    "    for i in range(4):  # 从队列中取数据，取出次数为4次，引发 queue.Empty 异常\n",
    "        print(q.get(block=False))\n",
    "except queue.Empty:\n",
    "    print('queue.Empty')"
   ]
  },
  {
   "cell_type": "markdown",
   "metadata": {},
   "source": [
    "###### queue.Full"
   ]
  },
  {
   "cell_type": "markdown",
   "metadata": {},
   "source": [
    "当队列数据元素容量达到上限时，继续往队列中放入数据会引发 queue.Empty 异常，主要是不正当使用 put() 和 put_nowait() 引起的"
   ]
  },
  {
   "cell_type": "code",
   "execution_count": null,
   "metadata": {},
   "outputs": [],
   "source": [
    "import queue\n",
    "try:\n",
    "    q = queue.Queue(3)  # 设置队列上限为3\n",
    "    q.put('python')  # 在队列中插入字符串 'python'\n",
    "    q.put('-') # 在队列中插入字符串 '-'\n",
    "    q.put('100') # 在队列中插入字符串 '100'\n",
    "    q.put('stay hungry, stay foolish', block=False)  # 队列已满，继续往队列中放入数据，引发 queue.Full 异常\n",
    "except queue.Full:\n",
    "    print('queue.Full')"
   ]
  },
  {
   "cell_type": "markdown",
   "metadata": {},
   "source": [
    "##### queue对象基本使用方法"
   ]
  },
  {
   "cell_type": "markdown",
   "metadata": {},
   "source": [
    "###### qsize()"
   ]
  },
  {
   "cell_type": "markdown",
   "metadata": {},
   "source": [
    "返回队列中数据元素的个数"
   ]
  },
  {
   "cell_type": "code",
   "execution_count": 34,
   "metadata": {},
   "outputs": [
    {
     "name": "stdout",
     "output_type": "stream",
     "text": [
      "1\n"
     ]
    }
   ],
   "source": [
    "q.put('string')\n",
    "print(q.qsize())"
   ]
  },
  {
   "cell_type": "markdown",
   "metadata": {},
   "source": [
    "###### empty()"
   ]
  },
  {
   "cell_type": "markdown",
   "metadata": {},
   "source": [
    "如果队列为空，返回 True，否则返回 False"
   ]
  },
  {
   "cell_type": "code",
   "execution_count": 35,
   "metadata": {},
   "outputs": [
    {
     "name": "stdout",
     "output_type": "stream",
     "text": [
      "True\n"
     ]
    }
   ],
   "source": [
    "q.get()\n",
    "print(q.empty())"
   ]
  },
  {
   "cell_type": "markdown",
   "metadata": {},
   "source": [
    "###### full()"
   ]
  },
  {
   "cell_type": "markdown",
   "metadata": {},
   "source": [
    "如果队列中元素个数达到上限，返回 True，否则返回 False"
   ]
  },
  {
   "cell_type": "code",
   "execution_count": 38,
   "metadata": {},
   "outputs": [
    {
     "name": "stdout",
     "output_type": "stream",
     "text": [
      "True\n"
     ]
    }
   ],
   "source": [
    "q4 = queue.Queue(1)\n",
    "q4.put('a')\n",
    "print(q4.full())"
   ]
  },
  {
   "cell_type": "markdown",
   "metadata": {},
   "source": [
    "###### put"
   ]
  },
  {
   "cell_type": "markdown",
   "metadata": {},
   "source": [
    "put(item, block=True, timeout=None)\n",
    "\n",
    "block,当队列中元素个数达到上限继续往里放数据时：如果 block=False，直接引发 queue.Full 异常；如果 block=True，且 timeout=None，则一直等待直到有数据出队列后可以放入数据；如果 block=True，且 timeout=N，N 为某一正整数时，则等待 N 秒，如果队列中还没有位置放入数据就引发 queue.Full 异常\n",
    "\n",
    "timeout，设置超时时间"
   ]
  },
  {
   "cell_type": "code",
   "execution_count": 39,
   "metadata": {},
   "outputs": [
    {
     "ename": "Full",
     "evalue": "",
     "output_type": "error",
     "traceback": [
      "\u001b[0;31m---------------------------------------------------------------------------\u001b[0m",
      "\u001b[0;31mFull\u001b[0m                                      Traceback (most recent call last)",
      "\u001b[0;32m<ipython-input-39-4534d724dcaf>\u001b[0m in \u001b[0;36m<module>\u001b[0;34m\u001b[0m\n\u001b[1;32m      1\u001b[0m \u001b[0mq5\u001b[0m \u001b[0;34m=\u001b[0m \u001b[0mqueue\u001b[0m\u001b[0;34m.\u001b[0m\u001b[0mQueue\u001b[0m\u001b[0;34m(\u001b[0m\u001b[0;36m1\u001b[0m\u001b[0;34m)\u001b[0m\u001b[0;34m\u001b[0m\u001b[0;34m\u001b[0m\u001b[0m\n\u001b[1;32m      2\u001b[0m \u001b[0mq5\u001b[0m\u001b[0;34m.\u001b[0m\u001b[0mput\u001b[0m\u001b[0;34m(\u001b[0m\u001b[0;36m1\u001b[0m\u001b[0;34m)\u001b[0m\u001b[0;34m\u001b[0m\u001b[0;34m\u001b[0m\u001b[0m\n\u001b[0;32m----> 3\u001b[0;31m \u001b[0mq5\u001b[0m\u001b[0;34m.\u001b[0m\u001b[0mput\u001b[0m\u001b[0;34m(\u001b[0m\u001b[0;36m2\u001b[0m\u001b[0;34m,\u001b[0m\u001b[0mblock\u001b[0m \u001b[0;34m=\u001b[0m \u001b[0;32mTrue\u001b[0m\u001b[0;34m,\u001b[0m\u001b[0mtimeout\u001b[0m \u001b[0;34m=\u001b[0m \u001b[0;36m2\u001b[0m\u001b[0;34m)\u001b[0m\u001b[0;34m\u001b[0m\u001b[0;34m\u001b[0m\u001b[0m\n\u001b[0m",
      "\u001b[0;32m/usr/lib/python3.7/queue.py\u001b[0m in \u001b[0;36mput\u001b[0;34m(self, item, block, timeout)\u001b[0m\n\u001b[1;32m    145\u001b[0m                         \u001b[0mremaining\u001b[0m \u001b[0;34m=\u001b[0m \u001b[0mendtime\u001b[0m \u001b[0;34m-\u001b[0m \u001b[0mtime\u001b[0m\u001b[0;34m(\u001b[0m\u001b[0;34m)\u001b[0m\u001b[0;34m\u001b[0m\u001b[0;34m\u001b[0m\u001b[0m\n\u001b[1;32m    146\u001b[0m                         \u001b[0;32mif\u001b[0m \u001b[0mremaining\u001b[0m \u001b[0;34m<=\u001b[0m \u001b[0;36m0.0\u001b[0m\u001b[0;34m:\u001b[0m\u001b[0;34m\u001b[0m\u001b[0;34m\u001b[0m\u001b[0m\n\u001b[0;32m--> 147\u001b[0;31m                             \u001b[0;32mraise\u001b[0m \u001b[0mFull\u001b[0m\u001b[0;34m\u001b[0m\u001b[0;34m\u001b[0m\u001b[0m\n\u001b[0m\u001b[1;32m    148\u001b[0m                         \u001b[0mself\u001b[0m\u001b[0;34m.\u001b[0m\u001b[0mnot_full\u001b[0m\u001b[0;34m.\u001b[0m\u001b[0mwait\u001b[0m\u001b[0;34m(\u001b[0m\u001b[0mremaining\u001b[0m\u001b[0;34m)\u001b[0m\u001b[0;34m\u001b[0m\u001b[0;34m\u001b[0m\u001b[0m\n\u001b[1;32m    149\u001b[0m             \u001b[0mself\u001b[0m\u001b[0;34m.\u001b[0m\u001b[0m_put\u001b[0m\u001b[0;34m(\u001b[0m\u001b[0mitem\u001b[0m\u001b[0;34m)\u001b[0m\u001b[0;34m\u001b[0m\u001b[0;34m\u001b[0m\u001b[0m\n",
      "\u001b[0;31mFull\u001b[0m: "
     ]
    }
   ],
   "source": [
    "q5 = queue.Queue(1)\n",
    "q5.put(1)\n",
    "q5.put(2,block = True,timeout = 2)"
   ]
  },
  {
   "cell_type": "markdown",
   "metadata": {},
   "source": [
    "###### put_nowait()"
   ]
  },
  {
   "cell_type": "markdown",
   "metadata": {},
   "source": [
    "put_nowait(item)\n",
    "\n",
    "相当于 Queue.put(item, block=False)，当队列中元素个数达到上限继续往里放数据时直接引发 queue.Full 异常"
   ]
  },
  {
   "cell_type": "code",
   "execution_count": 40,
   "metadata": {},
   "outputs": [
    {
     "ename": "Full",
     "evalue": "",
     "output_type": "error",
     "traceback": [
      "\u001b[0;31m---------------------------------------------------------------------------\u001b[0m",
      "\u001b[0;31mFull\u001b[0m                                      Traceback (most recent call last)",
      "\u001b[0;32m<ipython-input-40-cf0aa91e7ff3>\u001b[0m in \u001b[0;36m<module>\u001b[0;34m\u001b[0m\n\u001b[0;32m----> 1\u001b[0;31m \u001b[0mq5\u001b[0m\u001b[0;34m.\u001b[0m\u001b[0mput_nowait\u001b[0m\u001b[0;34m(\u001b[0m\u001b[0;36m2\u001b[0m\u001b[0;34m)\u001b[0m\u001b[0;34m\u001b[0m\u001b[0;34m\u001b[0m\u001b[0m\n\u001b[0m",
      "\u001b[0;32m/usr/lib/python3.7/queue.py\u001b[0m in \u001b[0;36mput_nowait\u001b[0;34m(self, item)\u001b[0m\n\u001b[1;32m    188\u001b[0m         \u001b[0mOtherwise\u001b[0m \u001b[0;32mraise\u001b[0m \u001b[0mthe\u001b[0m \u001b[0mFull\u001b[0m \u001b[0mexception\u001b[0m\u001b[0;34m.\u001b[0m\u001b[0;34m\u001b[0m\u001b[0;34m\u001b[0m\u001b[0m\n\u001b[1;32m    189\u001b[0m         '''\n\u001b[0;32m--> 190\u001b[0;31m         \u001b[0;32mreturn\u001b[0m \u001b[0mself\u001b[0m\u001b[0;34m.\u001b[0m\u001b[0mput\u001b[0m\u001b[0;34m(\u001b[0m\u001b[0mitem\u001b[0m\u001b[0;34m,\u001b[0m \u001b[0mblock\u001b[0m\u001b[0;34m=\u001b[0m\u001b[0;32mFalse\u001b[0m\u001b[0;34m)\u001b[0m\u001b[0;34m\u001b[0m\u001b[0;34m\u001b[0m\u001b[0m\n\u001b[0m\u001b[1;32m    191\u001b[0m \u001b[0;34m\u001b[0m\u001b[0m\n\u001b[1;32m    192\u001b[0m     \u001b[0;32mdef\u001b[0m \u001b[0mget_nowait\u001b[0m\u001b[0;34m(\u001b[0m\u001b[0mself\u001b[0m\u001b[0;34m)\u001b[0m\u001b[0;34m:\u001b[0m\u001b[0;34m\u001b[0m\u001b[0;34m\u001b[0m\u001b[0m\n",
      "\u001b[0;32m/usr/lib/python3.7/queue.py\u001b[0m in \u001b[0;36mput\u001b[0;34m(self, item, block, timeout)\u001b[0m\n\u001b[1;32m    134\u001b[0m                 \u001b[0;32mif\u001b[0m \u001b[0;32mnot\u001b[0m \u001b[0mblock\u001b[0m\u001b[0;34m:\u001b[0m\u001b[0;34m\u001b[0m\u001b[0;34m\u001b[0m\u001b[0m\n\u001b[1;32m    135\u001b[0m                     \u001b[0;32mif\u001b[0m \u001b[0mself\u001b[0m\u001b[0;34m.\u001b[0m\u001b[0m_qsize\u001b[0m\u001b[0;34m(\u001b[0m\u001b[0;34m)\u001b[0m \u001b[0;34m>=\u001b[0m \u001b[0mself\u001b[0m\u001b[0;34m.\u001b[0m\u001b[0mmaxsize\u001b[0m\u001b[0;34m:\u001b[0m\u001b[0;34m\u001b[0m\u001b[0;34m\u001b[0m\u001b[0m\n\u001b[0;32m--> 136\u001b[0;31m                         \u001b[0;32mraise\u001b[0m \u001b[0mFull\u001b[0m\u001b[0;34m\u001b[0m\u001b[0;34m\u001b[0m\u001b[0m\n\u001b[0m\u001b[1;32m    137\u001b[0m                 \u001b[0;32melif\u001b[0m \u001b[0mtimeout\u001b[0m \u001b[0;32mis\u001b[0m \u001b[0;32mNone\u001b[0m\u001b[0;34m:\u001b[0m\u001b[0;34m\u001b[0m\u001b[0;34m\u001b[0m\u001b[0m\n\u001b[1;32m    138\u001b[0m                     \u001b[0;32mwhile\u001b[0m \u001b[0mself\u001b[0m\u001b[0;34m.\u001b[0m\u001b[0m_qsize\u001b[0m\u001b[0;34m(\u001b[0m\u001b[0;34m)\u001b[0m \u001b[0;34m>=\u001b[0m \u001b[0mself\u001b[0m\u001b[0;34m.\u001b[0m\u001b[0mmaxsize\u001b[0m\u001b[0;34m:\u001b[0m\u001b[0;34m\u001b[0m\u001b[0;34m\u001b[0m\u001b[0m\n",
      "\u001b[0;31mFull\u001b[0m: "
     ]
    }
   ],
   "source": [
    "q5.put_nowait(2)"
   ]
  },
  {
   "cell_type": "markdown",
   "metadata": {},
   "source": [
    "###### get"
   ]
  },
  {
   "cell_type": "markdown",
   "metadata": {},
   "source": [
    "get(block=True, timeout=None)\n",
    "\n",
    "block，当队列中没有数据元素继续取数据时：如果 block=False，直接引发 queue.Empty 异常；如果 block=True，且 timeout=None，则一直等待直到有数据入队列后可以取出数据；如果 block=True，且 timeout=N，N 为某一正整数时，则等待 N 秒，如果队列中还没有数据放入的话就引发 queue.Empty 异常\n",
    "\n",
    "timeout，设置超时时间"
   ]
  },
  {
   "cell_type": "code",
   "execution_count": 41,
   "metadata": {},
   "outputs": [
    {
     "ename": "Empty",
     "evalue": "",
     "output_type": "error",
     "traceback": [
      "\u001b[0;31m---------------------------------------------------------------------------\u001b[0m",
      "\u001b[0;31mEmpty\u001b[0m                                     Traceback (most recent call last)",
      "\u001b[0;32m<ipython-input-41-fa1d015975b0>\u001b[0m in \u001b[0;36m<module>\u001b[0;34m\u001b[0m\n\u001b[1;32m      1\u001b[0m \u001b[0mq6\u001b[0m \u001b[0;34m=\u001b[0m \u001b[0mqueue\u001b[0m\u001b[0;34m.\u001b[0m\u001b[0mQueue\u001b[0m\u001b[0;34m(\u001b[0m\u001b[0;34m)\u001b[0m\u001b[0;34m\u001b[0m\u001b[0;34m\u001b[0m\u001b[0m\n\u001b[0;32m----> 2\u001b[0;31m \u001b[0mq6\u001b[0m\u001b[0;34m.\u001b[0m\u001b[0mget\u001b[0m\u001b[0;34m(\u001b[0m\u001b[0mblock\u001b[0m\u001b[0;34m=\u001b[0m\u001b[0;32mTrue\u001b[0m\u001b[0;34m,\u001b[0m\u001b[0mtimeout\u001b[0m\u001b[0;34m=\u001b[0m\u001b[0;36m1\u001b[0m\u001b[0;34m)\u001b[0m\u001b[0;34m\u001b[0m\u001b[0;34m\u001b[0m\u001b[0m\n\u001b[0m",
      "\u001b[0;32m/usr/lib/python3.7/queue.py\u001b[0m in \u001b[0;36mget\u001b[0;34m(self, block, timeout)\u001b[0m\n\u001b[1;32m    176\u001b[0m                     \u001b[0mremaining\u001b[0m \u001b[0;34m=\u001b[0m \u001b[0mendtime\u001b[0m \u001b[0;34m-\u001b[0m \u001b[0mtime\u001b[0m\u001b[0;34m(\u001b[0m\u001b[0;34m)\u001b[0m\u001b[0;34m\u001b[0m\u001b[0;34m\u001b[0m\u001b[0m\n\u001b[1;32m    177\u001b[0m                     \u001b[0;32mif\u001b[0m \u001b[0mremaining\u001b[0m \u001b[0;34m<=\u001b[0m \u001b[0;36m0.0\u001b[0m\u001b[0;34m:\u001b[0m\u001b[0;34m\u001b[0m\u001b[0;34m\u001b[0m\u001b[0m\n\u001b[0;32m--> 178\u001b[0;31m                         \u001b[0;32mraise\u001b[0m \u001b[0mEmpty\u001b[0m\u001b[0;34m\u001b[0m\u001b[0;34m\u001b[0m\u001b[0m\n\u001b[0m\u001b[1;32m    179\u001b[0m                     \u001b[0mself\u001b[0m\u001b[0;34m.\u001b[0m\u001b[0mnot_empty\u001b[0m\u001b[0;34m.\u001b[0m\u001b[0mwait\u001b[0m\u001b[0;34m(\u001b[0m\u001b[0mremaining\u001b[0m\u001b[0;34m)\u001b[0m\u001b[0;34m\u001b[0m\u001b[0;34m\u001b[0m\u001b[0m\n\u001b[1;32m    180\u001b[0m             \u001b[0mitem\u001b[0m \u001b[0;34m=\u001b[0m \u001b[0mself\u001b[0m\u001b[0;34m.\u001b[0m\u001b[0m_get\u001b[0m\u001b[0;34m(\u001b[0m\u001b[0;34m)\u001b[0m\u001b[0;34m\u001b[0m\u001b[0;34m\u001b[0m\u001b[0m\n",
      "\u001b[0;31mEmpty\u001b[0m: "
     ]
    }
   ],
   "source": [
    "q6 = queue.Queue()\n",
    "q6.get(block=True,timeout=1)"
   ]
  },
  {
   "cell_type": "markdown",
   "metadata": {},
   "source": [
    "###### get_nowait()"
   ]
  },
  {
   "cell_type": "markdown",
   "metadata": {},
   "source": [
    "相当于 Queue.get(block=False)block，当队列中没有数据元素继续取数据时直接引发 queue.Empty 异常"
   ]
  },
  {
   "cell_type": "code",
   "execution_count": 42,
   "metadata": {},
   "outputs": [
    {
     "ename": "Empty",
     "evalue": "",
     "output_type": "error",
     "traceback": [
      "\u001b[0;31m---------------------------------------------------------------------------\u001b[0m",
      "\u001b[0;31mEmpty\u001b[0m                                     Traceback (most recent call last)",
      "\u001b[0;32m<ipython-input-42-c5d32963ce24>\u001b[0m in \u001b[0;36m<module>\u001b[0;34m\u001b[0m\n\u001b[0;32m----> 1\u001b[0;31m \u001b[0mq6\u001b[0m\u001b[0;34m.\u001b[0m\u001b[0mget_nowait\u001b[0m\u001b[0;34m(\u001b[0m\u001b[0;34m)\u001b[0m\u001b[0;34m\u001b[0m\u001b[0;34m\u001b[0m\u001b[0m\n\u001b[0m",
      "\u001b[0;32m/usr/lib/python3.7/queue.py\u001b[0m in \u001b[0;36mget_nowait\u001b[0;34m(self)\u001b[0m\n\u001b[1;32m    196\u001b[0m         \u001b[0;32mraise\u001b[0m \u001b[0mthe\u001b[0m \u001b[0mEmpty\u001b[0m \u001b[0mexception\u001b[0m\u001b[0;34m.\u001b[0m\u001b[0;34m\u001b[0m\u001b[0;34m\u001b[0m\u001b[0m\n\u001b[1;32m    197\u001b[0m         '''\n\u001b[0;32m--> 198\u001b[0;31m         \u001b[0;32mreturn\u001b[0m \u001b[0mself\u001b[0m\u001b[0;34m.\u001b[0m\u001b[0mget\u001b[0m\u001b[0;34m(\u001b[0m\u001b[0mblock\u001b[0m\u001b[0;34m=\u001b[0m\u001b[0;32mFalse\u001b[0m\u001b[0;34m)\u001b[0m\u001b[0;34m\u001b[0m\u001b[0;34m\u001b[0m\u001b[0m\n\u001b[0m\u001b[1;32m    199\u001b[0m \u001b[0;34m\u001b[0m\u001b[0m\n\u001b[1;32m    200\u001b[0m     \u001b[0;31m# Override these methods to implement other queue organizations\u001b[0m\u001b[0;34m\u001b[0m\u001b[0;34m\u001b[0m\u001b[0;34m\u001b[0m\u001b[0m\n",
      "\u001b[0;32m/usr/lib/python3.7/queue.py\u001b[0m in \u001b[0;36mget\u001b[0;34m(self, block, timeout)\u001b[0m\n\u001b[1;32m    165\u001b[0m             \u001b[0;32mif\u001b[0m \u001b[0;32mnot\u001b[0m \u001b[0mblock\u001b[0m\u001b[0;34m:\u001b[0m\u001b[0;34m\u001b[0m\u001b[0;34m\u001b[0m\u001b[0m\n\u001b[1;32m    166\u001b[0m                 \u001b[0;32mif\u001b[0m \u001b[0;32mnot\u001b[0m \u001b[0mself\u001b[0m\u001b[0;34m.\u001b[0m\u001b[0m_qsize\u001b[0m\u001b[0;34m(\u001b[0m\u001b[0;34m)\u001b[0m\u001b[0;34m:\u001b[0m\u001b[0;34m\u001b[0m\u001b[0;34m\u001b[0m\u001b[0m\n\u001b[0;32m--> 167\u001b[0;31m                     \u001b[0;32mraise\u001b[0m \u001b[0mEmpty\u001b[0m\u001b[0;34m\u001b[0m\u001b[0;34m\u001b[0m\u001b[0m\n\u001b[0m\u001b[1;32m    168\u001b[0m             \u001b[0;32melif\u001b[0m \u001b[0mtimeout\u001b[0m \u001b[0;32mis\u001b[0m \u001b[0;32mNone\u001b[0m\u001b[0;34m:\u001b[0m\u001b[0;34m\u001b[0m\u001b[0;34m\u001b[0m\u001b[0m\n\u001b[1;32m    169\u001b[0m                 \u001b[0;32mwhile\u001b[0m \u001b[0;32mnot\u001b[0m \u001b[0mself\u001b[0m\u001b[0;34m.\u001b[0m\u001b[0m_qsize\u001b[0m\u001b[0;34m(\u001b[0m\u001b[0;34m)\u001b[0m\u001b[0;34m:\u001b[0m\u001b[0;34m\u001b[0m\u001b[0;34m\u001b[0m\u001b[0m\n",
      "\u001b[0;31mEmpty\u001b[0m: "
     ]
    }
   ],
   "source": [
    "q6.get_nowait()"
   ]
  },
  {
   "cell_type": "code",
   "execution_count": null,
   "metadata": {},
   "outputs": [],
   "source": []
  }
 ],
 "metadata": {
  "kernelspec": {
   "display_name": "Python 3",
   "language": "python",
   "name": "python3"
  },
  "language_info": {
   "codemirror_mode": {
    "name": "ipython",
    "version": 3
   },
   "file_extension": ".py",
   "mimetype": "text/x-python",
   "name": "python",
   "nbconvert_exporter": "python",
   "pygments_lexer": "ipython3",
   "version": "3.7.5"
  },
  "toc": {
   "base_numbering": 1,
   "nav_menu": {},
   "number_sections": true,
   "sideBar": true,
   "skip_h1_title": false,
   "title_cell": "Table of Contents",
   "title_sidebar": "Contents",
   "toc_cell": false,
   "toc_position": {},
   "toc_section_display": true,
   "toc_window_display": false
  }
 },
 "nbformat": 4,
 "nbformat_minor": 4
}
