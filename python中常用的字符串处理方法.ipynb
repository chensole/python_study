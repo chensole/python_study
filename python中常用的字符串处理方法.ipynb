{
 "cells": [
  {
   "cell_type": "markdown",
   "metadata": {},
   "source": [
    "# python中常用的字符串处理方法"
   ]
  },
  {
   "cell_type": "markdown",
   "metadata": {},
   "source": [
    "## 字符串的切片和相乘"
   ]
  },
  {
   "cell_type": "markdown",
   "metadata": {},
   "source": [
    "### 切片"
   ]
  },
  {
   "cell_type": "markdown",
   "metadata": {},
   "source": [
    "str[start:end:step]\n",
    "\n",
    "第一个字符下标为0,即从左到右，从0开始\n",
    "最后一个字符下标为-1,即从右到左，是从-1开始\n",
    "\n",
    "[:end] 省略start,默认start从0开始\n",
    "\n",
    "[start:] 省略end,默认字符串结尾\n",
    "\n",
    "[start:end] 从start到end\n",
    "\n",
    "[start:end:step] 加了step，如果不加默认step=1，step若为负数，表示从右往左倒序以step大小输出,如step=-1即翻转字符串\n",
    "\n",
    "[:] 省略start和end以及step，即为整个字符串"
   ]
  },
  {
   "cell_type": "code",
   "execution_count": 6,
   "metadata": {},
   "outputs": [
    {
     "name": "stdout",
     "output_type": "stream",
     "text": [
      "st\n",
      "ing\n",
      "tri\n",
      "gnirts\n",
      "string\n"
     ]
    }
   ],
   "source": [
    "a = 'string'\n",
    "\n",
    "print(a[:2])\n",
    "\n",
    "print(a[3:])\n",
    "\n",
    "print(a[1:4])\n",
    "\n",
    "# 相当于perl中的reverse函数\n",
    "print(a[::-1])\n",
    "\n",
    "print(a[:])\n"
   ]
  },
  {
   "cell_type": "markdown",
   "metadata": {},
   "source": [
    "### 相乘"
   ]
  },
  {
   "cell_type": "markdown",
   "metadata": {},
   "source": [
    "使用\\*可以重复输入某个字符串多少次数"
   ]
  },
  {
   "cell_type": "code",
   "execution_count": 8,
   "metadata": {},
   "outputs": [
    {
     "name": "stdout",
     "output_type": "stream",
     "text": [
      "abababababababababab\n"
     ]
    }
   ],
   "source": [
    "print('ab'*10)"
   ]
  },
  {
   "cell_type": "markdown",
   "metadata": {},
   "source": [
    "## 字符串的分割"
   ]
  },
  {
   "cell_type": "markdown",
   "metadata": {},
   "source": [
    "### 普通的分割"
   ]
  },
  {
   "cell_type": "markdown",
   "metadata": {},
   "source": [
    "用str.split()方法，但是split只能做非常简单的分割，不支持多个分隔符及正则表达式"
   ]
  },
  {
   "cell_type": "code",
   "execution_count": 13,
   "metadata": {},
   "outputs": [
    {
     "name": "stdout",
     "output_type": "stream",
     "text": [
      "['400', '800-800-1234']\n"
     ]
    }
   ],
   "source": [
    "phone='400-800-800-1234' \n",
    "\n",
    "print(phone.split('-'))"
   ]
  },
  {
   "cell_type": "markdown",
   "metadata": {},
   "source": [
    "### 复杂的分割"
   ]
  },
  {
   "cell_type": "markdown",
   "metadata": {},
   "source": [
    "使用re模块中的re.split使用正则表达式进行分割，支持多个分隔符"
   ]
  },
  {
   "cell_type": "code",
   "execution_count": 27,
   "metadata": {},
   "outputs": [
    {
     "name": "stdout",
     "output_type": "stream",
     "text": [
      "['hello world', 'python', 'I ', 'like', 'it']\n",
      "['you ', 'and', None, ' me ', None, 'or', ' he']\n",
      "['you ', ' me ', ' he']\n"
     ]
    }
   ],
   "source": [
    "import re \n",
    "\n",
    "line='hello world; python, I ,like, it' \n",
    "\n",
    "# 按多个分隔符分割\n",
    "print(re.split(r'[;,]\\s*',line))\n",
    "\n",
    "# 同样正则表达式也可以使用捕获，默认保留分割符\n",
    "\n",
    "print(re.split(r'(and)|(or)','you and me or he'))\n",
    "\n",
    "# 使用非捕获模式，去除分隔符\n",
    "print(re.split(r'(?:and)|(?:or)','you and me or he'))"
   ]
  },
  {
   "cell_type": "markdown",
   "metadata": {},
   "source": [
    "## 字符串的连接和合并"
   ]
  },
  {
   "cell_type": "markdown",
   "metadata": {},
   "source": [
    "### 连接 "
   ]
  },
  {
   "cell_type": "markdown",
   "metadata": {},
   "source": [
    "使用'+'将两字符串进行连接,若希望将其他类型的数据连接首先需要用str()进行强制转换为str class\n",
    "\n",
    "注: str()能转换任何类型的数据，包括数字、字典、元组、列表等"
   ]
  },
  {
   "cell_type": "code",
   "execution_count": 31,
   "metadata": {},
   "outputs": [
    {
     "name": "stdout",
     "output_type": "stream",
     "text": [
      "string2\n",
      "string[1, 2, 3]\n",
      "string(1, 2, 3)\n"
     ]
    }
   ],
   "source": [
    "a = 'string'\n",
    "\n",
    "print(a+str(2))\n",
    "\n",
    "b = [1,2,3]\n",
    "\n",
    "print(a+str(b))\n",
    "\n",
    "c = (1,2,3)\n",
    "print(a+str(c))"
   ]
  },
  {
   "cell_type": "markdown",
   "metadata": {},
   "source": [
    "### 合并"
   ]
  },
  {
   "cell_type": "markdown",
   "metadata": {},
   "source": [
    "使用join()方法，将可迭代数据使用某个分隔符连接成字符串\n",
    "\n",
    "特例，join只针对str类型，若想将数值型可迭代数据进行合并，则需要用map()函数将每一个元素转为str"
   ]
  },
  {
   "cell_type": "code",
   "execution_count": 38,
   "metadata": {},
   "outputs": [
    {
     "name": "stdout",
     "output_type": "stream",
     "text": [
      "a-b-c\n",
      "['1', '2', '3']\n",
      "1-2-3\n"
     ]
    }
   ],
   "source": [
    "s = ['a','b','c']\n",
    "print('-'.join(s))\n",
    "\n",
    "# 非str，需要进行转换\n",
    "b = (1,2,3)\n",
    "b = list(map(str,b))\n",
    "print(b)\n",
    "print('-'.join(b))"
   ]
  },
  {
   "cell_type": "markdown",
   "metadata": {},
   "source": [
    "## 判断字符串是否以指定开头、结尾"
   ]
  },
  {
   "cell_type": "markdown",
   "metadata": {},
   "source": [
    "startswith()\n",
    "\n",
    "endswith()\n",
    "\n",
    "返回True/False"
   ]
  },
  {
   "cell_type": "code",
   "execution_count": 40,
   "metadata": {},
   "outputs": [
    {
     "name": "stdout",
     "output_type": "stream",
     "text": [
      "True\n",
      "True\n"
     ]
    }
   ],
   "source": [
    "filename = 'first.py'\n",
    "\n",
    "print(filename.endswith('py'))\n",
    "\n",
    "print(filename.startswith('fi'))"
   ]
  },
  {
   "cell_type": "markdown",
   "metadata": {},
   "source": [
    "## 字符串的查找和匹配"
   ]
  },
  {
   "cell_type": "markdown",
   "metadata": {},
   "source": [
    "### 一般查找"
   ]
  },
  {
   "cell_type": "markdown",
   "metadata": {},
   "source": [
    "利用find()方法可以很方便的在长字符串中查找子字符串，会返回字符串所在位置的起始索引\n",
    "\n",
    "若找不到，则返回-1"
   ]
  },
  {
   "cell_type": "code",
   "execution_count": 41,
   "metadata": {},
   "outputs": [
    {
     "name": "stdout",
     "output_type": "stream",
     "text": [
      "10\n"
     ]
    }
   ],
   "source": [
    "str1 = 'this is a test'\n",
    "str2 = 'test'\n",
    "\n",
    "print(str1.find(str2))"
   ]
  },
  {
   "cell_type": "markdown",
   "metadata": {},
   "source": [
    "### 复杂的匹配"
   ]
  },
  {
   "cell_type": "markdown",
   "metadata": {},
   "source": [
    "需要用到正则表达式"
   ]
  },
  {
   "cell_type": "code",
   "execution_count": 43,
   "metadata": {},
   "outputs": [
    {
     "name": "stdout",
     "output_type": "stream",
     "text": [
      "['AAT', 'ATG', 'ATT']\n"
     ]
    }
   ],
   "source": [
    "a = 'AATATGATT'\n",
    "print(re.findall(r'\\w{3}',a))"
   ]
  },
  {
   "cell_type": "code",
   "execution_count": 3,
   "metadata": {},
   "outputs": [
    {
     "data": {
      "text/plain": [
       "['abc', 'acb', 'bac', 'bca', 'cab', 'cba']"
      ]
     },
     "execution_count": 3,
     "metadata": {},
     "output_type": "execute_result"
    }
   ],
   "source": [
    "# 排列组合\n",
    "def fun(s=''):\n",
    "    if len(s) <=1:\n",
    "        return [s]\n",
    "    li = []\n",
    "    for i in range(len(s)):\n",
    "        for j in fun(s[0:i]+s[i+1:]):\n",
    "            li.append(s[i]+j)\n",
    "    return li\n",
    "\n",
    "a = 'abc'\n",
    "\n",
    "fun(s=a)"
   ]
  },
  {
   "cell_type": "code",
   "execution_count": 4,
   "metadata": {},
   "outputs": [
    {
     "name": "stdout",
     "output_type": "stream",
     "text": [
      "ok.match\n"
     ]
    }
   ],
   "source": [
    "mydate='11/27/2016' \n",
    "\n",
    "if re.match(r'\\d+/\\d+/\\d+',mydate): \n",
    "    print('ok.match') \n",
    "else: \n",
    "    print('not match')\n",
    "\n"
   ]
  },
  {
   "cell_type": "markdown",
   "metadata": {},
   "source": [
    "## 统计字符串中某个字符出现的次数"
   ]
  },
  {
   "cell_type": "markdown",
   "metadata": {},
   "source": [
    "使用re.count()方法"
   ]
  },
  {
   "cell_type": "code",
   "execution_count": 6,
   "metadata": {},
   "outputs": [
    {
     "name": "stdout",
     "output_type": "stream",
     "text": [
      "3\n",
      "1\n"
     ]
    }
   ],
   "source": [
    "a = 'abdcdssaa'\n",
    "\n",
    "print(a.count('a'))\n",
    "\n",
    "# 还提供两个参数，定义计数的范围\n",
    "\n",
    "print(a.count('a',0,2))"
   ]
  },
  {
   "cell_type": "markdown",
   "metadata": {},
   "source": [
    "## 字符串的替换"
   ]
  },
  {
   "cell_type": "markdown",
   "metadata": {},
   "source": [
    "### 普通的替换"
   ]
  },
  {
   "cell_type": "markdown",
   "metadata": {},
   "source": [
    "使用str.replace()方法"
   ]
  },
  {
   "cell_type": "code",
   "execution_count": 7,
   "metadata": {},
   "outputs": [
    {
     "name": "stdout",
     "output_type": "stream",
     "text": [
      "i love python\n"
     ]
    }
   ],
   "source": [
    "a = 'i love perl'\n",
    "\n",
    "print(a.replace('perl','python'))"
   ]
  },
  {
   "cell_type": "markdown",
   "metadata": {},
   "source": [
    "### 复杂的替换"
   ]
  },
  {
   "cell_type": "markdown",
   "metadata": {},
   "source": [
    "使用re模块的re.sub()"
   ]
  },
  {
   "cell_type": "code",
   "execution_count": 8,
   "metadata": {},
   "outputs": [
    {
     "name": "stdout",
     "output_type": "stream",
     "text": [
      "boy 100,girl 100\n"
     ]
    }
   ],
   "source": [
    "a = 'boy 100,girl 105'\n",
    "\n",
    "print(re.sub(r'\\d+','100',a))"
   ]
  },
  {
   "cell_type": "markdown",
   "metadata": {},
   "source": [
    "## 去掉字符串中一些特定的字符"
   ]
  },
  {
   "cell_type": "markdown",
   "metadata": {},
   "source": [
    "### 去空格"
   ]
  },
  {
   "cell_type": "markdown",
   "metadata": {},
   "source": [
    "使用str.strip()、str.lstrip()、str.rstrip()可以去除字符串首/尾特定的字符(包括特殊的字符，如'\\n'等)"
   ]
  },
  {
   "cell_type": "code",
   "execution_count": 17,
   "metadata": {},
   "outputs": [
    {
     "name": "stdout",
     "output_type": "stream",
     "text": [
      " python \n",
      "python\n",
      "python \n",
      " python\n",
      "hello world a\n"
     ]
    }
   ],
   "source": [
    "a = ' python '\n",
    "print(a)\n",
    "\n",
    "# 去首尾空格\n",
    "print(a.strip())\n",
    "\n",
    "# 去左侧空格\n",
    "print(a.lstrip())\n",
    "\n",
    "# 去右侧空格\n",
    "print(a.rstrip())\n",
    "\n",
    "# 去右侧换行符\n",
    "b = 'hello world\\n'\n",
    "print(b.rstrip('\\n'),'a')"
   ]
  },
  {
   "cell_type": "markdown",
   "metadata": {},
   "source": [
    "### 字符映射转换"
   ]
  },
  {
   "cell_type": "markdown",
   "metadata": {},
   "source": [
    "实现类似perl中的tr///\n",
    "\n",
    "- 先使用str.maketrans()制作字符映射转换对象\n",
    "\n",
    "- 然后利用str.translate()结合字符映射转换对象进行映射转换"
   ]
  },
  {
   "cell_type": "code",
   "execution_count": 11,
   "metadata": {},
   "outputs": [
    {
     "name": "stdout",
     "output_type": "stream",
     "text": [
      "{97: 116, 116: 97, 99: 103, 103: 99}\n",
      "tagc\n"
     ]
    }
   ],
   "source": [
    "a = 'atcg'\n",
    "\n",
    "trans = str.maketrans('atcg','tagc') #类似于perl中的tr/atcg/tagc/\n",
    "print(trans)\n",
    "\n",
    "print(a.translate(trans))"
   ]
  }
 ],
 "metadata": {
  "kernelspec": {
   "display_name": "Python 3",
   "language": "python",
   "name": "python3"
  },
  "language_info": {
   "codemirror_mode": {
    "name": "ipython",
    "version": 3
   },
   "file_extension": ".py",
   "mimetype": "text/x-python",
   "name": "python",
   "nbconvert_exporter": "python",
   "pygments_lexer": "ipython3",
   "version": "3.7.5"
  },
  "toc": {
   "base_numbering": 1,
   "nav_menu": {},
   "number_sections": true,
   "sideBar": true,
   "skip_h1_title": false,
   "title_cell": "Table of Contents",
   "title_sidebar": "Contents",
   "toc_cell": false,
   "toc_position": {},
   "toc_section_display": true,
   "toc_window_display": false
  }
 },
 "nbformat": 4,
 "nbformat_minor": 4
}
