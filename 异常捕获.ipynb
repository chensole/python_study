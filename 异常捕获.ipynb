{
 "cells": [
  {
   "cell_type": "markdown",
   "metadata": {},
   "source": [
    "# 异常捕获"
   ]
  },
  {
   "cell_type": "markdown",
   "metadata": {},
   "source": [
    "运行程序时某个地方发生错误将会导致后续的代码不能正常执行，那么怎么能避免这样的情况发生呢?\n",
    "\n",
    "答案很简单: 使用异常捕获(Exception Handling)\n",
    "\n",
    "Errors detected during execution are called exceptions"
   ]
  },
  {
   "cell_type": "markdown",
   "metadata": {},
   "source": [
    "## try...except"
   ]
  },
  {
   "cell_type": "markdown",
   "metadata": {},
   "source": [
    "try:\n",
    "    operation block;\n",
    "except Exception_name:\n",
    "    If there is Exception_name1 then execute this block.\n",
    "except Exception_name2:\n",
    "    If there is Exception_name2, then execute this block.\n",
    "else:\n",
    "    If there is no exception then execute this block."
   ]
  },
  {
   "cell_type": "code",
   "execution_count": 2,
   "metadata": {},
   "outputs": [
    {
     "name": "stdout",
     "output_type": "stream",
     "text": [
      "typeerror\n"
     ]
    }
   ],
   "source": [
    "try:\n",
    "    a = (1,2)\n",
    "    a[0] = 2\n",
    "except:\n",
    "    print('typeerror')"
   ]
  },
  {
   "cell_type": "markdown",
   "metadata": {},
   "source": [
    "## 多个捕获"
   ]
  },
  {
   "cell_type": "code",
   "execution_count": 10,
   "metadata": {},
   "outputs": [
    {
     "name": "stdout",
     "output_type": "stream",
     "text": [
      "Enter the number 1\n",
      "result is  45.0\n"
     ]
    }
   ],
   "source": [
    "def divide1():\n",
    "    try:\n",
    "        num = int(input(\"Enter the number \"))\n",
    "        c = 45/num\n",
    "    except ValueError:\n",
    "        print(\"valueerror\")\n",
    "    except ZeroDivisionError:\n",
    "        print(\"zerodivisionerror\")\n",
    "    else:\n",
    "        print('result is ',c)\n",
    "divide1()"
   ]
  },
  {
   "cell_type": "markdown",
   "metadata": {},
   "source": [
    "## try...finally"
   ]
  },
  {
   "cell_type": "markdown",
   "metadata": {},
   "source": [
    "在一些情况下，你十分确定不管程序抛出异常，有一段代码肯定会被执行，这时候就需要使用 try...finally\n",
    "\n",
    "try:\n",
    "    #run this action first\n",
    "except:\n",
    "    #Run if exception occurs\n",
    "Finally :\n",
    "    #Always run this code"
   ]
  },
  {
   "cell_type": "code",
   "execution_count": 15,
   "metadata": {},
   "outputs": [
    {
     "name": "stdout",
     "output_type": "stream",
     "text": [
      "Something is wrong\n",
      "finally program ends\n"
     ]
    }
   ],
   "source": [
    "## 无论报错与否都会执行finally中的代码块\n",
    "try:\n",
    "    num = int(raw_input(\"Enter the number \"))\n",
    "    re = 100/num\n",
    "except:\n",
    "    print (\"Something is wrong\")\n",
    "else:\n",
    "    print (\"result is \",re)\n",
    "finally :\n",
    "    print(\"finally program ends\")"
   ]
  },
  {
   "cell_type": "markdown",
   "metadata": {},
   "source": [
    "## exception参数 "
   ]
  },
  {
   "cell_type": "code",
   "execution_count": 17,
   "metadata": {},
   "outputs": [
    {
     "name": "stdout",
     "output_type": "stream",
     "text": [
      "Enter the number 0\n",
      "division by zero <class 'ZeroDivisionError'>\n",
      "finally program ends\n"
     ]
    }
   ],
   "source": [
    "try:\n",
    "    num = int(input(\"Enter the number \"))\n",
    "    re = 100/num\n",
    "    print(re)\n",
    "except Exception as e :\n",
    "    print(e, type(e))\n",
    "finally:\n",
    "    print(\"finally program ends\")"
   ]
  },
  {
   "cell_type": "markdown",
   "metadata": {},
   "source": [
    "## Raising exceptions"
   ]
  },
  {
   "cell_type": "markdown",
   "metadata": {},
   "source": [
    "raise 异常名(参数)\n",
    "\n",
    "raise允许程序显式的触发某个特殊的异常\n",
    "\n",
    "参数表示打印的信息"
   ]
  },
  {
   "cell_type": "code",
   "execution_count": 20,
   "metadata": {},
   "outputs": [
    {
     "ename": "ImportError",
     "evalue": "",
     "output_type": "error",
     "traceback": [
      "\u001b[0;31m---------------------------------------------------------------------------\u001b[0m",
      "\u001b[0;31mImportError\u001b[0m                               Traceback (most recent call last)",
      "\u001b[0;32m<ipython-input-20-67fdcecb0049>\u001b[0m in \u001b[0;36m<module>\u001b[0;34m\u001b[0m\n\u001b[0;32m----> 1\u001b[0;31m \u001b[0;32mraise\u001b[0m \u001b[0mImportError\u001b[0m\u001b[0;34m\u001b[0m\u001b[0;34m\u001b[0m\u001b[0m\n\u001b[0m",
      "\u001b[0;31mImportError\u001b[0m: "
     ]
    }
   ],
   "source": [
    "raise ImportError"
   ]
  },
  {
   "cell_type": "code",
   "execution_count": 19,
   "metadata": {},
   "outputs": [
    {
     "ename": "ImportError",
     "evalue": "error",
     "output_type": "error",
     "traceback": [
      "\u001b[0;31m---------------------------------------------------------------------------\u001b[0m",
      "\u001b[0;31mImportError\u001b[0m                               Traceback (most recent call last)",
      "\u001b[0;32m<ipython-input-19-b0d8b5ef9c6b>\u001b[0m in \u001b[0;36m<module>\u001b[0;34m\u001b[0m\n\u001b[0;32m----> 1\u001b[0;31m \u001b[0;32mraise\u001b[0m \u001b[0mImportError\u001b[0m\u001b[0;34m(\u001b[0m\u001b[0;34m'error'\u001b[0m\u001b[0;34m)\u001b[0m\u001b[0;34m\u001b[0m\u001b[0;34m\u001b[0m\u001b[0m\n\u001b[0m",
      "\u001b[0;31mImportError\u001b[0m: error"
     ]
    }
   ],
   "source": [
    "raise ImportError('error')"
   ]
  }
 ],
 "metadata": {
  "kernelspec": {
   "display_name": "Python 3",
   "language": "python",
   "name": "python3"
  },
  "language_info": {
   "codemirror_mode": {
    "name": "ipython",
    "version": 3
   },
   "file_extension": ".py",
   "mimetype": "text/x-python",
   "name": "python",
   "nbconvert_exporter": "python",
   "pygments_lexer": "ipython3",
   "version": "3.7.5"
  },
  "toc": {
   "base_numbering": 1,
   "nav_menu": {},
   "number_sections": true,
   "sideBar": true,
   "skip_h1_title": false,
   "title_cell": "Table of Contents",
   "title_sidebar": "Contents",
   "toc_cell": false,
   "toc_position": {},
   "toc_section_display": true,
   "toc_window_display": false
  }
 },
 "nbformat": 4,
 "nbformat_minor": 4
}
