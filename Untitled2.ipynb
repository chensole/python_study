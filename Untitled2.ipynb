{
 "cells": [
  {
   "cell_type": "markdown",
   "metadata": {},
   "source": [
    "# 深拷贝和浅拷贝"
   ]
  },
  {
   "cell_type": "markdown",
   "metadata": {},
   "source": [
    "和java中的概念一样，浅拷贝就是对引用的拷贝，深拷贝是对对象的资源的拷贝"
   ]
  },
  {
   "cell_type": "markdown",
   "metadata": {},
   "source": [
    "## 引用"
   ]
  },
  {
   "cell_type": "markdown",
   "metadata": {},
   "source": [
    "python中一切都是对象，变量中存放的是对象的引用。可以说python没有赋值，只有引用。如 a=1,变量a只是整数对象1的引用"
   ]
  },
  {
   "cell_type": "markdown",
   "metadata": {},
   "source": [
    "### 不可变对象"
   ]
  },
  {
   "cell_type": "markdown",
   "metadata": {},
   "source": [
    "不可变对象包括: 数字，字符串，元组\n",
    "\n",
    "由于python中的变量存放的是对象引用，所以对于不可变对象而言，尽管对象本身不可变，但变量的对象引用是可变的"
   ]
  },
  {
   "cell_type": "code",
   "execution_count": null,
   "metadata": {},
   "outputs": [],
   "source": [
    "i = 73 # i是整数对象73的引用\n",
    "\n",
    "i += 2 # 创建了新对象，改变了变量的对象引用"
   ]
  },
  {
   "cell_type": "markdown",
   "metadata": {},
   "source": [
    "### 可变对象"
   ]
  },
  {
   "cell_type": "markdown",
   "metadata": {},
   "source": [
    "列表、字典\n",
    "\n",
    "对象内容是可以变化的，当对象内容发生变化时，变量的对象引用是不会变化的"
   ]
  },
  {
   "cell_type": "markdown",
   "metadata": {},
   "source": [
    "### 函数的参数传递"
   ]
  },
  {
   "cell_type": "markdown",
   "metadata": {},
   "source": [
    "本质上传递的是引用"
   ]
  },
  {
   "cell_type": "markdown",
   "metadata": {},
   "source": [
    "## 赋值"
   ]
  },
  {
   "cell_type": "markdown",
   "metadata": {},
   "source": [
    "赋值只相当给原变量增加了一个标签，并没有新的对象产生\n",
    "\n",
    "a=b 表面在a和b指向同一个内存地址，修改a或者b,两者都会改变，相当于一个人有两个称呼(大名、小名)"
   ]
  },
  {
   "cell_type": "code",
   "execution_count": 9,
   "metadata": {},
   "outputs": [
    {
     "name": "stdout",
     "output_type": "stream",
     "text": [
      "[9302176, 9302208, 140062558095712]\n",
      "[9302176, 9302208, 140062558095712]\n",
      "[1, 2, [5]]\n"
     ]
    }
   ],
   "source": [
    "m = [1, 2, [3]]\n",
    "n = m[:]\n",
    "\n",
    "print([id(x) for x in m])\n",
    "print([id(x) for x in n])\n",
    "\n",
    "n[1] = 4\n",
    "n[2][0] = 5\n",
    "print(m)"
   ]
  },
  {
   "cell_type": "markdown",
   "metadata": {},
   "source": [
    "## 浅拷贝"
   ]
  },
  {
   "cell_type": "markdown",
   "metadata": {},
   "source": [
    "虽然产生了新对象，但里面的内容还是来自同一份\n",
    "\n",
    "a=copy(b) a和b已不是同一个对象，对于某个元素的重新赋值不会影响原对象，但是内部元素全都是一样的，所以对一个**可变类型元素**的修改，任然会修改原对象"
   ]
  },
  {
   "cell_type": "code",
   "execution_count": 8,
   "metadata": {
    "scrolled": true
   },
   "outputs": [
    {
     "name": "stdout",
     "output_type": "stream",
     "text": [
      "[9302176, 140062557965040]\n",
      "[9302176, 140062557965040]\n",
      "[1, [1, 2, 3, 5]]\n",
      "[1, [1, 2, 3, 5]]\n"
     ]
    }
   ],
   "source": [
    "from copy import copy\n",
    "a = [1,[1,2,3]]\n",
    "b = copy(a)\n",
    "print([id(x) for x in a])\n",
    "print([id(x) for x in b])\n",
    "# 浅拷贝仅将容器内[1,2,3]的元素地址复制了一份\n",
    "a[1].append(5) # a 和 b 中的[1,2,3]都会修改\n",
    "print(a)\n",
    "print(b)"
   ]
  },
  {
   "cell_type": "markdown",
   "metadata": {},
   "source": [
    "## 深拷贝"
   ]
  },
  {
   "cell_type": "markdown",
   "metadata": {},
   "source": [
    "深拷贝完全拷贝了一个副本，容器内部元素地址都不一样\n",
    "\n",
    "深拷贝也可以理解为，不仅是对象自身的拷贝，而且对于对象中的每一个子元素，也都进行同样的拷贝操作。这是一种 递归 的思想"
   ]
  },
  {
   "cell_type": "code",
   "execution_count": 4,
   "metadata": {},
   "outputs": [
    {
     "name": "stdout",
     "output_type": "stream",
     "text": [
      "[9302176, 140062562420688]\n",
      "[9302176, 140062560163232]\n",
      "[2, [1, 2, 3, 5]]\n",
      "[1, [1, 2, 3]]\n"
     ]
    }
   ],
   "source": [
    "from copy import deepcopy\n",
    "a = [1,[1,2,3]]\n",
    "b = deepcopy(a)\n",
    "\n",
    "# 注意到: a和b的第一个元素地址还是一样的，由于是不可变对象，不存在被修改的可能，所以拷贝和赋值一样\n",
    "print([id(x) for x in a])\n",
    "\n",
    "print([id(x) for x in b])\n",
    "\n",
    "a[0] = 2\n",
    "a[1].append(5)\n",
    "\n",
    "print(a)\n",
    "print(b)\n"
   ]
  },
  {
   "cell_type": "markdown",
   "metadata": {},
   "source": [
    "# 变量和对象"
   ]
  },
  {
   "cell_type": "markdown",
   "metadata": {},
   "source": [
    "python中一切都是对象，变量是对象的引用\n",
    "\n",
    "当一个对象不存在任何对象引用的时候，就进入了垃圾收集的过程(和perl一样)\n",
    "\n",
    "在Python中一切都是对象，变量总是存放对象引用。当一个对象没有变量指向它的时候，它便进入了垃圾收集过程。Python的“动态类型”机制，负责检查变量的对象引用适用操作。如果该对象不适用该操作，则会直接报错。一句话**变量无类型，对象有类型**"
   ]
  },
  {
   "cell_type": "code",
   "execution_count": null,
   "metadata": {},
   "outputs": [],
   "source": [
    "# 首先创建一个str对象，其文本内容为blue，同时还创建一个名为x的对象引用，\n",
    "# x引用的就是这个str对象\n",
    "\n",
    "x = 'blue'  "
   ]
  }
 ],
 "metadata": {
  "kernelspec": {
   "display_name": "Python 3",
   "language": "python",
   "name": "python3"
  },
  "language_info": {
   "codemirror_mode": {
    "name": "ipython",
    "version": 3
   },
   "file_extension": ".py",
   "mimetype": "text/x-python",
   "name": "python",
   "nbconvert_exporter": "python",
   "pygments_lexer": "ipython3",
   "version": "3.7.5"
  },
  "toc": {
   "base_numbering": 1,
   "nav_menu": {},
   "number_sections": true,
   "sideBar": true,
   "skip_h1_title": false,
   "title_cell": "Table of Contents",
   "title_sidebar": "Contents",
   "toc_cell": false,
   "toc_position": {},
   "toc_section_display": true,
   "toc_window_display": false
  }
 },
 "nbformat": 4,
 "nbformat_minor": 4
}
