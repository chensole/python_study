{
 "cells": [
  {
   "cell_type": "markdown",
   "metadata": {},
   "source": [
    "# Numpy-Arrays"
   ]
  },
  {
   "cell_type": "markdown",
   "metadata": {},
   "source": [
    "Numpy是python科学计算的核心库"
   ]
  },
  {
   "cell_type": "markdown",
   "metadata": {},
   "source": [
    "## Arrays"
   ]
  },
  {
   "cell_type": "markdown",
   "metadata": {},
   "source": [
    "我们可以用嵌套的list来初始化Numpy Arrays"
   ]
  },
  {
   "cell_type": "code",
   "execution_count": 99,
   "metadata": {},
   "outputs": [
    {
     "name": "stdout",
     "output_type": "stream",
     "text": [
      "<class 'numpy.ndarray'>\n",
      "(3,)\n",
      "[[1 2 3]\n",
      " [1 2 3]]\n",
      "1 2 3;1 2 3\n"
     ]
    }
   ],
   "source": [
    "import numpy as np\n",
    "\n",
    "a = np.array([1,2,3])\n",
    "print(type(a))\n",
    "\n",
    "# shape 维度\n",
    "print(a.shape)\n",
    "\n",
    "# 以元组创建array\n",
    "arr = np.array(((1,2,3),(1,2,3)))\n",
    "print(arr)\n"
   ]
  },
  {
   "cell_type": "markdown",
   "metadata": {},
   "source": [
    "Numpy也提供一些函数创建数组"
   ]
  },
  {
   "cell_type": "markdown",
   "metadata": {},
   "source": [
    "### np.arange() "
   ]
  },
  {
   "cell_type": "markdown",
   "metadata": {},
   "source": [
    "类似于range()函数，np.arange(start,end,step)用于创建数组，类似于R中的seq()"
   ]
  },
  {
   "cell_type": "code",
   "execution_count": 1,
   "metadata": {
    "scrolled": false
   },
   "outputs": [
    {
     "ename": "NameError",
     "evalue": "name 'np' is not defined",
     "output_type": "error",
     "traceback": [
      "\u001b[0;31m---------------------------------------------------------------------------\u001b[0m",
      "\u001b[0;31mNameError\u001b[0m                                 Traceback (most recent call last)",
      "\u001b[0;32m<ipython-input-1-6c3c2792481c>\u001b[0m in \u001b[0;36m<module>\u001b[0;34m\u001b[0m\n\u001b[0;32m----> 1\u001b[0;31m \u001b[0marr\u001b[0m \u001b[0;34m=\u001b[0m \u001b[0mnp\u001b[0m\u001b[0;34m.\u001b[0m\u001b[0marange\u001b[0m\u001b[0;34m(\u001b[0m\u001b[0;36m1\u001b[0m\u001b[0;34m,\u001b[0m\u001b[0;36m10\u001b[0m\u001b[0;34m,\u001b[0m\u001b[0;36m2\u001b[0m\u001b[0;34m)\u001b[0m\u001b[0;34m\u001b[0m\u001b[0;34m\u001b[0m\u001b[0m\n\u001b[0m\u001b[1;32m      2\u001b[0m \u001b[0mprint\u001b[0m\u001b[0;34m(\u001b[0m\u001b[0marr\u001b[0m\u001b[0;34m)\u001b[0m\u001b[0;34m\u001b[0m\u001b[0;34m\u001b[0m\u001b[0m\n\u001b[1;32m      3\u001b[0m \u001b[0;34m\u001b[0m\u001b[0m\n\u001b[1;32m      4\u001b[0m \u001b[0;32mimport\u001b[0m \u001b[0mpandas\u001b[0m \u001b[0;32mas\u001b[0m \u001b[0mpd\u001b[0m\u001b[0;34m\u001b[0m\u001b[0;34m\u001b[0m\u001b[0m\n\u001b[1;32m      5\u001b[0m \u001b[0;34m\u001b[0m\u001b[0m\n",
      "\u001b[0;31mNameError\u001b[0m: name 'np' is not defined"
     ]
    }
   ],
   "source": [
    "arr = np.arange(1,10,2)\n",
    "print(arr)"
   ]
  },
  {
   "cell_type": "markdown",
   "metadata": {},
   "source": [
    "### np.linspace()"
   ]
  },
  {
   "cell_type": "markdown",
   "metadata": {},
   "source": [
    "np.linspace(start,end,length)用于创建指定长度的数组,类似于R中的seq()函数指定length.out参数"
   ]
  },
  {
   "cell_type": "code",
   "execution_count": 59,
   "metadata": {},
   "outputs": [
    {
     "name": "stdout",
     "output_type": "stream",
     "text": [
      "[1.         1.33333333 1.66666667 2.        ]\n"
     ]
    }
   ],
   "source": [
    "arr = np.linspace(1,2,4)\n",
    "print(arr)"
   ]
  },
  {
   "cell_type": "markdown",
   "metadata": {},
   "source": [
    "### np.zeros()"
   ]
  },
  {
   "cell_type": "markdown",
   "metadata": {},
   "source": [
    "np.zeros(shape) 创建维度为shape的零数组 "
   ]
  },
  {
   "cell_type": "code",
   "execution_count": 4,
   "metadata": {},
   "outputs": [
    {
     "name": "stdout",
     "output_type": "stream",
     "text": [
      "[[0. 0.]\n",
      " [0. 0.]]\n"
     ]
    }
   ],
   "source": [
    "a = np.zeros((2,2))\n",
    "print(a)"
   ]
  },
  {
   "cell_type": "markdown",
   "metadata": {},
   "source": [
    "### np.ones()"
   ]
  },
  {
   "cell_type": "markdown",
   "metadata": {},
   "source": [
    "np.ones(shape) 创建维度为shape的数组,元素全为1 "
   ]
  },
  {
   "cell_type": "code",
   "execution_count": 5,
   "metadata": {},
   "outputs": [
    {
     "name": "stdout",
     "output_type": "stream",
     "text": [
      "[[0. 0.]\n",
      " [0. 0.]]\n"
     ]
    }
   ],
   "source": [
    "a = np.ones((2,2))\n",
    "print(a)"
   ]
  },
  {
   "cell_type": "markdown",
   "metadata": {},
   "source": [
    "### np.full()"
   ]
  },
  {
   "cell_type": "markdown",
   "metadata": {},
   "source": [
    "np.full(shape,value)创建维度为shape的数组,元素全为value"
   ]
  },
  {
   "cell_type": "code",
   "execution_count": null,
   "metadata": {},
   "outputs": [],
   "source": [
    "b = np.full((2,2),7)"
   ]
  },
  {
   "cell_type": "markdown",
   "metadata": {},
   "source": [
    "### np.eye()"
   ]
  },
  {
   "cell_type": "markdown",
   "metadata": {},
   "source": [
    "np.eye() 创建维度为shape的单位矩阵"
   ]
  },
  {
   "cell_type": "code",
   "execution_count": 6,
   "metadata": {},
   "outputs": [
    {
     "name": "stdout",
     "output_type": "stream",
     "text": [
      "[[1. 0. 0.]\n",
      " [0. 1. 0.]]\n"
     ]
    }
   ],
   "source": [
    "# 可以接收一个参数，行列数相等\n",
    "b = np.eye(2)\n",
    "\n",
    "# 也可以行列数不等\n",
    "b = np.eye(2,3)\n",
    "print(b)"
   ]
  },
  {
   "cell_type": "markdown",
   "metadata": {},
   "source": [
    "### np.random.random()"
   ]
  },
  {
   "cell_type": "markdown",
   "metadata": {},
   "source": [
    "创建一个元素为随机数字的数组"
   ]
  },
  {
   "cell_type": "code",
   "execution_count": 7,
   "metadata": {},
   "outputs": [
    {
     "name": "stdout",
     "output_type": "stream",
     "text": [
      "[[0.74893652 0.59955041 0.05285939]\n",
      " [0.2924746  0.30616178 0.66025604]]\n"
     ]
    }
   ],
   "source": [
    "e = np.random.random((2,3))\n",
    "print(e)"
   ]
  },
  {
   "cell_type": "markdown",
   "metadata": {},
   "source": [
    "## 改变数组的维度"
   ]
  },
  {
   "cell_type": "markdown",
   "metadata": {},
   "source": [
    "### 将数组展平"
   ]
  },
  {
   "cell_type": "markdown",
   "metadata": {},
   "source": [
    "#### ravel"
   ]
  },
  {
   "cell_type": "code",
   "execution_count": 3,
   "metadata": {},
   "outputs": [
    {
     "name": "stdout",
     "output_type": "stream",
     "text": [
      "[1 2 3 4]\n",
      "140220917462480 140220917464880\n"
     ]
    }
   ],
   "source": [
    "import numpy as np\n",
    "\n",
    "arr = np.array([[1,2],[3,4]])\n",
    "\n",
    "print(arr.ravel())\n",
    "\n",
    "print(id(arr),id(arr.ravel()))"
   ]
  },
  {
   "cell_type": "markdown",
   "metadata": {},
   "source": [
    "#### flatten()"
   ]
  },
  {
   "cell_type": "markdown",
   "metadata": {},
   "source": [
    "与ravel功能相同。不过flatten函数会请求分配内存来保存结果，而ravel函数只是返回数组的一个视图"
   ]
  },
  {
   "cell_type": "code",
   "execution_count": null,
   "metadata": {},
   "outputs": [],
   "source": [
    "flat = arr.flatten()\n",
    "print(id(arr),id(flat))"
   ]
  },
  {
   "cell_type": "markdown",
   "metadata": {},
   "source": [
    "### 设置维度"
   ]
  },
  {
   "cell_type": "markdown",
   "metadata": {},
   "source": [
    "直接使用正整数元组来设置数组的维度"
   ]
  },
  {
   "cell_type": "code",
   "execution_count": 4,
   "metadata": {
    "scrolled": true
   },
   "outputs": [
    {
     "name": "stdout",
     "output_type": "stream",
     "text": [
      "[[1 2 3 4]]\n"
     ]
    }
   ],
   "source": [
    "arr.shape = (1,4)\n",
    "print(arr)"
   ]
  },
  {
   "cell_type": "markdown",
   "metadata": {},
   "source": [
    "#### 使用 reshape()"
   ]
  },
  {
   "cell_type": "code",
   "execution_count": 6,
   "metadata": {
    "scrolled": false
   },
   "outputs": [
    {
     "name": "stdout",
     "output_type": "stream",
     "text": [
      "[[1 2]\n",
      " [3 4]]\n",
      "[[1 2 3 4]]\n"
     ]
    }
   ],
   "source": [
    "print(arr.reshape((2,2)))\n",
    "print(arr)"
   ]
  },
  {
   "cell_type": "markdown",
   "metadata": {},
   "source": [
    "#### 使用 resize()"
   ]
  },
  {
   "cell_type": "markdown",
   "metadata": {},
   "source": [
    "resize()函数的功能和reshape()一样，但resize会直接修改所操作的数组"
   ]
  },
  {
   "cell_type": "code",
   "execution_count": 7,
   "metadata": {
    "scrolled": true
   },
   "outputs": [
    {
     "name": "stdout",
     "output_type": "stream",
     "text": [
      "[[1 2]\n",
      " [3 4]]\n"
     ]
    }
   ],
   "source": [
    "arr.resize((2,2))\n",
    "print(arr)"
   ]
  },
  {
   "cell_type": "markdown",
   "metadata": {},
   "source": [
    "## 数组的属性"
   ]
  },
  {
   "cell_type": "markdown",
   "metadata": {},
   "source": [
    "ndim属性，给出数组的维数\n",
    "size属性，给出数组元素的总个数\n",
    "itemsize属性，给出数组中的元素在内存中所占的字节数\n",
    "nbytes属性，查看数组所占的存储空间，其实就是itemsize和size的乘积"
   ]
  },
  {
   "cell_type": "markdown",
   "metadata": {},
   "source": [
    "## 数组的转换"
   ]
  },
  {
   "cell_type": "markdown",
   "metadata": {},
   "source": [
    "### tolist()"
   ]
  },
  {
   "cell_type": "markdown",
   "metadata": {},
   "source": [
    "将Numpy数组转换成python列表"
   ]
  },
  {
   "cell_type": "code",
   "execution_count": 8,
   "metadata": {},
   "outputs": [
    {
     "name": "stdout",
     "output_type": "stream",
     "text": [
      "[[1, 2], [3, 4]]\n"
     ]
    }
   ],
   "source": [
    "print(arr.tolist())"
   ]
  },
  {
   "cell_type": "markdown",
   "metadata": {},
   "source": [
    "### astype()"
   ]
  },
  {
   "cell_type": "markdown",
   "metadata": {},
   "source": [
    "可以在转换数组时指定数据类型"
   ]
  },
  {
   "cell_type": "code",
   "execution_count": 9,
   "metadata": {
    "scrolled": true
   },
   "outputs": [
    {
     "name": "stdout",
     "output_type": "stream",
     "text": [
      "[[1. 2.]\n",
      " [3. 4.]]\n"
     ]
    }
   ],
   "source": [
    "print(arr.astype(float))"
   ]
  },
  {
   "cell_type": "markdown",
   "metadata": {},
   "source": [
    "### tostring()"
   ]
  },
  {
   "cell_type": "markdown",
   "metadata": {},
   "source": [
    "将Numpy数组转换为字节流"
   ]
  },
  {
   "cell_type": "code",
   "execution_count": 10,
   "metadata": {
    "scrolled": true
   },
   "outputs": [
    {
     "name": "stdout",
     "output_type": "stream",
     "text": [
      "b'\\x01\\x00\\x00\\x00\\x00\\x00\\x00\\x00\\x02\\x00\\x00\\x00\\x00\\x00\\x00\\x00\\x03\\x00\\x00\\x00\\x00\\x00\\x00\\x00\\x04\\x00\\x00\\x00\\x00\\x00\\x00\\x00'\n"
     ]
    }
   ],
   "source": [
    "print(arr.tostring())"
   ]
  },
  {
   "cell_type": "markdown",
   "metadata": {},
   "source": [
    "### np.where()"
   ]
  },
  {
   "cell_type": "markdown",
   "metadata": {},
   "source": [
    "在资料分析工作中，np.where通常用于根据另一个阵列而产生一个新的阵列"
   ]
  },
  {
   "cell_type": "code",
   "execution_count": 18,
   "metadata": {
    "scrolled": true
   },
   "outputs": [
    {
     "name": "stdout",
     "output_type": "stream",
     "text": [
      "[[ 2.  2.  2.  2.]\n",
      " [-2.  2. -2.  2.]\n",
      " [ 2. -2.  2.  2.]\n",
      " [-2. -2. -2.  2.]]\n",
      "[[ 2.  2.  2.  2.]\n",
      " [-2.  2. -2.  2.]\n",
      " [ 2. -2.  2.  2.]\n",
      " [-2. -2. -2.  2.]]\n"
     ]
    }
   ],
   "source": [
    "arr = np.random.randn(4,4)\n",
    "\n",
    "# 将元素大于0的替换为２，将小于0的替换为-2\n",
    "arr[arr>0]=2\n",
    "arr[arr<0]=-2\n",
    "print(arr)\n",
    "\n",
    "# 使用np.where()一步替换，逻辑上相当于x if cond else y\n",
    "np.where(arr>0,2,-2)\n",
    "print(arr)"
   ]
  },
  {
   "cell_type": "code",
   "execution_count": 26,
   "metadata": {
    "scrolled": true
   },
   "outputs": [
    {
     "name": "stdout",
     "output_type": "stream",
     "text": [
      "[[ 2.         -0.38549736 -1.75717636 -1.68182592]\n",
      " [ 2.          2.         -0.8065223  -0.17090669]\n",
      " [ 2.          2.          2.          2.        ]\n",
      " [-0.21809347  2.          2.         -0.16613582]]\n"
     ]
    }
   ],
   "source": [
    "# 将大于0的改为2，小于0的不变\n",
    "arr = np.random.randn(4,4)\n",
    "arr1 = np.where(arr>0,2,arr)\n",
    "print(arr1)"
   ]
  },
  {
   "cell_type": "markdown",
   "metadata": {},
   "source": [
    "## 数组索引"
   ]
  },
  {
   "cell_type": "markdown",
   "metadata": {},
   "source": [
    "如同list一样，Numpy数组也有切片形式。由于数组可能是多维的，所以你需要在每一个维度上指定切片\n",
    "\n",
    "语法操作上和R类似，不同的是python起始索引为0"
   ]
  },
  {
   "cell_type": "code",
   "execution_count": 37,
   "metadata": {},
   "outputs": [
    {
     "name": "stdout",
     "output_type": "stream",
     "text": [
      "[[2 3]\n",
      " [6 7]]\n",
      "8\n",
      "[[77  2  3  4]\n",
      " [ 5  6  7  8]\n",
      " [ 9 10 11 12]]\n"
     ]
    }
   ],
   "source": [
    "a = np.array([[1,2,3,4], [5,6,7,8], [9,10,11,12]])\n",
    "\n",
    "b = a[:2,1:3]\n",
    "print(b)\n",
    "\n",
    "print(a[1,3])\n",
    "\n",
    "# 修改原始数组\n",
    "a[0,0] = 77\n",
    "print(a)"
   ]
  },
  {
   "cell_type": "markdown",
   "metadata": {},
   "source": [
    "对于二维数组:\n",
    "    假设我们只指定了一个下标，则访问的结果仍然是一个数组。\n",
    "    假设我们指定了两个下标，则访问得到的是其中的元素"
   ]
  },
  {
   "cell_type": "code",
   "execution_count": 65,
   "metadata": {},
   "outputs": [
    {
     "name": "stdout",
     "output_type": "stream",
     "text": [
      "[[77  2  3  4]\n",
      " [ 5  6  7  8]]\n",
      "[[77  2]\n",
      " [ 5  6]\n",
      " [ 9 10]]\n",
      "3\n",
      "[1 3 5 6]\n",
      "[[1 3]\n",
      " [5 6]]\n"
     ]
    }
   ],
   "source": [
    "# 打印两行\n",
    "print(a[:2])\n",
    "\n",
    "# 打印两列\n",
    "print(a[:,:2])\n",
    "\n",
    "arr = np.array([[[1,2,2],[3,4,3]],[[5,6,4],[7,8,6]]])\n",
    "print(arr.ndim)\n",
    "\n",
    "print(arr[[0,0,1,1],[0,1,0,1],[0,2,0,2]])\n",
    "\n",
    "print(arr[[[0,0],[1,1]],[[0,1],[0,1]],[[0,2],[0,2]]])"
   ]
  },
  {
   "cell_type": "markdown",
   "metadata": {},
   "source": [
    "### 花式索引"
   ]
  },
  {
   "cell_type": "markdown",
   "metadata": {},
   "source": [
    "花式索引: 传递一个索引数组来一次性获得多个数组元素\n",
    "\n",
    "利用花式索引，结果的形状与索引数组的形状一致，而不是与被索引数组的形状一致"
   ]
  },
  {
   "cell_type": "markdown",
   "metadata": {},
   "source": [
    "#### 一个维度使用花式索引"
   ]
  },
  {
   "cell_type": "markdown",
   "metadata": {},
   "source": [
    "使用一维整型数组作为索引，如果目标是一维数组，那么索引的结果就是对应位置的元素，如果目标是二维数组，那么就是对应下标的行"
   ]
  },
  {
   "cell_type": "code",
   "execution_count": 154,
   "metadata": {
    "scrolled": true
   },
   "outputs": [
    {
     "name": "stdout",
     "output_type": "stream",
     "text": [
      "[51 92 14 71 60 20 82 86 74 74]\n",
      "[14, 86, 14]\n",
      "[71 86 14]\n",
      "[71 86 14]\n",
      "[[71 86]\n",
      " [60 20]]\n"
     ]
    }
   ],
   "source": [
    "rand = np.random.RandomState(42)\n",
    "x = rand.randint(100,size=10)\n",
    "print(x)\n",
    "\n",
    "# 获取三个不同的元素\n",
    "print([x[2],x[7],x[2]])\n",
    "\n",
    "# 传递单个列表或数组获得同样的结果\n",
    "print(x[[3,7,2]]) #使用列表\n",
    "print(x[np.array([3,7,2])]) # 使用数组\n",
    "\n",
    "# 利用花式索引从一维数组中获取元素组合成多维\n",
    "\n",
    "print(x[np.array([[3,7],[4,5]])]) # 结果和索引数组shape一致\n",
    "\n",
    "\n",
    "# 一维数组索引应用于二维数组\n",
    "num = np.array([[0, 1, 2],[3, 4, 5],[6, 7, 8],[9, 10, 11]])\n",
    "\n",
    "num[[0,1]]"
   ]
  },
  {
   "cell_type": "markdown",
   "metadata": {},
   "source": [
    "#### 多个维度使用花式索引"
   ]
  },
  {
   "cell_type": "markdown",
   "metadata": {},
   "source": [
    "和标准的索引方式一样，第一个索引指的是行，第二个索引指的是列"
   ]
  },
  {
   "cell_type": "code",
   "execution_count": 17,
   "metadata": {
    "scrolled": true
   },
   "outputs": [
    {
     "name": "stdout",
     "output_type": "stream",
     "text": [
      "[[ 0  1  2  3]\n",
      " [ 4  5  6  7]\n",
      " [ 8  9 10 11]]\n",
      "[ 2  5 11]\n",
      "[ 2  5 11]\n",
      "[[ 0  1  2]\n",
      " [ 3  4  5]\n",
      " [ 6  7  8]\n",
      " [ 9 10 11]]\n",
      "[[ 0  2]\n",
      " [ 9 11]]\n",
      "[ 0  2  9 11]\n"
     ]
    }
   ],
   "source": [
    "x = np.arange(12).reshape((3, 4))\n",
    "row = np.array([0, 1, 2])\n",
    "col = np.array([2, 1, 3])\n",
    "print(x)\n",
    "\n",
    "# 使用整数数组\n",
    "print(x[row, col])\n",
    "\n",
    "# 也可以将列表作为索引\n",
    "print(x[[0,1,2],[2,1,3]])\n",
    "\n",
    "# 多维数组用做索引，返回结果与索引数组维度一样\n",
    "\n",
    "num = np.array([[0, 1, 2],[3, 4, 5],[6, 7, 8],[9, 10, 11]])\n",
    "print(num)\n",
    "# 多个维度使用2x2数组做索引\n",
    "print(num[[[0,0],[3,3]],[[0,2],[0,2]]])\n",
    "\n",
    "# 使用一维数组\n",
    "print(num[[0,0,3,3],[0,2,0,2]])\n"
   ]
  },
  {
   "cell_type": "markdown",
   "metadata": {},
   "source": [
    "### 布尔索引"
   ]
  },
  {
   "cell_type": "code",
   "execution_count": 35,
   "metadata": {},
   "outputs": [
    {
     "name": "stdout",
     "output_type": "stream",
     "text": [
      "[[False False False]\n",
      " [False False False]\n",
      " [False False False]\n",
      " [ True  True  True]]\n",
      "[ 9 10 11]\n",
      "[ 8  9 10 11]\n",
      "[[ 3  4  5]\n",
      " [ 6  7  8]\n",
      " [ 9 10 11]]\n",
      "[[ 1  2]\n",
      " [ 4  5]\n",
      " [ 7  8]\n",
      " [10 11]]\n"
     ]
    }
   ],
   "source": [
    "# 布尔值作为索引,返回同维度且元素为T/F的数组\n",
    "\n",
    "bool_idx = (num>8)\n",
    "print(bool_idx)\n",
    "\n",
    "print(num[bool_idx])\n",
    "\n",
    "# 一步到位\n",
    "print(num[num>7])\n",
    "\n",
    "# 取出行和大于10\n",
    "print(num[num.sum(axis=1)>10])\n",
    "\n",
    "# 取出列和大于20\n",
    "print(num[:,num.sum(axis=0)>20])\n"
   ]
  },
  {
   "cell_type": "markdown",
   "metadata": {},
   "source": [
    "## 数据类型"
   ]
  },
  {
   "cell_type": "markdown",
   "metadata": {},
   "source": [
    "每一个Numpy数组内的元素都是同样的数据类型，在创建数组时可以指定数据类型"
   ]
  },
  {
   "cell_type": "markdown",
   "metadata": {},
   "source": [
    "### 查看数据类型"
   ]
  },
  {
   "cell_type": "markdown",
   "metadata": {},
   "source": [
    "使用dtype方法"
   ]
  },
  {
   "cell_type": "code",
   "execution_count": 36,
   "metadata": {
    "scrolled": true
   },
   "outputs": [
    {
     "name": "stdout",
     "output_type": "stream",
     "text": [
      "int64\n",
      "float64\n",
      "[1. 2.]\n",
      "(2,)\n"
     ]
    }
   ],
   "source": [
    "x = np.array([1,2])\n",
    "print(x.dtype)\n",
    "\n",
    "x = np.array([1.0,2.0])\n",
    "print(x.dtype)\n",
    "\n",
    "# 创建时指定数据类型\n",
    "x = np.array([1,2],dtype=np.float64)\n",
    "print(x)\n"
   ]
  },
  {
   "cell_type": "markdown",
   "metadata": {},
   "source": [
    "## 数组运算"
   ]
  },
  {
   "cell_type": "markdown",
   "metadata": {},
   "source": [
    "### 元素相加"
   ]
  },
  {
   "cell_type": "markdown",
   "metadata": {},
   "source": [
    "#### +操作符"
   ]
  },
  {
   "cell_type": "code",
   "execution_count": 35,
   "metadata": {},
   "outputs": [
    {
     "name": "stdout",
     "output_type": "stream",
     "text": [
      "[[ 6.  8.]\n",
      " [10. 12.]]\n"
     ]
    }
   ],
   "source": [
    "x = np.array([[1,2],[3,4]], dtype=np.float64)\n",
    "y = np.array([[5,6],[7,8]], dtype=np.float64)\n",
    "\n",
    "print(x + y)"
   ]
  },
  {
   "cell_type": "markdown",
   "metadata": {},
   "source": [
    "#### np.add()函数"
   ]
  },
  {
   "cell_type": "code",
   "execution_count": 36,
   "metadata": {},
   "outputs": [
    {
     "name": "stdout",
     "output_type": "stream",
     "text": [
      "[[ 6.  8.]\n",
      " [10. 12.]]\n"
     ]
    }
   ],
   "source": [
    "print(np.add(x,y))"
   ]
  },
  {
   "cell_type": "markdown",
   "metadata": {},
   "source": [
    "### 元素相减"
   ]
  },
  {
   "cell_type": "markdown",
   "metadata": {},
   "source": [
    "#### -操作符"
   ]
  },
  {
   "cell_type": "code",
   "execution_count": 37,
   "metadata": {},
   "outputs": [
    {
     "name": "stdout",
     "output_type": "stream",
     "text": [
      "[[-4. -4.]\n",
      " [-4. -4.]]\n"
     ]
    }
   ],
   "source": [
    "print(x - y)"
   ]
  },
  {
   "cell_type": "markdown",
   "metadata": {},
   "source": [
    "#### np.subtract()函数"
   ]
  },
  {
   "cell_type": "code",
   "execution_count": 38,
   "metadata": {},
   "outputs": [
    {
     "name": "stdout",
     "output_type": "stream",
     "text": [
      "[[-4. -4.]\n",
      " [-4. -4.]]\n"
     ]
    }
   ],
   "source": [
    "print(np.subtract(x,y))"
   ]
  },
  {
   "cell_type": "markdown",
   "metadata": {},
   "source": [
    "### 元素相乘"
   ]
  },
  {
   "cell_type": "markdown",
   "metadata": {},
   "source": [
    "#### \\*操作符"
   ]
  },
  {
   "cell_type": "code",
   "execution_count": null,
   "metadata": {},
   "outputs": [],
   "source": [
    "print(x * y)"
   ]
  },
  {
   "cell_type": "markdown",
   "metadata": {},
   "source": [
    "#### np.multiply()函数"
   ]
  },
  {
   "cell_type": "code",
   "execution_count": null,
   "metadata": {},
   "outputs": [],
   "source": [
    "print(np.multiply(x,y))"
   ]
  },
  {
   "cell_type": "markdown",
   "metadata": {},
   "source": [
    "### 元素相除"
   ]
  },
  {
   "cell_type": "markdown",
   "metadata": {},
   "source": [
    "#### / 操作符"
   ]
  },
  {
   "cell_type": "code",
   "execution_count": null,
   "metadata": {},
   "outputs": [],
   "source": [
    "print(x / y)"
   ]
  },
  {
   "cell_type": "markdown",
   "metadata": {},
   "source": [
    "#### np.divide()函数"
   ]
  },
  {
   "cell_type": "code",
   "execution_count": 39,
   "metadata": {
    "scrolled": true
   },
   "outputs": [
    {
     "name": "stdout",
     "output_type": "stream",
     "text": [
      "[[0.2        0.33333333]\n",
      " [0.42857143 0.5       ]]\n"
     ]
    }
   ],
   "source": [
    "print(np.divide(x,y))"
   ]
  },
  {
   "cell_type": "markdown",
   "metadata": {},
   "source": [
    "### 数组元素的开方"
   ]
  },
  {
   "cell_type": "code",
   "execution_count": 40,
   "metadata": {},
   "outputs": [
    {
     "name": "stdout",
     "output_type": "stream",
     "text": [
      "[[1.         1.41421356]\n",
      " [1.73205081 2.        ]]\n"
     ]
    }
   ],
   "source": [
    "print(np.sqrt(x))"
   ]
  },
  {
   "cell_type": "markdown",
   "metadata": {},
   "source": [
    "### dot() 向量内积"
   ]
  },
  {
   "cell_type": "code",
   "execution_count": 60,
   "metadata": {
    "scrolled": true
   },
   "outputs": [
    {
     "name": "stdout",
     "output_type": "stream",
     "text": [
      "219\n",
      "219\n",
      "[29 67]\n",
      "[29 67]\n",
      "[[ 7 10]\n",
      " [15 22]]\n",
      "[[ 7 10]\n",
      " [15 22]]\n",
      "[[ 7 10]\n",
      " [15 22]]\n"
     ]
    }
   ],
   "source": [
    "# 两向量内积\n",
    "v = np.array([9,10])\n",
    "w = np.array([11,12])\n",
    "\n",
    "print(v.dot(w))\n",
    "print(np.dot(v,w))\n",
    "\n",
    "# 矩阵与向量乘积\n",
    "x = np.array([[1,2],[3,4]])\n",
    "print(x.dot(v))\n",
    "print(np.dot(x,v))\n",
    "\n",
    "# 矩阵与矩阵内积\n",
    "y = np.array([[1,2],[3,4]])\n",
    "print(x.dot(y))\n",
    "print(np.dot(x,y))\n",
    "\n",
    "# python>=3.5中使用 @操作符可以同样实现内积\n",
    "print(x @ y)"
   ]
  },
  {
   "cell_type": "markdown",
   "metadata": {},
   "source": [
    "### *=、+="
   ]
  },
  {
   "cell_type": "markdown",
   "metadata": {},
   "source": [
    "数组也可直接进行原位修改，此类操作符有 += -= \\*= 等"
   ]
  },
  {
   "cell_type": "code",
   "execution_count": 61,
   "metadata": {
    "scrolled": true
   },
   "outputs": [
    {
     "name": "stdout",
     "output_type": "stream",
     "text": [
      "[[3 4]\n",
      " [4 5]]\n",
      "[[ 9 12]\n",
      " [12 15]]\n"
     ]
    }
   ],
   "source": [
    "arr = np.array([[1,2],[2,3]])\n",
    "\n",
    "arr += 2\n",
    "print(arr)\n",
    "\n",
    "arr *= 3\n",
    "print(arr)"
   ]
  },
  {
   "cell_type": "markdown",
   "metadata": {},
   "source": [
    "### 聚合函数"
   ]
  },
  {
   "cell_type": "markdown",
   "metadata": {},
   "source": [
    "一些聚合函数如sum,min,max,average默认操作数组内所有元素\n",
    "\n",
    "然而可以指定 axis参数，对行或对列进行计算，axis=0应用于列\n",
    "axis=1应用于行。类似于R中apply()函数1表示行，2表示列"
   ]
  },
  {
   "cell_type": "markdown",
   "metadata": {},
   "source": [
    "#### np.sum()"
   ]
  },
  {
   "cell_type": "code",
   "execution_count": 49,
   "metadata": {},
   "outputs": [
    {
     "name": "stdout",
     "output_type": "stream",
     "text": [
      "10\n",
      "[4 6]\n",
      "[3 7]\n"
     ]
    }
   ],
   "source": [
    "x = np.array([[1,2],[3,4]])\n",
    "\n",
    "# 所有元素之和\n",
    "print(np.sum(x))\n",
    "\n",
    "# axis=0 求列和\n",
    "print(np.sum(x,axis=0))\n",
    "\n",
    "# axis=1 求行和\n",
    "print(np.sum(x,axis=1))"
   ]
  },
  {
   "cell_type": "markdown",
   "metadata": {},
   "source": [
    "#### np.min()和np.max()"
   ]
  },
  {
   "cell_type": "code",
   "execution_count": 141,
   "metadata": {},
   "outputs": [
    {
     "name": "stdout",
     "output_type": "stream",
     "text": [
      "[[ 0  1  2  3]\n",
      " [ 4  5  6  7]\n",
      " [ 8  9 10 11]]\n",
      "0\n",
      "[0 1 2 3]\n",
      "[0 4 8]\n",
      "每列最大值索引为\n",
      "[2 2 2 2]\n",
      "[ 8  9 10 11]\n",
      "[0 4 8]\n",
      "[[ 2  1  3]\n",
      " [ 6  5  7]\n",
      " [10  9 11]]\n"
     ]
    }
   ],
   "source": [
    "b = np.arange(12).reshape(3,4)\n",
    "print(b)\n",
    "\n",
    "print(b.min())\n",
    "\n",
    "# 列\n",
    "print(b.min(axis=0))\n",
    "\n",
    "# 行\n",
    "print(b.min(axis=1))\n",
    "\n",
    "# 同时还有argmax()和argmin(),返回最大值和最小值的索引\n",
    "index = np.argmax(b,axis=0)\n",
    "print('每列最大值索引为')\n",
    "print(index)\n",
    "# 根据索引获取元素\n",
    "print(b[index,range(4)])\n",
    "\n",
    "index1 = np.argmin(b,axis=1)\n",
    "print(b[range(3),index1])"
   ]
  },
  {
   "cell_type": "markdown",
   "metadata": {},
   "source": [
    "#### np.cumsum"
   ]
  },
  {
   "cell_type": "code",
   "execution_count": 66,
   "metadata": {},
   "outputs": [
    {
     "name": "stdout",
     "output_type": "stream",
     "text": [
      "[ 0  1  3  6 10 15 21 28 36 45 55 66]\n"
     ]
    }
   ],
   "source": [
    "print(b.cumsum())\n",
    "\n",
    "# 列\n",
    "print(b.cumsum(axis=0))\n",
    "\n",
    "# 行\n",
    "print(b.cumsum(axis=1))"
   ]
  },
  {
   "cell_type": "markdown",
   "metadata": {},
   "source": [
    "#### np.average()"
   ]
  },
  {
   "cell_type": "code",
   "execution_count": 68,
   "metadata": {},
   "outputs": [
    {
     "name": "stdout",
     "output_type": "stream",
     "text": [
      "5.5\n",
      "[4. 5. 6. 7.]\n",
      "[1.5 5.5 9.5]\n"
     ]
    }
   ],
   "source": [
    "print(np.average(b))\n",
    "\n",
    "# 列\n",
    "print(np.average(b,axis=0))\n",
    "\n",
    "# 行\n",
    "print(np.average(b,axis=1))"
   ]
  },
  {
   "cell_type": "markdown",
   "metadata": {},
   "source": [
    "### 转置"
   ]
  },
  {
   "cell_type": "markdown",
   "metadata": {},
   "source": [
    "1. 使用.T方法\n",
    "\n",
    "2. 使用 np.transpose()"
   ]
  },
  {
   "cell_type": "code",
   "execution_count": 93,
   "metadata": {},
   "outputs": [
    {
     "name": "stdout",
     "output_type": "stream",
     "text": [
      "[[1 2]\n",
      " [3 4]]\n",
      "[[1 3]\n",
      " [2 4]]\n",
      "[[1 3]\n",
      " [2 4]]\n"
     ]
    }
   ],
   "source": [
    "x = np.array([[1,2],[3,4]])\n",
    "print(x)\n",
    "print(x.T)\n",
    "\n",
    "print(np.transpose(x))"
   ]
  },
  {
   "cell_type": "markdown",
   "metadata": {},
   "source": [
    "### Broadcasting"
   ]
  },
  {
   "cell_type": "markdown",
   "metadata": {},
   "source": [
    "Broadcasting这个机制允许了不同维数的数组间进行数学运算\n",
    "\n",
    "1. 维数不同时，将低维度数组的shape会从左开始填充1,直至维数匹配\n",
    "\n",
    "2. 维数相同时，若某些维度长度不同，那么长度为1的维度会被扩展至和另一数组同维度长度匹配\n",
    "\n",
    "3. 如果两个数组维数相同，但有任一维度的长度不同且不为1，则报错"
   ]
  },
  {
   "cell_type": "code",
   "execution_count": 56,
   "metadata": {},
   "outputs": [
    {
     "name": "stdout",
     "output_type": "stream",
     "text": [
      "(2, 2) (2,)\n",
      "[[3 5]\n",
      " [4 5]]\n"
     ]
    }
   ],
   "source": [
    "a = np.array([[1,2],[2,2]])\n",
    "b = np.array([2,3])\n",
    "\n",
    "print(a.shape,b.shape)\n",
    "print(a+b)"
   ]
  },
  {
   "cell_type": "markdown",
   "metadata": {},
   "source": [
    "### 逐行输出"
   ]
  },
  {
   "cell_type": "code",
   "execution_count": 70,
   "metadata": {},
   "outputs": [
    {
     "name": "stdout",
     "output_type": "stream",
     "text": [
      "[[[ 0  1]\n",
      "  [ 2  3]\n",
      "  [ 4  5]]\n",
      "\n",
      " [[ 6  7]\n",
      "  [ 8  9]\n",
      "  [10 11]]]\n",
      "[0 1]\n",
      "[2 3]\n",
      "[4 5]\n",
      "[6 7]\n",
      "[8 9]\n",
      "[10 11]\n"
     ]
    }
   ],
   "source": [
    "arr = np.arange(12).reshape(2,3,2)\n",
    "print(arr)\n",
    "\n",
    "for row in arr:\n",
    "    for row2 in row:\n",
    "        print(row2)"
   ]
  },
  {
   "cell_type": "markdown",
   "metadata": {},
   "source": [
    "### 数组展开flatten"
   ]
  },
  {
   "cell_type": "markdown",
   "metadata": {},
   "source": [
    "多维变成一维"
   ]
  },
  {
   "cell_type": "code",
   "execution_count": 73,
   "metadata": {},
   "outputs": [
    {
     "name": "stdout",
     "output_type": "stream",
     "text": [
      "1\n"
     ]
    }
   ],
   "source": [
    "flat = arr.flatten()\n",
    "# 等价于 flat = arr.flat\n",
    "\n",
    "print(flat.ndim)"
   ]
  },
  {
   "cell_type": "markdown",
   "metadata": {},
   "source": [
    "### 矩阵合并与分割"
   ]
  },
  {
   "cell_type": "markdown",
   "metadata": {},
   "source": [
    "#### 合并"
   ]
  },
  {
   "cell_type": "markdown",
   "metadata": {},
   "source": [
    "np.hstack()　水平合并(行数要相同)\n",
    "np.vstack()　垂直合并(列数要相同)"
   ]
  },
  {
   "cell_type": "code",
   "execution_count": 80,
   "metadata": {},
   "outputs": [
    {
     "name": "stdout",
     "output_type": "stream",
     "text": [
      "[1 2 3 6 0 1 2 3]\n",
      "[[1 2 3 6]\n",
      " [0 1 2 3]]\n",
      "[[1 2 3 6]\n",
      " [0 1 2 3]\n",
      " [1 2 3 6]]\n",
      "not match\n"
     ]
    }
   ],
   "source": [
    "arr1 = np.array([1,2,3,6])\n",
    "arr2 = np.arange(4)\n",
    "\n",
    "# 水平合并\n",
    "arr_hor = np.hstack((arr1,arr2))\n",
    "print(arr_hor)\n",
    "\n",
    "# 垂直合并\n",
    "arr_ver = np.vstack((arr1,arr2))\n",
    "print(arr_ver)\n",
    "\n",
    "arr_ver2 = np.vstack((arr_ver,arr1))\n",
    "print(arr_ver2)\n",
    "\n",
    "try:\n",
    "    print(np.vstack((arr_ver2,np.array([1,2,3]))))\n",
    "except:\n",
    "    print('not match')"
   ]
  },
  {
   "cell_type": "markdown",
   "metadata": {},
   "source": [
    "#### 分割"
   ]
  },
  {
   "cell_type": "markdown",
   "metadata": {},
   "source": [
    "np.split()\n",
    "np.hsplit()\n",
    "np.vsplit()"
   ]
  },
  {
   "cell_type": "code",
   "execution_count": 81,
   "metadata": {},
   "outputs": [
    {
     "name": "stdout",
     "output_type": "stream",
     "text": [
      "[[ 2  4  6  8]\n",
      " [10 12 14 16]]\n"
     ]
    }
   ],
   "source": [
    "arr3=np.arange(2,17,2).reshape(2,4)\n",
    "print(arr3)"
   ]
  },
  {
   "cell_type": "code",
   "execution_count": 88,
   "metadata": {
    "scrolled": true
   },
   "outputs": [
    {
     "name": "stdout",
     "output_type": "stream",
     "text": [
      "[array([[ 2],\n",
      "       [10]]), array([[ 4],\n",
      "       [12]]), array([[ 6],\n",
      "       [14]]), array([[ 8],\n",
      "       [16]])]\n",
      "[array([[2, 4, 6, 8]]), array([[10, 12, 14, 16]])]\n",
      "[array([[2, 4, 6, 8]]), array([[10, 12, 14, 16]])]\n",
      "[array([[ 2],\n",
      "       [10]]), array([[ 4],\n",
      "       [12]]), array([[ 6],\n",
      "       [14]]), array([[ 8],\n",
      "       [16]])]\n"
     ]
    }
   ],
   "source": [
    "# 按列分割４份\n",
    "print(np.split(arr3,4,axis=1))\n",
    "\n",
    "# 按行分割2份\n",
    "print(np.split(arr3,2,axis=0))\n",
    "\n",
    "# vsplit() 垂直轴分割(行)\n",
    "print(np.vsplit(arr3,2))\n",
    "\n",
    "# hsplit() 水平轴分割(列)\n",
    "print(np.hsplit(arr3,4))"
   ]
  },
  {
   "cell_type": "markdown",
   "metadata": {},
   "source": [
    "## 复制和视图"
   ]
  },
  {
   "cell_type": "markdown",
   "metadata": {},
   "source": [
    "### 复制"
   ]
  },
  {
   "cell_type": "markdown",
   "metadata": {},
   "source": [
    "#### 完全不拷贝"
   ]
  },
  {
   "cell_type": "markdown",
   "metadata": {},
   "source": [
    "简单的赋值不拷贝数组对象或他们的数据，共享一个内存地址，shape和元素值都共享"
   ]
  },
  {
   "cell_type": "code",
   "execution_count": 89,
   "metadata": {},
   "outputs": [
    {
     "name": "stdout",
     "output_type": "stream",
     "text": [
      "[[ 0  1  2  3]\n",
      " [ 4  5  6  7]\n",
      " [ 8  9 10 11]]\n"
     ]
    }
   ],
   "source": [
    "a = np.arange(12)\n",
    "\n",
    "b = a\n",
    "\n",
    "b.shape = 3,4\n",
    "\n",
    "print(a)"
   ]
  },
  {
   "cell_type": "markdown",
   "metadata": {},
   "source": [
    "#### 视图和浅复制"
   ]
  },
  {
   "cell_type": "markdown",
   "metadata": {},
   "source": [
    "不同的数组对象分享同一个数据。视图方法创造一个新的数组对象指向同一数据,shape不共享，元素值共享"
   ]
  },
  {
   "cell_type": "code",
   "execution_count": 91,
   "metadata": {},
   "outputs": [
    {
     "name": "stdout",
     "output_type": "stream",
     "text": [
      "[[[ 0  1]\n",
      "  [ 2  3]\n",
      "  [ 4  5]]\n",
      "\n",
      " [[ 6  7]\n",
      "  [ 8  9]\n",
      "  [10 11]]]\n",
      "[[ 0  1  2  3]\n",
      " [ 4  5  6  7]\n",
      " [ 8  9 10 11]]\n",
      "[[ 0  1  4  3]\n",
      " [ 4  5  6  7]\n",
      " [ 8  9 10 11]]\n"
     ]
    }
   ],
   "source": [
    "c = a.view()\n",
    "\n",
    "c.shape = 2,3,2 \n",
    "\n",
    "print(c)\n",
    "print(a)\n",
    "\n",
    "c[0,1,0] = 4\n",
    "\n",
    "print(a)"
   ]
  },
  {
   "cell_type": "markdown",
   "metadata": {},
   "source": [
    "#### 深复制"
   ]
  },
  {
   "cell_type": "markdown",
   "metadata": {},
   "source": [
    "产生独立的数组"
   ]
  },
  {
   "cell_type": "code",
   "execution_count": 92,
   "metadata": {},
   "outputs": [
    {
     "name": "stdout",
     "output_type": "stream",
     "text": [
      "[[ 0  1  4  3]\n",
      " [ 4  5  6  7]\n",
      " [ 8  9 10 11]]\n",
      "[[10  1  4  3]\n",
      " [ 4  5  6  7]\n",
      " [ 8  9 10 11]]\n"
     ]
    }
   ],
   "source": [
    "d = a.copy()\n",
    "\n",
    "d[0,0] = 10\n",
    "\n",
    "print(a)\n",
    "print(d)"
   ]
  },
  {
   "cell_type": "markdown",
   "metadata": {},
   "source": [
    "# Numpy 线性代数"
   ]
  },
  {
   "cell_type": "markdown",
   "metadata": {},
   "source": [
    "Numpy.linalg模块提供了常见的线性代数函数"
   ]
  },
  {
   "cell_type": "markdown",
   "metadata": {},
   "source": [
    "## 创建矩阵"
   ]
  },
  {
   "cell_type": "code",
   "execution_count": 100,
   "metadata": {
    "scrolled": true
   },
   "outputs": [
    {
     "name": "stdout",
     "output_type": "stream",
     "text": [
      "[[ 0  1  2]\n",
      " [ 1  0  3]\n",
      " [ 4 -3  8]]\n",
      "[[ 0  1  2]\n",
      " [ 1  0  3]\n",
      " [ 4 -3  8]]\n"
     ]
    }
   ],
   "source": [
    "import numpy as np\n",
    "\n",
    "mat = np.mat([[0,1,2],[1,0,3],[4,-3,8]])\n",
    "print(mat)\n",
    "\n",
    "# 可以用字符串的形式创建矩阵\n",
    "mat = np.mat(\"0 1 2;1 0 3;4 -3 8\")\n",
    "print(mat)"
   ]
  },
  {
   "cell_type": "markdown",
   "metadata": {},
   "source": [
    "## 求逆矩阵"
   ]
  },
  {
   "cell_type": "markdown",
   "metadata": {},
   "source": [
    "$A*A^{-1}=I$ 当且仅当A为方阵\n",
    "\n",
    "矩阵必须是方阵且可逆(非奇异)，否则会抛出LinAlgError异常"
   ]
  },
  {
   "cell_type": "code",
   "execution_count": 103,
   "metadata": {},
   "outputs": [
    {
     "name": "stdout",
     "output_type": "stream",
     "text": [
      "[[-4.5  7.  -1.5]\n",
      " [-2.   4.  -1. ]\n",
      " [ 1.5 -2.   0.5]]\n",
      "[[1. 0. 0.]\n",
      " [0. 1. 0.]\n",
      " [0. 0. 1.]]\n"
     ]
    }
   ],
   "source": [
    "inv = np.linalg.inv(mat)\n",
    "print(inv)\n",
    "\n",
    "print(np.dot(mat,inv))"
   ]
  },
  {
   "cell_type": "markdown",
   "metadata": {},
   "source": [
    "## 求解线性方程组"
   ]
  },
  {
   "cell_type": "markdown",
   "metadata": {},
   "source": [
    "numpy.linalg中的函数solve可以求解形如 Ax = b 的线性方程组，其中 A 为矩阵，b 为一维或二维的数组，x 是未知变量"
   ]
  },
  {
   "cell_type": "code",
   "execution_count": 108,
   "metadata": {
    "scrolled": true
   },
   "outputs": [
    {
     "name": "stdout",
     "output_type": "stream",
     "text": [
      "[[ 1 -2  1]\n",
      " [ 0  2 -8]\n",
      " [-4  5  9]]\n",
      "[29. 16.  3.]\n",
      "(3,)\n",
      "[[ 0.  8. -9.]]\n"
     ]
    }
   ],
   "source": [
    "A = np.mat(\"1 -2 1;0 2 -8;-4 5 9\")\n",
    "b = np.array([0,8,-9])\n",
    "\n",
    "print(A)\n",
    "\n",
    "x = np.linalg.solve(A,b)\n",
    "\n",
    "print(b.shape)\n",
    "print(np.dot(A,x))"
   ]
  },
  {
   "cell_type": "markdown",
   "metadata": {},
   "source": [
    "## 特征值和特征向量"
   ]
  },
  {
   "cell_type": "markdown",
   "metadata": {},
   "source": [
    "特征值（eigenvalue）即方程 Ax = ax 的根，是一个标量。其中，A 是一个二维矩阵，x 是一个一维向量。特征向量（eigenvector）是关于特征值的向量"
   ]
  },
  {
   "cell_type": "code",
   "execution_count": 134,
   "metadata": {
    "scrolled": true
   },
   "outputs": [
    {
     "name": "stdout",
     "output_type": "stream",
     "text": [
      "[2. 1.]\n",
      "[2. 1.]\n",
      "[[0.89442719 0.70710678]\n",
      " [0.4472136  0.70710678]]\n",
      "[[0.70710678]\n",
      " [0.70710678]]\n",
      "[[0.70710678]\n",
      " [0.70710678]]\n"
     ]
    }
   ],
   "source": [
    "# 求特征值\n",
    "\n",
    "mat = np.mat(\"3 -2;1 0\")\n",
    "\n",
    "eig = np.linalg.eigvals(mat)\n",
    "print(eig)\n",
    "\n",
    "\n",
    "# 求特征向量,eig()函数返回一个元组,(特征值，特征向量)\n",
    "\n",
    "eig_val,eig_vec = np.linalg.eig(mat)\n",
    "print(eig_val)\n",
    "\n",
    "# 每一列是一个特征向量\n",
    "print(eig_vec)\n",
    "print(np.dot(mat,eig_vec[:,1]))\n",
    "print(np.dot(eig_val[1],eig_vec[:,1]))"
   ]
  },
  {
   "cell_type": "markdown",
   "metadata": {},
   "source": [
    "## 奇异值分解(SVD)"
   ]
  },
  {
   "cell_type": "markdown",
   "metadata": {},
   "source": [
    "SVD（Singular Value Decomposition，奇异值分解）是一种因子分解运算，将一个矩阵分解为3个矩阵的乘积\n",
    "\n",
    "该函数返回3个矩阵——U、Sigma和V，其中U和V是正交矩阵，Sigma包含输入矩阵的奇异值\n",
    "\n",
    "在图像压缩中，只存储奇异值（假定保留k个奇异值）、U矩阵的前k列和VT矩阵的前k行，从而实现压缩\n",
    "\n",
    "$A=U\\sigma V$"
   ]
  },
  {
   "cell_type": "code",
   "execution_count": 152,
   "metadata": {},
   "outputs": [
    {
     "name": "stdout",
     "output_type": "stream",
     "text": [
      "[21.83480324  9.7895832   5.42267724]\n",
      "[[ 0.83405368  0.35549595 -0.42187332]\n",
      " [ 0.31913067 -0.93466946 -0.15667997]\n",
      " [ 0.4500112   0.00395321  0.89301416]]\n",
      "[[ 0.31093857  0.60493103  0.62920454  0.37613469]\n",
      " [-0.61774494 -0.26726551  0.7017665  -0.23341835]\n",
      " [-0.21297685 -0.39930638 -0.04329624  0.89068553]]\n",
      "[[ 5.66262601 11.01663962 11.45869422  6.84993854]\n",
      " [ 2.16666828  4.21525342  4.38439503  2.620965  ]\n",
      " [ 3.05525316  5.94399542  6.18250467  3.69586414]]\n",
      "[[0.83405368]\n",
      " [0.31913067]\n",
      " [0.4500112 ]]\n",
      "[[21.83480324]]\n",
      "[[0.31093857 0.60493103 0.62920454 0.37613469]]\n"
     ]
    }
   ],
   "source": [
    "D = np.mat(\"4 11 14 4;8 7 -2 4;2 4 6 8\")\n",
    "U,sigma,V = np.linalg.svd(D,full_matrices=False)\n",
    "\n",
    "print(sigma)\n",
    "print(U)\n",
    "print(V)\n",
    "\n",
    "print(U[:,:1]*np.diag(sigma[:1])*V[:1,:])\n",
    "\n",
    "# 重构原始矩阵的近似矩阵\n",
    "\n",
    "'''\n",
    "假设选择奇异值个数为3\n",
    "\n",
    "new_data = U[:,:3] * Sig3 * VT[:3,:]\n",
    "\n",
    "'''\n"
   ]
  },
  {
   "cell_type": "markdown",
   "metadata": {},
   "source": [
    "## 广义逆矩阵"
   ]
  },
  {
   "cell_type": "markdown",
   "metadata": {},
   "source": [
    "inv函数只接受方阵作为输入矩阵，而pinv函数则没有这个限制\n",
    "\n",
    "矩阵的秩小于矩阵行数，是奇异矩阵，pinv可以求奇异矩阵的伪逆\n",
    "\n",
    "$A*A^{-1}=I$"
   ]
  },
  {
   "cell_type": "code",
   "execution_count": 154,
   "metadata": {},
   "outputs": [
    {
     "name": "stdout",
     "output_type": "stream",
     "text": [
      "[[-0.00555556  0.07222222]\n",
      " [ 0.02222222  0.04444444]\n",
      " [ 0.05555556 -0.05555556]]\n",
      "[[ 1.00000000e+00 -8.88178420e-16]\n",
      " [-1.80411242e-16  1.00000000e+00]]\n"
     ]
    }
   ],
   "source": [
    "E = np.mat(\"4 11 14;8 7 -2\")\n",
    "\n",
    "pseudoinv = np.linalg.pinv(E)\n",
    "print(pseudoinv)\n",
    "print(E.dev)\n",
    "\n",
    "print(E*pseudoinv)"
   ]
  },
  {
   "cell_type": "markdown",
   "metadata": {},
   "source": [
    "## 行列式"
   ]
  },
  {
   "cell_type": "markdown",
   "metadata": {},
   "source": [
    "numpy.linalg模块中的det函数可以计算矩阵的行列式"
   ]
  },
  {
   "cell_type": "code",
   "execution_count": 192,
   "metadata": {},
   "outputs": [
    {
     "name": "stdout",
     "output_type": "stream",
     "text": [
      "-1.9999999999999971\n"
     ]
    }
   ],
   "source": [
    "F = np.mat(\"3 4;5 6\")\n",
    "print(np.linalg.det(F))"
   ]
  },
  {
   "cell_type": "code",
   "execution_count": 194,
   "metadata": {},
   "outputs": [
    {
     "data": {
      "text/plain": [
       "-2.000000000000001"
      ]
     },
     "execution_count": 194,
     "metadata": {},
     "output_type": "execute_result"
    }
   ],
   "source": [
    "# 自定义求行列式的函数\n",
    "def mydet(a):\n",
    "    row,col = a.shape\n",
    "    if row != col:\n",
    "        res = 0\n",
    "    else:\n",
    "        res = 1\n",
    "    \n",
    "        for i in range(col):\n",
    "            row = i\n",
    "\n",
    "            res *= a[i][i]\n",
    "\n",
    "            for j in range(row+1,col):\n",
    "\n",
    "                if a[j][i] == 0:\n",
    "                        pass\n",
    "                else:\n",
    "                    k = -a[j][i]/a[i][i]\n",
    "                    a[j,:] = k*a[i,:]+a[j,:]\n",
    "\n",
    "    return res\n",
    "\n",
    "mydet(np.array([[1,2],[3,4]],dtype='float64'))\n",
    "mydet(np.array([[3,4],[5,6]],dtype='float64'))"
   ]
  },
  {
   "cell_type": "markdown",
   "metadata": {},
   "source": [
    "# Numpy统计分析"
   ]
  },
  {
   "cell_type": "markdown",
   "metadata": {},
   "source": [
    "## 方差与标准差"
   ]
  },
  {
   "cell_type": "markdown",
   "metadata": {},
   "source": [
    "np.var()\n",
    "计算数组中元素的方差\n",
    "mean((x - x.mean())** 2)"
   ]
  },
  {
   "cell_type": "code",
   "execution_count": 36,
   "metadata": {},
   "outputs": [
    {
     "name": "stdout",
     "output_type": "stream",
     "text": [
      "[[ 1.91695762  0.34916025 -0.04191441  0.81655461]\n",
      " [ 1.23726862  1.13793553 -0.77015104 -1.13352453]\n",
      " [ 1.31601011 -0.62599092 -0.77699645 -0.75418146]]\n",
      "0.9892152006961245\n",
      "[0.53840131 1.16203915 0.77984335]\n",
      "0.9945929824285532\n",
      "[0.73375835 1.0779792  0.8830874 ]\n"
     ]
    }
   ],
   "source": [
    "arr = np.random.randn(3,4)\n",
    "print(arr)\n",
    "\n",
    "# 总体方差\n",
    "print(np.var(arr))\n",
    "\n",
    "# 求行方差\n",
    "print(np.var(arr,axis=1))\n",
    "\n",
    "# 标准差\n",
    "print(np.std(arr))\n",
    "\n",
    "# 行标准差\n",
    "print(np.std(arr,axis=1))"
   ]
  },
  {
   "cell_type": "markdown",
   "metadata": {},
   "source": [
    "## 极差"
   ]
  },
  {
   "cell_type": "code",
   "execution_count": 38,
   "metadata": {},
   "outputs": [
    {
     "name": "stdout",
     "output_type": "stream",
     "text": [
      "8\n",
      "[2 2 2]\n"
     ]
    }
   ],
   "source": [
    "a = np.array([[1, 2, 3], [4, 5, 6], [7, 8, 9]])\n",
    "\n",
    "print(np.ptp(a))\n",
    "\n",
    "# 行极差\n",
    "print(np.ptp(a,axis=1))"
   ]
  },
  {
   "cell_type": "markdown",
   "metadata": {},
   "source": [
    "## 中位数"
   ]
  },
  {
   "cell_type": "markdown",
   "metadata": {},
   "source": [
    "### 百分位数"
   ]
  },
  {
   "cell_type": "markdown",
   "metadata": {},
   "source": [
    "百分位数是统计中使用的度量，表示小于这个值的观察值的百分比"
   ]
  },
  {
   "cell_type": "code",
   "execution_count": 40,
   "metadata": {},
   "outputs": [
    {
     "name": "stdout",
     "output_type": "stream",
     "text": [
      "7.0\n",
      "[2.5 5.5 8.5]\n"
     ]
    }
   ],
   "source": [
    "# 计算75%分位数\n",
    "print(np.percentile(a,75))\n",
    "\n",
    "# 计算行75%分位数\n",
    "print(np.percentile(a,75,axis=1))"
   ]
  },
  {
   "cell_type": "markdown",
   "metadata": {},
   "source": [
    "### 中位数"
   ]
  },
  {
   "cell_type": "code",
   "execution_count": 42,
   "metadata": {},
   "outputs": [
    {
     "name": "stdout",
     "output_type": "stream",
     "text": [
      "5.0\n",
      "[2. 5. 8.]\n"
     ]
    }
   ],
   "source": [
    "print(np.median(a))\n",
    "\n",
    "# 计算行中位数\n",
    "print(np.median(a,axis=1))"
   ]
  },
  {
   "cell_type": "markdown",
   "metadata": {},
   "source": [
    "## 总数与均值"
   ]
  },
  {
   "cell_type": "code",
   "execution_count": 44,
   "metadata": {},
   "outputs": [
    {
     "name": "stdout",
     "output_type": "stream",
     "text": [
      "45\n",
      "[12 15 18]\n"
     ]
    }
   ],
   "source": [
    "print(np.sum(a))\n",
    "\n",
    "#计算列和\n",
    "print(np.sum(a,axis=0))"
   ]
  },
  {
   "cell_type": "code",
   "execution_count": 49,
   "metadata": {
    "scrolled": true
   },
   "outputs": [
    {
     "name": "stdout",
     "output_type": "stream",
     "text": [
      "2.5\n",
      "(2,)\n"
     ]
    },
    {
     "data": {
      "text/plain": [
       "array([[-0.5,  0.5],\n",
       "       [-0.5,  0.5]])"
      ]
     },
     "execution_count": 49,
     "metadata": {},
     "output_type": "execute_result"
    }
   ],
   "source": [
    "# 计算总体均值\n",
    "print(np.mean(a))\n",
    "\n",
    "# 对行进行标准化\n",
    "a = np.array([[1,2],[3,4]])\n",
    "\n",
    "mean = np.mean(a,axis=1)\n",
    "\n",
    "np.transpose(a.T - mean)"
   ]
  },
  {
   "cell_type": "markdown",
   "metadata": {},
   "source": [
    "### 加权平均值"
   ]
  },
  {
   "cell_type": "markdown",
   "metadata": {},
   "source": [
    "根据在另一个数组中给出的各自的权重计算数组中元素的加权平均值"
   ]
  },
  {
   "cell_type": "code",
   "execution_count": 50,
   "metadata": {},
   "outputs": [
    {
     "name": "stdout",
     "output_type": "stream",
     "text": [
      "2.5\n",
      "3.0\n"
     ]
    }
   ],
   "source": [
    "b = np.array([1, 2, 3, 4])\n",
    "\n",
    "# 不指定权重计算算术平均值\n",
    "print(np.average(b))\n",
    "\n",
    "# 指定权重\n",
    "print(np.average(b,weights=[1,2,3,4]))"
   ]
  },
  {
   "cell_type": "markdown",
   "metadata": {},
   "source": [
    "## Numpy random"
   ]
  },
  {
   "cell_type": "markdown",
   "metadata": {},
   "source": [
    "### numpy.random.rand()"
   ]
  },
  {
   "cell_type": "markdown",
   "metadata": {},
   "source": [
    "numpy.random.rand(d0,d1,...,dn)\n",
    "[0,1]之间均匀分布的随机样本\n",
    "rand函数根据给定维度生成[0,1)之间的数据，包含0，不包含1\n",
    "\n",
    "dn表示每个维度\n",
    "返回值为指定维度的array"
   ]
  },
  {
   "cell_type": "code",
   "execution_count": 51,
   "metadata": {},
   "outputs": [
    {
     "data": {
      "text/plain": [
       "array([[0.11088217, 0.28333388],\n",
       "       [0.1996156 , 0.35471833],\n",
       "       [0.46033004, 0.60690884],\n",
       "       [0.9294811 , 0.59918665]])"
      ]
     },
     "execution_count": 51,
     "metadata": {},
     "output_type": "execute_result"
    }
   ],
   "source": [
    "# 生成4x2随机矩阵\n",
    "np.random.rand(4,2)"
   ]
  },
  {
   "cell_type": "markdown",
   "metadata": {},
   "source": [
    "### numpy.random.randn()"
   ]
  },
  {
   "cell_type": "markdown",
   "metadata": {},
   "source": [
    "服从标准正态分布"
   ]
  },
  {
   "cell_type": "code",
   "execution_count": 52,
   "metadata": {},
   "outputs": [
    {
     "data": {
      "text/plain": [
       "array([[-0.8515049 , -0.04600411, -1.37256643,  1.37730098],\n",
       "       [-1.30218437,  0.54418296, -0.81427751, -0.84008141]])"
      ]
     },
     "execution_count": 52,
     "metadata": {},
     "output_type": "execute_result"
    }
   ],
   "source": [
    "np.random.randn(2,4)"
   ]
  },
  {
   "cell_type": "markdown",
   "metadata": {},
   "source": [
    "### numpy.random.randint()"
   ]
  },
  {
   "cell_type": "markdown",
   "metadata": {},
   "source": [
    "numpy.random.randint(low, high=None, size=None, dtype='l')\n",
    "\n",
    "返回随机整数，范围区间为[low,high），包含low，不包含high\n",
    "\n",
    "size为数组维度大小\n",
    "\n",
    "high没有填写时，默认生成随机数的范围是[0，low)"
   ]
  },
  {
   "cell_type": "code",
   "execution_count": 54,
   "metadata": {},
   "outputs": [
    {
     "data": {
      "text/plain": [
       "array([[ 7, 19],\n",
       "       [ 2, 18]])"
      ]
     },
     "execution_count": 54,
     "metadata": {},
     "output_type": "execute_result"
    }
   ],
   "source": [
    "# 1-20随机整数矩阵\n",
    "np.random.randint(1,20,(2,2))"
   ]
  },
  {
   "cell_type": "markdown",
   "metadata": {},
   "source": [
    "###  生成[0,1)之间的浮点数"
   ]
  },
  {
   "cell_type": "code",
   "execution_count": 55,
   "metadata": {},
   "outputs": [
    {
     "name": "stdout",
     "output_type": "stream",
     "text": [
      "-----------random_sample--------------\n",
      "[[0.74389942 0.17635155]\n",
      " [0.65242516 0.4156534 ]]\n",
      "-----------random--------------\n",
      "[[0.20028244 0.63399993]\n",
      " [0.289014   0.27056606]]\n",
      "-----------ranf--------------\n",
      "[[0.66154354 0.57294329]\n",
      " [0.39307539 0.08760615]]\n",
      "-----------sample--------------\n",
      "[[0.26864276 0.26611685]\n",
      " [0.08087437 0.1107167 ]]\n"
     ]
    }
   ],
   "source": [
    "# 几个函数都可以用\n",
    "print('-----------random_sample--------------')\n",
    "print(np.random.random_sample(size=(2,2)))\n",
    "print('-----------random--------------')\n",
    "print(np.random.random(size=(2,2)))\n",
    "print('-----------ranf--------------')\n",
    "print(np.random.ranf(size=(2,2)))\n",
    "print('-----------sample--------------')\n",
    "print(np.random.sample(size=(2,2)))"
   ]
  },
  {
   "cell_type": "markdown",
   "metadata": {},
   "source": [
    "### numpy.random.choice()"
   ]
  },
  {
   "cell_type": "markdown",
   "metadata": {},
   "source": [
    "numpy.random.choice(a, size=None, replace=True, p=None)\n",
    "\n",
    "从给定的一维数组中生成随机数\n",
    "\n",
    "a为一维数组类似数据或整数；size为数组维度；p为数组中的数据出现的概率"
   ]
  },
  {
   "cell_type": "code",
   "execution_count": 62,
   "metadata": {},
   "outputs": [
    {
     "name": "stdout",
     "output_type": "stream",
     "text": [
      "[3 2 3]\n",
      "[0 4 1]\n"
     ]
    },
    {
     "data": {
      "text/plain": [
       "array([['sansumg', 'lenovo', 'sansumg'],\n",
       "       ['sansumg', 'sansumg', 'sansumg'],\n",
       "       ['sansumg', 'xiaomi', 'sansumg']], dtype='<U7')"
      ]
     },
     "execution_count": 62,
     "metadata": {},
     "output_type": "execute_result"
    }
   ],
   "source": [
    "print(np.random.choice(5,3))\n",
    "\n",
    "# 不可重复抽取\n",
    "print(np.random.choice(5, 3, replace=False))\n",
    "\n",
    "np.random.choice(5,size=(3,2))\n",
    "\n",
    "# 默认每个元素被抽取的概率均等，可以指定概率\n",
    "demo_list = ['lenovo', 'sansumg','moto','xiaomi', 'iphone']\n",
    "np.random.choice(demo_list,size=(3,3), p=[0.1,0.6,0.1,0.1,0.1])"
   ]
  },
  {
   "cell_type": "markdown",
   "metadata": {},
   "source": [
    "### numpy.random.seed()"
   ]
  },
  {
   "cell_type": "markdown",
   "metadata": {},
   "source": [
    "众所周知，计算机世界的随机数都是伪随机，都有一个叫做种子（seed）的东西"
   ]
  },
  {
   "cell_type": "code",
   "execution_count": 63,
   "metadata": {
    "scrolled": true
   },
   "outputs": [
    {
     "name": "stdout",
     "output_type": "stream",
     "text": [
      "[[0.22199317 0.87073231 0.20671916]\n",
      " [0.91861091 0.48841119 0.61174386]\n",
      " [0.76590786 0.51841799 0.2968005 ]]\n",
      "[[0.22199317 0.87073231 0.20671916]\n",
      " [0.91861091 0.48841119 0.61174386]\n",
      " [0.76590786 0.51841799 0.2968005 ]]\n"
     ]
    }
   ],
   "source": [
    "np.random.seed(5)\n",
    "print(np.random.rand(3,3))\n",
    "\n",
    "np.random.seed(5)\n",
    "print(np.random.rand(3,3))"
   ]
  },
  {
   "cell_type": "markdown",
   "metadata": {},
   "source": [
    "# Universal Functions"
   ]
  },
  {
   "cell_type": "markdown",
   "metadata": {},
   "source": [
    "## maximum"
   ]
  },
  {
   "cell_type": "markdown",
   "metadata": {},
   "source": [
    "比较两个数组对应元素的大小，返回每个对应元素的最大值"
   ]
  },
  {
   "cell_type": "code",
   "execution_count": 3,
   "metadata": {},
   "outputs": [
    {
     "data": {
      "text/plain": [
       "array([-0.60742877, -0.04685842, -0.34657369,  0.81099085,  0.76745814,\n",
       "        0.17329818,  0.23362856,  1.04359959])"
      ]
     },
     "execution_count": 3,
     "metadata": {},
     "output_type": "execute_result"
    }
   ],
   "source": [
    "import numpy as np\n",
    "x = np.random.randn(8)\n",
    "y = np.random.randn(8)\n",
    "np.maximum(x,y)"
   ]
  },
  {
   "cell_type": "code",
   "execution_count": null,
   "metadata": {},
   "outputs": [],
   "source": []
  }
 ],
 "metadata": {
  "kernelspec": {
   "display_name": "Python 3",
   "language": "python",
   "name": "python3"
  },
  "language_info": {
   "codemirror_mode": {
    "name": "ipython",
    "version": 3
   },
   "file_extension": ".py",
   "mimetype": "text/x-python",
   "name": "python",
   "nbconvert_exporter": "python",
   "pygments_lexer": "ipython3",
   "version": "3.7.5"
  },
  "toc": {
   "base_numbering": 1,
   "nav_menu": {},
   "number_sections": true,
   "sideBar": true,
   "skip_h1_title": false,
   "title_cell": "Table of Contents",
   "title_sidebar": "Contents",
   "toc_cell": false,
   "toc_position": {},
   "toc_section_display": true,
   "toc_window_display": false
  }
 },
 "nbformat": 4,
 "nbformat_minor": 4
}
